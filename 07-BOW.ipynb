{
 "cells": [
  {
   "cell_type": "code",
   "execution_count": 1,
   "metadata": {
    "colab": {
     "base_uri": "https://localhost:8080/",
     "height": 71
    },
    "colab_type": "code",
    "executionInfo": {
     "elapsed": 677,
     "status": "ok",
     "timestamp": 1586950590195,
     "user": {
      "displayName": "Luiz Augusto Carvalho",
      "photoUrl": "https://lh3.googleusercontent.com/a-/AOh14Gg3rqx5IocyvlwuEMfaxBeNWYs-uREc7JANh38DlQ=s64",
      "userId": "02017449377510865826"
     },
     "user_tz": 180
    },
    "id": "M6oDpFcont1z",
    "outputId": "a21096ae-9f3a-4742-aba9-f61f3f870a4e"
   },
   "outputs": [
    {
     "name": "stderr",
     "output_type": "stream",
     "text": [
      "C:\\Users\\ziulc\\anaconda3\\lib\\site-packages\\ipykernel_launcher.py:10: FutureWarning: Passing a negative integer is deprecated in version 1.0 and will not be supported in future version. Instead, use None to not limit the column width.\n",
      "  # Remove the CWD from sys.path while we load stuff.\n"
     ]
    }
   ],
   "source": [
    "# import pandas, numpy\n",
    "import pandas as pd\n",
    "import numpy as np\n",
    "\n",
    "# adjust pandas display\n",
    "pd.options.display.max_columns = 30\n",
    "pd.options.display.max_rows = 100\n",
    "pd.options.display.float_format = '{:.2f}'.format\n",
    "pd.options.display.precision = 2\n",
    "pd.options.display.max_colwidth = -1"
   ]
  },
  {
   "cell_type": "code",
   "execution_count": 3,
   "metadata": {
    "colab": {
     "base_uri": "https://localhost:8080/",
     "height": 510
    },
    "colab_type": "code",
    "executionInfo": {
     "elapsed": 9932,
     "status": "ok",
     "timestamp": 1586950616238,
     "user": {
      "displayName": "Luiz Augusto Carvalho",
      "photoUrl": "https://lh3.googleusercontent.com/a-/AOh14Gg3rqx5IocyvlwuEMfaxBeNWYs-uREc7JANh38DlQ=s64",
      "userId": "02017449377510865826"
     },
     "user_tz": 180
    },
    "id": "6EJ-QztJoH_B",
    "outputId": "870c0aa6-5a05-404a-9fca-0998cb291717"
   },
   "outputs": [
    {
     "name": "stdout",
     "output_type": "stream",
     "text": [
      "<class 'pandas.core.frame.DataFrame'>\n",
      "RangeIndex: 49945 entries, 0 to 49944\n",
      "Data columns (total 13 columns):\n",
      " #   Column                 Non-Null Count  Dtype  \n",
      "---  ------                 --------------  -----  \n",
      " 0   Unnamed: 0             49945 non-null  int64  \n",
      " 1   Unnamed: 0.1           49945 non-null  int64  \n",
      " 2   Body ID                49945 non-null  int64  \n",
      " 3   Stance                 49945 non-null  object \n",
      " 4   Headline_clean         49945 non-null  object \n",
      " 5   articleBody            49945 non-null  object \n",
      " 6   Headline               49945 non-null  object \n",
      " 7   Headline_sentiment     49945 non-null  object \n",
      " 8   articleBody_sentiment  49945 non-null  object \n",
      " 9   question_mark          49945 non-null  int64  \n",
      " 10  word_overlap           49945 non-null  float64\n",
      " 11  cosine_similarity      49945 non-null  float64\n",
      " 12  cross                  49945 non-null  float64\n",
      "dtypes: float64(3), int64(4), object(6)\n",
      "memory usage: 5.0+ MB\n"
     ]
    }
   ],
   "source": [
    "df = pd.read_csv(\"C:/Curso-ML-1/project/super_clean_train_12.csv\") \n",
    "df.info()"
   ]
  },
  {
   "cell_type": "code",
   "execution_count": 4,
   "metadata": {
    "colab": {},
    "colab_type": "code",
    "id": "6kZII-uLoW4u"
   },
   "outputs": [],
   "source": [
    "from sklearn.feature_extraction.text import CountVectorizer\n",
    "cv = CountVectorizer(analyzer='word', lowercase=False)"
   ]
  },
  {
   "cell_type": "code",
   "execution_count": 6,
   "metadata": {
    "colab": {},
    "colab_type": "code",
    "id": "dy8PlCoBodVN"
   },
   "outputs": [],
   "source": [
    "articleBody_BOW = cv.fit_transform(df['articleBody'])"
   ]
  },
  {
   "cell_type": "code",
   "execution_count": 7,
   "metadata": {
    "colab": {},
    "colab_type": "code",
    "id": "yLeNY_QGonLR"
   },
   "outputs": [],
   "source": [
    "Headline_BOW = cv.fit_transform(df['Headline_clean'])"
   ]
  },
  {
   "cell_type": "code",
   "execution_count": 8,
   "metadata": {
    "colab": {},
    "colab_type": "code",
    "id": "rJqRG0N2o6Oh"
   },
   "outputs": [],
   "source": [
    "import scipy.sparse as sp\n",
    "combined_BOW = sp.hstack([Headline_BOW, articleBody_BOW], format='csr')"
   ]
  },
  {
   "cell_type": "code",
   "execution_count": 9,
   "metadata": {
    "colab": {
     "base_uri": "https://localhost:8080/",
     "height": 884
    },
    "colab_type": "code",
    "executionInfo": {
     "elapsed": 626,
     "status": "ok",
     "timestamp": 1586950830874,
     "user": {
      "displayName": "Luiz Augusto Carvalho",
      "photoUrl": "https://lh3.googleusercontent.com/a-/AOh14Gg3rqx5IocyvlwuEMfaxBeNWYs-uREc7JANh38DlQ=s64",
      "userId": "02017449377510865826"
     },
     "user_tz": 180
    },
    "id": "DwqON3CHo8eo",
    "outputId": "4f32dc5c-abba-4ecc-a465-5bdafa4a7d58"
   },
   "outputs": [
    {
     "name": "stdout",
     "output_type": "stream",
     "text": [
      "  (0, 955)\t2\n",
      "  (0, 474)\t3\n",
      "  (0, 1082)\t2\n",
      "  (0, 1414)\t2\n",
      "  (0, 3291)\t1\n",
      "  (0, 3130)\t2\n",
      "  (0, 2735)\t3\n",
      "  (0, 208)\t3\n",
      "  (0, 1483)\t1\n",
      "  (0, 3506)\t2\n",
      "  (0, 4062)\t2\n",
      "  (0, 1971)\t2\n",
      "  (0, 415)\t2\n",
      "  (0, 343)\t1\n",
      "  (0, 3963)\t1\n",
      "  (0, 1922)\t1\n",
      "  (0, 459)\t1\n",
      "  (0, 1)\t1\n",
      "  (0, 3428)\t1\n",
      "  (0, 191)\t1\n",
      "  (0, 2977)\t1\n",
      "  (0, 4074)\t1\n",
      "  (0, 2464)\t1\n",
      "  (0, 374)\t1\n",
      "  (0, 711)\t1\n",
      "  :\t:\n",
      "  (49944, 3824)\t1\n",
      "  (49944, 2417)\t1\n",
      "  (49944, 2263)\t1\n",
      "  (49944, 964)\t1\n",
      "  (49944, 3265)\t2\n",
      "  (49944, 3480)\t1\n",
      "  (49944, 1533)\t2\n",
      "  (49944, 532)\t1\n",
      "  (49944, 1142)\t2\n",
      "  (49944, 3498)\t1\n",
      "  (49944, 3342)\t1\n",
      "  (49944, 3501)\t2\n",
      "  (49944, 490)\t1\n",
      "  (49944, 2511)\t1\n",
      "  (49944, 2622)\t1\n",
      "  (49944, 2585)\t2\n",
      "  (49944, 2492)\t2\n",
      "  (49944, 436)\t1\n",
      "  (49944, 1909)\t1\n",
      "  (49944, 4041)\t1\n",
      "  (49944, 2225)\t1\n",
      "  (49944, 2848)\t1\n",
      "  (49944, 3807)\t1\n",
      "  (49944, 60)\t1\n",
      "  (49944, 513)\t1\n"
     ]
    }
   ],
   "source": [
    "print(articleBody_BOW)"
   ]
  },
  {
   "cell_type": "code",
   "execution_count": 12,
   "metadata": {
    "colab": {},
    "colab_type": "code",
    "id": "5iPHGMIQpMo1"
   },
   "outputs": [],
   "source": [
    "df1 = pd.DataFrame(articleBody_BOW)"
   ]
  },
  {
   "cell_type": "code",
   "execution_count": 13,
   "metadata": {
    "colab": {
     "base_uri": "https://localhost:8080/",
     "height": 275
    },
    "colab_type": "code",
    "executionInfo": {
     "elapsed": 815,
     "status": "ok",
     "timestamp": 1586951433684,
     "user": {
      "displayName": "Luiz Augusto Carvalho",
      "photoUrl": "https://lh3.googleusercontent.com/a-/AOh14Gg3rqx5IocyvlwuEMfaxBeNWYs-uREc7JANh38DlQ=s64",
      "userId": "02017449377510865826"
     },
     "user_tz": 180
    },
    "id": "toAdyQ0ZrOHn",
    "outputId": "b3832dc4-5df9-404d-c419-1ea70ded372d"
   },
   "outputs": [
    {
     "name": "stdout",
     "output_type": "stream",
     "text": [
      "                                                                                                                                                                                                                                                                                                                                                                                                                                                                                                                                                                                                                                                                                                                                                                                                                                     0\n",
      "0        (0, 955)\\t2\\n  (0, 474)\\t3\\n  (0, 1082)\\t2\\n  (0, 1414)\\t2\\n  (0, 3291)\\t1\\n  (0, 3130)\\t2\\n  (0, 2735)\\t3\\n  (0, 208)\\t3\\n  (0, 1483)\\t1\\n  (0, 3506)\\t2\\n  (0, 4062)\\t2\\n  (0, 1971)\\t2\\n  (0, 415)\\t2\\n  (0, 343)\\t1\\n  (0, 3963)\\t1\\n  (0, 1922)\\t1\\n  (0, 459)\\t1\\n  (0, 1)\\t1\\n  (0, 3428)\\t1\\n  (0, 191)\\t1\\n  (0, 2977)\\t1\\n  (0, 4074)\\t1\\n  (0, 2464)\\t1\\n  (0, 374)\\t1\\n  (0, 711)\\t1\\n  :\\t:\\n  (0, 1970)\\t3\\n  (0, 720)\\t1\\n  (0, 974)\\t1\\n  (0, 3435)\\t1\\n  (0, 2841)\\t1\\n  (0, 3482)\\t1\\n  (0, 1860)\\t2\\n  (0, 1453)\\t1\\n  (0, 2182)\\t1\\n  (0, 175)\\t1\\n  (0, 2301)\\t2\\n  (0, 1393)\\t1\\n  (0, 2102)\\t1\\n  (0, 261)\\t1\\n  (0, 1956)\\t1\\n  (0, 2302)\\t1\\n  (0, 2159)\\t1\\n  (0, 2054)\\t1\\n  (0, 1481)\\t1\\n  (0, 4050)\\t1\\n  (0, 2092)\\t1\\n  (0, 3074)\\t1\\n  (0, 903)\\t1\\n  (0, 1167)\\t1\\n  (0, 791)\\t1           \n",
      "1        (0, 2977)\\t2\\n  (0, 4074)\\t1\\n  (0, 3435)\\t2\\n  (0, 4050)\\t1\\n  (0, 903)\\t1\\n  (0, 1281)\\t3\\n  (0, 1740)\\t5\\n  (0, 3584)\\t1\\n  (0, 2391)\\t1\\n  (0, 1931)\\t4\\n  (0, 292)\\t3\\n  (0, 2568)\\t5\\n  (0, 2520)\\t1\\n  (0, 944)\\t3\\n  (0, 2454)\\t3\\n  (0, 463)\\t2\\n  (0, 1542)\\t14\\n  (0, 3898)\\t5\\n  (0, 3960)\\t1\\n  (0, 3295)\\t1\\n  (0, 4034)\\t1\\n  (0, 3519)\\t3\\n  (0, 2347)\\t2\\n  (0, 1888)\\t1\\n  (0, 3206)\\t2\\n  :\\t:\\n  (0, 3116)\\t1\\n  (0, 738)\\t1\\n  (0, 1153)\\t1\\n  (0, 1859)\\t1\\n  (0, 1044)\\t1\\n  (0, 3604)\\t1\\n  (0, 2167)\\t1\\n  (0, 842)\\t1\\n  (0, 3889)\\t1\\n  (0, 3979)\\t1\\n  (0, 2076)\\t1\\n  (0, 3984)\\t1\\n  (0, 3735)\\t2\\n  (0, 983)\\t1\\n  (0, 1699)\\t1\\n  (0, 3079)\\t1\\n  (0, 945)\\t1\\n  (0, 1468)\\t2\\n  (0, 3287)\\t1\\n  (0, 2240)\\t1\\n  (0, 3204)\\t1\\n  (0, 3293)\\t1\\n  (0, 2675)\\t1\\n  (0, 3114)\\t1\\n  (0, 1150)\\t1\n",
      "2        (0, 4074)\\t1\\n  (0, 2551)\\t1\\n  (0, 2301)\\t1\\n  (0, 2054)\\t1\\n  (0, 3206)\\t1\\n  (0, 612)\\t1\\n  (0, 1468)\\t1\\n  (0, 2557)\\t1\\n  (0, 2395)\\t1\\n  (0, 3061)\\t1\\n  (0, 1756)\\t1\\n  (0, 4061)\\t1\\n  (0, 1897)\\t1\\n  (0, 2448)\\t1\\n  (0, 1664)\\t1\\n  (0, 1120)\\t3\\n  (0, 2239)\\t3\\n  (0, 782)\\t1\\n  (0, 1734)\\t1\\n  (0, 600)\\t1\\n  (0, 2571)\\t3\\n  (0, 52)\\t1\\n  (0, 913)\\t1\\n  (0, 1300)\\t1\\n  (0, 4043)\\t1\\n  :\\t:\\n  (0, 3135)\\t2\\n  (0, 2095)\\t1\\n  (0, 1239)\\t1\\n  (0, 1755)\\t3\\n  (0, 1761)\\t1\\n  (0, 3458)\\t2\\n  (0, 583)\\t1\\n  (0, 3247)\\t1\\n  (0, 3704)\\t2\\n  (0, 3718)\\t1\\n  (0, 939)\\t2\\n  (0, 3687)\\t2\\n  (0, 3032)\\t1\\n  (0, 3169)\\t1\\n  (0, 2657)\\t1\\n  (0, 2161)\\t1\\n  (0, 1960)\\t1\\n  (0, 1200)\\t1\\n  (0, 4018)\\t1\\n  (0, 1852)\\t1\\n  (0, 856)\\t1\\n  (0, 1774)\\t1\\n  (0, 3606)\\t1\\n  (0, 1554)\\t1\\n  (0, 1800)\\t1  \n",
      "3        (0, 2454)\\t1\\n  (0, 968)\\t1\\n  (0, 3255)\\t1\\n  (0, 229)\\t1\\n  (0, 3159)\\t2\\n  (0, 3091)\\t1\\n  (0, 563)\\t3\\n  (0, 3413)\\t2\\n  (0, 3327)\\t1\\n  (0, 3967)\\t1\\n  (0, 2305)\\t1\\n  (0, 2598)\\t1\\n  (0, 3328)\\t1\\n  (0, 2455)\\t1\\n  (0, 2643)\\t1\\n  (0, 521)\\t2\\n  (0, 3336)\\t1\\n  (0, 1426)\\t1\\n  (0, 39)\\t1\\n  (0, 2416)\\t1\\n  (0, 2299)\\t1\\n  (0, 1339)\\t1\\n  (0, 3041)\\t1\\n  (0, 3993)\\t1\\n  (0, 2171)\\t1\\n  (0, 2750)\\t1\\n  (0, 3673)\\t1\\n  (0, 3329)\\t1\\n  (0, 752)\\t1\\n  (0, 1926)\\t1\\n  (0, 854)\\t1\\n  (0, 2036)\\t1\\n  (0, 2388)\\t1\\n  (0, 3044)\\t1\\n  (0, 1186)\\t1                                                                                                                                                                                                                                                         \n",
      "4        (0, 459)\\t1\\n  (0, 2259)\\t1\\n  (0, 2092)\\t1\\n  (0, 1167)\\t1\\n  (0, 3206)\\t11\\n  (0, 3344)\\t1\\n  (0, 1317)\\t1\\n  (0, 3255)\\t1\\n  (0, 612)\\t1\\n  (0, 553)\\t1\\n  (0, 738)\\t2\\n  (0, 3735)\\t1\\n  (0, 2675)\\t1\\n  (0, 2239)\\t1\\n  (0, 3390)\\t1\\n  (0, 1579)\\t3\\n  (0, 3718)\\t3\\n  (0, 3032)\\t2\\n  (0, 1200)\\t1\\n  (0, 752)\\t1\\n  (0, 1380)\\t2\\n  (0, 3520)\\t4\\n  (0, 523)\\t1\\n  (0, 3225)\\t1\\n  (0, 598)\\t1\\n  :\\t:\\n  (0, 1340)\\t2\\n  (0, 23)\\t1\\n  (0, 671)\\t1\\n  (0, 2033)\\t1\\n  (0, 348)\\t1\\n  (0, 1654)\\t1\\n  (0, 3514)\\t1\\n  (0, 818)\\t1\\n  (0, 1213)\\t1\\n  (0, 2022)\\t1\\n  (0, 2545)\\t1\\n  (0, 972)\\t1\\n  (0, 135)\\t1\\n  (0, 1319)\\t1\\n  (0, 1615)\\t1\\n  (0, 3654)\\t1\\n  (0, 2699)\\t1\\n  (0, 1588)\\t1\\n  (0, 3717)\\t2\\n  (0, 3556)\\t1\\n  (0, 1787)\\t1\\n  (0, 3936)\\t1\\n  (0, 834)\\t1\\n  (0, 757)\\t1\\n  (0, 3747)\\t1        \n",
      "...                                                                                                                                                                                                                                                                                                                                                                                                                                                                                                                                                                                                                                                                                                                                                                                                                        ...        \n",
      "49940    (0, 2735)\\t1\\n  (0, 2977)\\t2\\n  (0, 4074)\\t1\\n  (0, 2464)\\t2\\n  (0, 711)\\t1\\n  (0, 2551)\\t3\\n  (0, 3658)\\t3\\n  (0, 686)\\t2\\n  (0, 974)\\t6\\n  (0, 2301)\\t1\\n  (0, 2302)\\t1\\n  (0, 2054)\\t2\\n  (0, 4050)\\t1\\n  (0, 2092)\\t2\\n  (0, 1740)\\t1\\n  (0, 2347)\\t2\\n  (0, 3206)\\t13\\n  (0, 1004)\\t1\\n  (0, 968)\\t3\\n  (0, 1823)\\t2\\n  (0, 2111)\\t2\\n  (0, 784)\\t1\\n  (0, 842)\\t2\\n  (0, 2675)\\t1\\n  (0, 3061)\\t2\\n  :\\t:\\n  (0, 3226)\\t1\\n  (0, 1698)\\t1\\n  (0, 311)\\t1\\n  (0, 94)\\t1\\n  (0, 123)\\t1\\n  (0, 1623)\\t1\\n  (0, 63)\\t1\\n  (0, 464)\\t1\\n  (0, 3540)\\t1\\n  (0, 1499)\\t1\\n  (0, 2084)\\t1\\n  (0, 1815)\\t1\\n  (0, 3536)\\t1\\n  (0, 3311)\\t1\\n  (0, 3463)\\t1\\n  (0, 3436)\\t1\\n  (0, 154)\\t2\\n  (0, 552)\\t1\\n  (0, 3023)\\t2\\n  (0, 1880)\\t1\\n  (0, 202)\\t1\\n  (0, 1311)\\t1\\n  (0, 1045)\\t1\\n  (0, 1874)\\t1\\n  (0, 2754)\\t1        \n",
      "49941    (0, 208)\\t9\\n  (0, 4074)\\t3\\n  (0, 2054)\\t1\\n  (0, 1167)\\t3\\n  (0, 3206)\\t1\\n  (0, 2134)\\t1\\n  (0, 968)\\t1\\n  (0, 297)\\t1\\n  (0, 1579)\\t1\\n  (0, 39)\\t1\\n  (0, 752)\\t1\\n  (0, 705)\\t3\\n  (0, 1736)\\t1\\n  (0, 382)\\t1\\n  (0, 4016)\\t1\\n  (0, 1685)\\t1\\n  (0, 3966)\\t1\\n  (0, 3992)\\t1\\n  (0, 2154)\\t2\\n  (0, 2475)\\t2\\n  (0, 2311)\\t1\\n  (0, 4081)\\t1\\n  (0, 2094)\\t2\\n  (0, 1381)\\t1\\n  (0, 1060)\\t1\\n  :\\t:\\n  (0, 2882)\\t2\\n  (0, 1583)\\t2\\n  (0, 3903)\\t7\\n  (0, 3989)\\t1\\n  (0, 2822)\\t7\\n  (0, 1236)\\t1\\n  (0, 3483)\\t2\\n  (0, 3502)\\t2\\n  (0, 3320)\\t1\\n  (0, 3475)\\t2\\n  (0, 1498)\\t1\\n  (0, 1228)\\t1\\n  (0, 3012)\\t1\\n  (0, 3081)\\t2\\n  (0, 1791)\\t1\\n  (0, 1486)\\t1\\n  (0, 149)\\t1\\n  (0, 1726)\\t2\\n  (0, 1253)\\t1\\n  (0, 3872)\\t1\\n  (0, 845)\\t1\\n  (0, 676)\\t1\\n  (0, 776)\\t1\\n  (0, 174)\\t1\\n  (0, 111)\\t1       \n",
      "49942    (0, 812)\\t1\\n  (0, 2355)\\t1\\n  (0, 3545)\\t1\\n  (0, 2273)\\t1\\n  (0, 1612)\\t1                                                                                                                                                                                                                                                                                                                                                                                                                                                                                                                                                                                                                                                                                                                                                  \n",
      "49943    (0, 2054)\\t2\\n  (0, 463)\\t5\\n  (0, 3206)\\t1\\n  (0, 1734)\\t1\\n  (0, 3687)\\t2\\n  (0, 752)\\t3\\n  (0, 605)\\t1\\n  (0, 543)\\t1\\n  (0, 59)\\t1\\n  (0, 356)\\t1\\n  (0, 1408)\\t2\\n  (0, 1924)\\t2\\n  (0, 3702)\\t1\\n  (0, 647)\\t1\\n  (0, 4080)\\t1\\n  (0, 1947)\\t1\\n  (0, 3281)\\t1\\n  (0, 2981)\\t1\\n  (0, 157)\\t1\\n  (0, 3755)\\t1\\n  (0, 1849)\\t1\\n  (0, 3035)\\t4\\n  (0, 1286)\\t1\\n  (0, 1159)\\t1\\n  (0, 3707)\\t2\\n  (0, 3437)\\t3\\n  (0, 920)\\t1\\n  (0, 3900)\\t2\\n  (0, 2322)\\t1\\n  (0, 1772)\\t3\\n  (0, 1620)\\t3\\n  (0, 3620)\\t2\\n  (0, 214)\\t1\\n  (0, 639)\\t1                                                                                                                                                                                                                                                                             \n",
      "49944    (0, 711)\\t1\\n  (0, 57)\\t2\\n  (0, 3435)\\t1\\n  (0, 2301)\\t2\\n  (0, 3960)\\t1\\n  (0, 968)\\t1\\n  (0, 1823)\\t1\\n  (0, 3571)\\t1\\n  (0, 2395)\\t1\\n  (0, 1120)\\t1\\n  (0, 2239)\\t1\\n  (0, 2571)\\t1\\n  (0, 4043)\\t2\\n  (0, 437)\\t1\\n  (0, 337)\\t1\\n  (0, 3028)\\t1\\n  (0, 371)\\t1\\n  (0, 1755)\\t2\\n  (0, 3704)\\t4\\n  (0, 3687)\\t2\\n  (0, 3032)\\t1\\n  (0, 3041)\\t1\\n  (0, 2750)\\t2\\n  (0, 2296)\\t1\\n  (0, 382)\\t3\\n  :\\t:\\n  (0, 3824)\\t1\\n  (0, 2417)\\t1\\n  (0, 2263)\\t1\\n  (0, 964)\\t1\\n  (0, 3265)\\t2\\n  (0, 3480)\\t1\\n  (0, 1533)\\t2\\n  (0, 532)\\t1\\n  (0, 1142)\\t2\\n  (0, 3498)\\t1\\n  (0, 3342)\\t1\\n  (0, 3501)\\t2\\n  (0, 490)\\t1\\n  (0, 2511)\\t1\\n  (0, 2622)\\t1\\n  (0, 2585)\\t2\\n  (0, 2492)\\t2\\n  (0, 436)\\t1\\n  (0, 1909)\\t1\\n  (0, 4041)\\t1\\n  (0, 2225)\\t1\\n  (0, 2848)\\t1\\n  (0, 3807)\\t1\\n  (0, 60)\\t1\\n  (0, 513)\\t1        \n",
      "\n",
      "[49945 rows x 1 columns]\n"
     ]
    }
   ],
   "source": [
    "print(df1)"
   ]
  },
  {
   "cell_type": "code",
   "execution_count": 19,
   "metadata": {
    "colab": {},
    "colab_type": "code",
    "id": "C3dlbg8Srxz9"
   },
   "outputs": [],
   "source": [
    "df1.to_csv('C:/Curso-ML-1/project/Body_BOW.csv')"
   ]
  },
  {
   "cell_type": "code",
   "execution_count": 15,
   "metadata": {
    "colab": {},
    "colab_type": "code",
    "id": "6pUFN-3_p_SA"
   },
   "outputs": [],
   "source": [
    "df2 = pd.DataFrame(Headline_BOW)"
   ]
  },
  {
   "cell_type": "code",
   "execution_count": 20,
   "metadata": {
    "colab": {},
    "colab_type": "code",
    "id": "BB4Vx4sEsET8"
   },
   "outputs": [],
   "source": [
    "df2.to_csv('C:/Curso-ML-1/project/Headline_BOW.csv')"
   ]
  },
  {
   "cell_type": "code",
   "execution_count": 17,
   "metadata": {
    "colab": {},
    "colab_type": "code",
    "id": "GXRpzBEAsQ6l"
   },
   "outputs": [],
   "source": [
    "df3 = pd.DataFrame(combined_BOW)"
   ]
  },
  {
   "cell_type": "code",
   "execution_count": 18,
   "metadata": {
    "colab": {},
    "colab_type": "code",
    "id": "Zgipj7YIsW5W"
   },
   "outputs": [],
   "source": [
    "df3.to_csv('C:/Curso-ML-1/project/combined_BOW.csv')"
   ]
  },
  {
   "cell_type": "code",
   "execution_count": null,
   "metadata": {},
   "outputs": [],
   "source": []
  }
 ],
 "metadata": {
  "colab": {
   "authorship_tag": "ABX9TyMI+F+Vwc/sGZeYzmEB9bUH",
   "mount_file_id": "1bvkzs0OniDTse2Y_34aiHD2FVJ0JtdBO",
   "name": "07-BOW.ipynb",
   "provenance": []
  },
  "kernelspec": {
   "display_name": "Python 3",
   "language": "python",
   "name": "python3"
  },
  "language_info": {
   "codemirror_mode": {
    "name": "ipython",
    "version": 3
   },
   "file_extension": ".py",
   "mimetype": "text/x-python",
   "name": "python",
   "nbconvert_exporter": "python",
   "pygments_lexer": "ipython3",
   "version": "3.7.6"
  }
 },
 "nbformat": 4,
 "nbformat_minor": 1
}
