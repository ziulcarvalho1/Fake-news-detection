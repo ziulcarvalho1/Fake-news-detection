{
 "cells": [
  {
   "cell_type": "code",
   "execution_count": 1,
   "metadata": {},
   "outputs": [
    {
     "name": "stderr",
     "output_type": "stream",
     "text": [
      "C:\\Users\\ziulc\\anaconda3\\lib\\site-packages\\ipykernel_launcher.py:10: FutureWarning: Passing a negative integer is deprecated in version 1.0 and will not be supported in future version. Instead, use None to not limit the column width.\n",
      "  # Remove the CWD from sys.path while we load stuff.\n"
     ]
    }
   ],
   "source": [
    "# import pandas, numpy\n",
    "import pandas as pd\n",
    "import numpy as np\n",
    "\n",
    "# adjust pandas display\n",
    "pd.options.display.max_columns = 30\n",
    "pd.options.display.max_rows = 100\n",
    "pd.options.display.float_format = '{:.2f}'.format\n",
    "pd.options.display.precision = 2\n",
    "pd.options.display.max_colwidth = -1"
   ]
  },
  {
   "cell_type": "code",
   "execution_count": 2,
   "metadata": {},
   "outputs": [
    {
     "name": "stdout",
     "output_type": "stream",
     "text": [
      "<class 'pandas.core.frame.DataFrame'>\n",
      "RangeIndex: 49945 entries, 0 to 49944\n",
      "Data columns (total 13 columns):\n",
      " #   Column                 Non-Null Count  Dtype  \n",
      "---  ------                 --------------  -----  \n",
      " 0   Unnamed: 0             49945 non-null  int64  \n",
      " 1   Unnamed: 0.1           49945 non-null  int64  \n",
      " 2   Body ID                49945 non-null  int64  \n",
      " 3   Stance                 49945 non-null  object \n",
      " 4   Headline_clean         49945 non-null  object \n",
      " 5   articleBody            49945 non-null  object \n",
      " 6   Headline               49945 non-null  object \n",
      " 7   Headline_sentiment     49945 non-null  object \n",
      " 8   articleBody_sentiment  49945 non-null  object \n",
      " 9   question_mark          49945 non-null  int64  \n",
      " 10  word_overlap           49945 non-null  float64\n",
      " 11  cosine_similarity      49945 non-null  float64\n",
      " 12  cross                  49945 non-null  float64\n",
      "dtypes: float64(3), int64(4), object(6)\n",
      "memory usage: 5.0+ MB\n"
     ]
    }
   ],
   "source": [
    "df = pd.read_csv(\"C:/Curso-ML-1/project/super_clean_train_12.csv\") \n",
    "df.info()"
   ]
  },
  {
   "cell_type": "code",
   "execution_count": 3,
   "metadata": {},
   "outputs": [],
   "source": [
    "from sklearn.feature_extraction.text import TfidfVectorizer\n",
    "tfidf = TfidfVectorizer(analyzer='word', lowercase=False)"
   ]
  },
  {
   "cell_type": "code",
   "execution_count": 4,
   "metadata": {},
   "outputs": [],
   "source": [
    "articleBody_TFIDF = tfidf.fit_transform(df['Headline_clean'].fillna(' '))"
   ]
  },
  {
   "cell_type": "code",
   "execution_count": 5,
   "metadata": {},
   "outputs": [],
   "source": [
    "Headline_TFIDF = tfidf.fit_transform(df['articleBody'].fillna(' '))"
   ]
  },
  {
   "cell_type": "code",
   "execution_count": 7,
   "metadata": {},
   "outputs": [],
   "source": [
    "import scipy.sparse as sp\n",
    "combined_TFIDF = sp.hstack([articleBody_TFIDF, Headline_TFIDF], format='csr')"
   ]
  },
  {
   "cell_type": "code",
   "execution_count": 8,
   "metadata": {},
   "outputs": [
    {
     "name": "stdout",
     "output_type": "stream",
     "text": [
      "  (0, 327)\t0.36053060253537317\n",
      "  (0, 1130)\t0.2371917420812841\n",
      "  (0, 1205)\t0.353078155706385\n",
      "  (0, 737)\t0.24763972269571924\n",
      "  (0, 784)\t0.2773620353312444\n",
      "  (0, 132)\t0.29681484806336383\n",
      "  (0, 491)\t0.2562326147533083\n",
      "  (0, 713)\t0.25910659138754294\n",
      "  (0, 880)\t0.5744110153821346\n",
      "  (1, 816)\t0.37964881738873757\n",
      "  (1, 600)\t0.5297204461488859\n",
      "  (1, 467)\t0.5297204461488859\n",
      "  (1, 440)\t0.5428252696024599\n",
      "  (2, 979)\t0.35399795244298987\n",
      "  (2, 422)\t0.41690720150507704\n",
      "  (2, 961)\t0.23541490456732755\n",
      "  (2, 16)\t0.3345985058641256\n",
      "  (2, 618)\t0.25335769735673136\n",
      "  (2, 1116)\t0.24615884264963314\n",
      "  (2, 988)\t0.36447353298551277\n",
      "  (2, 841)\t0.3739061284080119\n",
      "  (2, 95)\t0.2608317943118744\n",
      "  (2, 223)\t0.2608317943118744\n",
      "  (3, 69)\t0.3740850604583044\n",
      "  (3, 659)\t0.2623826849288087\n",
      "  :\t:\n",
      "  (49941, 1078)\t0.3670180348199735\n",
      "  (49941, 31)\t0.29817357781834025\n",
      "  (49941, 1294)\t0.3418993311566008\n",
      "  (49941, 151)\t0.3418993311566008\n",
      "  (49942, 754)\t0.3697934756824177\n",
      "  (49942, 1008)\t0.31906260388658897\n",
      "  (49942, 1130)\t0.4136412107470642\n",
      "  (49942, 737)\t0.4318615556599819\n",
      "  (49942, 491)\t0.44684679183781606\n",
      "  (49942, 713)\t0.4518587503664406\n",
      "  (49943, 68)\t0.4697317184120819\n",
      "  (49943, 661)\t0.4618315559489037\n",
      "  (49943, 1093)\t0.429270202060063\n",
      "  (49943, 430)\t0.2797203166349279\n",
      "  (49943, 243)\t0.3460991265868318\n",
      "  (49943, 138)\t0.30522904861078953\n",
      "  (49943, 1260)\t0.23959270508162003\n",
      "  (49943, 596)\t0.1821903478894309\n",
      "  (49944, 42)\t0.3842545758107345\n",
      "  (49944, 522)\t0.4796324739271665\n",
      "  (49944, 1056)\t0.3941851900251996\n",
      "  (49944, 1052)\t0.32723368526961655\n",
      "  (49944, 159)\t0.28841087219285994\n",
      "  (49944, 948)\t0.4379410599431897\n",
      "  (49944, 82)\t0.29131436444066877\n"
     ]
    }
   ],
   "source": [
    "print(articleBody_TFIDF)"
   ]
  },
  {
   "cell_type": "code",
   "execution_count": 9,
   "metadata": {},
   "outputs": [],
   "source": [
    "df1 = pd.DataFrame(articleBody_TFIDF)"
   ]
  },
  {
   "cell_type": "code",
   "execution_count": 12,
   "metadata": {},
   "outputs": [],
   "source": [
    "df1.to_csv('C:/Curso-ML-1/project/body_TFIDF.csv')"
   ]
  },
  {
   "cell_type": "code",
   "execution_count": 11,
   "metadata": {},
   "outputs": [],
   "source": [
    "df2 = pd.DataFrame(Headline_TFIDF)"
   ]
  },
  {
   "cell_type": "code",
   "execution_count": 13,
   "metadata": {},
   "outputs": [],
   "source": [
    "df2.to_csv('C:/Curso-ML-1/project/Headline_TFIDF.csv')"
   ]
  },
  {
   "cell_type": "code",
   "execution_count": 14,
   "metadata": {},
   "outputs": [],
   "source": [
    "df3 = pd.DataFrame(combined_TFIDF)"
   ]
  },
  {
   "cell_type": "code",
   "execution_count": 15,
   "metadata": {},
   "outputs": [],
   "source": [
    "df3.to_csv('C:/Curso-ML-1/project/combined_TFIDF.csv')"
   ]
  },
  {
   "cell_type": "code",
   "execution_count": null,
   "metadata": {},
   "outputs": [],
   "source": []
  }
 ],
 "metadata": {
  "kernelspec": {
   "display_name": "Python 3",
   "language": "python",
   "name": "python3"
  },
  "language_info": {
   "codemirror_mode": {
    "name": "ipython",
    "version": 3
   },
   "file_extension": ".py",
   "mimetype": "text/x-python",
   "name": "python",
   "nbconvert_exporter": "python",
   "pygments_lexer": "ipython3",
   "version": "3.7.6"
  }
 },
 "nbformat": 4,
 "nbformat_minor": 4
}
