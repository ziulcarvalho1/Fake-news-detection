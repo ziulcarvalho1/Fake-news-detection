{
 "cells": [
  {
   "cell_type": "markdown",
   "metadata": {},
   "source": [
    "# Articles sources-New York Times"
   ]
  },
  {
   "cell_type": "code",
   "execution_count": 1,
   "metadata": {},
   "outputs": [],
   "source": [
    "# Import\n",
    "import requests\n",
    "import nltk\n",
    "import urllib.request\n",
    "import time\n",
    "import pandas, numpy\n",
    "import pandas as pd \n",
    "import numpy as np\n",
    "\n",
    "from bs4 import BeautifulSoup\n",
    "from newspaper import Article"
   ]
  },
  {
   "cell_type": "code",
   "execution_count": 2,
   "metadata": {},
   "outputs": [
    {
     "name": "stdout",
     "output_type": "stream",
     "text": [
      "<class 'pandas.core.frame.DataFrame'>\n",
      "Index: 0 entries\n",
      "Data columns (total 2 columns):\n",
      " #   Column  Non-Null Count  Dtype \n",
      "---  ------  --------------  ----- \n",
      " 0   Word    0 non-null      object\n",
      " 1   Text    0 non-null      object\n",
      "dtypes: object(2)\n",
      "memory usage: 0.0+ bytes\n"
     ]
    }
   ],
   "source": [
    "#Preparing the file to store the urls\n",
    "df = pd.read_csv(\"C:\\curso-ML-1\\project\\Pasta1.csv\") \n",
    "df['Text']=\"\"\n",
    "##df =df.head(10000)\n",
    "df.info()"
   ]
  },
  {
   "cell_type": "code",
   "execution_count": 98,
   "metadata": {},
   "outputs": [],
   "source": [
    "#Select the source\n",
    "URL1 = 'https://www.nytimes.com/section/arts'"
   ]
  },
  {
   "cell_type": "code",
   "execution_count": 99,
   "metadata": {},
   "outputs": [],
   "source": [
    "request1 = requests.get(URL1)"
   ]
  },
  {
   "cell_type": "code",
   "execution_count": 100,
   "metadata": {},
   "outputs": [],
   "source": [
    "soup = BeautifulSoup(request1.content, 'html.parser')"
   ]
  },
  {
   "cell_type": "code",
   "execution_count": 101,
   "metadata": {},
   "outputs": [
    {
     "name": "stdout",
     "output_type": "stream",
     "text": [
      "871690\n",
      "33\n",
      "!\n"
     ]
    }
   ],
   "source": [
    "sources = request1.content\n",
    "print(len(sources))\n",
    "print(sources[1])\n",
    "type(sources)\n",
    "sources1 = sources.decode(\"utf-8\") \n",
    "print(sources1[1])\n"
   ]
  },
  {
   "cell_type": "code",
   "execution_count": 102,
   "metadata": {},
   "outputs": [
    {
     "name": "stdout",
     "output_type": "stream",
     "text": [
      "871325\n",
      "https://www.nytimes.com/section/arts/2020/05/11/arts/music/jason-isbell-reunions.html\n",
      "https://www.nytimes.com/section/arts/2020/05/11/arts/music/jason-isbell-reunions.html\n",
      "https://www.nytimes.com/section/arts/2020/05/11/arts/music/jason-isbell-reunions.html\n",
      "https://www.nytimes.com/section/arts/2020/05/11/arts/television/jerry-stiller-seinfeld-dead.html\n",
      "https://www.nytimes.com/section/arts/2020/05/11/arts/television/jerry-stiller-seinfeld-dead.html\n",
      "https://www.nytimes.com/section/arts/2020/05/11/arts/television/jerry-stiller-seinfeld-dead.html\n",
      "https://www.nytimes.com/section/arts/2020/05/11/arts/social-distance-shaming.html\n",
      "https://www.nytimes.com/section/arts/2020/05/11/arts/social-distance-shaming.html\n",
      "https://www.nytimes.com/section/arts/2020/05/11/arts/social-distance-shaming.html\n",
      "https://www.nytimes.com/section/arts/2020/05/11/arts/dance/new-york-public-library-acquires-martha-graham-archive.html\n",
      "https://www.nytimes.com/section/arts/2020/05/11/arts/dance/new-york-public-library-acquires-martha-graham-archive.html\n",
      "https://www.nytimes.com/section/arts/2020/05/11/arts/dance/new-york-public-library-acquires-martha-graham-archive.html\n",
      "https://www.nytimes.com/section/arts/2020/05/11/movies/valley-girl.html\n",
      "https://www.nytimes.com/section/arts/2020/05/11/movies/valley-girl.html\n",
      "https://www.nytimes.com/section/arts/2020/05/10/arts/music/little-richard-songs.html\n",
      "https://www.nytimes.com/section/arts/2020/05/10/arts/music/little-richard-songs.html\n",
      "https://www.nytimes.com/section/arts/2020/05/10/arts/music/virus-concert-tests-arkansas.html\n",
      "https://www.nytimes.com/section/arts/2020/05/10/arts/music/virus-concert-tests-arkansas.html\n",
      "https://www.nytimes.com/section/arts/2020/05/10/arts/television/daniel-dae-kim-asian-americans.html\n",
      "https://www.nytimes.com/section/arts/2020/05/10/arts/television/daniel-dae-kim-asian-americans.html\n",
      "https://www.nytimes.com/section/arts/2020/05/11/arts/television/workplace-comedies.html\n",
      "https://www.nytimes.com/section/arts/2020/05/11/arts/television/workplace-comedies.html\n",
      "https://www.nytimes.com/section/arts/2020/05/11/arts/frieze-andre-holland-livestreaming-coronavirus.html\n",
      "https://www.nytimes.com/section/arts/2020/05/11/arts/frieze-andre-holland-livestreaming-coronavirus.html\n",
      "https://www.nytimes.com/section/arts/2020/05/11/arts/alanis-morissette-is-helping-us-meditate-want-to-join.html\n",
      "https://www.nytimes.com/section/arts/2020/05/11/arts/alanis-morissette-is-helping-us-meditate-want-to-join.html\n",
      "https://www.nytimes.com/section/arts/2020/05/10/arts/television/outlander-finale-caitriona-balfe-diana-gabaldon.html\n",
      "https://www.nytimes.com/section/arts/2020/05/10/arts/television/outlander-finale-caitriona-balfe-diana-gabaldon.html\n",
      "https://www.nytimes.com/section/arts/2020/05/10/arts/television/stream-tv-little-house-prairie.html\n",
      "https://www.nytimes.com/section/arts/2020/05/10/arts/television/stream-tv-little-house-prairie.html\n",
      "https://www.nytimes.com/section/arts/2020/05/11/world/europe/ukraine-holocaust-babyn-yar.html\n",
      "https://www.nytimes.com/section/arts/2020/05/11/movies/valley-girl.html\n",
      "https://www.nytimes.com/section/arts/2020/05/11/arts/television/netflix-foreign-films.html\n",
      "https://www.nytimes.com/section/arts/2020/05/11/movies/have-good-trip-review.html\n",
      "https://www.nytimes.com/section/arts/2020/05/11/t-magazine/china-desert.html\n",
      "https://www.nytimes.com/section/arts/2020/05/11/t-magazine/buddha-statues-face.html\n",
      "https://www.nytimes.com/section/arts/2020/05/11/arts/alanis-morissette-is-helping-us-meditate-want-to-join.html\n",
      "https://www.nytimes.com/section/arts/2020/05/11/arts/frieze-andre-holland-livestreaming-coronavirus.html\n",
      "https://www.nytimes.com/section/arts/2020/05/11/arts/television/whats-on-tv-monday.html\n",
      "https://www.nytimes.com/section/arts/2020/05/10/arts/television/billions-episode-2-recap.html\n"
     ]
    }
   ],
   "source": [
    "len1 = len(sources1)\n",
    "print(len1)\n",
    "marker =\"\"\n",
    "selector=\"OF\"\n",
    "url2=\"\"\n",
    "counter1=0\n",
    "for i in range(len1):\n",
    "    letter = sources1[i]\n",
    "    marker = marker+letter\n",
    "    len2 = len(marker)\n",
    "    marker1 = marker[len2-4:len2]\n",
    "    ##print(marker1)\n",
    "    ##print(marker1)\n",
    "    if marker1 == 'href':\n",
    "        selector=\"ON\"\n",
    "        ##print(marker1) \n",
    "\n",
    "       \n",
    "    if selector==\"ON\":\n",
    "        ##print(selector)\n",
    "        #sources2 =sources2+letter\n",
    "        url2 = url2+letter\n",
    "        ##print(url2)\n",
    " \n",
    "    \n",
    "    if selector==\"ON\" and letter==\">\":\n",
    "        selector = \"OF\"\n",
    "        url2 = url2[3:]\n",
    "        ##print(url2[0:9])\n",
    "        ##print(url2)\n",
    "        if url2[0:6]==\"/2020/\":\n",
    "            url2 = URL1+url2\n",
    "            len3 = len(url2)\n",
    "            url2 = url2[0:len3-2]\n",
    "            print(url2)\n",
    "            df = df.append([url2], ignore_index=True)\n",
    "            ##df['Text'][counter1]=url2\n",
    "            counter1 = counter1+1\n",
    "        url2 = \"\"\n",
    "        "
   ]
  },
  {
   "cell_type": "code",
   "execution_count": 26,
   "metadata": {},
   "outputs": [
    {
     "name": "stdout",
     "output_type": "stream",
     "text": [
      "                                                    0 Text Word\n",
      "0   https://www.nytimes.com/section/world/americas...  NaN  NaN\n",
      "1   https://www.nytimes.com/section/world/americas...  NaN  NaN\n",
      "2   https://www.nytimes.com/section/world/americas...  NaN  NaN\n",
      "3   https://www.nytimes.com/section/world/americas...  NaN  NaN\n",
      "4   https://www.nytimes.com/section/world/americas...  NaN  NaN\n",
      "5   https://www.nytimes.com/section/world/americas...  NaN  NaN\n",
      "6   https://www.nytimes.com/section/world/americas...  NaN  NaN\n",
      "7   https://www.nytimes.com/section/world/americas...  NaN  NaN\n",
      "8   https://www.nytimes.com/section/world/americas...  NaN  NaN\n",
      "9   https://www.nytimes.com/section/world/americas...  NaN  NaN\n",
      "10  https://www.nytimes.com/section/world/americas...  NaN  NaN\n",
      "11  https://www.nytimes.com/section/world/americas...  NaN  NaN\n",
      "12  https://www.nytimes.com/section/world/americas...  NaN  NaN\n",
      "13  https://www.nytimes.com/section/world/americas...  NaN  NaN\n",
      "14  https://www.nytimes.com/section/world/americas...  NaN  NaN\n",
      "15  https://www.nytimes.com/section/world/americas...  NaN  NaN\n",
      "16  https://www.nytimes.com/section/world/americas...  NaN  NaN\n",
      "17  https://www.nytimes.com/section/world/americas...  NaN  NaN\n",
      "18  https://www.nytimes.com/section/world/americas...  NaN  NaN\n",
      "19  https://www.nytimes.com/section/world/americas...  NaN  NaN\n"
     ]
    }
   ],
   "source": [
    "print(df)"
   ]
  },
  {
   "cell_type": "code",
   "execution_count": 103,
   "metadata": {},
   "outputs": [
    {
     "name": "stdout",
     "output_type": "stream",
     "text": [
      "<class 'pandas.core.frame.DataFrame'>\n",
      "RangeIndex: 307 entries, 0 to 306\n",
      "Data columns (total 3 columns):\n",
      " #   Column  Non-Null Count  Dtype \n",
      "---  ------  --------------  ----- \n",
      " 0   0       307 non-null    object\n",
      " 1   Text    0 non-null      object\n",
      " 2   Word    0 non-null      object\n",
      "dtypes: object(3)\n",
      "memory usage: 7.3+ KB\n"
     ]
    }
   ],
   "source": [
    "df.info()"
   ]
  },
  {
   "cell_type": "code",
   "execution_count": 104,
   "metadata": {},
   "outputs": [],
   "source": [
    "df.to_csv('C:/Curso-ML-1/project/source-nyt.csv')"
   ]
  },
  {
   "cell_type": "code",
   "execution_count": null,
   "metadata": {},
   "outputs": [],
   "source": []
  }
 ],
 "metadata": {
  "kernelspec": {
   "display_name": "Python 3",
   "language": "python",
   "name": "python3"
  },
  "language_info": {
   "codemirror_mode": {
    "name": "ipython",
    "version": 3
   },
   "file_extension": ".py",
   "mimetype": "text/x-python",
   "name": "python",
   "nbconvert_exporter": "python",
   "pygments_lexer": "ipython3",
   "version": "3.7.6"
  }
 },
 "nbformat": 4,
 "nbformat_minor": 4
}
