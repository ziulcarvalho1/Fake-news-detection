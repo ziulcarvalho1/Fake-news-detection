{
 "cells": [
  {
   "cell_type": "markdown",
   "metadata": {},
   "source": [
    "# Articles sources-Reuters"
   ]
  },
  {
   "cell_type": "code",
   "execution_count": 76,
   "metadata": {},
   "outputs": [],
   "source": [
    "# Import\n",
    "import requests\n",
    "import nltk\n",
    "import urllib.request\n",
    "import time\n",
    "import pandas, numpy\n",
    "import pandas as pd \n",
    "import numpy as np\n",
    "\n",
    "from bs4 import BeautifulSoup\n",
    "from newspaper import Article"
   ]
  },
  {
   "cell_type": "code",
   "execution_count": 95,
   "metadata": {},
   "outputs": [
    {
     "name": "stdout",
     "output_type": "stream",
     "text": [
      "<class 'pandas.core.frame.DataFrame'>\n",
      "Index: 0 entries\n",
      "Data columns (total 2 columns):\n",
      " #   Column  Non-Null Count  Dtype \n",
      "---  ------  --------------  ----- \n",
      " 0   Word    0 non-null      object\n",
      " 1   Text    0 non-null      object\n",
      "dtypes: object(2)\n",
      "memory usage: 0.0+ bytes\n"
     ]
    }
   ],
   "source": [
    "#Preparing the file to store the urls\n",
    "df = pd.read_csv(\"C:\\curso-ML-1\\project\\Pasta1.csv\") \n",
    "df['Text']=\"\"\n",
    "##df =df.head(10000)\n",
    "df.info()"
   ]
  },
  {
   "cell_type": "code",
   "execution_count": 216,
   "metadata": {},
   "outputs": [],
   "source": [
    "#Select the source\n",
    "URL1 = 'https://www.reuters.com/the-world-at-work'"
   ]
  },
  {
   "cell_type": "code",
   "execution_count": 217,
   "metadata": {},
   "outputs": [],
   "source": [
    "request1 = requests.get(URL1)"
   ]
  },
  {
   "cell_type": "code",
   "execution_count": 218,
   "metadata": {},
   "outputs": [],
   "source": [
    "soup = BeautifulSoup(request1.content, 'html.parser')"
   ]
  },
  {
   "cell_type": "code",
   "execution_count": 219,
   "metadata": {},
   "outputs": [
    {
     "name": "stdout",
     "output_type": "stream",
     "text": [
      "162642\n",
      "33\n",
      "!\n"
     ]
    }
   ],
   "source": [
    "sources = request1.content\n",
    "print(len(sources))\n",
    "print(sources[1])\n",
    "type(sources)\n",
    "sources1 = sources.decode(\"utf-8\") \n",
    "print(sources1[1])\n",
    "##print(sources1)"
   ]
  },
  {
   "cell_type": "code",
   "execution_count": 220,
   "metadata": {},
   "outputs": [
    {
     "name": "stdout",
     "output_type": "stream",
     "text": [
      "162619\n",
      "https://www.reuters.com/the-world-at-work/article/us-health-coronavirus-videoconferencing/cats-pjs-alien-eyes-unwelcome-as-work-video-calling-boom-prompts-new-etiquette-idUSKBN2143Y7\n",
      "https://www.reuters.com/the-world-at-work/article/us-health-coronavirus-videoconferencing/cats-pjs-alien-eyes-unwelcome-as-work-video-calling-boom-prompts-new-etiquette-idUSKBN2143Y7\n",
      "https://www.reuters.com/the-world-at-work/article/us-health-coronavirus-videoconferencing/cats-pjs-alien-eyes-unwelcome-as-work-video-calling-boom-prompts-new-etiquette-idUSKBN2143Y7\n",
      "https://www.reuters.com/the-world-at-work/article/us-health-coronavirus-banks-anxiety/wall-street-tempers-begin-to-flare-over-coronavirus-work-from-home-policy-idUSKBN2150HR\n",
      "https://www.reuters.com/the-world-at-work/article/us-health-coronavirus-banks-anxiety/wall-street-tempers-begin-to-flare-over-coronavirus-work-from-home-policy-idUSKBN2150HR\n",
      "https://www.reuters.com/the-world-at-work/article/us-health-coronavirus-cloud/coronavirus-work-from-home-push-means-long-nights-employee-health-checks-for-cloud-firms-idUSKBN21031M\n",
      "https://www.reuters.com/the-world-at-work/article/us-health-coronavirus-cloud/coronavirus-work-from-home-push-means-long-nights-employee-health-checks-for-cloud-firms-idUSKBN21031M\n",
      "https://www.reuters.com/the-world-at-work/article/us-japan-companies-wages/japan-inc-wary-about-wage-hikes-as-abenomics-sputters-reuters-poll-idUSKBN20C01E\n",
      "https://www.reuters.com/the-world-at-work/article/us-japan-companies-wages/japan-inc-wary-about-wage-hikes-as-abenomics-sputters-reuters-poll-idUSKBN20C01E\n",
      "https://www.reuters.com/the-world-at-work/article/us-world-work-intelisrael/intel-bets-on-smart-buildings-in-israel-to-attract-tech-talent-idUSKBN1ZZ0G0\n",
      "https://www.reuters.com/the-world-at-work/article/us-world-work-intelisrael/intel-bets-on-smart-buildings-in-israel-to-attract-tech-talent-idUSKBN1ZZ0G0\n",
      "https://www.reuters.com/the-world-at-work/article/us-world-work-vrtraining/to-train-more-workers-companies-turn-to-virtual-reality-idUSKBN1ZL1AN\n",
      "https://www.reuters.com/the-world-at-work/article/us-world-work-vrtraining/to-train-more-workers-companies-turn-to-virtual-reality-idUSKBN1ZL1AN\n",
      "https://www.reuters.com/the-world-at-work/article/us-southkorea-artificial-intelligence-jo/smile-with-your-eyes-how-to-beat-south-koreas-ai-hiring-bots-and-land-a-job-idUSKBN1ZC022\n",
      "https://www.reuters.com/the-world-at-work/article/us-southkorea-artificial-intelligence-jo/smile-with-your-eyes-how-to-beat-south-koreas-ai-hiring-bots-and-land-a-job-idUSKBN1ZC022\n",
      "https://www.reuters.com/the-world-at-work/article/us-world-work-softskills/how-can-generation-z-compete-with-robots-focus-on-the-human-touch-idUSKBN1YK0CM\n",
      "https://www.reuters.com/the-world-at-work/article/us-world-work-softskills/how-can-generation-z-compete-with-robots-focus-on-the-human-touch-idUSKBN1YK0CM\n",
      "https://www.reuters.com/the-world-at-work/article/us-japan-harassment-appearance/specs-on-heels-off-japanese-activists-urge-changes-to-anti-harassment-code-idUSKBN1Y70QT\n",
      "https://www.reuters.com/the-world-at-work/article/us-japan-harassment-appearance/specs-on-heels-off-japanese-activists-urge-changes-to-anti-harassment-code-idUSKBN1Y70QT\n",
      "https://www.reuters.com/the-world-at-work/article/us-world-work-givingtuesday/your-money-on-givingtuesday-companies-turbocharge-holiday-giving-efforts-idUSKBN1Y12F1\n",
      "https://www.reuters.com/the-world-at-work/article/us-world-work-givingtuesday/your-money-on-givingtuesday-companies-turbocharge-holiday-giving-efforts-idUSKBN1Y12F1\n",
      "https://www.reuters.com/the-world-at-work/article/us-world-work-vetrepreneurs/helping-veterans-develop-business-skills-as-entrepreneurs-idUSKBN1XL2LS\n",
      "https://www.reuters.com/the-world-at-work/article/us-world-work-vetrepreneurs/helping-veterans-develop-business-skills-as-entrepreneurs-idUSKBN1XL2LS\n",
      "https://www.reuters.com/the-world-at-work/article/us-usa-stocks/sp-500-dow-slip-on-fear-of-new-infection-wave-idUSKBN22N1FZ\n",
      "https://www.reuters.com/the-world-at-work/article/us-health-coronavirus-centralbanks-guida/for-central-banks-hope-for-precision-fades-amid-pandemic-uncertainty-idUSKBN22N0EQ\n",
      "https://www.reuters.com/the-world-at-work/article/us-health-coronavirus-usa-meatpacking-an/as-u-s-meat-workers-fall-sick-and-supplies-dwindle-exports-to-china-soar-idUSKBN22N0IN\n",
      "https://www.reuters.com/the-world-at-work/article/us-usa-trade-china/chinese-advisers-call-for-talks-on-new-trade-deal-with-u-s-global-times-idUSKBN22N1XC\n",
      "https://www.reuters.com/the-world-at-work/article/us-health-coronavirus-usa-treasury/u-s-has-no-need-to-buy-back-debt-will-take-advantage-of-low-interest-rates-mnuchin-idUSKBN22N1XU\n",
      "https://www.reuters.com/the-world-at-work/article/us-health-coronavirus-wizz-air-hldgs-int/wizz-air-tells-uk-we-need-more-detail-on-quarantine-idUSKBN22N20B\n",
      "https://www.reuters.com/the-world-at-work/article/us-reuters-editorial-leadership/reuters-editorial-leadership-idUSKBN1KE2SD\" target=\"_blank\n"
     ]
    }
   ],
   "source": [
    "len1 = len(sources1)\n",
    "print(len1)\n",
    "marker =\"\"\n",
    "selector=\"OF\"\n",
    "url2=\"\"\n",
    "counter1=0\n",
    "for i in range(len1):\n",
    "    letter = sources1[i]\n",
    "    marker = marker+letter\n",
    "    len2 = len(marker)\n",
    "    marker1 = marker[len2-4:len2]\n",
    "    \n",
    "    ##print(marker1)\n",
    "    if marker1 == 'href':\n",
    "        selector=\"ON\"\n",
    "        ##print(marker1) \n",
    "\n",
    "       \n",
    "    if selector==\"ON\":\n",
    "        ##print(selector)\n",
    "        #sources2 =sources2+letter\n",
    "        url2 = url2+letter\n",
    "        \n",
    " \n",
    "    \n",
    "    if selector==\"ON\" and letter==\">\":\n",
    "        selector = \"OF\"\n",
    "        url2 = url2[3:]\n",
    "        ##print(url2[0:9])\n",
    "        ##print(url2)\n",
    "        if url2[0:9]==\"/article/\":\n",
    "            url2 = URL1+url2\n",
    "            len3 = len(url2)\n",
    "            url2 = url2[0:len3-2]\n",
    "            print(url2)\n",
    "            df = df.append([url2], ignore_index=True)\n",
    "            ##df['Text'][counter1]=url2\n",
    "            counter1 = counter1+1\n",
    "        url2 = \"\"\n",
    "        "
   ]
  },
  {
   "cell_type": "code",
   "execution_count": 162,
   "metadata": {},
   "outputs": [
    {
     "data": {
      "text/html": [
       "<div>\n",
       "<style scoped>\n",
       "    .dataframe tbody tr th:only-of-type {\n",
       "        vertical-align: middle;\n",
       "    }\n",
       "\n",
       "    .dataframe tbody tr th {\n",
       "        vertical-align: top;\n",
       "    }\n",
       "\n",
       "    .dataframe thead th {\n",
       "        text-align: right;\n",
       "    }\n",
       "</style>\n",
       "<table border=\"1\" class=\"dataframe\">\n",
       "  <thead>\n",
       "    <tr style=\"text-align: right;\">\n",
       "      <th></th>\n",
       "      <th>0</th>\n",
       "      <th>Text</th>\n",
       "      <th>Word</th>\n",
       "    </tr>\n",
       "  </thead>\n",
       "  <tbody>\n",
       "    <tr>\n",
       "      <th>0</th>\n",
       "      <td>https://www.reuters.com/places/brazil/article/...</td>\n",
       "      <td>NaN</td>\n",
       "      <td>NaN</td>\n",
       "    </tr>\n",
       "    <tr>\n",
       "      <th>1</th>\n",
       "      <td>https://www.reuters.com/places/brazil/article/...</td>\n",
       "      <td>NaN</td>\n",
       "      <td>NaN</td>\n",
       "    </tr>\n",
       "    <tr>\n",
       "      <th>2</th>\n",
       "      <td>https://www.reuters.com/places/brazil/article/...</td>\n",
       "      <td>NaN</td>\n",
       "      <td>NaN</td>\n",
       "    </tr>\n",
       "    <tr>\n",
       "      <th>3</th>\n",
       "      <td>https://www.reuters.com/places/brazil/article/...</td>\n",
       "      <td>NaN</td>\n",
       "      <td>NaN</td>\n",
       "    </tr>\n",
       "    <tr>\n",
       "      <th>4</th>\n",
       "      <td>https://www.reuters.com/places/brazil/article/...</td>\n",
       "      <td>NaN</td>\n",
       "      <td>NaN</td>\n",
       "    </tr>\n",
       "    <tr>\n",
       "      <th>...</th>\n",
       "      <td>...</td>\n",
       "      <td>...</td>\n",
       "      <td>...</td>\n",
       "    </tr>\n",
       "    <tr>\n",
       "      <th>95</th>\n",
       "      <td>https://www.reuters.com/places/africa/article/...</td>\n",
       "      <td>NaN</td>\n",
       "      <td>NaN</td>\n",
       "    </tr>\n",
       "    <tr>\n",
       "      <th>96</th>\n",
       "      <td>https://www.reuters.com/places/africa/article/...</td>\n",
       "      <td>NaN</td>\n",
       "      <td>NaN</td>\n",
       "    </tr>\n",
       "    <tr>\n",
       "      <th>97</th>\n",
       "      <td>https://www.reuters.com/places/africa/article/...</td>\n",
       "      <td>NaN</td>\n",
       "      <td>NaN</td>\n",
       "    </tr>\n",
       "    <tr>\n",
       "      <th>98</th>\n",
       "      <td>https://www.reuters.com/places/africa/article/...</td>\n",
       "      <td>NaN</td>\n",
       "      <td>NaN</td>\n",
       "    </tr>\n",
       "    <tr>\n",
       "      <th>99</th>\n",
       "      <td>https://www.reuters.com/places/africa/article/...</td>\n",
       "      <td>NaN</td>\n",
       "      <td>NaN</td>\n",
       "    </tr>\n",
       "  </tbody>\n",
       "</table>\n",
       "<p>100 rows × 3 columns</p>\n",
       "</div>"
      ],
      "text/plain": [
       "                                                    0 Text Word\n",
       "0   https://www.reuters.com/places/brazil/article/...  NaN  NaN\n",
       "1   https://www.reuters.com/places/brazil/article/...  NaN  NaN\n",
       "2   https://www.reuters.com/places/brazil/article/...  NaN  NaN\n",
       "3   https://www.reuters.com/places/brazil/article/...  NaN  NaN\n",
       "4   https://www.reuters.com/places/brazil/article/...  NaN  NaN\n",
       "..                                                ...  ...  ...\n",
       "95  https://www.reuters.com/places/africa/article/...  NaN  NaN\n",
       "96  https://www.reuters.com/places/africa/article/...  NaN  NaN\n",
       "97  https://www.reuters.com/places/africa/article/...  NaN  NaN\n",
       "98  https://www.reuters.com/places/africa/article/...  NaN  NaN\n",
       "99  https://www.reuters.com/places/africa/article/...  NaN  NaN\n",
       "\n",
       "[100 rows x 3 columns]"
      ]
     },
     "execution_count": 162,
     "metadata": {},
     "output_type": "execute_result"
    }
   ],
   "source": [
    "df.head(100)"
   ]
  },
  {
   "cell_type": "code",
   "execution_count": 199,
   "metadata": {},
   "outputs": [
    {
     "name": "stdout",
     "output_type": "stream",
     "text": [
      "<class 'pandas.core.frame.DataFrame'>\n",
      "RangeIndex: 276 entries, 0 to 275\n",
      "Data columns (total 3 columns):\n",
      " #   Column  Non-Null Count  Dtype \n",
      "---  ------  --------------  ----- \n",
      " 0   0       276 non-null    object\n",
      " 1   Text    0 non-null      object\n",
      " 2   Word    0 non-null      object\n",
      "dtypes: object(3)\n",
      "memory usage: 6.6+ KB\n"
     ]
    }
   ],
   "source": [
    "df.info()"
   ]
  },
  {
   "cell_type": "code",
   "execution_count": 164,
   "metadata": {},
   "outputs": [
    {
     "data": {
      "text/html": [
       "<div>\n",
       "<style scoped>\n",
       "    .dataframe tbody tr th:only-of-type {\n",
       "        vertical-align: middle;\n",
       "    }\n",
       "\n",
       "    .dataframe tbody tr th {\n",
       "        vertical-align: top;\n",
       "    }\n",
       "\n",
       "    .dataframe thead th {\n",
       "        text-align: right;\n",
       "    }\n",
       "</style>\n",
       "<table border=\"1\" class=\"dataframe\">\n",
       "  <thead>\n",
       "    <tr style=\"text-align: right;\">\n",
       "      <th></th>\n",
       "      <th>0</th>\n",
       "      <th>Text</th>\n",
       "      <th>Word</th>\n",
       "    </tr>\n",
       "  </thead>\n",
       "  <tbody>\n",
       "    <tr>\n",
       "      <th>174</th>\n",
       "      <td>https://www.reuters.com/places/japan/article/u...</td>\n",
       "      <td>NaN</td>\n",
       "      <td>NaN</td>\n",
       "    </tr>\n",
       "    <tr>\n",
       "      <th>175</th>\n",
       "      <td>https://www.reuters.com/places/japan/article/u...</td>\n",
       "      <td>NaN</td>\n",
       "      <td>NaN</td>\n",
       "    </tr>\n",
       "    <tr>\n",
       "      <th>176</th>\n",
       "      <td>https://www.reuters.com/places/japan/article/u...</td>\n",
       "      <td>NaN</td>\n",
       "      <td>NaN</td>\n",
       "    </tr>\n",
       "    <tr>\n",
       "      <th>177</th>\n",
       "      <td>https://www.reuters.com/places/japan/article/u...</td>\n",
       "      <td>NaN</td>\n",
       "      <td>NaN</td>\n",
       "    </tr>\n",
       "    <tr>\n",
       "      <th>178</th>\n",
       "      <td>https://www.reuters.com/places/japan/article/u...</td>\n",
       "      <td>NaN</td>\n",
       "      <td>NaN</td>\n",
       "    </tr>\n",
       "  </tbody>\n",
       "</table>\n",
       "</div>"
      ],
      "text/plain": [
       "                                                     0 Text Word\n",
       "174  https://www.reuters.com/places/japan/article/u...  NaN  NaN\n",
       "175  https://www.reuters.com/places/japan/article/u...  NaN  NaN\n",
       "176  https://www.reuters.com/places/japan/article/u...  NaN  NaN\n",
       "177  https://www.reuters.com/places/japan/article/u...  NaN  NaN\n",
       "178  https://www.reuters.com/places/japan/article/u...  NaN  NaN"
      ]
     },
     "execution_count": 164,
     "metadata": {},
     "output_type": "execute_result"
    }
   ],
   "source": [
    "df.tail()"
   ]
  },
  {
   "cell_type": "code",
   "execution_count": 156,
   "metadata": {},
   "outputs": [
    {
     "name": "stdout",
     "output_type": "stream",
     "text": [
      "\n"
     ]
    }
   ],
   "source": [
    "print(url2)"
   ]
  },
  {
   "cell_type": "code",
   "execution_count": 221,
   "metadata": {},
   "outputs": [],
   "source": [
    "df.to_csv('C:/Curso-ML-1/project/source-reuters.csv')"
   ]
  },
  {
   "cell_type": "code",
   "execution_count": 222,
   "metadata": {},
   "outputs": [
    {
     "ename": "NameError",
     "evalue": "name 'df1' is not defined",
     "output_type": "error",
     "traceback": [
      "\u001b[1;31m---------------------------------------------------------------------------\u001b[0m",
      "\u001b[1;31mNameError\u001b[0m                                 Traceback (most recent call last)",
      "\u001b[1;32m<ipython-input-222-83941e9879da>\u001b[0m in \u001b[0;36m<module>\u001b[1;34m\u001b[0m\n\u001b[1;32m----> 1\u001b[1;33m \u001b[0mdf1\u001b[0m\u001b[1;33m.\u001b[0m\u001b[0minfo\u001b[0m\u001b[1;33m(\u001b[0m\u001b[1;33m)\u001b[0m\u001b[1;33m\u001b[0m\u001b[1;33m\u001b[0m\u001b[0m\n\u001b[0m",
      "\u001b[1;31mNameError\u001b[0m: name 'df1' is not defined"
     ]
    }
   ],
   "source": [
    "df1.info()"
   ]
  },
  {
   "cell_type": "code",
   "execution_count": null,
   "metadata": {},
   "outputs": [],
   "source": []
  }
 ],
 "metadata": {
  "kernelspec": {
   "display_name": "Python 3",
   "language": "python",
   "name": "python3"
  },
  "language_info": {
   "codemirror_mode": {
    "name": "ipython",
    "version": 3
   },
   "file_extension": ".py",
   "mimetype": "text/x-python",
   "name": "python",
   "nbconvert_exporter": "python",
   "pygments_lexer": "ipython3",
   "version": "3.7.6"
  }
 },
 "nbformat": 4,
 "nbformat_minor": 4
}
