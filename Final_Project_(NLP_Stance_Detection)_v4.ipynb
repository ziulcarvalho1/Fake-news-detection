{
  "nbformat": 4,
  "nbformat_minor": 0,
  "metadata": {
    "colab": {
      "name": "Final Project (NLP - Stance Detection) v2.ipynb",
      "provenance": [],
      "collapsed_sections": [
        "oz8L7RvlrA-8"
      ],
      "toc_visible": true,
      "machine_shape": "hm"
    },
    "kernelspec": {
      "name": "python3",
      "display_name": "Python 3"
    }
  },
  "cells": [
    {
      "cell_type": "code",
      "metadata": {
        "id": "NPxoNcuWnWr9",
        "colab_type": "code",
        "outputId": "15f70d08-d295-4ae9-c92d-fef80673382b",
        "colab": {
          "base_uri": "https://localhost:8080/",
          "height": 51
        }
      },
      "source": [
        "# load required packages\n",
        "import pandas as pd\n",
        "import numpy as np\n",
        "%matplotlib inline\n",
        "%config InlineBackend.figure_format = 'svg'\n",
        "from matplotlib import pyplot as plt \n",
        "plt.rcParams['figure.dpi'] = 100\n",
        "import seaborn as sns \n",
        "sns.set_style(\"whitegrid\")"
      ],
      "execution_count": 0,
      "outputs": [
        {
          "output_type": "stream",
          "text": [
            "/usr/local/lib/python3.6/dist-packages/statsmodels/tools/_testing.py:19: FutureWarning: pandas.util.testing is deprecated. Use the functions in the public API at pandas.testing instead.\n",
            "  import pandas.util.testing as tm\n"
          ],
          "name": "stderr"
        }
      ]
    },
    {
      "cell_type": "code",
      "metadata": {
        "id": "O_t3ggyQnpL4",
        "colab_type": "code",
        "colab": {}
      },
      "source": [
        "# filter warnings on depreciation etc.\n",
        "import warnings \n",
        "warnings.filterwarnings(\"ignore\")"
      ],
      "execution_count": 0,
      "outputs": []
    },
    {
      "cell_type": "code",
      "metadata": {
        "id": "tmc5EFfRnzK8",
        "colab_type": "code",
        "colab": {}
      },
      "source": [
        "# code to read csv file into Colaboratory:\n",
        "!pip install -U -q PyDrive\n",
        "from pydrive.auth import GoogleAuth\n",
        "from pydrive.drive import GoogleDrive\n",
        "from google.colab import auth\n",
        "from oauth2client.client import GoogleCredentials\n",
        "# Authenticate and create the PyDrive client.\n",
        "auth.authenticate_user()\n",
        "gauth = GoogleAuth()\n",
        "gauth.credentials = GoogleCredentials.get_application_default()\n",
        "drive = GoogleDrive(gauth)"
      ],
      "execution_count": 0,
      "outputs": []
    },
    {
      "cell_type": "markdown",
      "metadata": {
        "id": "AB_FeeV8q8jk",
        "colab_type": "text"
      },
      "source": [
        "### Loading Data Sets"
      ]
    },
    {
      "cell_type": "code",
      "metadata": {
        "id": "mFgMTJXyn2Tk",
        "colab_type": "code",
        "colab": {}
      },
      "source": [
        "# load articleBody test data set\n",
        "link = 'https://drive.google.com/open?id=1R8znLn0TJScdrnhJRTT-kHOHIVewwTlO' # The shareable link\n",
        "fluff, id = link.split('=')\n",
        "# loading bodies dataset\n",
        "downloaded = drive.CreateFile({'id':id}) \n",
        "downloaded.GetContentFile('Filename.csv')  \n",
        "data_train_bodies = pd.read_csv('Filename.csv')\n",
        "# Dataset is now stored in a Pandas Dataframe"
      ],
      "execution_count": 0,
      "outputs": []
    },
    {
      "cell_type": "code",
      "metadata": {
        "id": "IZsX5LN2oDh6",
        "colab_type": "code",
        "outputId": "1fdf8f87-a21b-41c4-9ca7-95f0fba37ce9",
        "colab": {
          "base_uri": "https://localhost:8080/",
          "height": 204
        }
      },
      "source": [
        "# check first five rows\n",
        "data_train_bodies.head()"
      ],
      "execution_count": 0,
      "outputs": [
        {
          "output_type": "execute_result",
          "data": {
            "text/html": [
              "<div>\n",
              "<style scoped>\n",
              "    .dataframe tbody tr th:only-of-type {\n",
              "        vertical-align: middle;\n",
              "    }\n",
              "\n",
              "    .dataframe tbody tr th {\n",
              "        vertical-align: top;\n",
              "    }\n",
              "\n",
              "    .dataframe thead th {\n",
              "        text-align: right;\n",
              "    }\n",
              "</style>\n",
              "<table border=\"1\" class=\"dataframe\">\n",
              "  <thead>\n",
              "    <tr style=\"text-align: right;\">\n",
              "      <th></th>\n",
              "      <th>Body ID</th>\n",
              "      <th>articleBody</th>\n",
              "    </tr>\n",
              "  </thead>\n",
              "  <tbody>\n",
              "    <tr>\n",
              "      <th>0</th>\n",
              "      <td>0</td>\n",
              "      <td>A small meteorite crashed into a wooded area i...</td>\n",
              "    </tr>\n",
              "    <tr>\n",
              "      <th>1</th>\n",
              "      <td>4</td>\n",
              "      <td>Last week we hinted at what was to come as Ebo...</td>\n",
              "    </tr>\n",
              "    <tr>\n",
              "      <th>2</th>\n",
              "      <td>5</td>\n",
              "      <td>(NEWSER) – Wonder how long a Quarter Pounder w...</td>\n",
              "    </tr>\n",
              "    <tr>\n",
              "      <th>3</th>\n",
              "      <td>6</td>\n",
              "      <td>Posting photos of a gun-toting child online, I...</td>\n",
              "    </tr>\n",
              "    <tr>\n",
              "      <th>4</th>\n",
              "      <td>7</td>\n",
              "      <td>At least 25 suspected Boko Haram insurgents we...</td>\n",
              "    </tr>\n",
              "  </tbody>\n",
              "</table>\n",
              "</div>"
            ],
            "text/plain": [
              "   Body ID                                        articleBody\n",
              "0        0  A small meteorite crashed into a wooded area i...\n",
              "1        4  Last week we hinted at what was to come as Ebo...\n",
              "2        5  (NEWSER) – Wonder how long a Quarter Pounder w...\n",
              "3        6  Posting photos of a gun-toting child online, I...\n",
              "4        7  At least 25 suspected Boko Haram insurgents we..."
            ]
          },
          "metadata": {
            "tags": []
          },
          "execution_count": 40
        }
      ]
    },
    {
      "cell_type": "code",
      "metadata": {
        "id": "g0l1mRHPpQC9",
        "colab_type": "code",
        "colab": {}
      },
      "source": [
        "# load Headline test data set\n",
        "link = 'https://drive.google.com/open?id=1FNFwunCI9ubhHMlHhqyzWZE1jht43wN_' # The shareable link\n",
        "fluff, id = link.split('=')\n",
        "# loading stances dataset\n",
        "downloaded = drive.CreateFile({'id':id}) \n",
        "downloaded.GetContentFile('Filename.csv')  \n",
        "data_train_headlines = pd.read_csv('Filename.csv')\n",
        "# Dataset is now stored in a Pandas Dataframe"
      ],
      "execution_count": 0,
      "outputs": []
    },
    {
      "cell_type": "code",
      "metadata": {
        "id": "NhgdCrTwqLqU",
        "colab_type": "code",
        "outputId": "a0cb64ab-6878-45ac-936d-1b3b37e2549d",
        "colab": {
          "base_uri": "https://localhost:8080/",
          "height": 204
        }
      },
      "source": [
        "# check first five rows\n",
        "data_train_headlines.head()"
      ],
      "execution_count": 0,
      "outputs": [
        {
          "output_type": "execute_result",
          "data": {
            "text/html": [
              "<div>\n",
              "<style scoped>\n",
              "    .dataframe tbody tr th:only-of-type {\n",
              "        vertical-align: middle;\n",
              "    }\n",
              "\n",
              "    .dataframe tbody tr th {\n",
              "        vertical-align: top;\n",
              "    }\n",
              "\n",
              "    .dataframe thead th {\n",
              "        text-align: right;\n",
              "    }\n",
              "</style>\n",
              "<table border=\"1\" class=\"dataframe\">\n",
              "  <thead>\n",
              "    <tr style=\"text-align: right;\">\n",
              "      <th></th>\n",
              "      <th>Headline</th>\n",
              "      <th>Body ID</th>\n",
              "      <th>Stance</th>\n",
              "    </tr>\n",
              "  </thead>\n",
              "  <tbody>\n",
              "    <tr>\n",
              "      <th>0</th>\n",
              "      <td>Police find mass graves with at least '15 bodi...</td>\n",
              "      <td>712</td>\n",
              "      <td>unrelated</td>\n",
              "    </tr>\n",
              "    <tr>\n",
              "      <th>1</th>\n",
              "      <td>Hundreds of Palestinians flee floods in Gaza a...</td>\n",
              "      <td>158</td>\n",
              "      <td>agree</td>\n",
              "    </tr>\n",
              "    <tr>\n",
              "      <th>2</th>\n",
              "      <td>Christian Bale passes on role of Steve Jobs, a...</td>\n",
              "      <td>137</td>\n",
              "      <td>unrelated</td>\n",
              "    </tr>\n",
              "    <tr>\n",
              "      <th>3</th>\n",
              "      <td>HBO and Apple in Talks for $15/Month Apple TV ...</td>\n",
              "      <td>1034</td>\n",
              "      <td>unrelated</td>\n",
              "    </tr>\n",
              "    <tr>\n",
              "      <th>4</th>\n",
              "      <td>Spider burrowed through tourist's stomach and ...</td>\n",
              "      <td>1923</td>\n",
              "      <td>disagree</td>\n",
              "    </tr>\n",
              "  </tbody>\n",
              "</table>\n",
              "</div>"
            ],
            "text/plain": [
              "                                            Headline  Body ID     Stance\n",
              "0  Police find mass graves with at least '15 bodi...      712  unrelated\n",
              "1  Hundreds of Palestinians flee floods in Gaza a...      158      agree\n",
              "2  Christian Bale passes on role of Steve Jobs, a...      137  unrelated\n",
              "3  HBO and Apple in Talks for $15/Month Apple TV ...     1034  unrelated\n",
              "4  Spider burrowed through tourist's stomach and ...     1923   disagree"
            ]
          },
          "metadata": {
            "tags": []
          },
          "execution_count": 42
        }
      ]
    },
    {
      "cell_type": "code",
      "metadata": {
        "id": "TrJPoLKLqWMi",
        "colab_type": "code",
        "outputId": "bcf5f400-8b17-4043-ce61-cebf6c75dce9",
        "colab": {
          "base_uri": "https://localhost:8080/",
          "height": 34
        }
      },
      "source": [
        "# set up pregress bar\n",
        "from IPython.display import HTML, display\n",
        "import time\n",
        "\n",
        "def progress(value, max=100):\n",
        "    return HTML(\"\"\"\n",
        "        <progress\n",
        "            value='{value}'\n",
        "            max='{max}',\n",
        "            style='width: 100%'\n",
        "        >\n",
        "            {value}\n",
        "        </progress>\n",
        "    \"\"\".format(value=value, max=max))\n",
        "\n",
        "out = display(progress(0, 100), display_id=True)"
      ],
      "execution_count": 0,
      "outputs": [
        {
          "output_type": "display_data",
          "data": {
            "text/html": [
              "\n",
              "        <progress\n",
              "            value='0'\n",
              "            max='100',\n",
              "            style='width: 100%'\n",
              "        >\n",
              "            0\n",
              "        </progress>\n",
              "    "
            ],
            "text/plain": [
              "<IPython.core.display.HTML object>"
            ]
          },
          "metadata": {
            "tags": []
          }
        }
      ]
    },
    {
      "cell_type": "markdown",
      "metadata": {
        "id": "oz8L7RvlrA-8",
        "colab_type": "text"
      },
      "source": [
        "### Basic Properties of the Data Sets"
      ]
    },
    {
      "cell_type": "code",
      "metadata": {
        "id": "ouqeoEP7rFCr",
        "colab_type": "code",
        "outputId": "f1ac3902-d184-4d41-95f4-1e33cee01eaa",
        "colab": {
          "base_uri": "https://localhost:8080/",
          "height": 170
        }
      },
      "source": [
        "# train articleBody data has 1683 records \n",
        "data_train_bodies.info()"
      ],
      "execution_count": 0,
      "outputs": [
        {
          "output_type": "stream",
          "text": [
            "<class 'pandas.core.frame.DataFrame'>\n",
            "RangeIndex: 1683 entries, 0 to 1682\n",
            "Data columns (total 2 columns):\n",
            " #   Column       Non-Null Count  Dtype \n",
            "---  ------       --------------  ----- \n",
            " 0   Body ID      1683 non-null   int64 \n",
            " 1   articleBody  1683 non-null   object\n",
            "dtypes: int64(1), object(1)\n",
            "memory usage: 26.4+ KB\n"
          ],
          "name": "stdout"
        }
      ]
    },
    {
      "cell_type": "code",
      "metadata": {
        "id": "9rZ1qJIgsLgw",
        "colab_type": "code",
        "outputId": "730888e8-cad5-4296-b350-a88dc5c45e57",
        "colab": {
          "base_uri": "https://localhost:8080/",
          "height": 34
        }
      },
      "source": [
        "# train articleBody has 2 columns Body ID - unique IDs, articleBody - contains full news article text \n",
        "data_train_bodies.columns"
      ],
      "execution_count": 0,
      "outputs": [
        {
          "output_type": "execute_result",
          "data": {
            "text/plain": [
              "Index(['Body ID', 'articleBody'], dtype='object')"
            ]
          },
          "metadata": {
            "tags": []
          },
          "execution_count": 16
        }
      ]
    },
    {
      "cell_type": "code",
      "metadata": {
        "id": "MBsbWOCIrNe6",
        "colab_type": "code",
        "outputId": "00901f49-9f77-4d0f-b34e-1034a784c0af",
        "colab": {
          "base_uri": "https://localhost:8080/",
          "height": 187
        }
      },
      "source": [
        "# train Headline data has 49972 records \n",
        "data_train_headlines.info()"
      ],
      "execution_count": 0,
      "outputs": [
        {
          "output_type": "stream",
          "text": [
            "<class 'pandas.core.frame.DataFrame'>\n",
            "RangeIndex: 49972 entries, 0 to 49971\n",
            "Data columns (total 3 columns):\n",
            " #   Column    Non-Null Count  Dtype \n",
            "---  ------    --------------  ----- \n",
            " 0   Headline  49972 non-null  object\n",
            " 1   Body ID   49972 non-null  int64 \n",
            " 2   Stance    49972 non-null  object\n",
            "dtypes: int64(1), object(2)\n",
            "memory usage: 1.1+ MB\n"
          ],
          "name": "stdout"
        }
      ]
    },
    {
      "cell_type": "code",
      "metadata": {
        "id": "VawLAEVcsh_B",
        "colab_type": "code",
        "outputId": "02f18dc8-302e-4c78-d75b-035c6117fc33",
        "colab": {
          "base_uri": "https://localhost:8080/",
          "height": 34
        }
      },
      "source": [
        "# train Headline has 3 columns Headline contains article titles, Body ID - unique IDs, Stance contains our target labels\n",
        "data_train_headlines.columns"
      ],
      "execution_count": 0,
      "outputs": [
        {
          "output_type": "execute_result",
          "data": {
            "text/plain": [
              "Index(['Headline', 'Body ID', 'Stance'], dtype='object')"
            ]
          },
          "metadata": {
            "tags": []
          },
          "execution_count": 18
        }
      ]
    },
    {
      "cell_type": "code",
      "metadata": {
        "id": "5V7OiUTWrXqY",
        "colab_type": "code",
        "outputId": "64eb74dd-6bca-4922-b2f6-72b5354ca82b",
        "colab": {
          "base_uri": "https://localhost:8080/",
          "height": 34
        }
      },
      "source": [
        "# train Headline data has 4 unique stances/labes: unrelated, agree, disagree, discuss\n",
        "data_train_headlines['Stance'].unique()"
      ],
      "execution_count": 0,
      "outputs": [
        {
          "output_type": "execute_result",
          "data": {
            "text/plain": [
              "array(['unrelated', 'agree', 'disagree', 'discuss'], dtype=object)"
            ]
          },
          "metadata": {
            "tags": []
          },
          "execution_count": 15
        }
      ]
    },
    {
      "cell_type": "code",
      "metadata": {
        "id": "ERIRZsgHtW1c",
        "colab_type": "code",
        "colab": {}
      },
      "source": [
        "# group stances to use them in plot\n",
        "df_cat = data_train_headlines.groupby('Stance').agg({'Headline': pd.Series.count}).sort_values('Headline', ascending=False) "
      ],
      "execution_count": 0,
      "outputs": []
    },
    {
      "cell_type": "code",
      "metadata": {
        "id": "_LCmBuYetppx",
        "colab_type": "code",
        "outputId": "b1454858-8f5b-4d0c-e801-ff970e6670ba",
        "colab": {
          "base_uri": "https://localhost:8080/",
          "height": 446
        }
      },
      "source": [
        "# check distribution of data lables\n",
        "import matplotlib.pyplot as plt\n",
        "fig = plt.figure()\n",
        "ax = fig.add_axes([0,0,1,1])\n",
        "ax.bar(df_cat.index,df_cat['Headline'])\n",
        "plt.show()"
      ],
      "execution_count": 0,
      "outputs": [
        {
          "output_type": "display_data",
          "data": {
            "text/plain": [
              "<Figure size 600x400 with 1 Axes>"
            ],
            "image/svg+xml": "<?xml version=\"1.0\" encoding=\"utf-8\" standalone=\"no\"?>\n<!DOCTYPE svg PUBLIC \"-//W3C//DTD SVG 1.1//EN\"\n  \"http://www.w3.org/Graphics/SVG/1.1/DTD/svg11.dtd\">\n<!-- Created with matplotlib (https://matplotlib.org/) -->\n<svg height=\"319.078125pt\" version=\"1.1\" viewBox=\"0 0 485.2125 319.078125\" width=\"485.2125pt\" xmlns=\"http://www.w3.org/2000/svg\" xmlns:xlink=\"http://www.w3.org/1999/xlink\">\n <defs>\n  <style type=\"text/css\">\n*{stroke-linecap:butt;stroke-linejoin:round;}\n  </style>\n </defs>\n <g id=\"figure_1\">\n  <g id=\"patch_1\">\n   <path d=\"M 0 319.078125 \nL 485.2125 319.078125 \nL 485.2125 0 \nL 0 0 \nz\n\" style=\"fill:#ffffff;\"/>\n  </g>\n  <g id=\"axes_1\">\n   <g id=\"patch_2\">\n    <path d=\"M 46.0125 295.2 \nL 478.0125 295.2 \nL 478.0125 7.2 \nL 46.0125 7.2 \nz\n\" style=\"fill:#ffffff;\"/>\n   </g>\n   <g id=\"matplotlib.axis_1\">\n    <g id=\"xtick_1\">\n     <g id=\"line2d_1\">\n      <path clip-path=\"url(#p4dad92095a)\" d=\"M 106.988577 295.2 \nL 106.988577 7.2 \n\" style=\"fill:none;stroke:#cccccc;stroke-linecap:round;stroke-width:0.8;\"/>\n     </g>\n     <g id=\"text_1\">\n      <!-- unrelated -->\n      <defs>\n       <path d=\"M 8.5 21.578125 \nL 8.5 54.6875 \nL 17.484375 54.6875 \nL 17.484375 21.921875 \nQ 17.484375 14.15625 20.5 10.265625 \nQ 23.53125 6.390625 29.59375 6.390625 \nQ 36.859375 6.390625 41.078125 11.03125 \nQ 45.3125 15.671875 45.3125 23.6875 \nL 45.3125 54.6875 \nL 54.296875 54.6875 \nL 54.296875 0 \nL 45.3125 0 \nL 45.3125 8.40625 \nQ 42.046875 3.421875 37.71875 1 \nQ 33.40625 -1.421875 27.6875 -1.421875 \nQ 18.265625 -1.421875 13.375 4.4375 \nQ 8.5 10.296875 8.5 21.578125 \nz\nM 31.109375 56 \nz\n\" id=\"DejaVuSans-117\"/>\n       <path d=\"M 54.890625 33.015625 \nL 54.890625 0 \nL 45.90625 0 \nL 45.90625 32.71875 \nQ 45.90625 40.484375 42.875 44.328125 \nQ 39.84375 48.1875 33.796875 48.1875 \nQ 26.515625 48.1875 22.3125 43.546875 \nQ 18.109375 38.921875 18.109375 30.90625 \nL 18.109375 0 \nL 9.078125 0 \nL 9.078125 54.6875 \nL 18.109375 54.6875 \nL 18.109375 46.1875 \nQ 21.34375 51.125 25.703125 53.5625 \nQ 30.078125 56 35.796875 56 \nQ 45.21875 56 50.046875 50.171875 \nQ 54.890625 44.34375 54.890625 33.015625 \nz\n\" id=\"DejaVuSans-110\"/>\n       <path d=\"M 41.109375 46.296875 \nQ 39.59375 47.171875 37.8125 47.578125 \nQ 36.03125 48 33.890625 48 \nQ 26.265625 48 22.1875 43.046875 \nQ 18.109375 38.09375 18.109375 28.8125 \nL 18.109375 0 \nL 9.078125 0 \nL 9.078125 54.6875 \nL 18.109375 54.6875 \nL 18.109375 46.1875 \nQ 20.953125 51.171875 25.484375 53.578125 \nQ 30.03125 56 36.53125 56 \nQ 37.453125 56 38.578125 55.875 \nQ 39.703125 55.765625 41.0625 55.515625 \nz\n\" id=\"DejaVuSans-114\"/>\n       <path d=\"M 56.203125 29.59375 \nL 56.203125 25.203125 \nL 14.890625 25.203125 \nQ 15.484375 15.921875 20.484375 11.0625 \nQ 25.484375 6.203125 34.421875 6.203125 \nQ 39.59375 6.203125 44.453125 7.46875 \nQ 49.3125 8.734375 54.109375 11.28125 \nL 54.109375 2.78125 \nQ 49.265625 0.734375 44.1875 -0.34375 \nQ 39.109375 -1.421875 33.890625 -1.421875 \nQ 20.796875 -1.421875 13.15625 6.1875 \nQ 5.515625 13.8125 5.515625 26.8125 \nQ 5.515625 40.234375 12.765625 48.109375 \nQ 20.015625 56 32.328125 56 \nQ 43.359375 56 49.78125 48.890625 \nQ 56.203125 41.796875 56.203125 29.59375 \nz\nM 47.21875 32.234375 \nQ 47.125 39.59375 43.09375 43.984375 \nQ 39.0625 48.390625 32.421875 48.390625 \nQ 24.90625 48.390625 20.390625 44.140625 \nQ 15.875 39.890625 15.1875 32.171875 \nz\n\" id=\"DejaVuSans-101\"/>\n       <path d=\"M 9.421875 75.984375 \nL 18.40625 75.984375 \nL 18.40625 0 \nL 9.421875 0 \nz\n\" id=\"DejaVuSans-108\"/>\n       <path d=\"M 34.28125 27.484375 \nQ 23.390625 27.484375 19.1875 25 \nQ 14.984375 22.515625 14.984375 16.5 \nQ 14.984375 11.71875 18.140625 8.90625 \nQ 21.296875 6.109375 26.703125 6.109375 \nQ 34.1875 6.109375 38.703125 11.40625 \nQ 43.21875 16.703125 43.21875 25.484375 \nL 43.21875 27.484375 \nz\nM 52.203125 31.203125 \nL 52.203125 0 \nL 43.21875 0 \nL 43.21875 8.296875 \nQ 40.140625 3.328125 35.546875 0.953125 \nQ 30.953125 -1.421875 24.3125 -1.421875 \nQ 15.921875 -1.421875 10.953125 3.296875 \nQ 6 8.015625 6 15.921875 \nQ 6 25.140625 12.171875 29.828125 \nQ 18.359375 34.515625 30.609375 34.515625 \nL 43.21875 34.515625 \nL 43.21875 35.40625 \nQ 43.21875 41.609375 39.140625 45 \nQ 35.0625 48.390625 27.6875 48.390625 \nQ 23 48.390625 18.546875 47.265625 \nQ 14.109375 46.140625 10.015625 43.890625 \nL 10.015625 52.203125 \nQ 14.9375 54.109375 19.578125 55.046875 \nQ 24.21875 56 28.609375 56 \nQ 40.484375 56 46.34375 49.84375 \nQ 52.203125 43.703125 52.203125 31.203125 \nz\n\" id=\"DejaVuSans-97\"/>\n       <path d=\"M 18.3125 70.21875 \nL 18.3125 54.6875 \nL 36.8125 54.6875 \nL 36.8125 47.703125 \nL 18.3125 47.703125 \nL 18.3125 18.015625 \nQ 18.3125 11.328125 20.140625 9.421875 \nQ 21.96875 7.515625 27.59375 7.515625 \nL 36.8125 7.515625 \nL 36.8125 0 \nL 27.59375 0 \nQ 17.1875 0 13.234375 3.875 \nQ 9.28125 7.765625 9.28125 18.015625 \nL 9.28125 47.703125 \nL 2.6875 47.703125 \nL 2.6875 54.6875 \nL 9.28125 54.6875 \nL 9.28125 70.21875 \nz\n\" id=\"DejaVuSans-116\"/>\n       <path d=\"M 45.40625 46.390625 \nL 45.40625 75.984375 \nL 54.390625 75.984375 \nL 54.390625 0 \nL 45.40625 0 \nL 45.40625 8.203125 \nQ 42.578125 3.328125 38.25 0.953125 \nQ 33.9375 -1.421875 27.875 -1.421875 \nQ 17.96875 -1.421875 11.734375 6.484375 \nQ 5.515625 14.40625 5.515625 27.296875 \nQ 5.515625 40.1875 11.734375 48.09375 \nQ 17.96875 56 27.875 56 \nQ 33.9375 56 38.25 53.625 \nQ 42.578125 51.265625 45.40625 46.390625 \nz\nM 14.796875 27.296875 \nQ 14.796875 17.390625 18.875 11.75 \nQ 22.953125 6.109375 30.078125 6.109375 \nQ 37.203125 6.109375 41.296875 11.75 \nQ 45.40625 17.390625 45.40625 27.296875 \nQ 45.40625 37.203125 41.296875 42.84375 \nQ 37.203125 48.484375 30.078125 48.484375 \nQ 22.953125 48.484375 18.875 42.84375 \nQ 14.796875 37.203125 14.796875 27.296875 \nz\n\" id=\"DejaVuSans-100\"/>\n      </defs>\n      <g style=\"fill:#262626;\" transform=\"translate(82.967483 309.798437)scale(0.1 -0.1)\">\n       <use xlink:href=\"#DejaVuSans-117\"/>\n       <use x=\"63.378906\" xlink:href=\"#DejaVuSans-110\"/>\n       <use x=\"126.757812\" xlink:href=\"#DejaVuSans-114\"/>\n       <use x=\"165.621094\" xlink:href=\"#DejaVuSans-101\"/>\n       <use x=\"227.144531\" xlink:href=\"#DejaVuSans-108\"/>\n       <use x=\"254.927734\" xlink:href=\"#DejaVuSans-97\"/>\n       <use x=\"316.207031\" xlink:href=\"#DejaVuSans-116\"/>\n       <use x=\"355.416016\" xlink:href=\"#DejaVuSans-101\"/>\n       <use x=\"416.939453\" xlink:href=\"#DejaVuSans-100\"/>\n      </g>\n     </g>\n    </g>\n    <g id=\"xtick_2\">\n     <g id=\"line2d_2\">\n      <path clip-path=\"url(#p4dad92095a)\" d=\"M 210.337859 295.2 \nL 210.337859 7.2 \n\" style=\"fill:none;stroke:#cccccc;stroke-linecap:round;stroke-width:0.8;\"/>\n     </g>\n     <g id=\"text_2\">\n      <!-- discuss -->\n      <defs>\n       <path d=\"M 9.421875 54.6875 \nL 18.40625 54.6875 \nL 18.40625 0 \nL 9.421875 0 \nz\nM 9.421875 75.984375 \nL 18.40625 75.984375 \nL 18.40625 64.59375 \nL 9.421875 64.59375 \nz\n\" id=\"DejaVuSans-105\"/>\n       <path d=\"M 44.28125 53.078125 \nL 44.28125 44.578125 \nQ 40.484375 46.53125 36.375 47.5 \nQ 32.28125 48.484375 27.875 48.484375 \nQ 21.1875 48.484375 17.84375 46.4375 \nQ 14.5 44.390625 14.5 40.28125 \nQ 14.5 37.15625 16.890625 35.375 \nQ 19.28125 33.59375 26.515625 31.984375 \nL 29.59375 31.296875 \nQ 39.15625 29.25 43.1875 25.515625 \nQ 47.21875 21.78125 47.21875 15.09375 \nQ 47.21875 7.46875 41.1875 3.015625 \nQ 35.15625 -1.421875 24.609375 -1.421875 \nQ 20.21875 -1.421875 15.453125 -0.5625 \nQ 10.6875 0.296875 5.421875 2 \nL 5.421875 11.28125 \nQ 10.40625 8.6875 15.234375 7.390625 \nQ 20.0625 6.109375 24.8125 6.109375 \nQ 31.15625 6.109375 34.5625 8.28125 \nQ 37.984375 10.453125 37.984375 14.40625 \nQ 37.984375 18.0625 35.515625 20.015625 \nQ 33.0625 21.96875 24.703125 23.78125 \nL 21.578125 24.515625 \nQ 13.234375 26.265625 9.515625 29.90625 \nQ 5.8125 33.546875 5.8125 39.890625 \nQ 5.8125 47.609375 11.28125 51.796875 \nQ 16.75 56 26.8125 56 \nQ 31.78125 56 36.171875 55.265625 \nQ 40.578125 54.546875 44.28125 53.078125 \nz\n\" id=\"DejaVuSans-115\"/>\n       <path d=\"M 48.78125 52.59375 \nL 48.78125 44.1875 \nQ 44.96875 46.296875 41.140625 47.34375 \nQ 37.3125 48.390625 33.40625 48.390625 \nQ 24.65625 48.390625 19.8125 42.84375 \nQ 14.984375 37.3125 14.984375 27.296875 \nQ 14.984375 17.28125 19.8125 11.734375 \nQ 24.65625 6.203125 33.40625 6.203125 \nQ 37.3125 6.203125 41.140625 7.25 \nQ 44.96875 8.296875 48.78125 10.40625 \nL 48.78125 2.09375 \nQ 45.015625 0.34375 40.984375 -0.53125 \nQ 36.96875 -1.421875 32.421875 -1.421875 \nQ 20.0625 -1.421875 12.78125 6.34375 \nQ 5.515625 14.109375 5.515625 27.296875 \nQ 5.515625 40.671875 12.859375 48.328125 \nQ 20.21875 56 33.015625 56 \nQ 37.15625 56 41.109375 55.140625 \nQ 45.0625 54.296875 48.78125 52.59375 \nz\n\" id=\"DejaVuSans-99\"/>\n      </defs>\n      <g style=\"fill:#262626;\" transform=\"translate(192.042546 309.798437)scale(0.1 -0.1)\">\n       <use xlink:href=\"#DejaVuSans-100\"/>\n       <use x=\"63.476562\" xlink:href=\"#DejaVuSans-105\"/>\n       <use x=\"91.259766\" xlink:href=\"#DejaVuSans-115\"/>\n       <use x=\"143.359375\" xlink:href=\"#DejaVuSans-99\"/>\n       <use x=\"198.339844\" xlink:href=\"#DejaVuSans-117\"/>\n       <use x=\"261.71875\" xlink:href=\"#DejaVuSans-115\"/>\n       <use x=\"313.818359\" xlink:href=\"#DejaVuSans-115\"/>\n      </g>\n     </g>\n    </g>\n    <g id=\"xtick_3\">\n     <g id=\"line2d_3\">\n      <path clip-path=\"url(#p4dad92095a)\" d=\"M 313.687141 295.2 \nL 313.687141 7.2 \n\" style=\"fill:none;stroke:#cccccc;stroke-linecap:round;stroke-width:0.8;\"/>\n     </g>\n     <g id=\"text_3\">\n      <!-- agree -->\n      <defs>\n       <path d=\"M 45.40625 27.984375 \nQ 45.40625 37.75 41.375 43.109375 \nQ 37.359375 48.484375 30.078125 48.484375 \nQ 22.859375 48.484375 18.828125 43.109375 \nQ 14.796875 37.75 14.796875 27.984375 \nQ 14.796875 18.265625 18.828125 12.890625 \nQ 22.859375 7.515625 30.078125 7.515625 \nQ 37.359375 7.515625 41.375 12.890625 \nQ 45.40625 18.265625 45.40625 27.984375 \nz\nM 54.390625 6.78125 \nQ 54.390625 -7.171875 48.1875 -13.984375 \nQ 42 -20.796875 29.203125 -20.796875 \nQ 24.46875 -20.796875 20.265625 -20.09375 \nQ 16.0625 -19.390625 12.109375 -17.921875 \nL 12.109375 -9.1875 \nQ 16.0625 -11.328125 19.921875 -12.34375 \nQ 23.78125 -13.375 27.78125 -13.375 \nQ 36.625 -13.375 41.015625 -8.765625 \nQ 45.40625 -4.15625 45.40625 5.171875 \nL 45.40625 9.625 \nQ 42.625 4.78125 38.28125 2.390625 \nQ 33.9375 0 27.875 0 \nQ 17.828125 0 11.671875 7.65625 \nQ 5.515625 15.328125 5.515625 27.984375 \nQ 5.515625 40.671875 11.671875 48.328125 \nQ 17.828125 56 27.875 56 \nQ 33.9375 56 38.28125 53.609375 \nQ 42.625 51.21875 45.40625 46.390625 \nL 45.40625 54.6875 \nL 54.390625 54.6875 \nz\n\" id=\"DejaVuSans-103\"/>\n      </defs>\n      <g style=\"fill:#262626;\" transform=\"translate(299.352766 309.798437)scale(0.1 -0.1)\">\n       <use xlink:href=\"#DejaVuSans-97\"/>\n       <use x=\"61.279297\" xlink:href=\"#DejaVuSans-103\"/>\n       <use x=\"124.755859\" xlink:href=\"#DejaVuSans-114\"/>\n       <use x=\"163.619141\" xlink:href=\"#DejaVuSans-101\"/>\n       <use x=\"225.142578\" xlink:href=\"#DejaVuSans-101\"/>\n      </g>\n     </g>\n    </g>\n    <g id=\"xtick_4\">\n     <g id=\"line2d_4\">\n      <path clip-path=\"url(#p4dad92095a)\" d=\"M 417.036423 295.2 \nL 417.036423 7.2 \n\" style=\"fill:none;stroke:#cccccc;stroke-linecap:round;stroke-width:0.8;\"/>\n     </g>\n     <g id=\"text_4\">\n      <!-- disagree -->\n      <g style=\"fill:#262626;\" transform=\"translate(395.53408 309.798437)scale(0.1 -0.1)\">\n       <use xlink:href=\"#DejaVuSans-100\"/>\n       <use x=\"63.476562\" xlink:href=\"#DejaVuSans-105\"/>\n       <use x=\"91.259766\" xlink:href=\"#DejaVuSans-115\"/>\n       <use x=\"143.359375\" xlink:href=\"#DejaVuSans-97\"/>\n       <use x=\"204.638672\" xlink:href=\"#DejaVuSans-103\"/>\n       <use x=\"268.115234\" xlink:href=\"#DejaVuSans-114\"/>\n       <use x=\"306.978516\" xlink:href=\"#DejaVuSans-101\"/>\n       <use x=\"368.501953\" xlink:href=\"#DejaVuSans-101\"/>\n      </g>\n     </g>\n    </g>\n   </g>\n   <g id=\"matplotlib.axis_2\">\n    <g id=\"ytick_1\">\n     <g id=\"line2d_5\">\n      <path clip-path=\"url(#p4dad92095a)\" d=\"M 46.0125 295.2 \nL 478.0125 295.2 \n\" style=\"fill:none;stroke:#cccccc;stroke-linecap:round;stroke-width:0.8;\"/>\n     </g>\n     <g id=\"text_5\">\n      <!-- 0 -->\n      <defs>\n       <path d=\"M 31.78125 66.40625 \nQ 24.171875 66.40625 20.328125 58.90625 \nQ 16.5 51.421875 16.5 36.375 \nQ 16.5 21.390625 20.328125 13.890625 \nQ 24.171875 6.390625 31.78125 6.390625 \nQ 39.453125 6.390625 43.28125 13.890625 \nQ 47.125 21.390625 47.125 36.375 \nQ 47.125 51.421875 43.28125 58.90625 \nQ 39.453125 66.40625 31.78125 66.40625 \nz\nM 31.78125 74.21875 \nQ 44.046875 74.21875 50.515625 64.515625 \nQ 56.984375 54.828125 56.984375 36.375 \nQ 56.984375 17.96875 50.515625 8.265625 \nQ 44.046875 -1.421875 31.78125 -1.421875 \nQ 19.53125 -1.421875 13.0625 8.265625 \nQ 6.59375 17.96875 6.59375 36.375 \nQ 6.59375 54.828125 13.0625 64.515625 \nQ 19.53125 74.21875 31.78125 74.21875 \nz\n\" id=\"DejaVuSans-48\"/>\n      </defs>\n      <g style=\"fill:#262626;\" transform=\"translate(32.65 298.999219)scale(0.1 -0.1)\">\n       <use xlink:href=\"#DejaVuSans-48\"/>\n      </g>\n     </g>\n    </g>\n    <g id=\"ytick_2\">\n     <g id=\"line2d_6\">\n      <path clip-path=\"url(#p4dad92095a)\" d=\"M 46.0125 257.672881 \nL 478.0125 257.672881 \n\" style=\"fill:none;stroke:#cccccc;stroke-linecap:round;stroke-width:0.8;\"/>\n     </g>\n     <g id=\"text_6\">\n      <!-- 5000 -->\n      <defs>\n       <path d=\"M 10.796875 72.90625 \nL 49.515625 72.90625 \nL 49.515625 64.59375 \nL 19.828125 64.59375 \nL 19.828125 46.734375 \nQ 21.96875 47.46875 24.109375 47.828125 \nQ 26.265625 48.1875 28.421875 48.1875 \nQ 40.625 48.1875 47.75 41.5 \nQ 54.890625 34.8125 54.890625 23.390625 \nQ 54.890625 11.625 47.5625 5.09375 \nQ 40.234375 -1.421875 26.90625 -1.421875 \nQ 22.3125 -1.421875 17.546875 -0.640625 \nQ 12.796875 0.140625 7.71875 1.703125 \nL 7.71875 11.625 \nQ 12.109375 9.234375 16.796875 8.0625 \nQ 21.484375 6.890625 26.703125 6.890625 \nQ 35.15625 6.890625 40.078125 11.328125 \nQ 45.015625 15.765625 45.015625 23.390625 \nQ 45.015625 31 40.078125 35.4375 \nQ 35.15625 39.890625 26.703125 39.890625 \nQ 22.75 39.890625 18.8125 39.015625 \nQ 14.890625 38.140625 10.796875 36.28125 \nz\n\" id=\"DejaVuSans-53\"/>\n      </defs>\n      <g style=\"fill:#262626;\" transform=\"translate(13.5625 261.4721)scale(0.1 -0.1)\">\n       <use xlink:href=\"#DejaVuSans-53\"/>\n       <use x=\"63.623047\" xlink:href=\"#DejaVuSans-48\"/>\n       <use x=\"127.246094\" xlink:href=\"#DejaVuSans-48\"/>\n       <use x=\"190.869141\" xlink:href=\"#DejaVuSans-48\"/>\n      </g>\n     </g>\n    </g>\n    <g id=\"ytick_3\">\n     <g id=\"line2d_7\">\n      <path clip-path=\"url(#p4dad92095a)\" d=\"M 46.0125 220.145762 \nL 478.0125 220.145762 \n\" style=\"fill:none;stroke:#cccccc;stroke-linecap:round;stroke-width:0.8;\"/>\n     </g>\n     <g id=\"text_7\">\n      <!-- 10000 -->\n      <defs>\n       <path d=\"M 12.40625 8.296875 \nL 28.515625 8.296875 \nL 28.515625 63.921875 \nL 10.984375 60.40625 \nL 10.984375 69.390625 \nL 28.421875 72.90625 \nL 38.28125 72.90625 \nL 38.28125 8.296875 \nL 54.390625 8.296875 \nL 54.390625 0 \nL 12.40625 0 \nz\n\" id=\"DejaVuSans-49\"/>\n      </defs>\n      <g style=\"fill:#262626;\" transform=\"translate(7.2 223.94498)scale(0.1 -0.1)\">\n       <use xlink:href=\"#DejaVuSans-49\"/>\n       <use x=\"63.623047\" xlink:href=\"#DejaVuSans-48\"/>\n       <use x=\"127.246094\" xlink:href=\"#DejaVuSans-48\"/>\n       <use x=\"190.869141\" xlink:href=\"#DejaVuSans-48\"/>\n       <use x=\"254.492188\" xlink:href=\"#DejaVuSans-48\"/>\n      </g>\n     </g>\n    </g>\n    <g id=\"ytick_4\">\n     <g id=\"line2d_8\">\n      <path clip-path=\"url(#p4dad92095a)\" d=\"M 46.0125 182.618642 \nL 478.0125 182.618642 \n\" style=\"fill:none;stroke:#cccccc;stroke-linecap:round;stroke-width:0.8;\"/>\n     </g>\n     <g id=\"text_8\">\n      <!-- 15000 -->\n      <g style=\"fill:#262626;\" transform=\"translate(7.2 186.417861)scale(0.1 -0.1)\">\n       <use xlink:href=\"#DejaVuSans-49\"/>\n       <use x=\"63.623047\" xlink:href=\"#DejaVuSans-53\"/>\n       <use x=\"127.246094\" xlink:href=\"#DejaVuSans-48\"/>\n       <use x=\"190.869141\" xlink:href=\"#DejaVuSans-48\"/>\n       <use x=\"254.492188\" xlink:href=\"#DejaVuSans-48\"/>\n      </g>\n     </g>\n    </g>\n    <g id=\"ytick_5\">\n     <g id=\"line2d_9\">\n      <path clip-path=\"url(#p4dad92095a)\" d=\"M 46.0125 145.091523 \nL 478.0125 145.091523 \n\" style=\"fill:none;stroke:#cccccc;stroke-linecap:round;stroke-width:0.8;\"/>\n     </g>\n     <g id=\"text_9\">\n      <!-- 20000 -->\n      <defs>\n       <path d=\"M 19.1875 8.296875 \nL 53.609375 8.296875 \nL 53.609375 0 \nL 7.328125 0 \nL 7.328125 8.296875 \nQ 12.9375 14.109375 22.625 23.890625 \nQ 32.328125 33.6875 34.8125 36.53125 \nQ 39.546875 41.84375 41.421875 45.53125 \nQ 43.3125 49.21875 43.3125 52.78125 \nQ 43.3125 58.59375 39.234375 62.25 \nQ 35.15625 65.921875 28.609375 65.921875 \nQ 23.96875 65.921875 18.8125 64.3125 \nQ 13.671875 62.703125 7.8125 59.421875 \nL 7.8125 69.390625 \nQ 13.765625 71.78125 18.9375 73 \nQ 24.125 74.21875 28.421875 74.21875 \nQ 39.75 74.21875 46.484375 68.546875 \nQ 53.21875 62.890625 53.21875 53.421875 \nQ 53.21875 48.921875 51.53125 44.890625 \nQ 49.859375 40.875 45.40625 35.40625 \nQ 44.1875 33.984375 37.640625 27.21875 \nQ 31.109375 20.453125 19.1875 8.296875 \nz\n\" id=\"DejaVuSans-50\"/>\n      </defs>\n      <g style=\"fill:#262626;\" transform=\"translate(7.2 148.890742)scale(0.1 -0.1)\">\n       <use xlink:href=\"#DejaVuSans-50\"/>\n       <use x=\"63.623047\" xlink:href=\"#DejaVuSans-48\"/>\n       <use x=\"127.246094\" xlink:href=\"#DejaVuSans-48\"/>\n       <use x=\"190.869141\" xlink:href=\"#DejaVuSans-48\"/>\n       <use x=\"254.492188\" xlink:href=\"#DejaVuSans-48\"/>\n      </g>\n     </g>\n    </g>\n    <g id=\"ytick_6\">\n     <g id=\"line2d_10\">\n      <path clip-path=\"url(#p4dad92095a)\" d=\"M 46.0125 107.564404 \nL 478.0125 107.564404 \n\" style=\"fill:none;stroke:#cccccc;stroke-linecap:round;stroke-width:0.8;\"/>\n     </g>\n     <g id=\"text_10\">\n      <!-- 25000 -->\n      <g style=\"fill:#262626;\" transform=\"translate(7.2 111.363623)scale(0.1 -0.1)\">\n       <use xlink:href=\"#DejaVuSans-50\"/>\n       <use x=\"63.623047\" xlink:href=\"#DejaVuSans-53\"/>\n       <use x=\"127.246094\" xlink:href=\"#DejaVuSans-48\"/>\n       <use x=\"190.869141\" xlink:href=\"#DejaVuSans-48\"/>\n       <use x=\"254.492188\" xlink:href=\"#DejaVuSans-48\"/>\n      </g>\n     </g>\n    </g>\n    <g id=\"ytick_7\">\n     <g id=\"line2d_11\">\n      <path clip-path=\"url(#p4dad92095a)\" d=\"M 46.0125 70.037285 \nL 478.0125 70.037285 \n\" style=\"fill:none;stroke:#cccccc;stroke-linecap:round;stroke-width:0.8;\"/>\n     </g>\n     <g id=\"text_11\">\n      <!-- 30000 -->\n      <defs>\n       <path d=\"M 40.578125 39.3125 \nQ 47.65625 37.796875 51.625 33 \nQ 55.609375 28.21875 55.609375 21.1875 \nQ 55.609375 10.40625 48.1875 4.484375 \nQ 40.765625 -1.421875 27.09375 -1.421875 \nQ 22.515625 -1.421875 17.65625 -0.515625 \nQ 12.796875 0.390625 7.625 2.203125 \nL 7.625 11.71875 \nQ 11.71875 9.328125 16.59375 8.109375 \nQ 21.484375 6.890625 26.8125 6.890625 \nQ 36.078125 6.890625 40.9375 10.546875 \nQ 45.796875 14.203125 45.796875 21.1875 \nQ 45.796875 27.640625 41.28125 31.265625 \nQ 36.765625 34.90625 28.71875 34.90625 \nL 20.21875 34.90625 \nL 20.21875 43.015625 \nL 29.109375 43.015625 \nQ 36.375 43.015625 40.234375 45.921875 \nQ 44.09375 48.828125 44.09375 54.296875 \nQ 44.09375 59.90625 40.109375 62.90625 \nQ 36.140625 65.921875 28.71875 65.921875 \nQ 24.65625 65.921875 20.015625 65.03125 \nQ 15.375 64.15625 9.8125 62.3125 \nL 9.8125 71.09375 \nQ 15.4375 72.65625 20.34375 73.4375 \nQ 25.25 74.21875 29.59375 74.21875 \nQ 40.828125 74.21875 47.359375 69.109375 \nQ 53.90625 64.015625 53.90625 55.328125 \nQ 53.90625 49.265625 50.4375 45.09375 \nQ 46.96875 40.921875 40.578125 39.3125 \nz\n\" id=\"DejaVuSans-51\"/>\n      </defs>\n      <g style=\"fill:#262626;\" transform=\"translate(7.2 73.836504)scale(0.1 -0.1)\">\n       <use xlink:href=\"#DejaVuSans-51\"/>\n       <use x=\"63.623047\" xlink:href=\"#DejaVuSans-48\"/>\n       <use x=\"127.246094\" xlink:href=\"#DejaVuSans-48\"/>\n       <use x=\"190.869141\" xlink:href=\"#DejaVuSans-48\"/>\n       <use x=\"254.492188\" xlink:href=\"#DejaVuSans-48\"/>\n      </g>\n     </g>\n    </g>\n    <g id=\"ytick_8\">\n     <g id=\"line2d_12\">\n      <path clip-path=\"url(#p4dad92095a)\" d=\"M 46.0125 32.510166 \nL 478.0125 32.510166 \n\" style=\"fill:none;stroke:#cccccc;stroke-linecap:round;stroke-width:0.8;\"/>\n     </g>\n     <g id=\"text_12\">\n      <!-- 35000 -->\n      <g style=\"fill:#262626;\" transform=\"translate(7.2 36.309384)scale(0.1 -0.1)\">\n       <use xlink:href=\"#DejaVuSans-51\"/>\n       <use x=\"63.623047\" xlink:href=\"#DejaVuSans-53\"/>\n       <use x=\"127.246094\" xlink:href=\"#DejaVuSans-48\"/>\n       <use x=\"190.869141\" xlink:href=\"#DejaVuSans-48\"/>\n       <use x=\"254.492188\" xlink:href=\"#DejaVuSans-48\"/>\n      </g>\n     </g>\n    </g>\n   </g>\n   <g id=\"patch_3\">\n    <path clip-path=\"url(#p4dad92095a)\" d=\"M 65.648864 295.2 \nL 148.328289 295.2 \nL 148.328289 20.914286 \nL 65.648864 20.914286 \nz\n\" style=\"fill:#1f77b4;stroke:#ffffff;stroke-linejoin:miter;\"/>\n   </g>\n   <g id=\"patch_4\">\n    <path clip-path=\"url(#p4dad92095a)\" d=\"M 168.998146 295.2 \nL 251.677572 295.2 \nL 251.677572 228.334179 \nL 168.998146 228.334179 \nz\n\" style=\"fill:#1f77b4;stroke:#ffffff;stroke-linejoin:miter;\"/>\n   </g>\n   <g id=\"patch_5\">\n    <path clip-path=\"url(#p4dad92095a)\" d=\"M 272.347428 295.2 \nL 355.026854 295.2 \nL 355.026854 267.595051 \nL 272.347428 267.595051 \nz\n\" style=\"fill:#1f77b4;stroke:#ffffff;stroke-linejoin:miter;\"/>\n   </g>\n   <g id=\"patch_6\">\n    <path clip-path=\"url(#p4dad92095a)\" d=\"M 375.696711 295.2 \nL 458.376136 295.2 \nL 458.376136 288.895444 \nL 375.696711 288.895444 \nz\n\" style=\"fill:#1f77b4;stroke:#ffffff;stroke-linejoin:miter;\"/>\n   </g>\n   <g id=\"patch_7\">\n    <path d=\"M 46.0125 295.2 \nL 46.0125 7.2 \n\" style=\"fill:none;stroke:#cccccc;stroke-linecap:square;stroke-linejoin:miter;stroke-width:0.8;\"/>\n   </g>\n   <g id=\"patch_8\">\n    <path d=\"M 478.0125 295.2 \nL 478.0125 7.2 \n\" style=\"fill:none;stroke:#cccccc;stroke-linecap:square;stroke-linejoin:miter;stroke-width:0.8;\"/>\n   </g>\n   <g id=\"patch_9\">\n    <path d=\"M 46.0125 295.2 \nL 478.0125 295.2 \n\" style=\"fill:none;stroke:#cccccc;stroke-linecap:square;stroke-linejoin:miter;stroke-width:0.8;\"/>\n   </g>\n   <g id=\"patch_10\">\n    <path d=\"M 46.0125 7.2 \nL 478.0125 7.2 \n\" style=\"fill:none;stroke:#cccccc;stroke-linecap:square;stroke-linejoin:miter;stroke-width:0.8;\"/>\n   </g>\n  </g>\n </g>\n <defs>\n  <clipPath id=\"p4dad92095a\">\n   <rect height=\"288\" width=\"432\" x=\"46.0125\" y=\"7.2\"/>\n  </clipPath>\n </defs>\n</svg>\n"
          },
          "metadata": {
            "tags": []
          }
        }
      ]
    },
    {
      "cell_type": "markdown",
      "metadata": {
        "id": "IgXJP4Z7t1pE",
        "colab_type": "text"
      },
      "source": [
        "As the most real-life problems, our dataset has many imbalanced classes. \n",
        "Imbalanced data pose classification problem for predictive modelling as most of the machine learning algorithms are used for classification were designed around the assumption of an equal number of examples for each class. As a result, models train on imbalanced data have poor predictive performance specifically on minority class. We are going to explore different data balancing strategies for our dataset."
      ]
    },
    {
      "cell_type": "markdown",
      "metadata": {
        "id": "bgMGiTP7t84H",
        "colab_type": "text"
      },
      "source": [
        "### Data Cleaning"
      ]
    },
    {
      "cell_type": "code",
      "metadata": {
        "id": "omHwe9q9t9Tl",
        "colab_type": "code",
        "outputId": "4190301d-7eb6-487f-bb55-dbccb0ef50f8",
        "colab": {
          "base_uri": "https://localhost:8080/",
          "height": 34
        }
      },
      "source": [
        "# remove special caracters and put everything in lower case for both train data sets\n",
        "for i in range(len(data_train_bodies)):\n",
        "  data_train_bodies[\"articleBody\"][i]= (data_train_bodies[\"articleBody\"][i].encode('ascii', 'ignore')).decode(\"utf-8\")\n",
        "  data_train_bodies[\"articleBody\"][i] = data_train_bodies[\"articleBody\"][i].lower()\n",
        "\n",
        "for i in range(len(data_train_headlines)):\n",
        "  data_train_headlines[\"Headline\"][i]= (data_train_headlines[\"Headline\"][i].encode('ascii', 'ignore')).decode(\"utf-8\")\n",
        "  data_train_headlines[\"Headline\"][i] = data_train_headlines[\"Headline\"][i].lower()\n",
        "  out.update(progress(i, len(data_train_stances)))"
      ],
      "execution_count": 0,
      "outputs": [
        {
          "output_type": "display_data",
          "data": {
            "text/html": [
              "\n",
              "        <progress\n",
              "            value='49971'\n",
              "            max='49972',\n",
              "            style='width: 100%'\n",
              "        >\n",
              "            49971\n",
              "        </progress>\n",
              "    "
            ],
            "text/plain": [
              "<IPython.core.display.HTML object>"
            ]
          },
          "metadata": {
            "tags": []
          }
        }
      ]
    },
    {
      "cell_type": "code",
      "metadata": {
        "id": "Z5W507ZFusco",
        "colab_type": "code",
        "colab": {}
      },
      "source": [
        "# create function for removing special caracters\n",
        "import html\n",
        "import re\n",
        "def clean(s):\n",
        "    s = html.unescape(s)\n",
        "    s = s.replace(\"\\\\n\",\" \")\n",
        "    s = s.replace(\"_NEG\",\"\")\n",
        "    s = s.replace(\"_NEGFIRST\", \"\")\n",
        "    s = re.sub(r\"_\", \"\", s)\n",
        "    s = re.sub(r\"#\", \"\", s)\n",
        "    s = re.sub(r\"\\*\", \"\", s)\n",
        "    s = re.sub(r\"\\'s\", \"\", s)\n",
        "    s = re.sub(r\"\\'m\", \" am\", s)\n",
        "    s = re.sub(r\"\\'ve\", \" have\", s)\n",
        "    s = re.sub(r\"n\\'t\", \" not\", s)\n",
        "    s = re.sub(r\"\\'re\", \" are\", s)\n",
        "    s = re.sub(r\"\\'d\", \" would\", s)\n",
        "    s = re.sub(r\"\\'ll\", \" will\", s)\n",
        "    s = re.sub(r\",\", \"\", s)\n",
        "    s = re.sub(r\"!\", \" !\", s)\n",
        "    s = re.sub(r\"\\(\", \"\", s)\n",
        "    s = re.sub(r\"\\)\", \"\", s)\n",
        "    s = re.sub(r\"\\?\", \" ?\", s)\n",
        "    s = re.sub(r'[^\\x00-\\x7F]',' ', s)\n",
        "    s = re.sub(r'[^\\w\\s]',' ',s)\n",
        "    s = re.sub(\"\\d+\", \" \", s)\n",
        "    s = re.sub(r\"\\s{2,}\", \" \", s)\n",
        "    s = s.rstrip(',|.|;|:|\\'|\\\"')\n",
        "    s = s.lstrip('\\'|\\\"')\n",
        "\n",
        "    return str(s)"
      ],
      "execution_count": 0,
      "outputs": []
    },
    {
      "cell_type": "code",
      "metadata": {
        "id": "-wKikX4Tu_wa",
        "colab_type": "code",
        "outputId": "ba6007a6-0180-4bf8-a971-ca5a44a50992",
        "colab": {
          "base_uri": "https://localhost:8080/",
          "height": 34
        }
      },
      "source": [
        "# apply clean function to data_train_bodies\n",
        "for i in range(len(data_train_bodies)):\n",
        "      data_train_bodies[\"articleBody\"][i]= clean(data_train_bodies[\"articleBody\"][i])\n",
        "      out.update(progress(i, len(data_train_bodies)))"
      ],
      "execution_count": 0,
      "outputs": [
        {
          "output_type": "display_data",
          "data": {
            "text/html": [
              "\n",
              "        <progress\n",
              "            value='1682'\n",
              "            max='1683',\n",
              "            style='width: 100%'\n",
              "        >\n",
              "            1682\n",
              "        </progress>\n",
              "    "
            ],
            "text/plain": [
              "<IPython.core.display.HTML object>"
            ]
          },
          "metadata": {
            "tags": []
          }
        }
      ]
    },
    {
      "cell_type": "code",
      "metadata": {
        "id": "lSrF8BWyvnYb",
        "colab_type": "code",
        "outputId": "74479e9f-f0a0-433e-90e7-352ce27914ce",
        "colab": {
          "base_uri": "https://localhost:8080/",
          "height": 34
        }
      },
      "source": [
        "# apply clean function to data_train_headlines\n",
        "for i in range(len(data_train_headlines)):\n",
        "      data_train_headlines[\"Headline\"][i]= clean(data_train_headlines[\"Headline\"][i])\n",
        "      out.update(progress(i, len(data_train_headlines)))"
      ],
      "execution_count": 0,
      "outputs": [
        {
          "output_type": "display_data",
          "data": {
            "text/html": [
              "\n",
              "        <progress\n",
              "            value='49971'\n",
              "            max='49972',\n",
              "            style='width: 100%'\n",
              "        >\n",
              "            49971\n",
              "        </progress>\n",
              "    "
            ],
            "text/plain": [
              "<IPython.core.display.HTML object>"
            ]
          },
          "metadata": {
            "tags": []
          }
        }
      ]
    },
    {
      "cell_type": "code",
      "metadata": {
        "id": "T5-Oqrnywfcy",
        "colab_type": "code",
        "colab": {}
      },
      "source": [
        "# remove stop words from data_train_bodies \n",
        "from gensim.parsing.preprocessing import remove_stopwords\n",
        "\n",
        "data_train_bodies.loc[:,\"articleBody_nostop\"] = data_train_bodies.articleBody.apply(lambda x : remove_stopwords(x))"
      ],
      "execution_count": 0,
      "outputs": []
    },
    {
      "cell_type": "code",
      "metadata": {
        "id": "MymQnGwew3Vd",
        "colab_type": "code",
        "colab": {}
      },
      "source": [
        "# removing stop words from data_train_headlines \n",
        "data_train_headlines.loc[:,\"Headline_nostop\"] = data_train_headlines.Headline.apply(lambda x : remove_stopwords(x))"
      ],
      "execution_count": 0,
      "outputs": []
    },
    {
      "cell_type": "code",
      "metadata": {
        "id": "vTWWWEouw_u8",
        "colab_type": "code",
        "outputId": "d0c50b62-ab3c-41f6-ed76-769d06f6d968",
        "colab": {
          "base_uri": "https://localhost:8080/",
          "height": 204
        }
      },
      "source": [
        "data_train_bodies.tail()"
      ],
      "execution_count": 0,
      "outputs": [
        {
          "output_type": "execute_result",
          "data": {
            "text/html": [
              "<div>\n",
              "<style scoped>\n",
              "    .dataframe tbody tr th:only-of-type {\n",
              "        vertical-align: middle;\n",
              "    }\n",
              "\n",
              "    .dataframe tbody tr th {\n",
              "        vertical-align: top;\n",
              "    }\n",
              "\n",
              "    .dataframe thead th {\n",
              "        text-align: right;\n",
              "    }\n",
              "</style>\n",
              "<table border=\"1\" class=\"dataframe\">\n",
              "  <thead>\n",
              "    <tr style=\"text-align: right;\">\n",
              "      <th></th>\n",
              "      <th>Body ID</th>\n",
              "      <th>articleBody</th>\n",
              "      <th>articleBody_nostop</th>\n",
              "      <th>articleBody_lemma</th>\n",
              "      <th>articleBody_clean</th>\n",
              "    </tr>\n",
              "  </thead>\n",
              "  <tbody>\n",
              "    <tr>\n",
              "      <th>1678</th>\n",
              "      <td>2528</td>\n",
              "      <td>intelligence agencies hunting for identity of ...</td>\n",
              "      <td>intelligence agencies hunting identity jihadis...</td>\n",
              "      <td>intelligence agency hunt identity jihadist mur...</td>\n",
              "      <td>intelligence agency hunt identity jihadist mur...</td>\n",
              "    </tr>\n",
              "    <tr>\n",
              "      <th>1679</th>\n",
              "      <td>2529</td>\n",
              "      <td>while daleks know no fear and must not fear th...</td>\n",
              "      <td>daleks know fear fear cold calculating robots ...</td>\n",
              "      <td>dalek know fear fear cold calculating robot dr...</td>\n",
              "      <td>know fear fear cold robot dr series exist real...</td>\n",
              "    </tr>\n",
              "    <tr>\n",
              "      <th>1680</th>\n",
              "      <td>2530</td>\n",
              "      <td>more than schoolgirls were kidnapped in april ...</td>\n",
              "      <td>schoolgirls kidnapped april sparking bringback...</td>\n",
              "      <td>schoolgirls kidnap april spark bringbackourgir...</td>\n",
              "      <td>schoolgirls kidnap april spark bringbackourgir...</td>\n",
              "    </tr>\n",
              "    <tr>\n",
              "      <th>1681</th>\n",
              "      <td>2531</td>\n",
              "      <td>a guantanamo bay prisoner released last year a...</td>\n",
              "      <td>guantanamo bay prisoner released year exchange...</td>\n",
              "      <td>guantanamo bay prisoner release year exchange ...</td>\n",
              "      <td>guantanamo bay prisoner release year exchange ...</td>\n",
              "    </tr>\n",
              "    <tr>\n",
              "      <th>1682</th>\n",
              "      <td>2532</td>\n",
              "      <td>ann arbor mich a pizza delivery man in michiga...</td>\n",
              "      <td>ann arbor mich pizza delivery man michigan got...</td>\n",
              "      <td>ann arbor mich pizza delivery man michigan get...</td>\n",
              "      <td>ann pizza delivery man get huge surprise speci...</td>\n",
              "    </tr>\n",
              "  </tbody>\n",
              "</table>\n",
              "</div>"
            ],
            "text/plain": [
              "      Body ID  ...                                  articleBody_clean\n",
              "1678     2528  ...  intelligence agency hunt identity jihadist mur...\n",
              "1679     2529  ...  know fear fear cold robot dr series exist real...\n",
              "1680     2530  ...  schoolgirls kidnap april spark bringbackourgir...\n",
              "1681     2531  ...  guantanamo bay prisoner release year exchange ...\n",
              "1682     2532  ...  ann pizza delivery man get huge surprise speci...\n",
              "\n",
              "[5 rows x 5 columns]"
            ]
          },
          "metadata": {
            "tags": []
          },
          "execution_count": 187
        }
      ]
    },
    {
      "cell_type": "code",
      "metadata": {
        "id": "Cd8KKfV5xDA0",
        "colab_type": "code",
        "outputId": "2e29c3b8-afe1-423f-afc1-9000346dba94",
        "colab": {
          "base_uri": "https://localhost:8080/",
          "height": 204
        }
      },
      "source": [
        "data_train_headlines.head()\n",
        "#data_train_headlines  = data_train_headlines.drop(['Headline_lemma', 'articleBody_lemma'], axis=1)"
      ],
      "execution_count": 0,
      "outputs": [
        {
          "output_type": "execute_result",
          "data": {
            "text/html": [
              "<div>\n",
              "<style scoped>\n",
              "    .dataframe tbody tr th:only-of-type {\n",
              "        vertical-align: middle;\n",
              "    }\n",
              "\n",
              "    .dataframe tbody tr th {\n",
              "        vertical-align: top;\n",
              "    }\n",
              "\n",
              "    .dataframe thead th {\n",
              "        text-align: right;\n",
              "    }\n",
              "</style>\n",
              "<table border=\"1\" class=\"dataframe\">\n",
              "  <thead>\n",
              "    <tr style=\"text-align: right;\">\n",
              "      <th></th>\n",
              "      <th>Headline</th>\n",
              "      <th>Body ID</th>\n",
              "      <th>Stance</th>\n",
              "      <th>Headline_nostop</th>\n",
              "      <th>Headline_lemma</th>\n",
              "      <th>Headline_clean</th>\n",
              "    </tr>\n",
              "  </thead>\n",
              "  <tbody>\n",
              "    <tr>\n",
              "      <th>0</th>\n",
              "      <td>police find mass graves with at least bodies n...</td>\n",
              "      <td>712</td>\n",
              "      <td>unrelated</td>\n",
              "      <td>police mass graves bodies near mexico town stu...</td>\n",
              "      <td>police mass grave body near mexico town studen...</td>\n",
              "      <td>police mass grave body near mexico town studen...</td>\n",
              "    </tr>\n",
              "    <tr>\n",
              "      <th>1</th>\n",
              "      <td>hundreds of palestinians flee floods in gaza a...</td>\n",
              "      <td>158</td>\n",
              "      <td>agree</td>\n",
              "      <td>hundreds palestinians flee floods gaza israel ...</td>\n",
              "      <td>hundred palestinians flee flood gaza israel op...</td>\n",
              "      <td>flood gaza israel open</td>\n",
              "    </tr>\n",
              "    <tr>\n",
              "      <th>2</th>\n",
              "      <td>christian bale passes on role of steve jobs ac...</td>\n",
              "      <td>137</td>\n",
              "      <td>unrelated</td>\n",
              "      <td>christian bale passes role steve jobs actor re...</td>\n",
              "      <td>christian bale pass role steve jobs actor repo...</td>\n",
              "      <td>christian bale pass role steve jobs actor repo...</td>\n",
              "    </tr>\n",
              "    <tr>\n",
              "      <th>3</th>\n",
              "      <td>hbo and apple in talks for month apple tv stre...</td>\n",
              "      <td>1034</td>\n",
              "      <td>unrelated</td>\n",
              "      <td>hbo apple talks month apple tv streaming servi...</td>\n",
              "      <td>hbo apple talks month apple tv streaming servi...</td>\n",
              "      <td>hbo apple talks month apple tv streaming servi...</td>\n",
              "    </tr>\n",
              "    <tr>\n",
              "      <th>4</th>\n",
              "      <td>spider burrowed through tourist stomach and up...</td>\n",
              "      <td>1923</td>\n",
              "      <td>disagree</td>\n",
              "      <td>spider burrowed tourist stomach chest</td>\n",
              "      <td>spider burrow tourist stomach chest</td>\n",
              "      <td>spider burrow tourist stomach chest</td>\n",
              "    </tr>\n",
              "  </tbody>\n",
              "</table>\n",
              "</div>"
            ],
            "text/plain": [
              "                                            Headline  ...                                     Headline_clean\n",
              "0  police find mass graves with at least bodies n...  ...  police mass grave body near mexico town studen...\n",
              "1  hundreds of palestinians flee floods in gaza a...  ...                             flood gaza israel open\n",
              "2  christian bale passes on role of steve jobs ac...  ...  christian bale pass role steve jobs actor repo...\n",
              "3  hbo and apple in talks for month apple tv stre...  ...  hbo apple talks month apple tv streaming servi...\n",
              "4  spider burrowed through tourist stomach and up...  ...                spider burrow tourist stomach chest\n",
              "\n",
              "[5 rows x 6 columns]"
            ]
          },
          "metadata": {
            "tags": []
          },
          "execution_count": 185
        }
      ]
    },
    {
      "cell_type": "code",
      "metadata": {
        "id": "XrqUpfq7xGZ0",
        "colab_type": "code",
        "colab": {}
      },
      "source": [
        "# apply lemmatization to both data_train_bodies and data_train_headlines\n",
        "import spacy\n",
        "lemmatizer = spacy.load('en', disable=['parser', 'ner'])"
      ],
      "execution_count": 0,
      "outputs": []
    },
    {
      "cell_type": "code",
      "metadata": {
        "id": "HIeywDWIxnrV",
        "colab_type": "code",
        "outputId": "cfe2e84c-7825-477c-b50a-3737eb09402c",
        "colab": {
          "base_uri": "https://localhost:8080/",
          "height": 34
        }
      },
      "source": [
        "data_train_headlines['articleBody_lemma'] = ''\n",
        "for i in range(0, len(data_train_bodies.articleBody_nostop)):\n",
        "  doc = lemmatizer(data_train_bodies.articleBody_nostop[i])\n",
        "  data_train_bodies['articleBody_lemma'][i] = \" \".join([token.lemma_ for token in doc])\n",
        "  out.update(progress(i, len(data_train_bodies))) "
      ],
      "execution_count": 0,
      "outputs": [
        {
          "output_type": "display_data",
          "data": {
            "text/html": [
              "\n",
              "        <progress\n",
              "            value='1682'\n",
              "            max='1683',\n",
              "            style='width: 100%'\n",
              "        >\n",
              "            1682\n",
              "        </progress>\n",
              "    "
            ],
            "text/plain": [
              "<IPython.core.display.HTML object>"
            ]
          },
          "metadata": {
            "tags": []
          }
        }
      ]
    },
    {
      "cell_type": "code",
      "metadata": {
        "id": "_ZIs10IDxx2c",
        "colab_type": "code",
        "outputId": "09607430-2e82-451c-8949-593b82d3ecf2",
        "colab": {
          "base_uri": "https://localhost:8080/",
          "height": 34
        }
      },
      "source": [
        "data_train_headlines['Headline_lemma'] = ''\n",
        "for i in range(0, len(data_train_headlines.Headline_nostop)):\n",
        "  doc = lemmatizer(data_train_headlines.Headline_nostop[i])\n",
        "  data_train_headlines['Headline_lemma'][i] = \" \".join([token.lemma_ for token in doc])\n",
        "  out.update(progress(i, len(data_train_headlines))) "
      ],
      "execution_count": 0,
      "outputs": [
        {
          "output_type": "display_data",
          "data": {
            "text/html": [
              "\n",
              "        <progress\n",
              "            value='49971'\n",
              "            max='49972',\n",
              "            style='width: 100%'\n",
              "        >\n",
              "            49971\n",
              "        </progress>\n",
              "    "
            ],
            "text/plain": [
              "<IPython.core.display.HTML object>"
            ]
          },
          "metadata": {
            "tags": []
          }
        }
      ]
    },
    {
      "cell_type": "code",
      "metadata": {
        "id": "hqAUDm98yT8o",
        "colab_type": "code",
        "colab": {}
      },
      "source": [
        "# remove extra stop words\n",
        "import nltk\n",
        "from nltk.stem.wordnet import WordNetLemmatizer\n",
        "w_tokenizer = nltk.tokenize.WhitespaceTokenizer()\n",
        "\n",
        "corpus_articleBody = data_train_bodies.articleBody_lemma.apply(lambda x : w_tokenizer.tokenize(x))\n",
        "corpus_articleBody = np.concatenate(corpus_articleBody)\n",
        "len(corpus_articleBody)"
      ],
      "execution_count": 0,
      "outputs": []
    },
    {
      "cell_type": "code",
      "metadata": {
        "id": "f_qstyF502-U",
        "colab_type": "code",
        "outputId": "45dddcf2-1d16-4c86-91f3-ae2184e5b2a1",
        "colab": {
          "base_uri": "https://localhost:8080/",
          "height": 34
        }
      },
      "source": [
        "len(corpus_articleBody)"
      ],
      "execution_count": 0,
      "outputs": [
        {
          "output_type": "execute_result",
          "data": {
            "text/plain": [
              "327049"
            ]
          },
          "metadata": {
            "tags": []
          },
          "execution_count": 110
        }
      ]
    },
    {
      "cell_type": "code",
      "metadata": {
        "id": "0gZ32g4D0_dT",
        "colab_type": "code",
        "colab": {}
      },
      "source": [
        "wordfreq_body = dict()\n",
        "for i in corpus_articleBody:\n",
        "    if i not in wordfreq_body.keys():\n",
        "        wordfreq_body[i] = 1\n",
        "    else:\n",
        "        wordfreq_body[i] = wordfreq_body[i]+1 "
      ],
      "execution_count": 0,
      "outputs": []
    },
    {
      "cell_type": "code",
      "metadata": {
        "id": "zlnwl-on1Kxq",
        "colab_type": "code",
        "colab": {}
      },
      "source": [
        "new_stop_body = dict()\n",
        "for (key, value) in wordfreq_body.items():\n",
        "  if value <= 10:\n",
        "    new_stop_body[key] = value"
      ],
      "execution_count": 0,
      "outputs": []
    },
    {
      "cell_type": "code",
      "metadata": {
        "id": "asblU5W31UDP",
        "colab_type": "code",
        "colab": {}
      },
      "source": [
        "# function to get list from dictionary\n",
        "def getList(dict): \n",
        "    list = [] \n",
        "    for key in dict.keys(): \n",
        "        list.append(key)    \n",
        "    return list"
      ],
      "execution_count": 0,
      "outputs": []
    },
    {
      "cell_type": "code",
      "metadata": {
        "id": "c5AmqnA81fim",
        "colab_type": "code",
        "outputId": "266742b8-1cf4-4e65-f11e-6810a941f967",
        "colab": {
          "base_uri": "https://localhost:8080/",
          "height": 34
        }
      },
      "source": [
        "new_stop_list_body = getList(new_stop_body)\n",
        "len(new_stop_list_body)"
      ],
      "execution_count": 0,
      "outputs": [
        {
          "output_type": "execute_result",
          "data": {
            "text/plain": [
              "15071"
            ]
          },
          "metadata": {
            "tags": []
          },
          "execution_count": 140
        }
      ]
    },
    {
      "cell_type": "code",
      "metadata": {
        "id": "6rJlfUEK1qiU",
        "colab_type": "code",
        "colab": {}
      },
      "source": [
        "corpus_headline = data_train_headlines.Headline_lemma.apply(lambda x : w_tokenizer.tokenize(x))\n",
        "corpus_headline = np.concatenate(corpus_headline)\n",
        "len(corpus_headline)"
      ],
      "execution_count": 0,
      "outputs": []
    },
    {
      "cell_type": "code",
      "metadata": {
        "id": "aba29fLl69H-",
        "colab_type": "code",
        "outputId": "98da1022-9c43-4c66-cc64-b08add7de089",
        "colab": {
          "base_uri": "https://localhost:8080/",
          "height": 34
        }
      },
      "source": [
        "len(corpus_headline)"
      ],
      "execution_count": 0,
      "outputs": [
        {
          "output_type": "execute_result",
          "data": {
            "text/plain": [
              "401419"
            ]
          },
          "metadata": {
            "tags": []
          },
          "execution_count": 173
        }
      ]
    },
    {
      "cell_type": "code",
      "metadata": {
        "id": "A0jmzwHQ6-9e",
        "colab_type": "code",
        "colab": {}
      },
      "source": [
        "wordfreq_headline = dict()\n",
        "for i in corpus_headline:\n",
        "    if i not in wordfreq_headline.keys():\n",
        "        wordfreq_headline[i] = 1\n",
        "    else:\n",
        "        wordfreq_headline[i] = wordfreq_headline[i]+1 "
      ],
      "execution_count": 0,
      "outputs": []
    },
    {
      "cell_type": "code",
      "metadata": {
        "id": "qd7K8V4w7EXF",
        "colab_type": "code",
        "colab": {}
      },
      "source": [
        "new_stop_headline = dict()\n",
        "for (key, value) in wordfreq_headline.items():\n",
        "  if value <= 50:\n",
        "    new_stop_headline[key] = value"
      ],
      "execution_count": 0,
      "outputs": []
    },
    {
      "cell_type": "code",
      "metadata": {
        "id": "w4wJjk987I7T",
        "colab_type": "code",
        "outputId": "879ff5dd-b3a4-4e7d-cdff-a4c8669b103a",
        "colab": {
          "base_uri": "https://localhost:8080/",
          "height": 34
        }
      },
      "source": [
        "new_stop_list_headline = getList(new_stop_headline)\n",
        "len(new_stop_headline)"
      ],
      "execution_count": 0,
      "outputs": [
        {
          "output_type": "execute_result",
          "data": {
            "text/plain": [
              "1355"
            ]
          },
          "metadata": {
            "tags": []
          },
          "execution_count": 177
        }
      ]
    },
    {
      "cell_type": "code",
      "metadata": {
        "id": "7IF3L91D7OKL",
        "colab_type": "code",
        "colab": {}
      },
      "source": [
        "extra_stop_words = ['s', 'u', 'p', 'm', '-PRON-', 'th', 't', 'st', 'k', 'e', 'c', 'yo', 'il', 'o', 'j']"
      ],
      "execution_count": 0,
      "outputs": []
    },
    {
      "cell_type": "code",
      "metadata": {
        "id": "Nzlv8h6k73Mc",
        "colab_type": "code",
        "colab": {}
      },
      "source": [
        "new_stop_list_body.extend(extra_stop_words)\n",
        "len(new_stop_list_body)"
      ],
      "execution_count": 0,
      "outputs": []
    },
    {
      "cell_type": "code",
      "metadata": {
        "id": "8d3sRuxV8VOx",
        "colab_type": "code",
        "outputId": "dc5e76a1-ded3-42d8-d4a1-249c32c7934e",
        "colab": {
          "base_uri": "https://localhost:8080/",
          "height": 34
        }
      },
      "source": [
        "len(new_stop_list_body)"
      ],
      "execution_count": 0,
      "outputs": [
        {
          "output_type": "execute_result",
          "data": {
            "text/plain": [
              "15086"
            ]
          },
          "metadata": {
            "tags": []
          },
          "execution_count": 142
        }
      ]
    },
    {
      "cell_type": "code",
      "metadata": {
        "id": "LUG01SbG86Wz",
        "colab_type": "code",
        "colab": {}
      },
      "source": [
        "new_stop_list_headline.extend(extra_stop_words)\n",
        "len(new_stop_list_headline)"
      ],
      "execution_count": 0,
      "outputs": []
    },
    {
      "cell_type": "code",
      "metadata": {
        "id": "UKKO7sAt9CIn",
        "colab_type": "code",
        "outputId": "9a35e925-9e42-487b-92f8-08a5bd9e6d05",
        "colab": {
          "base_uri": "https://localhost:8080/",
          "height": 34
        }
      },
      "source": [
        "len(new_stop_list_headline)"
      ],
      "execution_count": 0,
      "outputs": [
        {
          "output_type": "execute_result",
          "data": {
            "text/plain": [
              "1370"
            ]
          },
          "metadata": {
            "tags": []
          },
          "execution_count": 179
        }
      ]
    },
    {
      "cell_type": "code",
      "metadata": {
        "id": "n2f-UCd0933q",
        "colab_type": "code",
        "outputId": "23c00143-4b80-4304-cc55-b2b68e7b8cfd",
        "colab": {
          "base_uri": "https://localhost:8080/",
          "height": 68
        }
      },
      "source": [
        "import nltk\n",
        "nltk.download('punkt')"
      ],
      "execution_count": 0,
      "outputs": [
        {
          "output_type": "stream",
          "text": [
            "[nltk_data] Downloading package punkt to /root/nltk_data...\n",
            "[nltk_data]   Unzipping tokenizers/punkt.zip.\n"
          ],
          "name": "stdout"
        },
        {
          "output_type": "execute_result",
          "data": {
            "text/plain": [
              "True"
            ]
          },
          "metadata": {
            "tags": []
          },
          "execution_count": 155
        }
      ]
    },
    {
      "cell_type": "code",
      "metadata": {
        "id": "GcXZl9ca9DcY",
        "colab_type": "code",
        "outputId": "ef0dccc9-20f1-4654-c144-a5828ad63b39",
        "colab": {
          "base_uri": "https://localhost:8080/",
          "height": 34
        }
      },
      "source": [
        "# remove extra stop words in articleBody\n",
        "from nltk.tokenize import word_tokenize\n",
        "data_train_bodies[\"articleBody_clean\"] =''\n",
        "for i in range(len(data_train_bodies)):  \n",
        "    example_sent =  str(data_train_bodies[\"articleBody_lemma\"][i])\n",
        "    word_tokens = word_tokenize(example_sent)\n",
        "    filtered_sentence = [w for w in word_tokens if not w in new_stop_list_body] \n",
        "    filtered_sentence = [] \n",
        "\n",
        "    for w in word_tokens: \n",
        "        if w not in new_stop_list_body: \n",
        "            filtered_sentence.append(w) \n",
        "    data_train_bodies[\"articleBody_clean\"][i] = filtered_sentence\n",
        "    out.update(progress(i, len(data_train_bodies)))    "
      ],
      "execution_count": 0,
      "outputs": [
        {
          "output_type": "display_data",
          "data": {
            "text/html": [
              "\n",
              "        <progress\n",
              "            value='1682'\n",
              "            max='1683',\n",
              "            style='width: 100%'\n",
              "        >\n",
              "            1682\n",
              "        </progress>\n",
              "    "
            ],
            "text/plain": [
              "<IPython.core.display.HTML object>"
            ]
          },
          "metadata": {
            "tags": []
          }
        }
      ]
    },
    {
      "cell_type": "code",
      "metadata": {
        "id": "1sFdXZiI9w9U",
        "colab_type": "code",
        "outputId": "94bfc15a-d1aa-4592-95bc-c4dc4c7bea6d",
        "colab": {
          "base_uri": "https://localhost:8080/",
          "height": 34
        }
      },
      "source": [
        "# remove extra stop words in Headline\n",
        "from nltk.tokenize import word_tokenize\n",
        "data_train_headlines[\"Headline_clean\"] =''\n",
        "for i in range(len(data_train_headlines)):  \n",
        "    example_sent =  str(data_train_headlines[\"Headline_lemma\"][i])\n",
        "    word_tokens = word_tokenize(example_sent)\n",
        "    filtered_sentence = [w for w in word_tokens if not w in new_stop_list_headline] \n",
        "    filtered_sentence = [] \n",
        "\n",
        "    for w in word_tokens: \n",
        "        if w not in new_stop_list_headline: \n",
        "            filtered_sentence.append(w) \n",
        "    data_train_headlines[\"Headline_clean\"][i] = filtered_sentence\n",
        "    out.update(progress(i, len(data_train_headlines)))    "
      ],
      "execution_count": 0,
      "outputs": [
        {
          "output_type": "display_data",
          "data": {
            "text/html": [
              "\n",
              "        <progress\n",
              "            value='49971'\n",
              "            max='49972',\n",
              "            style='width: 100%'\n",
              "        >\n",
              "            49971\n",
              "        </progress>\n",
              "    "
            ],
            "text/plain": [
              "<IPython.core.display.HTML object>"
            ]
          },
          "metadata": {
            "tags": []
          }
        }
      ]
    },
    {
      "cell_type": "code",
      "metadata": {
        "id": "A3TOqw2sDG0Q",
        "colab_type": "code",
        "colab": {}
      },
      "source": [
        "def listToString(s):  \n",
        "  str1 = \" \"\n",
        "  return (str1.join(s)) "
      ],
      "execution_count": 0,
      "outputs": []
    },
    {
      "cell_type": "code",
      "metadata": {
        "id": "7sAxA3fE_d7K",
        "colab_type": "code",
        "colab": {}
      },
      "source": [
        "data_train_headlines.loc[:,\"Headline_clean\"] = data_train_headlines.Headline_clean.apply(lambda x : listToString(x))\n",
        "data_train_bodies.loc[:,\"articleBody_clean\"] = data_train_bodies.articleBody_clean.apply(lambda x : listToString(x))"
      ],
      "execution_count": 0,
      "outputs": []
    },
    {
      "cell_type": "code",
      "metadata": {
        "id": "pX7jpwcTDo80",
        "colab_type": "code",
        "outputId": "a4b250c8-e5b8-4edd-9374-ed975c537a75",
        "colab": {
          "base_uri": "https://localhost:8080/",
          "height": 122
        }
      },
      "source": [
        "# mounting drive for clean dataframe\n",
        "from google.colab import drive\n",
        "drive.mount('drive')"
      ],
      "execution_count": 0,
      "outputs": [
        {
          "output_type": "stream",
          "text": [
            "Go to this URL in a browser: https://accounts.google.com/o/oauth2/auth?client_id=947318989803-6bn6qk8qdgf4n4g3pfee6491hc0brc4i.apps.googleusercontent.com&redirect_uri=urn%3aietf%3awg%3aoauth%3a2.0%3aoob&response_type=code&scope=email%20https%3a%2f%2fwww.googleapis.com%2fauth%2fdocs.test%20https%3a%2f%2fwww.googleapis.com%2fauth%2fdrive%20https%3a%2f%2fwww.googleapis.com%2fauth%2fdrive.photos.readonly%20https%3a%2f%2fwww.googleapis.com%2fauth%2fpeopleapi.readonly\n",
            "\n",
            "Enter your authorization code:\n",
            "··········\n",
            "Mounted at drive\n"
          ],
          "name": "stdout"
        }
      ]
    },
    {
      "cell_type": "code",
      "metadata": {
        "id": "wsUh39P9DYfY",
        "colab_type": "code",
        "colab": {}
      },
      "source": [
        "# save both dataframes as csv files\n",
        "data_train_headlines.to_csv('drive/My Drive/Colab Notebooks/headline_clean_train.csv')\n"
      ],
      "execution_count": 0,
      "outputs": []
    },
    {
      "cell_type": "code",
      "metadata": {
        "id": "jnyoiP6DD5pp",
        "colab_type": "code",
        "colab": {}
      },
      "source": [
        "data_train_bodies.to_csv('drive/My Drive/Colab Notebooks/body_clean_train.csv')\n"
      ],
      "execution_count": 0,
      "outputs": []
    },
    {
      "cell_type": "markdown",
      "metadata": {
        "id": "yWpkP2XPEKJS",
        "colab_type": "text"
      },
      "source": [
        "### Feature Engineering\n"
      ]
    },
    {
      "cell_type": "markdown",
      "metadata": {
        "id": "k4vRLLy9_foX",
        "colab_type": "text"
      },
      "source": [
        "#### Semantic Extraction for Article Headline and Article Body"
      ]
    },
    {
      "cell_type": "code",
      "metadata": {
        "id": "IQcPU0SCEMde",
        "colab_type": "code",
        "outputId": "ebd8d10f-2321-4e10-9a7f-9396616446af",
        "colab": {
          "base_uri": "https://localhost:8080/",
          "height": 289
        }
      },
      "source": [
        "# Install stanza; note that the prefix \"!\" is not needed if you are running in a terminal\n",
        "#!pip install stanza==1.0.0\n",
        "\n",
        "# Import stanza\n",
        "import stanza"
      ],
      "execution_count": 0,
      "outputs": [
        {
          "output_type": "stream",
          "text": [
            "Collecting stanza==1.0.0\n",
            "\u001b[?25l  Downloading https://files.pythonhosted.org/packages/11/98/a118044151c5f84709d6db43e0344205b42bca316ca89a2fa838987ab698/stanza-1.0.0-py3-none-any.whl (189kB)\n",
            "\r\u001b[K     |█▊                              | 10kB 18.8MB/s eta 0:00:01\r\u001b[K     |███▌                            | 20kB 1.8MB/s eta 0:00:01\r\u001b[K     |█████▏                          | 30kB 2.6MB/s eta 0:00:01\r\u001b[K     |███████                         | 40kB 1.7MB/s eta 0:00:01\r\u001b[K     |████████▋                       | 51kB 2.1MB/s eta 0:00:01\r\u001b[K     |██████████▍                     | 61kB 2.5MB/s eta 0:00:01\r\u001b[K     |████████████                    | 71kB 2.9MB/s eta 0:00:01\r\u001b[K     |█████████████▉                  | 81kB 2.3MB/s eta 0:00:01\r\u001b[K     |███████████████▌                | 92kB 2.5MB/s eta 0:00:01\r\u001b[K     |█████████████████▎              | 102kB 2.8MB/s eta 0:00:01\r\u001b[K     |███████████████████             | 112kB 2.8MB/s eta 0:00:01\r\u001b[K     |████████████████████▊           | 122kB 2.8MB/s eta 0:00:01\r\u001b[K     |██████████████████████▍         | 133kB 2.8MB/s eta 0:00:01\r\u001b[K     |████████████████████████▏       | 143kB 2.8MB/s eta 0:00:01\r\u001b[K     |██████████████████████████      | 153kB 2.8MB/s eta 0:00:01\r\u001b[K     |███████████████████████████▋    | 163kB 2.8MB/s eta 0:00:01\r\u001b[K     |█████████████████████████████▍  | 174kB 2.8MB/s eta 0:00:01\r\u001b[K     |███████████████████████████████ | 184kB 2.8MB/s eta 0:00:01\r\u001b[K     |████████████████████████████████| 194kB 2.8MB/s \n",
            "\u001b[?25hRequirement already satisfied: numpy in /usr/local/lib/python3.6/dist-packages (from stanza==1.0.0) (1.18.2)\n",
            "Requirement already satisfied: requests in /usr/local/lib/python3.6/dist-packages (from stanza==1.0.0) (2.21.0)\n",
            "Requirement already satisfied: protobuf in /usr/local/lib/python3.6/dist-packages (from stanza==1.0.0) (3.10.0)\n",
            "Requirement already satisfied: torch>=1.2.0 in /usr/local/lib/python3.6/dist-packages (from stanza==1.0.0) (1.4.0)\n",
            "Requirement already satisfied: tqdm in /usr/local/lib/python3.6/dist-packages (from stanza==1.0.0) (4.38.0)\n",
            "Requirement already satisfied: chardet<3.1.0,>=3.0.2 in /usr/local/lib/python3.6/dist-packages (from requests->stanza==1.0.0) (3.0.4)\n",
            "Requirement already satisfied: urllib3<1.25,>=1.21.1 in /usr/local/lib/python3.6/dist-packages (from requests->stanza==1.0.0) (1.24.3)\n",
            "Requirement already satisfied: certifi>=2017.4.17 in /usr/local/lib/python3.6/dist-packages (from requests->stanza==1.0.0) (2020.4.5.1)\n",
            "Requirement already satisfied: idna<2.9,>=2.5 in /usr/local/lib/python3.6/dist-packages (from requests->stanza==1.0.0) (2.8)\n",
            "Requirement already satisfied: setuptools in /usr/local/lib/python3.6/dist-packages (from protobuf->stanza==1.0.0) (46.1.3)\n",
            "Requirement already satisfied: six>=1.9 in /usr/local/lib/python3.6/dist-packages (from protobuf->stanza==1.0.0) (1.12.0)\n",
            "Installing collected packages: stanza\n",
            "Successfully installed stanza-1.0.0\n"
          ],
          "name": "stdout"
        }
      ]
    },
    {
      "cell_type": "code",
      "metadata": {
        "id": "sWYHwcj5ETRd",
        "colab_type": "code",
        "outputId": "653cc3af-7ffb-40a1-cb3d-7b81b150483f",
        "colab": {
          "base_uri": "https://localhost:8080/",
          "height": 1000
        }
      },
      "source": [
        "# Download the Stanford CoreNLP Java library and unzip it to a ./corenlp folder\n",
        "!echo \"Downloading CoreNLP...\"\n",
        "!wget \"http://nlp.stanford.edu/software/stanford-corenlp-full-2018-10-05.zip\" -O corenlp.zip\n",
        "!unzip corenlp.zip\n",
        "!mv ./stanford-corenlp-full-2018-10-05 ./corenlp\n",
        "\n",
        "# Set the CORENLP_HOME environment variable to point to the installation location\n",
        "import os\n",
        "os.environ[\"CORENLP_HOME\"] = \"./corenlp\""
      ],
      "execution_count": 0,
      "outputs": [
        {
          "output_type": "stream",
          "text": [
            "Downloading CoreNLP...\n",
            "--2020-04-11 16:27:36--  http://nlp.stanford.edu/software/stanford-corenlp-full-2018-10-05.zip\n",
            "Resolving nlp.stanford.edu (nlp.stanford.edu)... 171.64.67.140\n",
            "Connecting to nlp.stanford.edu (nlp.stanford.edu)|171.64.67.140|:80... connected.\n",
            "HTTP request sent, awaiting response... 302 Found\n",
            "Location: https://nlp.stanford.edu/software/stanford-corenlp-full-2018-10-05.zip [following]\n",
            "--2020-04-11 16:27:36--  https://nlp.stanford.edu/software/stanford-corenlp-full-2018-10-05.zip\n",
            "Connecting to nlp.stanford.edu (nlp.stanford.edu)|171.64.67.140|:443... connected.\n",
            "HTTP request sent, awaiting response... 200 OK\n",
            "Length: 393239982 (375M) [application/zip]\n",
            "Saving to: ‘corenlp.zip’\n",
            "\n",
            "corenlp.zip         100%[===================>] 375.02M  16.8MB/s    in 16s     \n",
            "\n",
            "2020-04-11 16:27:52 (23.5 MB/s) - ‘corenlp.zip’ saved [393239982/393239982]\n",
            "\n",
            "Archive:  corenlp.zip\n",
            "   creating: stanford-corenlp-full-2018-10-05/\n",
            "  inflating: stanford-corenlp-full-2018-10-05/jaxb-core-2.3.0.1-sources.jar  \n",
            "  inflating: stanford-corenlp-full-2018-10-05/xom-1.2.10-src.jar  \n",
            "  inflating: stanford-corenlp-full-2018-10-05/CoreNLP-to-HTML.xsl  \n",
            "  inflating: stanford-corenlp-full-2018-10-05/README.txt  \n",
            "  inflating: stanford-corenlp-full-2018-10-05/jollyday-0.4.9-sources.jar  \n",
            "  inflating: stanford-corenlp-full-2018-10-05/LIBRARY-LICENSES  \n",
            "   creating: stanford-corenlp-full-2018-10-05/sutime/\n",
            "  inflating: stanford-corenlp-full-2018-10-05/sutime/british.sutime.txt  \n",
            "  inflating: stanford-corenlp-full-2018-10-05/sutime/defs.sutime.txt  \n",
            "  inflating: stanford-corenlp-full-2018-10-05/sutime/spanish.sutime.txt  \n",
            "  inflating: stanford-corenlp-full-2018-10-05/sutime/english.sutime.txt  \n",
            "  inflating: stanford-corenlp-full-2018-10-05/sutime/english.holidays.sutime.txt  \n",
            " extracting: stanford-corenlp-full-2018-10-05/ejml-0.23-src.zip  \n",
            "  inflating: stanford-corenlp-full-2018-10-05/input.txt.xml  \n",
            "  inflating: stanford-corenlp-full-2018-10-05/build.xml  \n",
            "  inflating: stanford-corenlp-full-2018-10-05/pom.xml  \n",
            "  inflating: stanford-corenlp-full-2018-10-05/stanford-corenlp-3.9.2-javadoc.jar  \n",
            "   creating: stanford-corenlp-full-2018-10-05/tokensregex/\n",
            "  inflating: stanford-corenlp-full-2018-10-05/tokensregex/color.input.txt  \n",
            "  inflating: stanford-corenlp-full-2018-10-05/tokensregex/retokenize.txt  \n",
            "  inflating: stanford-corenlp-full-2018-10-05/tokensregex/color.properties  \n",
            "  inflating: stanford-corenlp-full-2018-10-05/tokensregex/color.rules.txt  \n",
            "  inflating: stanford-corenlp-full-2018-10-05/javax.json-api-1.0-sources.jar  \n",
            "  inflating: stanford-corenlp-full-2018-10-05/jaxb-api-2.4.0-b180830.0359-sources.jar  \n",
            "  inflating: stanford-corenlp-full-2018-10-05/stanford-corenlp-3.9.2-models.jar  \n",
            "  inflating: stanford-corenlp-full-2018-10-05/protobuf.jar  \n",
            "  inflating: stanford-corenlp-full-2018-10-05/javax.activation-api-1.2.0.jar  \n",
            "  inflating: stanford-corenlp-full-2018-10-05/StanfordDependenciesManual.pdf  \n",
            "   creating: stanford-corenlp-full-2018-10-05/patterns/\n",
            "  inflating: stanford-corenlp-full-2018-10-05/patterns/example.properties  \n",
            " extracting: stanford-corenlp-full-2018-10-05/patterns/otherpeople.txt  \n",
            " extracting: stanford-corenlp-full-2018-10-05/patterns/goldplaces.txt  \n",
            "  inflating: stanford-corenlp-full-2018-10-05/patterns/stopwords.txt  \n",
            "  inflating: stanford-corenlp-full-2018-10-05/patterns/presidents.txt  \n",
            "  inflating: stanford-corenlp-full-2018-10-05/patterns/names.txt  \n",
            " extracting: stanford-corenlp-full-2018-10-05/patterns/places.txt  \n",
            "  inflating: stanford-corenlp-full-2018-10-05/patterns/goldnames.txt  \n",
            "  inflating: stanford-corenlp-full-2018-10-05/slf4j-simple.jar  \n",
            "  inflating: stanford-corenlp-full-2018-10-05/stanford-corenlp-3.9.2-sources.jar  \n",
            "  inflating: stanford-corenlp-full-2018-10-05/input.txt  \n",
            "  inflating: stanford-corenlp-full-2018-10-05/joda-time.jar  \n",
            "  inflating: stanford-corenlp-full-2018-10-05/xom.jar  \n",
            "  inflating: stanford-corenlp-full-2018-10-05/jaxb-impl-2.4.0-b180830.0438-sources.jar  \n",
            "  inflating: stanford-corenlp-full-2018-10-05/StanfordCoreNlpDemo.java  \n",
            "  inflating: stanford-corenlp-full-2018-10-05/jaxb-core-2.3.0.1.jar  \n",
            "  inflating: stanford-corenlp-full-2018-10-05/RESOURCE-LICENSES  \n",
            "  inflating: stanford-corenlp-full-2018-10-05/javax.activation-api-1.2.0-sources.jar  \n",
            "  inflating: stanford-corenlp-full-2018-10-05/slf4j-api.jar  \n",
            "  inflating: stanford-corenlp-full-2018-10-05/pom-java-11.xml  \n",
            "  inflating: stanford-corenlp-full-2018-10-05/ejml-0.23.jar  \n",
            "  inflating: stanford-corenlp-full-2018-10-05/javax.json.jar  \n",
            "  inflating: stanford-corenlp-full-2018-10-05/Makefile  \n",
            "  inflating: stanford-corenlp-full-2018-10-05/corenlp.sh  \n",
            "  inflating: stanford-corenlp-full-2018-10-05/joda-time-2.9-sources.jar  \n",
            "  inflating: stanford-corenlp-full-2018-10-05/jaxb-api-2.4.0-b180830.0359.jar  \n",
            "  inflating: stanford-corenlp-full-2018-10-05/jollyday.jar  \n",
            "  inflating: stanford-corenlp-full-2018-10-05/ShiftReduceDemo.java  \n",
            "  inflating: stanford-corenlp-full-2018-10-05/jaxb-impl-2.4.0-b180830.0438.jar  \n",
            "  inflating: stanford-corenlp-full-2018-10-05/stanford-corenlp-3.9.2.jar  \n",
            "  inflating: stanford-corenlp-full-2018-10-05/SemgrexDemo.java  \n",
            "  inflating: stanford-corenlp-full-2018-10-05/LICENSE.txt  \n"
          ],
          "name": "stdout"
        }
      ]
    },
    {
      "cell_type": "code",
      "metadata": {
        "id": "jOrL-pyTEVxs",
        "colab_type": "code",
        "colab": {}
      },
      "source": [
        "# Import client module\n",
        "from stanza.server import CoreNLPClient"
      ],
      "execution_count": 0,
      "outputs": []
    },
    {
      "cell_type": "code",
      "metadata": {
        "id": "8hdpXJQaEeIj",
        "colab_type": "code",
        "outputId": "085df591-589d-400b-ae61-d0d397175481",
        "colab": {
          "base_uri": "https://localhost:8080/",
          "height": 71
        }
      },
      "source": [
        "# Construct a CoreNLPClient with some basic annotators, a memory allocation of 4GB, and port number 9001\n",
        "client = CoreNLPClient(annotators=['sentiment'], memory='4G', endpoint='http://localhost:9001')\n",
        "print(client)\n",
        "\n",
        "# Start the background server and wait for some time\n",
        "# Note that in practice this is totally optional, as by default the server will be started when the first annotation is performed\n",
        "client.start()"
      ],
      "execution_count": 0,
      "outputs": [
        {
          "output_type": "stream",
          "text": [
            "<stanza.server.client.CoreNLPClient object at 0x7ff1017cc748>\n",
            "Starting server with command: java -Xmx4G -cp ./corenlp/* edu.stanford.nlp.pipeline.StanfordCoreNLPServer -port 9001 -timeout 60000 -threads 5 -maxCharLength 100000 -quiet True -serverProperties corenlp_server-2473c99a9f1c4b31.props -preload sentiment\n"
          ],
          "name": "stdout"
        }
      ]
    },
    {
      "cell_type": "code",
      "metadata": {
        "id": "ymryTMELEtXI",
        "colab_type": "code",
        "outputId": "9fb52a3d-7b35-4806-f6f4-1d324b009aa2",
        "colab": {
          "base_uri": "https://localhost:8080/",
          "height": 306
        }
      },
      "source": [
        "#data_train_bodies = data_train_bodies.drop(['articleBody_clean_1'], axis=1)\n",
        "data_train_bodies.tail()"
      ],
      "execution_count": 0,
      "outputs": [
        {
          "output_type": "execute_result",
          "data": {
            "text/html": [
              "<div>\n",
              "<style scoped>\n",
              "    .dataframe tbody tr th:only-of-type {\n",
              "        vertical-align: middle;\n",
              "    }\n",
              "\n",
              "    .dataframe tbody tr th {\n",
              "        vertical-align: top;\n",
              "    }\n",
              "\n",
              "    .dataframe thead th {\n",
              "        text-align: right;\n",
              "    }\n",
              "</style>\n",
              "<table border=\"1\" class=\"dataframe\">\n",
              "  <thead>\n",
              "    <tr style=\"text-align: right;\">\n",
              "      <th></th>\n",
              "      <th>Body ID</th>\n",
              "      <th>articleBody</th>\n",
              "      <th>articleBody_nostop</th>\n",
              "      <th>articleBody_lemma</th>\n",
              "      <th>articleBody_clean</th>\n",
              "      <th>articleBody_sentiment</th>\n",
              "      <th>articleBody_clean_truncated</th>\n",
              "    </tr>\n",
              "  </thead>\n",
              "  <tbody>\n",
              "    <tr>\n",
              "      <th>1678</th>\n",
              "      <td>2528</td>\n",
              "      <td>intelligence agencies hunting for identity of ...</td>\n",
              "      <td>intelligence agencies hunting identity jihadis...</td>\n",
              "      <td>intelligence agency hunt identity jihadist mur...</td>\n",
              "      <td>intelligence agency hunt identity jihadist mur...</td>\n",
              "      <td>Verynegative</td>\n",
              "      <td>intelligence agency hunt identity jihadist mur...</td>\n",
              "    </tr>\n",
              "    <tr>\n",
              "      <th>1679</th>\n",
              "      <td>2529</td>\n",
              "      <td>while daleks know no fear and must not fear th...</td>\n",
              "      <td>daleks know fear fear cold calculating robots ...</td>\n",
              "      <td>dalek know fear fear cold calculating robot dr...</td>\n",
              "      <td>know fear fear cold robot dr series exist real...</td>\n",
              "      <td>Negative</td>\n",
              "      <td>know fear fear cold robot dr series exist real...</td>\n",
              "    </tr>\n",
              "    <tr>\n",
              "      <th>1680</th>\n",
              "      <td>2530</td>\n",
              "      <td>more than schoolgirls were kidnapped in april ...</td>\n",
              "      <td>schoolgirls kidnapped april sparking bringback...</td>\n",
              "      <td>schoolgirls kidnap april spark bringbackourgir...</td>\n",
              "      <td>schoolgirls kidnap april spark bringbackourgir...</td>\n",
              "      <td>Negative</td>\n",
              "      <td>schoolgirls kidnap april spark bringbackourgir...</td>\n",
              "    </tr>\n",
              "    <tr>\n",
              "      <th>1681</th>\n",
              "      <td>2531</td>\n",
              "      <td>a guantanamo bay prisoner released last year a...</td>\n",
              "      <td>guantanamo bay prisoner released year exchange...</td>\n",
              "      <td>guantanamo bay prisoner release year exchange ...</td>\n",
              "      <td>guantanamo bay prisoner release year exchange ...</td>\n",
              "      <td>Verynegative</td>\n",
              "      <td>guantanamo bay prisoner release year exchange ...</td>\n",
              "    </tr>\n",
              "    <tr>\n",
              "      <th>1682</th>\n",
              "      <td>2532</td>\n",
              "      <td>ann arbor mich a pizza delivery man in michiga...</td>\n",
              "      <td>ann arbor mich pizza delivery man michigan got...</td>\n",
              "      <td>ann arbor mich pizza delivery man michigan get...</td>\n",
              "      <td>ann pizza delivery man get huge surprise speci...</td>\n",
              "      <td>Negative</td>\n",
              "      <td>ann pizza delivery man get huge surprise speci...</td>\n",
              "    </tr>\n",
              "  </tbody>\n",
              "</table>\n",
              "</div>"
            ],
            "text/plain": [
              "      Body ID  ...                        articleBody_clean_truncated\n",
              "1678     2528  ...  intelligence agency hunt identity jihadist mur...\n",
              "1679     2529  ...  know fear fear cold robot dr series exist real...\n",
              "1680     2530  ...  schoolgirls kidnap april spark bringbackourgir...\n",
              "1681     2531  ...  guantanamo bay prisoner release year exchange ...\n",
              "1682     2532  ...  ann pizza delivery man get huge surprise speci...\n",
              "\n",
              "[5 rows x 7 columns]"
            ]
          },
          "metadata": {
            "tags": []
          },
          "execution_count": 288
        }
      ]
    },
    {
      "cell_type": "code",
      "metadata": {
        "id": "lj5z2zhVRE67",
        "colab_type": "code",
        "outputId": "86c14559-db47-41a1-cb9c-1838d12d6293",
        "colab": {
          "base_uri": "https://localhost:8080/",
          "height": 34
        }
      },
      "source": [
        "# truncate articleBody to max 100 words\n",
        "data_train_bodies['articleBody_clean_truncated'] = ''\n",
        "for i in range(len(data_train_bodies['articleBody_clean'])):\n",
        "  if len(data_train_bodies['articleBody_clean'][i]) > 0:\n",
        "    truncate = data_train_bodies['articleBody_clean'][i].split()\n",
        "    data_train_bodies['articleBody_clean_truncated'][i] = truncate[0:100]\n",
        "    out.update(progress(i, len(data_train_bodies)))\n",
        "\n",
        "data_train_bodies.loc[:,\"articleBody_clean_truncated\"] = data_train_bodies.articleBody_clean_truncated.apply(lambda x : listToString(x))"
      ],
      "execution_count": 0,
      "outputs": [
        {
          "output_type": "display_data",
          "data": {
            "text/html": [
              "\n",
              "        <progress\n",
              "            value='1682'\n",
              "            max='1683',\n",
              "            style='width: 100%'\n",
              "        >\n",
              "            1682\n",
              "        </progress>\n",
              "    "
            ],
            "text/plain": [
              "<IPython.core.display.HTML object>"
            ]
          },
          "metadata": {
            "tags": []
          }
        }
      ]
    },
    {
      "cell_type": "code",
      "metadata": {
        "id": "uTCcyHqsYkvt",
        "colab_type": "code",
        "colab": {}
      },
      "source": [
        ""
      ],
      "execution_count": 0,
      "outputs": []
    },
    {
      "cell_type": "code",
      "metadata": {
        "id": "AWXUk12tExgV",
        "colab_type": "code",
        "outputId": "f830aa83-fe8d-46ce-a094-06eb413df209",
        "colab": {
          "base_uri": "https://localhost:8080/",
          "height": 204
        }
      },
      "source": [
        "data_train_headlines.head()"
      ],
      "execution_count": 0,
      "outputs": [
        {
          "output_type": "execute_result",
          "data": {
            "text/html": [
              "<div>\n",
              "<style scoped>\n",
              "    .dataframe tbody tr th:only-of-type {\n",
              "        vertical-align: middle;\n",
              "    }\n",
              "\n",
              "    .dataframe tbody tr th {\n",
              "        vertical-align: top;\n",
              "    }\n",
              "\n",
              "    .dataframe thead th {\n",
              "        text-align: right;\n",
              "    }\n",
              "</style>\n",
              "<table border=\"1\" class=\"dataframe\">\n",
              "  <thead>\n",
              "    <tr style=\"text-align: right;\">\n",
              "      <th></th>\n",
              "      <th>Headline</th>\n",
              "      <th>Body ID</th>\n",
              "      <th>Stance</th>\n",
              "      <th>Headline_nostop</th>\n",
              "      <th>Headline_lemma</th>\n",
              "      <th>Headline_clean</th>\n",
              "      <th>Headline_sentiment</th>\n",
              "    </tr>\n",
              "  </thead>\n",
              "  <tbody>\n",
              "    <tr>\n",
              "      <th>0</th>\n",
              "      <td>police find mass graves with at least bodies n...</td>\n",
              "      <td>712</td>\n",
              "      <td>unrelated</td>\n",
              "      <td>police mass graves bodies near mexico town stu...</td>\n",
              "      <td>police mass grave body near mexico town studen...</td>\n",
              "      <td>police mass grave body near mexico town studen...</td>\n",
              "      <td>Negative</td>\n",
              "    </tr>\n",
              "    <tr>\n",
              "      <th>1</th>\n",
              "      <td>hundreds of palestinians flee floods in gaza a...</td>\n",
              "      <td>158</td>\n",
              "      <td>agree</td>\n",
              "      <td>hundreds palestinians flee floods gaza israel ...</td>\n",
              "      <td>hundred palestinians flee flood gaza israel op...</td>\n",
              "      <td>flood gaza israel open</td>\n",
              "      <td>Neutral</td>\n",
              "    </tr>\n",
              "    <tr>\n",
              "      <th>2</th>\n",
              "      <td>christian bale passes on role of steve jobs ac...</td>\n",
              "      <td>137</td>\n",
              "      <td>unrelated</td>\n",
              "      <td>christian bale passes role steve jobs actor re...</td>\n",
              "      <td>christian bale pass role steve jobs actor repo...</td>\n",
              "      <td>christian bale pass role steve jobs actor repo...</td>\n",
              "      <td>Negative</td>\n",
              "    </tr>\n",
              "    <tr>\n",
              "      <th>3</th>\n",
              "      <td>hbo and apple in talks for month apple tv stre...</td>\n",
              "      <td>1034</td>\n",
              "      <td>unrelated</td>\n",
              "      <td>hbo apple talks month apple tv streaming servi...</td>\n",
              "      <td>hbo apple talks month apple tv streaming servi...</td>\n",
              "      <td>hbo apple talks month apple tv streaming servi...</td>\n",
              "      <td>Negative</td>\n",
              "    </tr>\n",
              "    <tr>\n",
              "      <th>4</th>\n",
              "      <td>spider burrowed through tourist stomach and up...</td>\n",
              "      <td>1923</td>\n",
              "      <td>disagree</td>\n",
              "      <td>spider burrowed tourist stomach chest</td>\n",
              "      <td>spider burrow tourist stomach chest</td>\n",
              "      <td>spider burrow tourist stomach chest</td>\n",
              "      <td>Negative</td>\n",
              "    </tr>\n",
              "  </tbody>\n",
              "</table>\n",
              "</div>"
            ],
            "text/plain": [
              "                                            Headline  ...  Headline_sentiment\n",
              "0  police find mass graves with at least bodies n...  ...            Negative\n",
              "1  hundreds of palestinians flee floods in gaza a...  ...             Neutral\n",
              "2  christian bale passes on role of steve jobs ac...  ...            Negative\n",
              "3  hbo and apple in talks for month apple tv stre...  ...            Negative\n",
              "4  spider burrowed through tourist stomach and up...  ...            Negative\n",
              "\n",
              "[5 rows x 7 columns]"
            ]
          },
          "metadata": {
            "tags": []
          },
          "execution_count": 292
        }
      ]
    },
    {
      "cell_type": "code",
      "metadata": {
        "id": "wux6c75xFKvH",
        "colab_type": "code",
        "outputId": "bf974031-2bc5-4df0-b651-2f73f06ed236",
        "colab": {
          "base_uri": "https://localhost:8080/",
          "height": 34
        }
      },
      "source": [
        "sentence = client.annotate(data_train_bodies.articleBody_clean[1], properties={ 'annotators': 'sentiment', 'outputFormat': 'json',})\n",
        "\n",
        "for s in sentence[\"sentences\"]:\n",
        "  print(s[\"sentiment\"])"
      ],
      "execution_count": 0,
      "outputs": [
        {
          "output_type": "stream",
          "text": [
            "Negative\n"
          ],
          "name": "stdout"
        }
      ]
    },
    {
      "cell_type": "code",
      "metadata": {
        "id": "4CDjC_fBEhTS",
        "colab_type": "code",
        "outputId": "0e0c5ebd-cbac-4711-f39b-0367b561f820",
        "colab": {
          "base_uri": "https://localhost:8080/",
          "height": 34
        }
      },
      "source": [
        "# create sentiment from articleBody\n",
        "data_train_bodies['articleBody_sentiment'] = ''\n",
        "for i in range(len(data_train_bodies)):\n",
        "  sentence = client.annotate(data_train_bodies.articleBody_clean_truncated[i], properties={ 'annotators': 'sentiment', 'outputFormat': 'json',})\n",
        "  for s in sentence[\"sentences\"]:\n",
        "    data_train_bodies[\"articleBody_sentiment\"][i] = s[\"sentiment\"]\n",
        "    out.update(progress(i, len(data_train_bodies))) "
      ],
      "execution_count": 0,
      "outputs": [
        {
          "output_type": "display_data",
          "data": {
            "text/html": [
              "\n",
              "        <progress\n",
              "            value='1682'\n",
              "            max='1683',\n",
              "            style='width: 100%'\n",
              "        >\n",
              "            1682\n",
              "        </progress>\n",
              "    "
            ],
            "text/plain": [
              "<IPython.core.display.HTML object>"
            ]
          },
          "metadata": {
            "tags": []
          }
        }
      ]
    },
    {
      "cell_type": "code",
      "metadata": {
        "id": "T-41eT4M7Hdg",
        "colab_type": "code",
        "outputId": "1b559d23-57ca-45c1-bd99-102cf711e182",
        "colab": {
          "base_uri": "https://localhost:8080/",
          "height": 34
        }
      },
      "source": [
        "# create sentiment from Headline\n",
        "data_train_headlines['Headline_sentiment'] = ''\n",
        "for i in range(len(data_train_headlines)):\n",
        "  sentence = client.annotate(data_train_headlines.Headline_clean[i], properties={ 'annotators': 'sentiment', 'outputFormat': 'json',})\n",
        "  for s in sentence[\"sentences\"]:\n",
        "    data_train_headlines[\"Headline_sentiment\"][i] = s[\"sentiment\"]\n",
        "    out.update(progress(i, len(data_train_headlines))) "
      ],
      "execution_count": 0,
      "outputs": [
        {
          "output_type": "display_data",
          "data": {
            "text/html": [
              "\n",
              "        <progress\n",
              "            value='49971'\n",
              "            max='49972',\n",
              "            style='width: 100%'\n",
              "        >\n",
              "            49971\n",
              "        </progress>\n",
              "    "
            ],
            "text/plain": [
              "<IPython.core.display.HTML object>"
            ]
          },
          "metadata": {
            "tags": []
          }
        }
      ]
    },
    {
      "cell_type": "code",
      "metadata": {
        "id": "9B9WN6ZsZpU6",
        "colab_type": "code",
        "colab": {}
      },
      "source": [
        "# save both dataframes as csv files\n",
        "data_train_headlines.to_csv('drive/My Drive/Colab Notebooks/headline_sentiment_train.csv')"
      ],
      "execution_count": 0,
      "outputs": []
    },
    {
      "cell_type": "code",
      "metadata": {
        "id": "g0i_x7fm62Ge",
        "colab_type": "code",
        "colab": {}
      },
      "source": [
        "data_train_bodies.to_csv('drive/My Drive/Colab Notebooks/body_sentiment_train.csv')"
      ],
      "execution_count": 0,
      "outputs": []
    },
    {
      "cell_type": "markdown",
      "metadata": {
        "id": "ShE360K9_1Ew",
        "colab_type": "text"
      },
      "source": [
        "#### Question Mark in Headline"
      ]
    },
    {
      "cell_type": "code",
      "metadata": {
        "id": "-gR4bXKUaEKS",
        "colab_type": "code",
        "colab": {}
      },
      "source": [
        "# load articleBody test data set\n",
        "link = 'https://drive.google.com/open?id=1-NtTKFcheteva_36o5eyh-b-ljPpkDjW' # The shareable link\n",
        "fluff, id = link.split('=')\n",
        "# loading bodies dataset\n",
        "downloaded = drive.CreateFile({'id':id}) \n",
        "downloaded.GetContentFile('Filename.csv')  \n",
        "df = pd.read_csv('Filename.csv')\n",
        "# Dataset is now stored in a Pandas Dataframe"
      ],
      "execution_count": 0,
      "outputs": []
    },
    {
      "cell_type": "code",
      "metadata": {
        "id": "6UCvveDE9ch6",
        "colab_type": "code",
        "colab": {}
      },
      "source": [
        "# load articleBody test data set\n",
        "link = 'https://drive.google.com/open?id=1FNFwunCI9ubhHMlHhqyzWZE1jht43wN_' # The shareable link\n",
        "fluff, id = link.split('=')\n",
        "# loading bodies dataset\n",
        "downloaded = drive.CreateFile({'id':id}) \n",
        "downloaded.GetContentFile('Filename.csv')  \n",
        "df_headline = pd.read_csv('Filename.csv')\n",
        "# Dataset is now stored in a Pandas Dataframe"
      ],
      "execution_count": 0,
      "outputs": []
    },
    {
      "cell_type": "code",
      "metadata": {
        "id": "63S-p8Y7CWZ8",
        "colab_type": "code",
        "colab": {}
      },
      "source": [
        "# load articleBody test data set\n",
        "link = 'https://drive.google.com/open?id=1-B5ynPUeRt4r8m8an63NsvFfqOyfaLAu' # The shareable link\n",
        "fluff, id = link.split('=')\n",
        "# loading bodies dataset\n",
        "downloaded = drive.CreateFile({'id':id}) \n",
        "downloaded.GetContentFile('Filename.csv')  \n",
        "head_sen = pd.read_csv('Filename.csv')\n",
        "# Dataset is now stored in a Pandas Dataframe"
      ],
      "execution_count": 0,
      "outputs": []
    },
    {
      "cell_type": "code",
      "metadata": {
        "id": "igRAy609CWr0",
        "colab_type": "code",
        "colab": {}
      },
      "source": [
        "# load articleBody test data set\n",
        "link = 'https://drive.google.com/open?id=1-KFa1kthRuP07nqLw2_isPI45dc3K_P4' # The shareable link\n",
        "fluff, id = link.split('=')\n",
        "# loading bodies dataset\n",
        "downloaded = drive.CreateFile({'id':id}) \n",
        "downloaded.GetContentFile('Filename.csv')  \n",
        "article_sen = pd.read_csv('Filename.csv')\n",
        "# Dataset is now stored in a Pandas Dataframe"
      ],
      "execution_count": 0,
      "outputs": []
    },
    {
      "cell_type": "code",
      "metadata": {
        "id": "P7tBKv-2Cs6T",
        "colab_type": "code",
        "outputId": "5ca4febb-f6a7-44d3-ba86-c9d8cfc52865",
        "colab": {
          "base_uri": "https://localhost:8080/",
          "height": 442
        }
      },
      "source": [
        "article_sen.tail()"
      ],
      "execution_count": 0,
      "outputs": [
        {
          "output_type": "execute_result",
          "data": {
            "text/html": [
              "<div>\n",
              "<style scoped>\n",
              "    .dataframe tbody tr th:only-of-type {\n",
              "        vertical-align: middle;\n",
              "    }\n",
              "\n",
              "    .dataframe tbody tr th {\n",
              "        vertical-align: top;\n",
              "    }\n",
              "\n",
              "    .dataframe thead th {\n",
              "        text-align: right;\n",
              "    }\n",
              "</style>\n",
              "<table border=\"1\" class=\"dataframe\">\n",
              "  <thead>\n",
              "    <tr style=\"text-align: right;\">\n",
              "      <th></th>\n",
              "      <th>Unnamed: 0</th>\n",
              "      <th>Body ID</th>\n",
              "      <th>articleBody</th>\n",
              "      <th>articleBody_nostop</th>\n",
              "      <th>articleBody_lemma</th>\n",
              "      <th>articleBody_clean</th>\n",
              "      <th>articleBody_sentiment</th>\n",
              "      <th>articleBody_clean_truncated</th>\n",
              "    </tr>\n",
              "  </thead>\n",
              "  <tbody>\n",
              "    <tr>\n",
              "      <th>1678</th>\n",
              "      <td>1678</td>\n",
              "      <td>2528</td>\n",
              "      <td>intelligence agencies hunting for identity of ...</td>\n",
              "      <td>intelligence agencies hunting identity jihadis...</td>\n",
              "      <td>intelligence agency hunt identity jihadist mur...</td>\n",
              "      <td>intelligence agency hunt identity jihadist mur...</td>\n",
              "      <td>Verynegative</td>\n",
              "      <td>intelligence agency hunt identity jihadist mur...</td>\n",
              "    </tr>\n",
              "    <tr>\n",
              "      <th>1679</th>\n",
              "      <td>1679</td>\n",
              "      <td>2529</td>\n",
              "      <td>while daleks know no fear and must not fear th...</td>\n",
              "      <td>daleks know fear fear cold calculating robots ...</td>\n",
              "      <td>dalek know fear fear cold calculating robot dr...</td>\n",
              "      <td>know fear fear cold robot dr series exist real...</td>\n",
              "      <td>Negative</td>\n",
              "      <td>know fear fear cold robot dr series exist real...</td>\n",
              "    </tr>\n",
              "    <tr>\n",
              "      <th>1680</th>\n",
              "      <td>1680</td>\n",
              "      <td>2530</td>\n",
              "      <td>more than schoolgirls were kidnapped in april ...</td>\n",
              "      <td>schoolgirls kidnapped april sparking bringback...</td>\n",
              "      <td>schoolgirls kidnap april spark bringbackourgir...</td>\n",
              "      <td>schoolgirls kidnap april spark bringbackourgir...</td>\n",
              "      <td>Negative</td>\n",
              "      <td>schoolgirls kidnap april spark bringbackourgir...</td>\n",
              "    </tr>\n",
              "    <tr>\n",
              "      <th>1681</th>\n",
              "      <td>1681</td>\n",
              "      <td>2531</td>\n",
              "      <td>a guantanamo bay prisoner released last year a...</td>\n",
              "      <td>guantanamo bay prisoner released year exchange...</td>\n",
              "      <td>guantanamo bay prisoner release year exchange ...</td>\n",
              "      <td>guantanamo bay prisoner release year exchange ...</td>\n",
              "      <td>Verynegative</td>\n",
              "      <td>guantanamo bay prisoner release year exchange ...</td>\n",
              "    </tr>\n",
              "    <tr>\n",
              "      <th>1682</th>\n",
              "      <td>1682</td>\n",
              "      <td>2532</td>\n",
              "      <td>ann arbor mich a pizza delivery man in michiga...</td>\n",
              "      <td>ann arbor mich pizza delivery man michigan got...</td>\n",
              "      <td>ann arbor mich pizza delivery man michigan get...</td>\n",
              "      <td>ann pizza delivery man get huge surprise speci...</td>\n",
              "      <td>Negative</td>\n",
              "      <td>ann pizza delivery man get huge surprise speci...</td>\n",
              "    </tr>\n",
              "  </tbody>\n",
              "</table>\n",
              "</div>"
            ],
            "text/plain": [
              "      Unnamed: 0  ...                        articleBody_clean_truncated\n",
              "1678        1678  ...  intelligence agency hunt identity jihadist mur...\n",
              "1679        1679  ...  know fear fear cold robot dr series exist real...\n",
              "1680        1680  ...  schoolgirls kidnap april spark bringbackourgir...\n",
              "1681        1681  ...  guantanamo bay prisoner release year exchange ...\n",
              "1682        1682  ...  ann pizza delivery man get huge surprise speci...\n",
              "\n",
              "[5 rows x 8 columns]"
            ]
          },
          "metadata": {
            "tags": []
          },
          "execution_count": 95
        }
      ]
    },
    {
      "cell_type": "code",
      "metadata": {
        "id": "w5ybuF0T9nyy",
        "colab_type": "code",
        "colab": {}
      },
      "source": [
        "df['Headline'] = df_headline['Headline']\n",
        "df['Headline_sentiment'] = head_sen['Headline_sentiment']"
      ],
      "execution_count": 0,
      "outputs": []
    },
    {
      "cell_type": "code",
      "metadata": {
        "id": "LnvBfV0KD2Ha",
        "colab_type": "code",
        "outputId": "ff2ce9d9-d513-45bc-8205-8c49b5ca0c29",
        "colab": {
          "base_uri": "https://localhost:8080/",
          "height": 34
        }
      },
      "source": [
        "# adding articleBody_sentiment to main data frame\n",
        "df[\"articleBody_sentiment\"]=''\n",
        "for i in range(len(df)):\n",
        "  for j in range(len(article_sen)):\n",
        "    if (article_sen[\"Body ID\"][j]==df[\"Body ID\"][i]):\n",
        "      df[\"articleBody_sentiment\"][i]=article_sen[\"articleBody_sentiment\"][j]\n",
        "      out.update(progress(i, len(df)))"
      ],
      "execution_count": 0,
      "outputs": [
        {
          "output_type": "display_data",
          "data": {
            "text/html": [
              "\n",
              "        <progress\n",
              "            value='49971'\n",
              "            max='49972',\n",
              "            style='width: 100%'\n",
              "        >\n",
              "            49971\n",
              "        </progress>\n",
              "    "
            ],
            "text/plain": [
              "<IPython.core.display.HTML object>"
            ]
          },
          "metadata": {
            "tags": []
          }
        }
      ]
    },
    {
      "cell_type": "code",
      "metadata": {
        "id": "fNMWEdjWbRVh",
        "colab_type": "code",
        "outputId": "4c459a77-2917-4941-ba6b-5874e10a1ff9",
        "colab": {
          "base_uri": "https://localhost:8080/",
          "height": 683
        }
      },
      "source": [
        "df.tail()\n",
        "#df = df.drop('Unnamed: 0', axis=1)"
      ],
      "execution_count": 0,
      "outputs": [
        {
          "output_type": "execute_result",
          "data": {
            "text/html": [
              "<div>\n",
              "<style scoped>\n",
              "    .dataframe tbody tr th:only-of-type {\n",
              "        vertical-align: middle;\n",
              "    }\n",
              "\n",
              "    .dataframe tbody tr th {\n",
              "        vertical-align: top;\n",
              "    }\n",
              "\n",
              "    .dataframe thead th {\n",
              "        text-align: right;\n",
              "    }\n",
              "</style>\n",
              "<table border=\"1\" class=\"dataframe\">\n",
              "  <thead>\n",
              "    <tr style=\"text-align: right;\">\n",
              "      <th></th>\n",
              "      <th>Body ID</th>\n",
              "      <th>Stance</th>\n",
              "      <th>Headline_clean</th>\n",
              "      <th>articleBody</th>\n",
              "      <th>Headline</th>\n",
              "      <th>Headline_sentiment</th>\n",
              "      <th>articleBody_sentiment</th>\n",
              "      <th>question_mark</th>\n",
              "      <th>word_overlap</th>\n",
              "      <th>cosine_similarity</th>\n",
              "    </tr>\n",
              "  </thead>\n",
              "  <tbody>\n",
              "    <tr>\n",
              "      <th>49940</th>\n",
              "      <td>1681</td>\n",
              "      <td>unrelated</td>\n",
              "      <td>urgent leader isil abu bakr al baghdadi kill p...</td>\n",
              "      <td>cnn boko haram laugh nigeria announcement ceas...</td>\n",
              "      <td>Urgent: The Leader of ISIL 'Abu Bakr al-Baghda...</td>\n",
              "      <td>Negative</td>\n",
              "      <td>Negative</td>\n",
              "      <td>0</td>\n",
              "      <td>0.629630</td>\n",
              "      <td>0.017174</td>\n",
              "    </tr>\n",
              "    <tr>\n",
              "      <th>49941</th>\n",
              "      <td>2419</td>\n",
              "      <td>unrelated</td>\n",
              "      <td>brian williams social media weatherman mike se...</td>\n",
              "      <td>unveil apple watch early year company announce...</td>\n",
              "      <td>Brian Williams slams social media for speculat...</td>\n",
              "      <td>Negative</td>\n",
              "      <td>Negative</td>\n",
              "      <td>0</td>\n",
              "      <td>0.739130</td>\n",
              "      <td>0.000000</td>\n",
              "    </tr>\n",
              "    <tr>\n",
              "      <th>49942</th>\n",
              "      <td>1156</td>\n",
              "      <td>agree</td>\n",
              "      <td>mexico say miss student mass grave</td>\n",
              "      <td>mass grave confirm miss student</td>\n",
              "      <td>Mexico Says Missing Students Not Found In Firs...</td>\n",
              "      <td>Neutral</td>\n",
              "      <td>Negative</td>\n",
              "      <td>0</td>\n",
              "      <td>0.833333</td>\n",
              "      <td>0.436038</td>\n",
              "    </tr>\n",
              "    <tr>\n",
              "      <th>49943</th>\n",
              "      <td>1012</td>\n",
              "      <td>discuss</td>\n",
              "      <td>lawmaker isis fighter apprehend come southern ...</td>\n",
              "      <td>rep duncan hunter r ca tell greta van susteren...</td>\n",
              "      <td>US Lawmaker: Ten ISIS Fighters Have Been Appre...</td>\n",
              "      <td>Negative</td>\n",
              "      <td>Negative</td>\n",
              "      <td>0</td>\n",
              "      <td>0.846154</td>\n",
              "      <td>0.289841</td>\n",
              "    </tr>\n",
              "    <tr>\n",
              "      <th>49944</th>\n",
              "      <td>2044</td>\n",
              "      <td>unrelated</td>\n",
              "      <td>shot hear allege brown shooting recording audio</td>\n",
              "      <td>married tv actor meet young woman wake testicl...</td>\n",
              "      <td>Shots Heard In Alleged Brown Shooting Recordin...</td>\n",
              "      <td>Neutral</td>\n",
              "      <td>Negative</td>\n",
              "      <td>0</td>\n",
              "      <td>0.739130</td>\n",
              "      <td>0.000000</td>\n",
              "    </tr>\n",
              "  </tbody>\n",
              "</table>\n",
              "</div>"
            ],
            "text/plain": [
              "       Body ID     Stance  ... word_overlap cosine_similarity\n",
              "49940     1681  unrelated  ...     0.629630          0.017174\n",
              "49941     2419  unrelated  ...     0.739130          0.000000\n",
              "49942     1156      agree  ...     0.833333          0.436038\n",
              "49943     1012    discuss  ...     0.846154          0.289841\n",
              "49944     2044  unrelated  ...     0.739130          0.000000\n",
              "\n",
              "[5 rows x 10 columns]"
            ]
          },
          "metadata": {
            "tags": []
          },
          "execution_count": 154
        }
      ]
    },
    {
      "cell_type": "code",
      "metadata": {
        "id": "sCkNhSup9069",
        "colab_type": "code",
        "colab": {}
      },
      "source": [
        "import re\n",
        "\n",
        "question_mark = []\n",
        "for i in range(len(df)):\n",
        "  if '?' in df.Headline[i]:\n",
        "    question = 1\n",
        "    question_mark.append(question)\n",
        "  else:\n",
        "    question = 0 \n",
        "    question_mark.append(question)"
      ],
      "execution_count": 0,
      "outputs": []
    },
    {
      "cell_type": "code",
      "metadata": {
        "id": "BXrvbEny97EL",
        "colab_type": "code",
        "colab": {}
      },
      "source": [
        "df['question_mark'] = question_mark"
      ],
      "execution_count": 0,
      "outputs": []
    },
    {
      "cell_type": "markdown",
      "metadata": {
        "id": "iZXROq-gAOTP",
        "colab_type": "text"
      },
      "source": [
        "#### Creating Word Overlap"
      ]
    },
    {
      "cell_type": "code",
      "metadata": {
        "id": "Qz2cmxTHqIOM",
        "colab_type": "code",
        "colab": {}
      },
      "source": [
        "df = df.dropna()"
      ],
      "execution_count": 0,
      "outputs": []
    },
    {
      "cell_type": "code",
      "metadata": {
        "id": "VdObh9gJvifB",
        "colab_type": "code",
        "colab": {}
      },
      "source": [
        "df = df.reset_index(drop=True)"
      ],
      "execution_count": 0,
      "outputs": []
    },
    {
      "cell_type": "code",
      "metadata": {
        "id": "ioX59dH4utq_",
        "colab_type": "code",
        "outputId": "767803a4-296f-4e04-b21f-db34a6f9a961",
        "colab": {
          "base_uri": "https://localhost:8080/",
          "height": 170
        }
      },
      "source": [
        "df.isna().sum()"
      ],
      "execution_count": 0,
      "outputs": [
        {
          "output_type": "execute_result",
          "data": {
            "text/plain": [
              "Body ID                  0\n",
              "Stance                   0\n",
              "Headline_clean           0\n",
              "articleBody              0\n",
              "Headline                 0\n",
              "Headline_sentiment       0\n",
              "articleBody_sentiment    0\n",
              "question_mark            0\n",
              "dtype: int64"
            ]
          },
          "metadata": {
            "tags": []
          },
          "execution_count": 135
        }
      ]
    },
    {
      "cell_type": "code",
      "metadata": {
        "id": "djUVGjOGqwhT",
        "colab_type": "code",
        "outputId": "f7930e76-58fa-4bde-ff33-e8f0d4b233ff",
        "colab": {
          "base_uri": "https://localhost:8080/",
          "height": 34
        }
      },
      "source": [
        "df['Headline_clean'][10]\n"
      ],
      "execution_count": 0,
      "outputs": [
        {
          "output_type": "execute_result",
          "data": {
            "text/plain": [
              "'woman detain lebanon al baghdadi wife iraq say'"
            ]
          },
          "metadata": {
            "tags": []
          },
          "execution_count": 136
        }
      ]
    },
    {
      "cell_type": "code",
      "metadata": {
        "id": "AFK7r1aOZVLQ",
        "colab_type": "code",
        "colab": {}
      },
      "source": [
        "word_overlap = []\n",
        "for i in range(len(df)):\n",
        "  features = len(set(df.Headline_clean[i]).intersection(df.articleBody[i])) / float(len(set(df.Headline_clean[i]).union(df.articleBody[i])))\n",
        "  word_overlap.append(features)"
      ],
      "execution_count": 0,
      "outputs": []
    },
    {
      "cell_type": "code",
      "metadata": {
        "id": "8GL4CT51wKYI",
        "colab_type": "code",
        "colab": {}
      },
      "source": [
        "df['word_overlap'] = word_overlap"
      ],
      "execution_count": 0,
      "outputs": []
    },
    {
      "cell_type": "markdown",
      "metadata": {
        "id": "BvQSEWSrAjy9",
        "colab_type": "text"
      },
      "source": [
        "#### Extracting Cosine Similarities"
      ]
    },
    {
      "cell_type": "code",
      "metadata": {
        "id": "I_irXzh90xUe",
        "colab_type": "code",
        "colab": {}
      },
      "source": [
        "def extract_cosine_similarity(headlines, bodies):\n",
        "    vectorizer = TfidfVectorizer(ngram_range=(1,2))\n",
        "\n",
        "    cos_sim_features = []\n",
        "    for i in range(0, len(bodies)):\n",
        "        body_vs_headline = []\n",
        "        body_vs_headline.append(bodies[i])\n",
        "        body_vs_headline.append(headlines[i])\n",
        "        tfidf = vectorizer.fit_transform(body_vs_headline)\n",
        "        \n",
        "        cosine_similarity = (tfidf * tfidf.T).A\n",
        "        cos_sim_features.append(cosine_similarity[0][1])\n",
        "\n",
        "    cos_sim_array = np.array(cos_sim_features)\n",
        "\n",
        "    return cos_sim_array"
      ],
      "execution_count": 0,
      "outputs": []
    },
    {
      "cell_type": "code",
      "metadata": {
        "id": "9MjU-n_11cce",
        "colab_type": "code",
        "colab": {}
      },
      "source": [
        "import scipy\n",
        "from sklearn.feature_extraction.text import TfidfVectorizer\n",
        "from scipy.sparse import coo_matrix\n",
        "from scipy import sparse"
      ],
      "execution_count": 0,
      "outputs": []
    },
    {
      "cell_type": "code",
      "metadata": {
        "id": "aevajbVE1Qqn",
        "colab_type": "code",
        "colab": {}
      },
      "source": [
        "cosine_similarity = extract_cosine_similarity(df.Headline_clean, df.articleBody)"
      ],
      "execution_count": 0,
      "outputs": []
    },
    {
      "cell_type": "code",
      "metadata": {
        "id": "3LUZCPJm1AWX",
        "colab_type": "code",
        "colab": {}
      },
      "source": [
        "df['cosine_similarity'] = cosine_similarity"
      ],
      "execution_count": 0,
      "outputs": []
    },
    {
      "cell_type": "code",
      "metadata": {
        "id": "enaPMdkSRkqP",
        "colab_type": "code",
        "outputId": "253e8ee5-baa6-4dae-9531-4e173c1831ad",
        "colab": {
          "base_uri": "https://localhost:8080/",
          "height": 34
        }
      },
      "source": [
        "# mounting drive for clean dataframe\n",
        "from google.colab import drive\n",
        "drive.mount('drive')"
      ],
      "execution_count": 0,
      "outputs": [
        {
          "output_type": "stream",
          "text": [
            "Drive already mounted at drive; to attempt to forcibly remount, call drive.mount(\"drive\", force_remount=True).\n"
          ],
          "name": "stdout"
        }
      ]
    },
    {
      "cell_type": "code",
      "metadata": {
        "id": "UkQUB-YkR09k",
        "colab_type": "code",
        "colab": {}
      },
      "source": [
        "# save both dataframes as csv files\n",
        "df.to_csv('drive/My Drive/Colab Notebooks/clean_train_features_final.csv')"
      ],
      "execution_count": 0,
      "outputs": []
    },
    {
      "cell_type": "markdown",
      "metadata": {
        "id": "2nWNzRJ3BurL",
        "colab_type": "text"
      },
      "source": [
        "### Feature Extraction"
      ]
    },
    {
      "cell_type": "code",
      "metadata": {
        "id": "pP7JgiUiuGsy",
        "colab_type": "code",
        "colab": {}
      },
      "source": [
        "# load clean data set\n",
        "link = 'https://drive.google.com/open?id=1-2AIUqFkwqgFhWHUTX33Q_v5oSOBKAU9' # The shareable link\n",
        "fluff, id = link.split('=')\n",
        "downloaded = drive.CreateFile({'id':id}) \n",
        "downloaded.GetContentFile('Filename.csv')  \n",
        "df = pd.read_csv('Filename.csv')\n",
        "# Dataset is now stored in a Pandas Dataframe"
      ],
      "execution_count": 0,
      "outputs": []
    },
    {
      "cell_type": "code",
      "metadata": {
        "id": "p_BF8d60uWH2",
        "colab_type": "code",
        "outputId": "557f9f32-3578-4515-eceb-0e138017a2ae",
        "colab": {
          "base_uri": "https://localhost:8080/",
          "height": 204
        }
      },
      "source": [
        "df = df.drop(['Headline' , 'Unnamed: 0'], axis=1)\n",
        "df.tail()"
      ],
      "execution_count": 0,
      "outputs": [
        {
          "output_type": "execute_result",
          "data": {
            "text/html": [
              "<div>\n",
              "<style scoped>\n",
              "    .dataframe tbody tr th:only-of-type {\n",
              "        vertical-align: middle;\n",
              "    }\n",
              "\n",
              "    .dataframe tbody tr th {\n",
              "        vertical-align: top;\n",
              "    }\n",
              "\n",
              "    .dataframe thead th {\n",
              "        text-align: right;\n",
              "    }\n",
              "</style>\n",
              "<table border=\"1\" class=\"dataframe\">\n",
              "  <thead>\n",
              "    <tr style=\"text-align: right;\">\n",
              "      <th></th>\n",
              "      <th>Body ID</th>\n",
              "      <th>Stance</th>\n",
              "      <th>Headline_clean</th>\n",
              "      <th>articleBody</th>\n",
              "      <th>Headline_sentiment</th>\n",
              "      <th>articleBody_sentiment</th>\n",
              "      <th>question_mark</th>\n",
              "      <th>word_overlap</th>\n",
              "      <th>cosine_similarity</th>\n",
              "    </tr>\n",
              "  </thead>\n",
              "  <tbody>\n",
              "    <tr>\n",
              "      <th>49940</th>\n",
              "      <td>1681</td>\n",
              "      <td>unrelated</td>\n",
              "      <td>urgent leader isil abu bakr al baghdadi kill p...</td>\n",
              "      <td>cnn boko haram laugh nigeria announcement ceas...</td>\n",
              "      <td>Negative</td>\n",
              "      <td>Negative</td>\n",
              "      <td>0</td>\n",
              "      <td>0.629630</td>\n",
              "      <td>0.017174</td>\n",
              "    </tr>\n",
              "    <tr>\n",
              "      <th>49941</th>\n",
              "      <td>2419</td>\n",
              "      <td>unrelated</td>\n",
              "      <td>brian williams social media weatherman mike se...</td>\n",
              "      <td>unveil apple watch early year company announce...</td>\n",
              "      <td>Negative</td>\n",
              "      <td>Negative</td>\n",
              "      <td>0</td>\n",
              "      <td>0.739130</td>\n",
              "      <td>0.000000</td>\n",
              "    </tr>\n",
              "    <tr>\n",
              "      <th>49942</th>\n",
              "      <td>1156</td>\n",
              "      <td>agree</td>\n",
              "      <td>mexico say miss student mass grave</td>\n",
              "      <td>mass grave confirm miss student</td>\n",
              "      <td>Neutral</td>\n",
              "      <td>Negative</td>\n",
              "      <td>0</td>\n",
              "      <td>0.833333</td>\n",
              "      <td>0.436038</td>\n",
              "    </tr>\n",
              "    <tr>\n",
              "      <th>49943</th>\n",
              "      <td>1012</td>\n",
              "      <td>discuss</td>\n",
              "      <td>lawmaker isis fighter apprehend come southern ...</td>\n",
              "      <td>rep duncan hunter r ca tell greta van susteren...</td>\n",
              "      <td>Negative</td>\n",
              "      <td>Negative</td>\n",
              "      <td>0</td>\n",
              "      <td>0.846154</td>\n",
              "      <td>0.289841</td>\n",
              "    </tr>\n",
              "    <tr>\n",
              "      <th>49944</th>\n",
              "      <td>2044</td>\n",
              "      <td>unrelated</td>\n",
              "      <td>shot hear allege brown shooting recording audio</td>\n",
              "      <td>married tv actor meet young woman wake testicl...</td>\n",
              "      <td>Neutral</td>\n",
              "      <td>Negative</td>\n",
              "      <td>0</td>\n",
              "      <td>0.739130</td>\n",
              "      <td>0.000000</td>\n",
              "    </tr>\n",
              "  </tbody>\n",
              "</table>\n",
              "</div>"
            ],
            "text/plain": [
              "       Body ID     Stance  ... word_overlap cosine_similarity\n",
              "49940     1681  unrelated  ...     0.629630          0.017174\n",
              "49941     2419  unrelated  ...     0.739130          0.000000\n",
              "49942     1156      agree  ...     0.833333          0.436038\n",
              "49943     1012    discuss  ...     0.846154          0.289841\n",
              "49944     2044  unrelated  ...     0.739130          0.000000\n",
              "\n",
              "[5 rows x 9 columns]"
            ]
          },
          "metadata": {
            "tags": []
          },
          "execution_count": 7
        }
      ]
    },
    {
      "cell_type": "markdown",
      "metadata": {
        "id": "KykQL60luH2Y",
        "colab_type": "text"
      },
      "source": [
        "#### Bag-of-Words Model"
      ]
    },
    {
      "cell_type": "code",
      "metadata": {
        "id": "tlgwgnbmub3Q",
        "colab_type": "code",
        "colab": {}
      },
      "source": [
        "import scipy.sparse as sp\n",
        "from sklearn.feature_extraction.text import CountVectorizer\n",
        "cv = CountVectorizer(analyzer='word', lowercase=False)"
      ],
      "execution_count": 0,
      "outputs": []
    },
    {
      "cell_type": "code",
      "metadata": {
        "id": "QMLyg1ELuif7",
        "colab_type": "code",
        "colab": {}
      },
      "source": [
        "articleBody_BOW = cv.fit_transform(df['articleBody'])\n",
        "Headline_BOW = cv.fit_transform(df['Headline_clean'])\n",
        "combined_BOW = sp.hstack([Headline_BOW, articleBody_BOW], format='csr')"
      ],
      "execution_count": 0,
      "outputs": []
    },
    {
      "cell_type": "markdown",
      "metadata": {
        "id": "5OE3zGCaxu0z",
        "colab_type": "text"
      },
      "source": [
        "#### TF-IDF Model"
      ]
    },
    {
      "cell_type": "code",
      "metadata": {
        "id": "e1GILCk4xzxU",
        "colab_type": "code",
        "colab": {}
      },
      "source": [
        "from sklearn.feature_extraction.text import TfidfVectorizer\n",
        "tfidf = TfidfVectorizer(analyzer='word', lowercase=False)"
      ],
      "execution_count": 0,
      "outputs": []
    },
    {
      "cell_type": "code",
      "metadata": {
        "id": "ZNVNX5-Qx_a5",
        "colab_type": "code",
        "colab": {}
      },
      "source": [
        "articleBody_TFIDF = tfidf.fit_transform(df['articleBody'])\n",
        "Headline_TFIDF = tfidf.fit_transform(df['Headline_clean'])\n",
        "combined_TFIDF = sp.hstack([Headline_TFIDF, articleBody_TFIDF, ], format='csr')"
      ],
      "execution_count": 0,
      "outputs": []
    },
    {
      "cell_type": "markdown",
      "metadata": {
        "id": "VTwNlh6b9Ih8",
        "colab_type": "text"
      },
      "source": [
        "### Feature Selection"
      ]
    },
    {
      "cell_type": "markdown",
      "metadata": {
        "id": "-40lLLOp9N37",
        "colab_type": "text"
      },
      "source": [
        "#### Univariate Selection BOW"
      ]
    },
    {
      "cell_type": "code",
      "metadata": {
        "id": "dmrlUCpG9NIz",
        "colab_type": "code",
        "colab": {}
      },
      "source": [
        "from pandas import read_csv\n",
        "from numpy import set_printoptions\n",
        "from sklearn.feature_selection import SelectKBest\n",
        "from sklearn.feature_selection import f_classif\n",
        "\n",
        "\n",
        "X = combined_BOW\n",
        "Y = df.Stance\n",
        "\n",
        "# feature extraction\n",
        "test = SelectKBest(score_func=f_classif, k=1000)\n",
        "fit = test.fit(X, Y)\n",
        "# summarize scores\n",
        "set_printoptions(precision=8)\n",
        "features_1000 = fit.transform(X)"
      ],
      "execution_count": 0,
      "outputs": []
    },
    {
      "cell_type": "markdown",
      "metadata": {
        "id": "x5ALLirTOLyy",
        "colab_type": "text"
      },
      "source": [
        "#### Univariate Selection TFIDF"
      ]
    },
    {
      "cell_type": "code",
      "metadata": {
        "id": "VMVQ2gbyOTc4",
        "colab_type": "code",
        "colab": {}
      },
      "source": [
        "X = combined_TFIDF\n",
        "Y = df.Stance\n",
        "\n",
        "# feature extraction\n",
        "test = SelectKBest(score_func=f_classif, k=1000)\n",
        "fit = test.fit(X, Y)\n",
        "# summarize scores\n",
        "set_printoptions(precision=8)\n",
        "features_1000_TFIDF = fit.transform(X)"
      ],
      "execution_count": 0,
      "outputs": []
    },
    {
      "cell_type": "markdown",
      "metadata": {
        "id": "U0TNlbZH9xH6",
        "colab_type": "text"
      },
      "source": [
        "#### Feature Importance BOW"
      ]
    },
    {
      "cell_type": "code",
      "metadata": {
        "id": "LtzI57as9wW0",
        "colab_type": "code",
        "outputId": "8a92367b-4a3e-4d14-afe4-3e08d5005d6c",
        "colab": {
          "base_uri": "https://localhost:8080/",
          "height": 34
        }
      },
      "source": [
        "from pandas import read_csv\n",
        "from sklearn.ensemble import ExtraTreesClassifier\n",
        "\n",
        "X = combined_BOW\n",
        "Y = df.Stance\n",
        "\n",
        "# feature extraction\n",
        "model = ExtraTreesClassifier(n_estimators=10)\n",
        "model.fit(X, Y)\n",
        "print(model.feature_importances_)"
      ],
      "execution_count": 0,
      "outputs": [
        {
          "output_type": "stream",
          "text": [
            "[1.692e-04 2.679e-04 8.137e-05 ... 0.000e+00 4.396e-05 1.228e-05]\n"
          ],
          "name": "stdout"
        }
      ]
    },
    {
      "cell_type": "markdown",
      "metadata": {
        "id": "Zb7HMi4xywDj",
        "colab_type": "text"
      },
      "source": [
        "### Word Embadings"
      ]
    },
    {
      "cell_type": "markdown",
      "metadata": {
        "id": "KnrEKjpt1NBL",
        "colab_type": "text"
      },
      "source": [
        "####  Bigrams"
      ]
    },
    {
      "cell_type": "code",
      "metadata": {
        "id": "vftb-FoV0iVv",
        "colab_type": "code",
        "colab": {}
      },
      "source": [
        "from gensim.models.phrases import Phrases, Phraser\n",
        "words_headline = [row.split() for row in df['Headline_clean']]\n",
        "words_body = [row.split() for row in df['articleBody']]\n",
        "words = words_headline + words_body\n",
        "\n",
        "# creating relevant phrases\n",
        "phrases = Phrases(words, min_count=20, threshold=80)\n",
        "\n",
        "# creating bigrams\n",
        "bigrams = Phraser(phrases)\n",
        "\n",
        "dictionary = bigrams[words]"
      ],
      "execution_count": 0,
      "outputs": []
    },
    {
      "cell_type": "markdown",
      "metadata": {
        "id": "ubW8qNAS1Uts",
        "colab_type": "text"
      },
      "source": [
        "#### Word2Vec"
      ]
    },
    {
      "cell_type": "markdown",
      "metadata": {
        "id": "t7syjjDQ1nsb",
        "colab_type": "text"
      },
      "source": [
        "\n",
        "*   min_count = int - Ignores all words with total absolute frequency lower than this - (2, 100)\n",
        "*   window = int - The maximum distance between the current and predicted word within a sentence. E.g. window words on the left and window words on the left of our target - (2, 10)\n",
        "\n",
        "*   size = int - Dimensionality of the feature vectors. - (50, 300)\n",
        "\n",
        "*   sample = float - The threshold for configuring which higher-frequency words are randomly downsampled. Highly influencial. - (0, 1e-5)\n",
        "*   Lalpha = float - The initial learning rate - (0.01, 0.05)\n",
        "\n",
        "\n",
        "*   min_alpha = float - Learning rate will linearly drop to min_alpha as training progresses. To set it: alpha - (min_alpha * epochs) ~ 0.00\n",
        "\n",
        "*   negative = int - If > 0, negative sampling will be used, the int for negative \n",
        "*   specifies how many \"noise words\" should be drown. If set to 0, no negative sampling is used. - (5, 20)\n",
        "\n"
      ]
    },
    {
      "cell_type": "code",
      "metadata": {
        "id": "tOLtyzwK1XmY",
        "colab_type": "code",
        "colab": {}
      },
      "source": [
        "from gensim.models import Word2Vec\n",
        "\n",
        "w2v_model = Word2Vec(min_count=10,\n",
        "                     window=2,\n",
        "                     size=300,\n",
        "                     sample=6e-5, \n",
        "                     alpha=0.03, \n",
        "                     min_alpha=0.0007, \n",
        "                     negative=20)\n",
        "\n",
        "# Building vocabulary\n",
        "w2v_model.build_vocab(dictionary, progress_per=10000)\n",
        "\n",
        "# Building model\n",
        "w2v_model.train(dictionary, total_examples=w2v_model.corpus_count, epochs=30, report_delay=1)\n",
        "\n",
        "w2v_model.most_similar(positive=[\"isis\"])"
      ],
      "execution_count": 0,
      "outputs": []
    },
    {
      "cell_type": "markdown",
      "metadata": {
        "id": "oF-YL-4o121N",
        "colab_type": "text"
      },
      "source": [
        "#### GloVe"
      ]
    },
    {
      "cell_type": "code",
      "metadata": {
        "id": "PN3hNPNNrnsK",
        "colab_type": "code",
        "outputId": "40bbb24d-9594-4501-bdab-f547816b6cc2",
        "colab": {
          "base_uri": "https://localhost:8080/",
          "height": 241
        }
      },
      "source": [
        "!pip install glove_python"
      ],
      "execution_count": 0,
      "outputs": [
        {
          "output_type": "stream",
          "text": [
            "Collecting glove_python\n",
            "\u001b[?25l  Downloading https://files.pythonhosted.org/packages/3e/79/7e7e548dd9dcb741935d031117f4bed133276c2a047aadad42f1552d1771/glove_python-0.1.0.tar.gz (263kB)\n",
            "\r\u001b[K     |█▎                              | 10kB 20.7MB/s eta 0:00:01\r\u001b[K     |██▌                             | 20kB 2.2MB/s eta 0:00:01\r\u001b[K     |███▊                            | 30kB 3.2MB/s eta 0:00:01\r\u001b[K     |█████                           | 40kB 2.1MB/s eta 0:00:01\r\u001b[K     |██████▎                         | 51kB 2.6MB/s eta 0:00:01\r\u001b[K     |███████▌                        | 61kB 3.1MB/s eta 0:00:01\r\u001b[K     |████████▊                       | 71kB 3.6MB/s eta 0:00:01\r\u001b[K     |██████████                      | 81kB 2.8MB/s eta 0:00:01\r\u001b[K     |███████████▏                    | 92kB 3.1MB/s eta 0:00:01\r\u001b[K     |████████████▌                   | 102kB 3.4MB/s eta 0:00:01\r\u001b[K     |█████████████▊                  | 112kB 3.4MB/s eta 0:00:01\r\u001b[K     |███████████████                 | 122kB 3.4MB/s eta 0:00:01\r\u001b[K     |████████████████▏               | 133kB 3.4MB/s eta 0:00:01\r\u001b[K     |█████████████████▍              | 143kB 3.4MB/s eta 0:00:01\r\u001b[K     |██████████████████▊             | 153kB 3.4MB/s eta 0:00:01\r\u001b[K     |████████████████████            | 163kB 3.4MB/s eta 0:00:01\r\u001b[K     |█████████████████████▏          | 174kB 3.4MB/s eta 0:00:01\r\u001b[K     |██████████████████████▍         | 184kB 3.4MB/s eta 0:00:01\r\u001b[K     |███████████████████████▋        | 194kB 3.4MB/s eta 0:00:01\r\u001b[K     |█████████████████████████       | 204kB 3.4MB/s eta 0:00:01\r\u001b[K     |██████████████████████████▏     | 215kB 3.4MB/s eta 0:00:01\r\u001b[K     |███████████████████████████▍    | 225kB 3.4MB/s eta 0:00:01\r\u001b[K     |████████████████████████████▋   | 235kB 3.4MB/s eta 0:00:01\r\u001b[K     |█████████████████████████████▉  | 245kB 3.4MB/s eta 0:00:01\r\u001b[K     |███████████████████████████████▏| 256kB 3.4MB/s eta 0:00:01\r\u001b[K     |████████████████████████████████| 266kB 3.4MB/s \n",
            "\u001b[?25hRequirement already satisfied: numpy in /usr/local/lib/python3.6/dist-packages (from glove_python) (1.18.3)\n",
            "Requirement already satisfied: scipy in /usr/local/lib/python3.6/dist-packages (from glove_python) (1.4.1)\n",
            "Building wheels for collected packages: glove-python\n",
            "  Building wheel for glove-python (setup.py) ... \u001b[?25l\u001b[?25hdone\n",
            "  Created wheel for glove-python: filename=glove_python-0.1.0-cp36-cp36m-linux_x86_64.whl size=700245 sha256=fff10492a01dbafa18999826e4a012f4e5cc6a02fac03b0c0a426eab322dfca6\n",
            "  Stored in directory: /root/.cache/pip/wheels/88/4b/6d/10c0d2ad32c9d9d68beec9694a6f0b6e83ab1662a90a089a4b\n",
            "Successfully built glove-python\n",
            "Installing collected packages: glove-python\n",
            "Successfully installed glove-python-0.1.0\n"
          ],
          "name": "stdout"
        }
      ]
    },
    {
      "cell_type": "code",
      "metadata": {
        "id": "7P8LOHLY5llb",
        "colab_type": "code",
        "colab": {}
      },
      "source": [
        "import nltk\n",
        "from nltk.stem.wordnet import WordNetLemmatizer\n",
        "w_tokenizer = nltk.tokenize.WhitespaceTokenizer()\n",
        "sentences =  df.articleBody.apply(lambda x : w_tokenizer.tokenize(x))"
      ],
      "execution_count": 0,
      "outputs": []
    },
    {
      "cell_type": "code",
      "metadata": {
        "id": "YsqVtAXeAoTF",
        "colab_type": "code",
        "outputId": "b998061c-a0fc-4f2c-fc81-c41d5b462e74",
        "colab": {
          "base_uri": "https://localhost:8080/",
          "height": 221
        }
      },
      "source": [
        "sentences"
      ],
      "execution_count": 0,
      "outputs": [
        {
          "output_type": "execute_result",
          "data": {
            "text/plain": [
              "0        [danny, boyle, direct, film, seth, rogen, play...\n",
              "1        [evacuate, home, sunday, morning, israeli, aut...\n",
              "2        [year, old, moscow, resident, hospitalize, wou...\n",
              "3        [reuters, canadian, soldier, shoot, canadian, ...\n",
              "4        [fear, story, bunbury, scientist, cast, doubt,...\n",
              "                               ...                        \n",
              "49940    [cnn, boko, haram, laugh, nigeria, announcemen...\n",
              "49941    [unveil, apple, watch, early, year, company, a...\n",
              "49942                [mass, grave, confirm, miss, student]\n",
              "49943    [rep, duncan, hunter, r, ca, tell, greta, van,...\n",
              "49944    [married, tv, actor, meet, young, woman, wake,...\n",
              "Name: articleBody, Length: 49945, dtype: object"
            ]
          },
          "metadata": {
            "tags": []
          },
          "execution_count": 71
        }
      ]
    },
    {
      "cell_type": "code",
      "metadata": {
        "id": "IG0Lte2Dwd3U",
        "colab_type": "code",
        "outputId": "094ad58d-733a-46a6-e2fc-81fadf6020ec",
        "colab": {
          "base_uri": "https://localhost:8080/",
          "height": 204
        }
      },
      "source": [
        "import itertools\n",
        "from glove import Corpus, Glove\n",
        "\n",
        "corpus_articleBody = Corpus()\n",
        "\n",
        "corpus_articleBody.fit(sentences, window=10)\n",
        "glove_articleBody = Glove(no_components=100, learning_rate=0.05)\n",
        "glove_articleBody.fit(corpus_articleBody.matrix, epochs=10, no_threads=4, verbose=True)\n",
        "glove_articleBody.add_dictionary(corpus_articleBody.dictionary)"
      ],
      "execution_count": 0,
      "outputs": [
        {
          "output_type": "stream",
          "text": [
            "Performing 10 training epochs with 4 threads\n",
            "Epoch 0\n",
            "Epoch 1\n",
            "Epoch 2\n",
            "Epoch 3\n",
            "Epoch 4\n",
            "Epoch 5\n",
            "Epoch 6\n",
            "Epoch 7\n",
            "Epoch 8\n",
            "Epoch 9\n"
          ],
          "name": "stdout"
        }
      ]
    },
    {
      "cell_type": "code",
      "metadata": {
        "id": "lTJSpKPy6370",
        "colab_type": "code",
        "outputId": "d944412d-9171-4935-9ab4-d31c0be453b6",
        "colab": {
          "base_uri": "https://localhost:8080/",
          "height": 85
        }
      },
      "source": [
        "glove_articleBody.most_similar('man')"
      ],
      "execution_count": 0,
      "outputs": [
        {
          "output_type": "execute_result",
          "data": {
            "text/plain": [
              "[('homeless', 0.5878744570151004),\n",
              " ('mask', 0.5694066680595435),\n",
              " ('black', 0.5674875684227368),\n",
              " ('unidentified', 0.5501288943581739)]"
            ]
          },
          "metadata": {
            "tags": []
          },
          "execution_count": 87
        }
      ]
    },
    {
      "cell_type": "code",
      "metadata": {
        "id": "Op0wS5Ar9whE",
        "colab_type": "code",
        "colab": {}
      },
      "source": [
        "#glove_articleBody.dictionary"
      ],
      "execution_count": 0,
      "outputs": []
    },
    {
      "cell_type": "code",
      "metadata": {
        "id": "ZdsUbRP-sW07",
        "colab_type": "code",
        "colab": {}
      },
      "source": [
        "from sklearn.linear_model import LogisticRegression\n",
        "lr = LogisticRegression(solver=\"lbfgs\", max_iter=150)\n",
        "from sklearn.model_selection import StratifiedKFold\n",
        "from sklearn.metrics import precision_score, recall_score, f1_score\n",
        "from sklearn.pipeline import Pipeline\n",
        "original_pipeline = Pipeline([\n",
        "    ('classifier', lr)\n",
        "])"
      ],
      "execution_count": 0,
      "outputs": []
    },
    {
      "cell_type": "code",
      "metadata": {
        "id": "RIidht6M8kvn",
        "colab_type": "code",
        "colab": {}
      },
      "source": [
        "#algo_cv(5, glove_articleBody.word_vectors, df.Stance, original_pipeline, 'macro')"
      ],
      "execution_count": 0,
      "outputs": []
    },
    {
      "cell_type": "markdown",
      "metadata": {
        "id": "34HP6f3EtepH",
        "colab_type": "text"
      },
      "source": [
        "### Baseline Model"
      ]
    },
    {
      "cell_type": "markdown",
      "metadata": {
        "id": "cPyIDC1wShr_",
        "colab_type": "text"
      },
      "source": [
        "#### Bag of Words/Logistic Regression with Imbalanced Data\n",
        "\n"
      ]
    },
    {
      "cell_type": "code",
      "metadata": {
        "id": "KwcIC_flWBqq",
        "colab_type": "code",
        "colab": {}
      },
      "source": [
        "from sklearn.linear_model import LogisticRegression"
      ],
      "execution_count": 0,
      "outputs": []
    },
    {
      "cell_type": "code",
      "metadata": {
        "id": "smPx8sAoXG4-",
        "colab_type": "code",
        "colab": {}
      },
      "source": [
        "lr = LogisticRegression(solver=\"lbfgs\", max_iter=150)"
      ],
      "execution_count": 0,
      "outputs": []
    },
    {
      "cell_type": "code",
      "metadata": {
        "id": "G2YDilSvIH_8",
        "colab_type": "code",
        "colab": {}
      },
      "source": [
        "from sklearn.model_selection import StratifiedKFold\n",
        "from sklearn.metrics import precision_score, recall_score, f1_score"
      ],
      "execution_count": 0,
      "outputs": []
    },
    {
      "cell_type": "code",
      "metadata": {
        "id": "wj6AhfU-ZIg5",
        "colab_type": "code",
        "colab": {}
      },
      "source": [
        "from sklearn.pipeline import Pipeline\n",
        "original_pipeline = Pipeline([\n",
        "    ('classifier', lr)\n",
        "])"
      ],
      "execution_count": 0,
      "outputs": []
    },
    {
      "cell_type": "code",
      "metadata": {
        "id": "J9tSt-vZb1c1",
        "colab_type": "code",
        "colab": {}
      },
      "source": [
        "def algo_cv(splits, X, Y, pipeline, average_method):\n",
        "    \n",
        "    kfold = StratifiedKFold(n_splits=splits, shuffle=True, random_state=777)\n",
        "    accuracy = []\n",
        "    precision = []\n",
        "    recall = []\n",
        "    f1 = []\n",
        "    for train, test in kfold.split(X, Y):\n",
        "        algo_fit = pipeline.fit(X[train], Y[train])\n",
        "        prediction = algo_fit.predict(X[test])\n",
        "        scores = algo_fit.score(X[test],Y[test])\n",
        "        \n",
        "        accuracy.append(scores * 100)\n",
        "        precision.append(precision_score(Y[test], prediction, average=average_method)*100)\n",
        "        print('              agree     disagree   discuss   unrelated')\n",
        "        print('precision:',precision_score(Y[test],    prediction,    average=None))\n",
        "        recall.append(recall_score(Y[test],    prediction,    average=average_method)*100)\n",
        "        print('recall:   ',recall_score(Y[test], prediction, average=None))\n",
        "        f1.append(f1_score(Y[test], prediction, average=average_method)*100)\n",
        "        print('f1 score: ',f1_score(Y[test], prediction, average=None))\n",
        "        print('-'*50)\n",
        "\n",
        "    print(\"accuracy: %.2f%% (+/- %.2f%%)\" % (np.mean(accuracy), np.std(accuracy)))\n",
        "    print(\"precision: %.2f%% (+/- %.2f%%)\" % (np.mean(precision), np.std(precision)))\n",
        "    print(\"recall: %.2f%% (+/- %.2f%%)\" % (np.mean(recall), np.std(recall)))\n",
        "    print(\"f1 score: %.2f%% (+/- %.2f%%)\" % (np.mean(f1), np.std(f1)))"
      ],
      "execution_count": 0,
      "outputs": []
    },
    {
      "cell_type": "code",
      "metadata": {
        "id": "6Tff1gRCcgKf",
        "colab_type": "code",
        "outputId": "17e60651-54c2-4884-eccf-83b39e49d77a",
        "colab": {
          "base_uri": "https://localhost:8080/",
          "height": 510
        }
      },
      "source": [
        "algo_cv(5, combined_BOW, df.Stance, original_pipeline, 'macro')"
      ],
      "execution_count": 0,
      "outputs": [
        {
          "output_type": "stream",
          "text": [
            "              agree     disagree   discuss   unrelated\n",
            "precision: [0.65965583 0.48181818 0.79192073 0.86685728]\n",
            "recall:    [0.46938776 0.31547619 0.58370787 0.95442102]\n",
            "f1 score:  [0.54848967 0.38129496 0.67205692 0.9085342 ]\n",
            "--------------------------------------------------\n",
            "              agree     disagree   discuss   unrelated\n",
            "precision: [0.65085389 0.50877193 0.78059701 0.86388611]\n",
            "recall:    [0.46603261 0.3452381  0.58764045 0.94702259]\n",
            "f1 score:  [0.54315123 0.41134752 0.67051282 0.90354601]\n",
            "--------------------------------------------------\n",
            "              agree     disagree   discuss   unrelated\n",
            "precision: [0.68257261 0.4952381  0.81877551 0.86131833]\n",
            "recall:    [0.44761905 0.30952381 0.56316676 0.96413415]\n",
            "f1 score:  [0.54067379 0.38095238 0.667332   0.90983077]\n",
            "--------------------------------------------------\n",
            "              agree     disagree   discuss   unrelated\n",
            "precision: [0.64056225 0.43925234 0.75161987 0.86529081]\n",
            "recall:    [0.43401361 0.2797619  0.58618754 0.94702259]\n",
            "f1 score:  [0.51743715 0.34181818 0.65867508 0.90431373]\n",
            "--------------------------------------------------\n",
            "              agree     disagree   discuss   unrelated\n",
            "precision: [0.66163793 0.53061224 0.79029734 0.85986011]\n",
            "recall:    [0.41768707 0.30952381 0.56709714 0.95920602]\n",
            "f1 score:  [0.51209341 0.39097744 0.66034652 0.90682024]\n",
            "--------------------------------------------------\n",
            "accuracy: 83.90% (+/- 0.35%)\n",
            "precision: 70.01% (+/- 1.41%)\n",
            "recall: 57.27% (+/- 0.96%)\n",
            "f1 score: 62.15% (+/- 0.93%)\n"
          ],
          "name": "stdout"
        }
      ]
    },
    {
      "cell_type": "markdown",
      "metadata": {
        "id": "WywPgapg_p5R",
        "colab_type": "text"
      },
      "source": [
        "#### Bag of Words/Logistic Regression with Class Weight (Balanced)\n",
        "\n"
      ]
    },
    {
      "cell_type": "code",
      "metadata": {
        "id": "GkjkahlCAWgA",
        "colab_type": "code",
        "outputId": "c094de3d-a769-4ad6-e90b-ffb25f4e5b96",
        "colab": {
          "base_uri": "https://localhost:8080/",
          "height": 510
        }
      },
      "source": [
        "lr_weight = LogisticRegression(C = 1.0, class_weight='balanced', solver=\"lbfgs\", max_iter=150)\n",
        "\n",
        "from sklearn.pipeline import Pipeline\n",
        "original_pipeline_weight = Pipeline([\n",
        "    ('classifier', lr_weight)\n",
        "])\n",
        "\n",
        "algo_cv(5, combined_BOW, df.Stance, original_pipeline_weight, 'macro')"
      ],
      "execution_count": 0,
      "outputs": [
        {
          "output_type": "stream",
          "text": [
            "              agree     disagree   discuss   unrelated\n",
            "precision: [0.36065574 0.29095355 0.54102259 0.92660882]\n",
            "recall:    [0.74829932 0.70833333 0.76685393 0.70161511]\n",
            "f1 score:  [0.48672566 0.41247834 0.63444109 0.79856675]\n",
            "--------------------------------------------------\n",
            "              agree     disagree   discuss   unrelated\n",
            "precision: [0.36655518 0.27654321 0.52545027 0.92231256]\n",
            "recall:    [0.74456522 0.66666667 0.75393258 0.69883641]\n",
            "f1 score:  [0.49125952 0.39092496 0.61928934 0.79517134]\n",
            "--------------------------------------------------\n",
            "              agree     disagree   discuss   unrelated\n",
            "precision: [0.3557881  0.29176471 0.51979814 0.92178055]\n",
            "recall:    [0.74013605 0.73809524 0.75182482 0.68884326]\n",
            "f1 score:  [0.48056537 0.41821248 0.6146431  0.78846757]\n",
            "--------------------------------------------------\n",
            "              agree     disagree   discuss   unrelated\n",
            "precision: [0.34692557 0.24557522 0.53118946 0.93106635]\n",
            "recall:    [0.7292517  0.66071429 0.76979225 0.68966461]\n",
            "f1 score:  [0.47017544 0.35806452 0.62861073 0.79238754]\n",
            "--------------------------------------------------\n",
            "              agree     disagree   discuss   unrelated\n",
            "precision: [0.36570663 0.27045455 0.5484394  0.92521023]\n",
            "recall:    [0.74285714 0.70833333 0.75968557 0.70787132]\n",
            "f1 score:  [0.49012567 0.39144737 0.63700565 0.80207849]\n",
            "--------------------------------------------------\n",
            "accuracy: 71.18% (+/- 0.58%)\n",
            "precision: 52.32% (+/- 0.55%)\n",
            "recall: 72.38% (+/- 0.80%)\n",
            "f1 score: 57.50% (+/- 0.71%)\n"
          ],
          "name": "stdout"
        }
      ]
    },
    {
      "cell_type": "markdown",
      "metadata": {
        "id": "hKCwCpu3Cliv",
        "colab_type": "text"
      },
      "source": [
        "#### Bag of Words/Logistic Regression Balanced with SMOTE"
      ]
    },
    {
      "cell_type": "code",
      "metadata": {
        "id": "M7rCasVbCqRN",
        "colab_type": "code",
        "outputId": "642e43a3-7b4f-44c5-9d7b-c6da7eccee05",
        "colab": {
          "base_uri": "https://localhost:8080/",
          "height": 510
        }
      },
      "source": [
        "from imblearn.over_sampling import SMOTE\n",
        "smote = SMOTE(random_state=777, k_neighbors=1)\n",
        "\n",
        "from imblearn.pipeline import make_pipeline\n",
        "SMOTE_pipeline = make_pipeline(SMOTE(random_state=777),lr)\n",
        "\n",
        "algo_cv(5, combined_BOW, df.Stance, SMOTE_pipeline, 'macro')"
      ],
      "execution_count": 0,
      "outputs": [
        {
          "output_type": "stream",
          "text": [
            "              agree     disagree   discuss   unrelated\n",
            "precision: [0.41640043 0.29328622 0.60426929 0.87521614]\n",
            "recall:    [0.53197279 0.49404762 0.62022472 0.83137148]\n",
            "f1 score:  [0.46714456 0.36807095 0.61214306 0.85273059]\n",
            "--------------------------------------------------\n",
            "              agree     disagree   discuss   unrelated\n",
            "precision: [0.42033543 0.30740741 0.59289617 0.87440519]\n",
            "recall:    [0.54483696 0.49404762 0.60955056 0.83011636]\n",
            "f1 score:  [0.47455621 0.37899543 0.60110803 0.85168539]\n",
            "--------------------------------------------------\n",
            "              agree     disagree   discuss   unrelated\n",
            "precision: [0.44730942 0.30980392 0.59039396 0.87280011]\n",
            "recall:    [0.54285714 0.4702381  0.61426165 0.83504449]\n",
            "f1 score:  [0.49047326 0.37352246 0.60209136 0.85350497]\n",
            "--------------------------------------------------\n",
            "              agree     disagree   discuss   unrelated\n",
            "precision: [0.39978332 0.29277567 0.56840551 0.87904298]\n",
            "recall:    [0.50204082 0.45833333 0.64851207 0.81478439]\n",
            "f1 score:  [0.4451146  0.35730858 0.60582219 0.8456948 ]\n",
            "--------------------------------------------------\n",
            "              agree     disagree   discuss   unrelated\n",
            "precision: [0.45123384 0.30769231 0.61242441 0.8747334 ]\n",
            "recall:    [0.52244898 0.52380952 0.6254913  0.8421629 ]\n",
            "f1 score:  [0.48423707 0.3876652  0.61888889 0.85813921]\n",
            "--------------------------------------------------\n",
            "accuracy: 76.58% (+/- 0.60%)\n",
            "precision: 54.95% (+/- 0.88%)\n",
            "recall: 61.78% (+/- 0.73%)\n",
            "f1 score: 57.64% (+/- 0.77%)\n"
          ],
          "name": "stdout"
        }
      ]
    },
    {
      "cell_type": "markdown",
      "metadata": {
        "id": "H4vEdevREs3s",
        "colab_type": "text"
      },
      "source": [
        "#### Bag of Words/Logistic Regression Balanced with Under Sampler\n",
        "\n"
      ]
    },
    {
      "cell_type": "code",
      "metadata": {
        "id": "AeMT_sfeFBXf",
        "colab_type": "code",
        "outputId": "4e39dbe6-21d7-487e-c93e-9b9235f398ce",
        "colab": {
          "base_uri": "https://localhost:8080/",
          "height": 510
        }
      },
      "source": [
        "from imblearn.under_sampling import RandomUnderSampler\n",
        "under_pipeline = make_pipeline(RandomUnderSampler(random_state=777),lr)\n",
        "algo_cv(5, combined_BOW, df.Stance, under_pipeline, 'macro')"
      ],
      "execution_count": 0,
      "outputs": [
        {
          "output_type": "stream",
          "text": [
            "              agree     disagree   discuss   unrelated\n",
            "precision: [0.2311272  0.13184584 0.36261491 0.87052275]\n",
            "recall:    [0.60816327 0.77380952 0.59831461 0.49233507]\n",
            "f1 score:  [0.33495691 0.22530329 0.45155819 0.62895611]\n",
            "--------------------------------------------------\n",
            "              agree     disagree   discuss   unrelated\n",
            "precision: [0.22794899 0.14937286 0.37160752 0.8677686 ]\n",
            "recall:    [0.58288043 0.7797619  0.6        0.5174538 ]\n",
            "f1 score:  [0.32773109 0.2507177  0.45896003 0.6483149 ]\n",
            "--------------------------------------------------\n",
            "              agree     disagree   discuss   unrelated\n",
            "precision: [0.20593692 0.14794216 0.36653806 0.87117316]\n",
            "recall:    [0.60408163 0.79166667 0.58674902 0.48692676]\n",
            "f1 score:  [0.30716015 0.24929709 0.45120898 0.62469266]\n",
            "--------------------------------------------------\n",
            "              agree     disagree   discuss   unrelated\n",
            "precision: [0.21178821 0.13854167 0.38224767 0.87526577]\n",
            "recall:    [0.57687075 0.79166667 0.59966311 0.50718686]\n",
            "f1 score:  [0.30982828 0.2358156  0.46688525 0.64222569]\n",
            "--------------------------------------------------\n",
            "              agree     disagree   discuss   unrelated\n",
            "precision: [0.22770199 0.12677485 0.37692583 0.86994891]\n",
            "recall:    [0.59047619 0.74404762 0.59067939 0.51279945]\n",
            "f1 score:  [0.32866339 0.21663778 0.46019248 0.64525019]\n",
            "--------------------------------------------------\n",
            "accuracy: 53.08% (+/- 0.83%)\n",
            "precision: 40.07% (+/- 0.22%)\n",
            "recall: 61.68% (+/- 0.37%)\n",
            "f1 score: 41.32% (+/- 0.45%)\n"
          ],
          "name": "stdout"
        }
      ]
    },
    {
      "cell_type": "markdown",
      "metadata": {
        "id": "7m4pDSERFV2P",
        "colab_type": "text"
      },
      "source": [
        "#### Bag of Words/Logistic Regression Balanced with Over Sampler"
      ]
    },
    {
      "cell_type": "code",
      "metadata": {
        "id": "eKu2pSUJFnMG",
        "colab_type": "code",
        "outputId": "9f4fa1cc-4dba-4ee2-b223-9964f0ac5f6e",
        "colab": {
          "base_uri": "https://localhost:8080/",
          "height": 510
        }
      },
      "source": [
        "from imblearn.over_sampling import RandomOverSampler\n",
        "over_pipeline = make_pipeline(RandomOverSampler(random_state=777),lr)\n",
        "algo_cv(5, combined_BOW, df.Stance, over_pipeline, 'macro')"
      ],
      "execution_count": 0,
      "outputs": [
        {
          "output_type": "stream",
          "text": [
            "              agree     disagree   discuss   unrelated\n",
            "precision: [0.35855263 0.29396985 0.53956835 0.92386425]\n",
            "recall:    [0.7414966  0.69642857 0.75842697 0.70421571]\n",
            "f1 score:  [0.48337029 0.41342756 0.63054647 0.7992233 ]\n",
            "--------------------------------------------------\n",
            "              agree     disagree   discuss   unrelated\n",
            "precision: [0.36873747 0.28388747 0.53574297 0.92158261]\n",
            "recall:    [0.75       0.66071429 0.7494382  0.70787132]\n",
            "f1 score:  [0.49440215 0.39713775 0.62482436 0.80071229]\n",
            "--------------------------------------------------\n",
            "              agree     disagree   discuss   unrelated\n",
            "precision: [0.36486486 0.29166667 0.52367463 0.91367673]\n",
            "recall:    [0.73469388 0.70833333 0.72655811 0.70417522]\n",
            "f1 score:  [0.48758465 0.41319444 0.60865475 0.79536142]\n",
            "--------------------------------------------------\n",
            "              agree     disagree   discuss   unrelated\n",
            "precision: [0.35153129 0.25641026 0.5254173  0.93028403]\n",
            "recall:    [0.71836735 0.6547619  0.777653   0.69048597]\n",
            "f1 score:  [0.4720608  0.36850921 0.62712248 0.79264556]\n",
            "--------------------------------------------------\n",
            "              agree     disagree   discuss   unrelated\n",
            "precision: [0.3737931  0.27830189 0.54903537 0.9244713 ]\n",
            "recall:    [0.73741497 0.70238095 0.76698484 0.71211499]\n",
            "f1 score:  [0.49610984 0.39864865 0.63996252 0.80451593]\n",
            "--------------------------------------------------\n",
            "accuracy: 71.51% (+/- 0.57%)\n",
            "precision: 52.55% (+/- 0.54%)\n",
            "recall: 72.01% (+/- 0.67%)\n",
            "f1 score: 57.74% (+/- 0.68%)\n"
          ],
          "name": "stdout"
        }
      ]
    },
    {
      "cell_type": "markdown",
      "metadata": {
        "id": "U-li-2RR-Mj3",
        "colab_type": "text"
      },
      "source": [
        "#### Bag of Words/Logistic Regression with Univariate Selection"
      ]
    },
    {
      "cell_type": "code",
      "metadata": {
        "id": "-NKQTyMu-Z1a",
        "colab_type": "code",
        "outputId": "99a9626d-9d17-43bb-ca49-e18cf9b98ad3",
        "colab": {
          "base_uri": "https://localhost:8080/",
          "height": 510
        }
      },
      "source": [
        "algo_cv(5, features_1000, df.Stance, original_pipeline, 'macro')"
      ],
      "execution_count": 0,
      "outputs": [
        {
          "output_type": "stream",
          "text": [
            "              agree     disagree   discuss   unrelated\n",
            "precision: [0.62745098 0.44736842 0.73173077 0.8230419 ]\n",
            "recall:    [0.26122449 0.20238095 0.42752809 0.96509718]\n",
            "f1 score:  [0.36887608 0.27868852 0.53971631 0.88842689]\n",
            "--------------------------------------------------\n",
            "              agree     disagree   discuss   unrelated\n",
            "precision: [0.65492958 0.46875    0.75599583 0.81884393]\n",
            "recall:    [0.25271739 0.26785714 0.40730337 0.96960986]\n",
            "f1 score:  [0.36470588 0.34090909 0.52939029 0.88787214]\n",
            "--------------------------------------------------\n",
            "              agree     disagree   discuss   unrelated\n",
            "precision: [0.58769231 0.45054945 0.77268094 0.82192737]\n",
            "recall:    [0.25986395 0.24404762 0.42560359 0.96673511]\n",
            "f1 score:  [0.36037736 0.31660232 0.54887762 0.88846952]\n",
            "--------------------------------------------------\n",
            "              agree     disagree   discuss   unrelated\n",
            "precision: [0.54938272 0.3902439  0.70458891 0.81984304]\n",
            "recall:    [0.24217687 0.19047619 0.41381246 0.95811088]\n",
            "f1 score:  [0.33616619 0.256      0.52140078 0.88360056]\n",
            "--------------------------------------------------\n",
            "              agree     disagree   discuss   unrelated\n",
            "precision: [0.66044776 0.56944444 0.74181118 0.82081059]\n",
            "recall:    [0.24081633 0.24404762 0.43234138 0.96755647]\n",
            "f1 score:  [0.35294118 0.34166667 0.54629301 0.88816285]\n",
            "--------------------------------------------------\n",
            "accuracy: 80.35% (+/- 0.41%)\n",
            "precision: 66.09% (+/- 2.69%)\n",
            "recall: 46.70% (+/- 0.87%)\n",
            "f1 score: 52.20% (+/- 1.22%)\n"
          ],
          "name": "stdout"
        }
      ]
    },
    {
      "cell_type": "markdown",
      "metadata": {
        "id": "qi9TnFn--O22",
        "colab_type": "text"
      },
      "source": [
        "#### TF-IDF/Logistic Regression with Imbalanced Data"
      ]
    },
    {
      "cell_type": "code",
      "metadata": {
        "id": "ARXcKHv8lqfn",
        "colab_type": "code",
        "outputId": "a35b1d0d-4801-4f71-a77e-e7a20875b315",
        "colab": {
          "base_uri": "https://localhost:8080/",
          "height": 510
        }
      },
      "source": [
        "algo_cv(5, combined_TFIDF, df.Stance, original_pipeline, 'macro')"
      ],
      "execution_count": 0,
      "outputs": [
        {
          "output_type": "stream",
          "text": [
            "              agree     disagree   discuss   unrelated\n",
            "precision: [0.74021352 0.6031746  0.78493648 0.82804635]\n",
            "recall:    [0.2829932  0.22619048 0.48595506 0.96824528]\n",
            "f1 score:  [0.40944882 0.32900433 0.60027759 0.89267462]\n",
            "--------------------------------------------------\n",
            "              agree     disagree   discuss   unrelated\n",
            "precision: [0.73883162 0.64285714 0.79005525 0.82702197]\n",
            "recall:    [0.29211957 0.21428571 0.48202247 0.96865161]\n",
            "f1 score:  [0.41869523 0.32142857 0.59874389 0.89225143]\n",
            "--------------------------------------------------\n",
            "              agree     disagree   discuss   unrelated\n",
            "precision: [0.79069767 0.61702128 0.80911681 0.82929669]\n",
            "recall:    [0.32380952 0.17261905 0.47838293 0.97494867]\n",
            "f1 score:  [0.45945946 0.26976744 0.60127029 0.89624363]\n",
            "--------------------------------------------------\n",
            "              agree     disagree   discuss   unrelated\n",
            "precision: [0.71717172 0.56862745 0.74955908 0.82696603]\n",
            "recall:    [0.28979592 0.17261905 0.47725997 0.96303901]\n",
            "f1 score:  [0.4127907  0.26484018 0.58319039 0.88983051]\n",
            "--------------------------------------------------\n",
            "              agree     disagree   discuss   unrelated\n",
            "precision: [0.72759857 0.7254902  0.77817854 0.82725146]\n",
            "recall:    [0.27619048 0.2202381  0.48455924 0.96824093]\n",
            "f1 score:  [0.40039448 0.33789954 0.59723183 0.89221066]\n",
            "--------------------------------------------------\n",
            "accuracy: 81.92% (+/- 0.36%)\n",
            "precision: 74.61% (+/- 1.77%)\n",
            "recall: 48.61% (+/- 0.54%)\n",
            "f1 score: 55.34% (+/- 0.79%)\n"
          ],
          "name": "stdout"
        }
      ]
    },
    {
      "cell_type": "markdown",
      "metadata": {
        "colab_type": "text",
        "id": "DrZbBDLm8EF4"
      },
      "source": [
        "#### TF-IDF/Logistic Regression Class Weight (Balanced)"
      ]
    },
    {
      "cell_type": "code",
      "metadata": {
        "id": "x2wGPvMj8OD_",
        "colab_type": "code",
        "outputId": "48e87e65-522a-4948-f6e8-fee731c8defc",
        "colab": {
          "base_uri": "https://localhost:8080/",
          "height": 510
        }
      },
      "source": [
        "lr_weight = LogisticRegression(C = 1.0, class_weight='balanced', solver=\"lbfgs\", max_iter=150)\n",
        "\n",
        "from sklearn.pipeline import Pipeline\n",
        "original_pipeline_weight = Pipeline([\n",
        "    ('classifier', lr_weight)\n",
        "])\n",
        "\n",
        "algo_cv(5, combined_TFIDF, df.Stance, original_pipeline_weight, 'macro')"
      ],
      "execution_count": 0,
      "outputs": [
        {
          "output_type": "stream",
          "text": [
            "              agree     disagree   discuss   unrelated\n",
            "precision: [0.34591584 0.2832981  0.52608048 0.93788344]\n",
            "recall:    [0.76054422 0.79761905 0.79325843 0.66958664]\n",
            "f1 score:  [0.47554232 0.41809672 0.63261649 0.78134483]\n",
            "--------------------------------------------------\n",
            "              agree     disagree   discuss   unrelated\n",
            "precision: [0.33293839 0.26838966 0.51395793 0.93169979]\n",
            "recall:    [0.76358696 0.80357143 0.75505618 0.66105407]\n",
            "f1 score:  [0.46369637 0.4023845  0.6116041  0.77338245]\n",
            "--------------------------------------------------\n",
            "              agree     disagree   discuss   unrelated\n",
            "precision: [0.35238693 0.29878049 0.50814086 0.92705167]\n",
            "recall:    [0.76326531 0.875      0.75350926 0.66803559]\n",
            "f1 score:  [0.48216588 0.44545455 0.60696517 0.77651364]\n",
            "--------------------------------------------------\n",
            "              agree     disagree   discuss   unrelated\n",
            "precision: [0.33091349 0.25708502 0.51787017 0.94235294]\n",
            "recall:    [0.74421769 0.75595238 0.79730488 0.65790554]\n",
            "f1 score:  [0.45812395 0.3836858  0.62790184 0.77484885]\n",
            "--------------------------------------------------\n",
            "              agree     disagree   discuss   unrelated\n",
            "precision: [0.34928849 0.26732673 0.51466165 0.92686624]\n",
            "recall:    [0.73469388 0.80357143 0.76866929 0.6696783 ]\n",
            "f1 score:  [0.47347655 0.40118871 0.61652781 0.77755702]\n",
            "--------------------------------------------------\n",
            "accuracy: 69.34% (+/- 0.42%)\n",
            "precision: 51.66% (+/- 0.49%)\n",
            "recall: 74.98% (+/- 0.92%)\n",
            "f1 score: 56.92% (+/- 0.70%)\n"
          ],
          "name": "stdout"
        }
      ]
    },
    {
      "cell_type": "markdown",
      "metadata": {
        "id": "7F-sL9weEuqH",
        "colab_type": "text"
      },
      "source": [
        "#### TF-IDF/Logistic Regression Balanced with SMOTE"
      ]
    },
    {
      "cell_type": "code",
      "metadata": {
        "id": "pNXC9ZYZEzEX",
        "colab_type": "code",
        "outputId": "f4a70994-197f-455c-fdd0-12cbed102716",
        "colab": {
          "base_uri": "https://localhost:8080/",
          "height": 510
        }
      },
      "source": [
        "from imblearn.over_sampling import SMOTE\n",
        "smote = SMOTE(random_state=777, k_neighbors=1)\n",
        "\n",
        "from imblearn.pipeline import make_pipeline\n",
        "SMOTE_pipeline = make_pipeline(SMOTE(random_state=777),lr)\n",
        "\n",
        "algo_cv(5, combined_TFIDF, df.Stance, SMOTE_pipeline, 'macro')"
      ],
      "execution_count": 0,
      "outputs": [
        {
          "output_type": "stream",
          "text": [
            "              agree     disagree   discuss   unrelated\n",
            "precision: [0.37656904 0.31486146 0.55894309 0.92418392]\n",
            "recall:    [0.73469388 0.74404762 0.77247191 0.72077744]\n",
            "f1 score:  [0.49792531 0.44247788 0.64858491 0.80990464]\n",
            "--------------------------------------------------\n",
            "              agree     disagree   discuss   unrelated\n",
            "precision: [0.36870748 0.30964467 0.53972828 0.91731039]\n",
            "recall:    [0.73641304 0.72619048 0.73651685 0.71526352]\n",
            "f1 score:  [0.49138713 0.4341637  0.62295082 0.80378432]\n",
            "--------------------------------------------------\n",
            "              agree     disagree   discuss   unrelated\n",
            "precision: [0.38088445 0.355      0.53934899 0.91423611]\n",
            "recall:    [0.72653061 0.8452381  0.73498035 0.72087611]\n",
            "f1 score:  [0.49976603 0.5        0.62214829 0.80612323]\n",
            "--------------------------------------------------\n",
            "              agree     disagree   discuss   unrelated\n",
            "precision: [0.36451169 0.28826531 0.54573886 0.93178156]\n",
            "recall:    [0.72108844 0.67261905 0.78382931 0.71238877]\n",
            "f1 score:  [0.48423938 0.40357143 0.64346624 0.80744763]\n",
            "--------------------------------------------------\n",
            "              agree     disagree   discuss   unrelated\n",
            "precision: [0.38354151 0.3019802  0.54806139 0.9191023 ]\n",
            "recall:    [0.71020408 0.72619048 0.7619315  0.72320329]\n",
            "f1 score:  [0.4980916  0.42657343 0.63753817 0.80946909]\n",
            "--------------------------------------------------\n",
            "accuracy: 72.65% (+/- 0.36%)\n",
            "precision: 53.91% (+/- 0.57%)\n",
            "recall: 73.63% (+/- 1.23%)\n",
            "f1 score: 59.45% (+/- 0.80%)\n"
          ],
          "name": "stdout"
        }
      ]
    },
    {
      "cell_type": "markdown",
      "metadata": {
        "id": "igIVxzfZG-wR",
        "colab_type": "text"
      },
      "source": [
        "#### TF-IDF/Logistic Regression Balanced with Under Sampler\n"
      ]
    },
    {
      "cell_type": "code",
      "metadata": {
        "id": "psceNMiTHJVJ",
        "colab_type": "code",
        "outputId": "558bebb8-6eab-47a1-e9c4-7da1e3ec8609",
        "colab": {
          "base_uri": "https://localhost:8080/",
          "height": 510
        }
      },
      "source": [
        "from imblearn.under_sampling import RandomUnderSampler\n",
        "under_pipeline = make_pipeline(RandomUnderSampler(random_state=777),lr)\n",
        "algo_cv(5, combined_TFIDF, df.Stance, under_pipeline, 'macro')"
      ],
      "execution_count": 0,
      "outputs": [
        {
          "output_type": "stream",
          "text": [
            "              agree     disagree   discuss   unrelated\n",
            "precision: [0.19197047 0.13384321 0.36977058 0.88772298]\n",
            "recall:    [0.56598639 0.83333333 0.61573034 0.46318095]\n",
            "f1 score:  [0.28669883 0.2306425  0.46205734 0.60874258]\n",
            "--------------------------------------------------\n",
            "              agree     disagree   discuss   unrelated\n",
            "precision: [0.19550252 0.14327772 0.36347946 0.88289676]\n",
            "recall:    [0.57880435 0.86904762 0.59157303 0.47063655]\n",
            "f1 score:  [0.2922813  0.24599832 0.45028865 0.61398339]\n",
            "--------------------------------------------------\n",
            "              agree     disagree   discuss   unrelated\n",
            "precision: [0.20442238 0.14060964 0.36529827 0.90296866]\n",
            "recall:    [0.61632653 0.85119048 0.63952835 0.44969199]\n",
            "f1 score:  [0.30701457 0.24135021 0.46499286 0.60038381]\n",
            "--------------------------------------------------\n",
            "              agree     disagree   discuss   unrelated\n",
            "precision: [0.19041158 0.13047445 0.36003956 0.89750617]\n",
            "recall:    [0.57278912 0.85119048 0.61313869 0.44832307]\n",
            "f1 score:  [0.28581127 0.22626582 0.45367678 0.59795508]\n",
            "--------------------------------------------------\n",
            "              agree     disagree   discuss   unrelated\n",
            "precision: [0.20973075 0.14415323 0.37256809 0.9004215 ]\n",
            "recall:    [0.60408163 0.85119048 0.64514318 0.4678987 ]\n",
            "f1 score:  [0.31136045 0.24655172 0.47235355 0.61580038]\n",
            "--------------------------------------------------\n",
            "accuracy: 50.46% (+/- 0.72%)\n",
            "precision: 39.94% (+/- 0.48%)\n",
            "recall: 62.99% (+/- 0.92%)\n",
            "f1 score: 40.07% (+/- 0.68%)\n"
          ],
          "name": "stdout"
        }
      ]
    },
    {
      "cell_type": "markdown",
      "metadata": {
        "id": "9d8yTaemIGUB",
        "colab_type": "text"
      },
      "source": [
        "#### TF-IDF/Logistic Regression Balanced with Over Sampler"
      ]
    },
    {
      "cell_type": "code",
      "metadata": {
        "id": "Ere_RhaSIFaD",
        "colab_type": "code",
        "outputId": "66f2eae9-99c7-4c84-8e8b-34e3c149f18c",
        "colab": {
          "base_uri": "https://localhost:8080/",
          "height": 510
        }
      },
      "source": [
        "from imblearn.over_sampling import RandomOverSampler\n",
        "over_pipeline = make_pipeline(RandomOverSampler(random_state=777),lr)\n",
        "algo_cv(5, combined_TFIDF, df.Stance, over_pipeline, 'macro')"
      ],
      "execution_count": 0,
      "outputs": [
        {
          "output_type": "stream",
          "text": [
            "              agree     disagree   discuss   unrelated\n",
            "precision: [0.3693634  0.32330827 0.54139641 0.93023256]\n",
            "recall:    [0.75782313 0.76785714 0.79719101 0.69531892]\n",
            "f1 score:  [0.49665626 0.45502646 0.64485344 0.79580168]\n",
            "--------------------------------------------------\n",
            "              agree     disagree   discuss   unrelated\n",
            "precision: [0.36517219 0.31930693 0.53815737 0.92586551]\n",
            "recall:    [0.76358696 0.76785714 0.76460674 0.69924709]\n",
            "f1 score:  [0.49406593 0.45104895 0.63170109 0.79675558]\n",
            "--------------------------------------------------\n",
            "              agree     disagree   discuss   unrelated\n",
            "precision: [0.38209159 0.34634146 0.53212074 0.92353579]\n",
            "recall:    [0.76054422 0.8452381  0.77203818 0.69938398]\n",
            "f1 score:  [0.50864422 0.49134948 0.63001145 0.79598037]\n",
            "--------------------------------------------------\n",
            "              agree     disagree   discuss   unrelated\n",
            "precision: [0.3586025  0.28941176 0.53901515 0.93674866]\n",
            "recall:    [0.74013605 0.73214286 0.79898933 0.69336071]\n",
            "f1 score:  [0.48312611 0.4148398  0.64374576 0.79688483]\n",
            "--------------------------------------------------\n",
            "              agree     disagree   discuss   unrelated\n",
            "precision: [0.37667845 0.30114943 0.5454191  0.92662361]\n",
            "recall:    [0.72517007 0.7797619  0.78551376 0.70704997]\n",
            "f1 score:  [0.49581395 0.4344942  0.6438104  0.80208091]\n",
            "--------------------------------------------------\n",
            "accuracy: 71.91% (+/- 0.26%)\n",
            "precision: 53.85% (+/- 0.50%)\n",
            "recall: 75.26% (+/- 0.94%)\n",
            "f1 score: 59.53% (+/- 0.71%)\n"
          ],
          "name": "stdout"
        }
      ]
    },
    {
      "cell_type": "markdown",
      "metadata": {
        "id": "AoLj-w24OCXg",
        "colab_type": "text"
      },
      "source": [
        "#### TFIDF/Logistic Regression with Univariate Selection"
      ]
    },
    {
      "cell_type": "code",
      "metadata": {
        "id": "Ibc3FEtVOHWQ",
        "colab_type": "code",
        "outputId": "47bae98d-30d8-43c3-93e9-894a06f008ee",
        "colab": {
          "base_uri": "https://localhost:8080/",
          "height": 510
        }
      },
      "source": [
        "algo_cv(5, features_1000_TFIDF, df.Stance, original_pipeline, 'macro')"
      ],
      "execution_count": 0,
      "outputs": [
        {
          "output_type": "stream",
          "text": [
            "              agree     disagree   discuss   unrelated\n",
            "precision: [0.67021277 0.54545455 0.71465296 0.78665786]\n",
            "recall:    [0.08571429 0.10714286 0.31235955 0.97810019]\n",
            "f1 score:  [0.15199035 0.17910448 0.43471462 0.87199512]\n",
            "--------------------------------------------------\n",
            "              agree     disagree   discuss   unrelated\n",
            "precision: [0.76744186 0.6        0.73167539 0.78569859]\n",
            "recall:    [0.08967391 0.125      0.31404494 0.97919233]\n",
            "f1 score:  [0.16058394 0.20689655 0.43946541 0.87183863]\n",
            "--------------------------------------------------\n",
            "              agree     disagree   discuss   unrelated\n",
            "precision: [0.71       0.59375    0.71719745 0.78527337]\n",
            "recall:    [0.09659864 0.11309524 0.31611454 0.97522245]\n",
            "f1 score:  [0.17005988 0.19       0.43881528 0.87000061]\n",
            "--------------------------------------------------\n",
            "              agree     disagree   discuss   unrelated\n",
            "precision: [0.62385321 0.57142857 0.7076326  0.78384328]\n",
            "recall:    [0.09251701 0.07142857 0.30713083 0.97494867]\n",
            "f1 score:  [0.16113744 0.12698413 0.42834769 0.86901348]\n",
            "--------------------------------------------------\n",
            "              agree     disagree   discuss   unrelated\n",
            "precision: [0.66666667 0.72413793 0.74228188 0.7860511 ]\n",
            "recall:    [0.08707483 0.125      0.31049972 0.98124572]\n",
            "f1 score:  [0.15403129 0.21319797 0.4378464  0.87286897]\n",
            "--------------------------------------------------\n",
            "accuracy: 77.91% (+/- 0.20%)\n",
            "precision: 70.07% (+/- 2.27%)\n",
            "recall: 37.21% (+/- 0.57%)\n",
            "f1 score: 41.24% (+/- 0.89%)\n"
          ],
          "name": "stdout"
        }
      ]
    },
    {
      "cell_type": "code",
      "metadata": {
        "id": "7IL24h2b81nN",
        "colab_type": "code",
        "colab": {}
      },
      "source": [
        "# load clean data set\n",
        "link = 'https://drive.google.com/open?id=1gaasRgoXGWRcnrIzuYHSCrraIgMV-1me' # The shareable link\n",
        "fluff, id = link.split('=')\n",
        "downloaded = drive.CreateFile({'id':id}) \n",
        "downloaded.GetContentFile('Filename.csv')  \n",
        "df = pd.read_csv('Filename.csv')\n",
        "# Dataset is now stored in a Pandas Dataframe"
      ],
      "execution_count": 0,
      "outputs": []
    },
    {
      "cell_type": "code",
      "metadata": {
        "id": "jfaAn4US9687",
        "colab_type": "code",
        "colab": {}
      },
      "source": [
        "df['sentiment'] = np.nan\n",
        "for i in range(len(df.Headline_sentiment)):\n",
        "  if df.Headline_sentiment[i] == df.articleBody_sentiment[i]:\n",
        "    df['sentiment'][i] = 1\n",
        "  else:\n",
        "    df['sentiment'][i] = 0"
      ],
      "execution_count": 0,
      "outputs": []
    },
    {
      "cell_type": "code",
      "metadata": {
        "id": "zldE_xsQlN3s",
        "colab_type": "code",
        "outputId": "caf8e95f-27bb-49c5-9764-c9bb03437470",
        "colab": {
          "base_uri": "https://localhost:8080/",
          "height": 204
        }
      },
      "source": [
        "df = df.drop(['Unnamed: 0', 'Unnamed: 0.1', 'Unnamed: 0.1.1'], axis=1)\n",
        "df.head()"
      ],
      "execution_count": 0,
      "outputs": [
        {
          "output_type": "execute_result",
          "data": {
            "text/html": [
              "<div>\n",
              "<style scoped>\n",
              "    .dataframe tbody tr th:only-of-type {\n",
              "        vertical-align: middle;\n",
              "    }\n",
              "\n",
              "    .dataframe tbody tr th {\n",
              "        vertical-align: top;\n",
              "    }\n",
              "\n",
              "    .dataframe thead th {\n",
              "        text-align: right;\n",
              "    }\n",
              "</style>\n",
              "<table border=\"1\" class=\"dataframe\">\n",
              "  <thead>\n",
              "    <tr style=\"text-align: right;\">\n",
              "      <th></th>\n",
              "      <th>Body ID</th>\n",
              "      <th>Stance</th>\n",
              "      <th>Headline_clean</th>\n",
              "      <th>articleBody</th>\n",
              "      <th>Headline</th>\n",
              "      <th>Headline_sentiment</th>\n",
              "      <th>articleBody_sentiment</th>\n",
              "      <th>question_mark</th>\n",
              "      <th>word_overlap</th>\n",
              "      <th>cosine_similarity</th>\n",
              "      <th>cross</th>\n",
              "      <th>match</th>\n",
              "      <th>sentiment</th>\n",
              "    </tr>\n",
              "  </thead>\n",
              "  <tbody>\n",
              "    <tr>\n",
              "      <th>0</th>\n",
              "      <td>712</td>\n",
              "      <td>unrelated</td>\n",
              "      <td>police mass grave body near mexico town studen...</td>\n",
              "      <td>danny boyle direct film seth rogen play apple ...</td>\n",
              "      <td>Police find mass graves with at least '15 bodi...</td>\n",
              "      <td>Negative</td>\n",
              "      <td>Negative</td>\n",
              "      <td>0</td>\n",
              "      <td>0.769231</td>\n",
              "      <td>0.000000</td>\n",
              "      <td>0.033333</td>\n",
              "      <td>0</td>\n",
              "      <td>1.0</td>\n",
              "    </tr>\n",
              "    <tr>\n",
              "      <th>1</th>\n",
              "      <td>158</td>\n",
              "      <td>agree</td>\n",
              "      <td>flood gaza israel open</td>\n",
              "      <td>evacuate home sunday morning israeli authority...</td>\n",
              "      <td>Hundreds of Palestinians flee floods in Gaza a...</td>\n",
              "      <td>Neutral</td>\n",
              "      <td>Negative</td>\n",
              "      <td>0</td>\n",
              "      <td>0.538462</td>\n",
              "      <td>0.237815</td>\n",
              "      <td>0.300000</td>\n",
              "      <td>1</td>\n",
              "      <td>0.0</td>\n",
              "    </tr>\n",
              "    <tr>\n",
              "      <th>2</th>\n",
              "      <td>137</td>\n",
              "      <td>unrelated</td>\n",
              "      <td>christian bale pass role steve jobs actor repo...</td>\n",
              "      <td>year old moscow resident hospitalize wound int...</td>\n",
              "      <td>Christian Bale passes on role of Steve Jobs, a...</td>\n",
              "      <td>Negative</td>\n",
              "      <td>Negative</td>\n",
              "      <td>0</td>\n",
              "      <td>0.769231</td>\n",
              "      <td>0.000000</td>\n",
              "      <td>0.266667</td>\n",
              "      <td>0</td>\n",
              "      <td>1.0</td>\n",
              "    </tr>\n",
              "    <tr>\n",
              "      <th>3</th>\n",
              "      <td>1034</td>\n",
              "      <td>unrelated</td>\n",
              "      <td>hbo apple talks month apple tv streaming servi...</td>\n",
              "      <td>reuters canadian soldier shoot canadian war me...</td>\n",
              "      <td>HBO and Apple in Talks for $15/Month Apple TV ...</td>\n",
              "      <td>Negative</td>\n",
              "      <td>Negative</td>\n",
              "      <td>0</td>\n",
              "      <td>0.826087</td>\n",
              "      <td>0.000000</td>\n",
              "      <td>0.166667</td>\n",
              "      <td>0</td>\n",
              "      <td>1.0</td>\n",
              "    </tr>\n",
              "    <tr>\n",
              "      <th>4</th>\n",
              "      <td>1923</td>\n",
              "      <td>disagree</td>\n",
              "      <td>spider burrow tourist stomach chest</td>\n",
              "      <td>fear story bunbury scientist cast doubt claim ...</td>\n",
              "      <td>Spider burrowed through tourist's stomach and ...</td>\n",
              "      <td>Negative</td>\n",
              "      <td>Negative</td>\n",
              "      <td>0</td>\n",
              "      <td>0.615385</td>\n",
              "      <td>0.091232</td>\n",
              "      <td>0.400000</td>\n",
              "      <td>1</td>\n",
              "      <td>1.0</td>\n",
              "    </tr>\n",
              "  </tbody>\n",
              "</table>\n",
              "</div>"
            ],
            "text/plain": [
              "   Body ID     Stance  ... match sentiment\n",
              "0      712  unrelated  ...     0       1.0\n",
              "1      158      agree  ...     1       0.0\n",
              "2      137  unrelated  ...     0       1.0\n",
              "3     1034  unrelated  ...     0       1.0\n",
              "4     1923   disagree  ...     1       1.0\n",
              "\n",
              "[5 rows x 13 columns]"
            ]
          },
          "metadata": {
            "tags": []
          },
          "execution_count": 14
        }
      ]
    },
    {
      "cell_type": "markdown",
      "metadata": {
        "id": "i15DMxM0n2w9",
        "colab_type": "text"
      },
      "source": [
        "### Feature Selection for New Engineered Features\n"
      ]
    },
    {
      "cell_type": "code",
      "metadata": {
        "id": "KNwiu-O-qNc_",
        "colab_type": "code",
        "outputId": "5b6ef6d5-0765-44e1-c6a3-874bf9eaaeac",
        "colab": {
          "base_uri": "https://localhost:8080/",
          "height": 136
        }
      },
      "source": [
        "# Feature Selection with Univariate Statistical Tests\n",
        "from pandas import read_csv\n",
        "from numpy import set_printoptions\n",
        "from sklearn.feature_selection import SelectKBest\n",
        "from sklearn.feature_selection import f_classif\n",
        "# load data\n",
        "\n",
        "\n",
        "X = df[['question_mark', 'word_overlap', 'cosine_similarity', 'cross', 'match', 'sentiment']]\n",
        "Y = df.Stance\n",
        "\n",
        "\n",
        "# feature extraction\n",
        "test = SelectKBest(score_func=f_classif, k=4)\n",
        "fit = test.fit(X, Y)\n",
        "# summarize scores\n",
        "set_printoptions(precision=8)\n",
        "print(fit.scores_)\n",
        "features = fit.transform(X)\n",
        "# summarize selected features\n",
        "print(features[0:5,:])"
      ],
      "execution_count": 0,
      "outputs": [
        {
          "output_type": "stream",
          "text": [
            "[3.62596907e+01 5.87153322e+01 2.91857180e+04 4.05252410e-01\n",
            " 5.97316848e+00 1.51923460e+01]\n",
            "[[0.         0.76923077 0.         1.        ]\n",
            " [0.         0.53846154 0.23781525 0.        ]\n",
            " [0.         0.76923077 0.         1.        ]\n",
            " [0.         0.82608696 0.         1.        ]\n",
            " [0.         0.61538462 0.09123208 1.        ]]\n"
          ],
          "name": "stdout"
        }
      ]
    },
    {
      "cell_type": "code",
      "metadata": {
        "id": "NmuOKEuC2WGz",
        "colab_type": "code",
        "outputId": "e8ce18ae-fb11-4b53-e21a-b161c681f0ad",
        "colab": {
          "base_uri": "https://localhost:8080/",
          "height": 68
        }
      },
      "source": [
        "from sklearn.linear_model import LogisticRegression\n",
        "from sklearn.feature_selection import RFE\n",
        "\n",
        "\n",
        "X = df[['question_mark', 'word_overlap', 'cosine_similarity', 'cross', 'match', 'sentiment']]\n",
        "Y = df.Stance\n",
        "# feature extraction\n",
        "model = LogisticRegression(solver='lbfgs')\n",
        "rfe = RFE(model, 3)\n",
        "fit = rfe.fit(X, Y)\n",
        "print(\"Num Features: %d\" % fit.n_features_)\n",
        "print(\"Selected Features: %s\" % fit.support_)\n",
        "print(\"Feature Ranking: %s\" % fit.ranking_)"
      ],
      "execution_count": 0,
      "outputs": [
        {
          "output_type": "stream",
          "text": [
            "Num Features: 3\n",
            "Selected Features: [ True  True  True False False False]\n",
            "Feature Ranking: [1 1 1 2 4 3]\n"
          ],
          "name": "stdout"
        }
      ]
    },
    {
      "cell_type": "code",
      "metadata": {
        "id": "e-Yogn2d2iwX",
        "colab_type": "code",
        "outputId": "1e2435fb-3355-4421-84b6-680baa3213de",
        "colab": {
          "base_uri": "https://localhost:8080/",
          "height": 85
        }
      },
      "source": [
        "from sklearn.decomposition import PCA\n",
        "X = df[['question_mark', 'word_overlap', 'cosine_similarity', 'cross', 'match', 'sentiment']]\n",
        "Y = df.Stance\n",
        "# feature extraction\n",
        "pca = PCA(n_components=3)\n",
        "fit = pca.fit(X)\n",
        "# summarize components\n",
        "print(\"Explained Variance: %s\" % fit.explained_variance_ratio_)\n",
        "print(fit.components_)"
      ],
      "execution_count": 0,
      "outputs": [
        {
          "output_type": "stream",
          "text": [
            "Explained Variance: [0.408 0.394 0.109]\n",
            "[[-1.430e-02  5.856e-02 -2.487e-03  3.842e-03 -3.220e-01  9.448e-01]\n",
            " [-6.509e-03 -1.575e-02 -9.708e-04  4.104e-04 -9.467e-01 -3.218e-01]\n",
            " [ 9.995e-01 -2.386e-02  7.663e-03 -5.043e-03 -1.088e-02  1.294e-02]]\n"
          ],
          "name": "stdout"
        }
      ]
    },
    {
      "cell_type": "code",
      "metadata": {
        "id": "gf-AeBye2oBf",
        "colab_type": "code",
        "outputId": "6ce972d4-ff55-4c5d-8166-e516beb79e21",
        "colab": {
          "base_uri": "https://localhost:8080/",
          "height": 34
        }
      },
      "source": [
        "from sklearn.ensemble import ExtraTreesClassifier\n",
        "X = df[['question_mark', 'word_overlap', 'cosine_similarity', 'cross', 'match', 'sentiment']]\n",
        "Y = df.Stance\n",
        "# feature extraction\n",
        "model = ExtraTreesClassifier(n_estimators=10)\n",
        "model.fit(X, Y)\n",
        "print(model.feature_importances_)"
      ],
      "execution_count": 0,
      "outputs": [
        {
          "output_type": "stream",
          "text": [
            "[0.002 0.125 0.785 0.084 0.002 0.001]\n"
          ],
          "name": "stdout"
        }
      ]
    },
    {
      "cell_type": "markdown",
      "metadata": {
        "id": "5xbAnRcU3NVz",
        "colab_type": "text"
      },
      "source": [
        "Based on feature selection analysis we decided to select the following features \"word_overlap\" and \"cosine_similarity\" since they have higher importance."
      ]
    },
    {
      "cell_type": "markdown",
      "metadata": {
        "id": "tFVjVgLnJ_CM",
        "colab_type": "text"
      },
      "source": [
        "### BOW with New Features"
      ]
    },
    {
      "cell_type": "code",
      "metadata": {
        "id": "p7UKwbDcKC8B",
        "colab_type": "code",
        "colab": {}
      },
      "source": [
        "from scipy.sparse import coo_matrix\n",
        "p1 = coo_matrix(df.word_overlap)\n",
        "p2 = coo_matrix(df.cosine_similarity)"
      ],
      "execution_count": 0,
      "outputs": []
    },
    {
      "cell_type": "code",
      "metadata": {
        "id": "hn1eGKSwKFmH",
        "colab_type": "code",
        "colab": {}
      },
      "source": [
        "combined_features_BOW = sp.hstack([Headline_BOW, articleBody_BOW, p1.T, p2.T], format='csr')"
      ],
      "execution_count": 0,
      "outputs": []
    },
    {
      "cell_type": "markdown",
      "metadata": {
        "id": "MKUjvyeBgqj7",
        "colab_type": "text"
      },
      "source": [
        "### TF-IDF with New Features"
      ]
    },
    {
      "cell_type": "code",
      "metadata": {
        "id": "LObGc4e84MTX",
        "colab_type": "code",
        "colab": {}
      },
      "source": [
        "combined_features_TFIDF = sp.hstack([Headline_TFIDF, articleBody_TFIDF, p1.T, p2.T], format='csr')"
      ],
      "execution_count": 0,
      "outputs": []
    },
    {
      "cell_type": "markdown",
      "metadata": {
        "id": "x4F5SyufKwgY",
        "colab_type": "text"
      },
      "source": [
        "------------------------"
      ]
    },
    {
      "cell_type": "markdown",
      "metadata": {
        "id": "p0ImI966LIUE",
        "colab_type": "text"
      },
      "source": [
        "### New Models"
      ]
    },
    {
      "cell_type": "markdown",
      "metadata": {
        "id": "gvKnjwu5AR1F",
        "colab_type": "text"
      },
      "source": [
        "#### TF-IDF/SVM with Extra Features (Over Sampled)"
      ]
    },
    {
      "cell_type": "code",
      "metadata": {
        "id": "OdVWX6F4vZBs",
        "colab_type": "code",
        "colab": {}
      },
      "source": [
        "# Creating a small subsample for GridSearch\n",
        "df1 = df.loc[df['Stance'] == 'agree'].sample(800)\n",
        "df2 = df.loc[df['Stance'] == 'discuss'].sample(800)\n",
        "df3 = df.loc[df['Stance'] == 'disagree'].sample(800) \n",
        "df4 = df[df.Stance == \"unrelated\"].sample(800)"
      ],
      "execution_count": 0,
      "outputs": []
    },
    {
      "cell_type": "code",
      "metadata": {
        "id": "WbB_lCW0xxW3",
        "colab_type": "code",
        "colab": {}
      },
      "source": [
        "df5 = pd.concat([df1, df2, df3, df4])"
      ],
      "execution_count": 0,
      "outputs": []
    },
    {
      "cell_type": "code",
      "metadata": {
        "id": "ACqhzsYR00AY",
        "colab_type": "code",
        "colab": {}
      },
      "source": [
        "#df5 = df5.dropna()\n",
        "#df5.isnull().sum()"
      ],
      "execution_count": 0,
      "outputs": []
    },
    {
      "cell_type": "code",
      "metadata": {
        "id": "ga_cfolW2WX-",
        "colab_type": "code",
        "outputId": "99d396ea-92a7-4e26-9ae8-00c13526176f",
        "colab": {
          "base_uri": "https://localhost:8080/",
          "height": 306
        }
      },
      "source": [
        "df5.head()"
      ],
      "execution_count": 0,
      "outputs": [
        {
          "output_type": "execute_result",
          "data": {
            "text/html": [
              "<div>\n",
              "<style scoped>\n",
              "    .dataframe tbody tr th:only-of-type {\n",
              "        vertical-align: middle;\n",
              "    }\n",
              "\n",
              "    .dataframe tbody tr th {\n",
              "        vertical-align: top;\n",
              "    }\n",
              "\n",
              "    .dataframe thead th {\n",
              "        text-align: right;\n",
              "    }\n",
              "</style>\n",
              "<table border=\"1\" class=\"dataframe\">\n",
              "  <thead>\n",
              "    <tr style=\"text-align: right;\">\n",
              "      <th></th>\n",
              "      <th>Body ID</th>\n",
              "      <th>Stance</th>\n",
              "      <th>Headline_clean</th>\n",
              "      <th>articleBody</th>\n",
              "      <th>Headline</th>\n",
              "      <th>Headline_sentiment</th>\n",
              "      <th>articleBody_sentiment</th>\n",
              "      <th>question_mark</th>\n",
              "      <th>word_overlap</th>\n",
              "      <th>cosine_similarity</th>\n",
              "      <th>cross</th>\n",
              "      <th>match</th>\n",
              "      <th>sentiment</th>\n",
              "    </tr>\n",
              "  </thead>\n",
              "  <tbody>\n",
              "    <tr>\n",
              "      <th>30270</th>\n",
              "      <td>2504</td>\n",
              "      <td>agree</td>\n",
              "      <td>rare case seven bosnian girl age fall pregnant...</td>\n",
              "      <td>seven girl age fall pregnant go school trip bo...</td>\n",
              "      <td>Rare Case: Seven Bosnian Girls, Aged 13 And 14...</td>\n",
              "      <td>Negative</td>\n",
              "      <td>Negative</td>\n",
              "      <td>0</td>\n",
              "      <td>0.769231</td>\n",
              "      <td>0.203674</td>\n",
              "      <td>0.433333</td>\n",
              "      <td>0</td>\n",
              "      <td>1.0</td>\n",
              "    </tr>\n",
              "    <tr>\n",
              "      <th>43057</th>\n",
              "      <td>2228</td>\n",
              "      <td>agree</td>\n",
              "      <td>microsoft turn security guard watch</td>\n",
              "      <td>visit microsoft campus silicon valley hear voi...</td>\n",
              "      <td>Microsoft turns to robotic security guards to ...</td>\n",
              "      <td>Neutral</td>\n",
              "      <td>Verynegative</td>\n",
              "      <td>0</td>\n",
              "      <td>0.720000</td>\n",
              "      <td>0.103230</td>\n",
              "      <td>0.233333</td>\n",
              "      <td>0</td>\n",
              "      <td>0.0</td>\n",
              "    </tr>\n",
              "    <tr>\n",
              "      <th>38941</th>\n",
              "      <td>391</td>\n",
              "      <td>agree</td>\n",
              "      <td>jeh johnson politician feed flame fear isis ebola</td>\n",
              "      <td>department homeland security deny wednesday cl...</td>\n",
              "      <td>Jeh Johnson: Politicians Shouldn't 'Feed The F...</td>\n",
              "      <td>Negative</td>\n",
              "      <td>Negative</td>\n",
              "      <td>0</td>\n",
              "      <td>0.666667</td>\n",
              "      <td>0.053649</td>\n",
              "      <td>0.533333</td>\n",
              "      <td>0</td>\n",
              "      <td>1.0</td>\n",
              "    </tr>\n",
              "    <tr>\n",
              "      <th>23872</th>\n",
              "      <td>1156</td>\n",
              "      <td>agree</td>\n",
              "      <td>mexican student body mass grave</td>\n",
              "      <td>mass grave confirm miss student</td>\n",
              "      <td>Mexican students not among bodies found in mas...</td>\n",
              "      <td>Negative</td>\n",
              "      <td>Negative</td>\n",
              "      <td>0</td>\n",
              "      <td>0.789474</td>\n",
              "      <td>0.288254</td>\n",
              "      <td>0.533333</td>\n",
              "      <td>1</td>\n",
              "      <td>1.0</td>\n",
              "    </tr>\n",
              "    <tr>\n",
              "      <th>8480</th>\n",
              "      <td>1647</td>\n",
              "      <td>agree</td>\n",
              "      <td>magic mushrooms buckingham palace</td>\n",
              "      <td>tv film programme queen come fungi hallucinoge...</td>\n",
              "      <td>Magic mushrooms found at Buckingham Palace</td>\n",
              "      <td>Neutral</td>\n",
              "      <td>Negative</td>\n",
              "      <td>0</td>\n",
              "      <td>0.680000</td>\n",
              "      <td>0.092809</td>\n",
              "      <td>0.266667</td>\n",
              "      <td>1</td>\n",
              "      <td>0.0</td>\n",
              "    </tr>\n",
              "  </tbody>\n",
              "</table>\n",
              "</div>"
            ],
            "text/plain": [
              "       Body ID Stance  ... match sentiment\n",
              "30270     2504  agree  ...     0       1.0\n",
              "43057     2228  agree  ...     0       0.0\n",
              "38941      391  agree  ...     0       1.0\n",
              "23872     1156  agree  ...     1       1.0\n",
              "8480      1647  agree  ...     1       0.0\n",
              "\n",
              "[5 rows x 13 columns]"
            ]
          },
          "metadata": {
            "tags": []
          },
          "execution_count": 23
        }
      ]
    },
    {
      "cell_type": "code",
      "metadata": {
        "id": "C0MEHXQr0f0Y",
        "colab_type": "code",
        "colab": {}
      },
      "source": [
        "articleBody_TFIDF_small = tfidf.fit_transform(df5['articleBody'])\n",
        "Headline_TFIDF_small = tfidf.fit_transform(df5['Headline_clean'])\n",
        "#combined_TFIDF_small = sp.hstack([Headline_TFIDF_small, articleBody_TFIDF_small], format='csr')"
      ],
      "execution_count": 0,
      "outputs": []
    },
    {
      "cell_type": "code",
      "metadata": {
        "id": "S3PrxIxGnX3L",
        "colab_type": "code",
        "colab": {}
      },
      "source": [
        "p1_small = scipy.sparse.coo_matrix(df5.question_mark)\n",
        "p2_small = scipy.sparse.coo_matrix(df5.word_overlap)\n",
        "p3_small = scipy.sparse.coo_matrix(df5.cosine_similarity)\n",
        "p4_small = scipy.sparse.coo_matrix(df5.cross)\n",
        "p5_small = scipy.sparse.coo_matrix(df5.match)\n",
        "p6_small = scipy.sparse.coo_matrix(df5['sentiment'])"
      ],
      "execution_count": 0,
      "outputs": []
    },
    {
      "cell_type": "code",
      "metadata": {
        "id": "hnWPNJX0nZf8",
        "colab_type": "code",
        "colab": {}
      },
      "source": [
        "combined_TFIDF_small = sp.hstack([Headline_TFIDF_small, articleBody_TFIDF_small, p1_small.T, p2_small.T,  p3_small.T, p4_small.T, p5_small.T, p6_small.T], format='csr')"
      ],
      "execution_count": 0,
      "outputs": []
    },
    {
      "cell_type": "code",
      "metadata": {
        "id": "a2Igxn2X1keb",
        "colab_type": "code",
        "colab": {}
      },
      "source": [
        "from imblearn.over_sampling import SMOTE\n",
        "smote = SMOTE(random_state=777, k_neighbors=1)"
      ],
      "execution_count": 0,
      "outputs": []
    },
    {
      "cell_type": "code",
      "metadata": {
        "id": "9oYpSZIX7fmE",
        "colab_type": "code",
        "colab": {}
      },
      "source": [
        "from sklearn.svm import SVC\n",
        "from sklearn.model_selection import GridSearchCV"
      ],
      "execution_count": 0,
      "outputs": []
    },
    {
      "cell_type": "code",
      "metadata": {
        "id": "Pl_ZC5eDpyZl",
        "colab_type": "code",
        "outputId": "e2201b64-3975-423c-dc81-1ea8bdd7248b",
        "colab": {
          "base_uri": "https://localhost:8080/",
          "height": 1000
        }
      },
      "source": [
        "param_grid = {'C': [0.1,1, 10, 100], 'gamma': [1,0.1,0.01,0.001],'kernel': ['rbf', 'poly', 'sigmoid']}\n",
        "grid = GridSearchCV(SVC(),param_grid,refit=True,verbose=2)\n",
        "grid.fit(combined_TFIDF_small,df5.Stance)"
      ],
      "execution_count": 0,
      "outputs": [
        {
          "output_type": "stream",
          "text": [
            "Fitting 5 folds for each of 48 candidates, totalling 240 fits\n",
            "[CV] C=0.1, gamma=1, kernel=rbf ......................................\n"
          ],
          "name": "stdout"
        },
        {
          "output_type": "stream",
          "text": [
            "[Parallel(n_jobs=1)]: Using backend SequentialBackend with 1 concurrent workers.\n"
          ],
          "name": "stderr"
        },
        {
          "output_type": "stream",
          "text": [
            "[CV] ....................... C=0.1, gamma=1, kernel=rbf, total=  15.1s\n",
            "[CV] C=0.1, gamma=1, kernel=rbf ......................................\n"
          ],
          "name": "stdout"
        },
        {
          "output_type": "stream",
          "text": [
            "[Parallel(n_jobs=1)]: Done   1 out of   1 | elapsed:   15.1s remaining:    0.0s\n"
          ],
          "name": "stderr"
        },
        {
          "output_type": "stream",
          "text": [
            "[CV] ....................... C=0.1, gamma=1, kernel=rbf, total=  15.2s\n",
            "[CV] C=0.1, gamma=1, kernel=rbf ......................................\n",
            "[CV] ....................... C=0.1, gamma=1, kernel=rbf, total=  15.1s\n",
            "[CV] C=0.1, gamma=1, kernel=rbf ......................................\n",
            "[CV] ....................... C=0.1, gamma=1, kernel=rbf, total=  15.2s\n",
            "[CV] C=0.1, gamma=1, kernel=rbf ......................................\n",
            "[CV] ....................... C=0.1, gamma=1, kernel=rbf, total=  15.1s\n",
            "[CV] C=0.1, gamma=1, kernel=poly .....................................\n",
            "[CV] ...................... C=0.1, gamma=1, kernel=poly, total=  14.3s\n",
            "[CV] C=0.1, gamma=1, kernel=poly .....................................\n",
            "[CV] ...................... C=0.1, gamma=1, kernel=poly, total=  14.3s\n",
            "[CV] C=0.1, gamma=1, kernel=poly .....................................\n",
            "[CV] ...................... C=0.1, gamma=1, kernel=poly, total=  14.2s\n",
            "[CV] C=0.1, gamma=1, kernel=poly .....................................\n",
            "[CV] ...................... C=0.1, gamma=1, kernel=poly, total=  14.3s\n",
            "[CV] C=0.1, gamma=1, kernel=poly .....................................\n",
            "[CV] ...................... C=0.1, gamma=1, kernel=poly, total=  14.3s\n",
            "[CV] C=0.1, gamma=1, kernel=sigmoid ..................................\n",
            "[CV] ................... C=0.1, gamma=1, kernel=sigmoid, total=  11.0s\n",
            "[CV] C=0.1, gamma=1, kernel=sigmoid ..................................\n",
            "[CV] ................... C=0.1, gamma=1, kernel=sigmoid, total=  11.1s\n",
            "[CV] C=0.1, gamma=1, kernel=sigmoid ..................................\n",
            "[CV] ................... C=0.1, gamma=1, kernel=sigmoid, total=  12.2s\n",
            "[CV] C=0.1, gamma=1, kernel=sigmoid ..................................\n",
            "[CV] ................... C=0.1, gamma=1, kernel=sigmoid, total=  11.2s\n",
            "[CV] C=0.1, gamma=1, kernel=sigmoid ..................................\n",
            "[CV] ................... C=0.1, gamma=1, kernel=sigmoid, total=  11.7s\n",
            "[CV] C=0.1, gamma=0.1, kernel=rbf ....................................\n",
            "[CV] ..................... C=0.1, gamma=0.1, kernel=rbf, total=  15.2s\n",
            "[CV] C=0.1, gamma=0.1, kernel=rbf ....................................\n",
            "[CV] ..................... C=0.1, gamma=0.1, kernel=rbf, total=  15.2s\n",
            "[CV] C=0.1, gamma=0.1, kernel=rbf ....................................\n",
            "[CV] ..................... C=0.1, gamma=0.1, kernel=rbf, total=  15.1s\n",
            "[CV] C=0.1, gamma=0.1, kernel=rbf ....................................\n",
            "[CV] ..................... C=0.1, gamma=0.1, kernel=rbf, total=  15.3s\n",
            "[CV] C=0.1, gamma=0.1, kernel=rbf ....................................\n",
            "[CV] ..................... C=0.1, gamma=0.1, kernel=rbf, total=  15.2s\n",
            "[CV] C=0.1, gamma=0.1, kernel=poly ...................................\n",
            "[CV] .................... C=0.1, gamma=0.1, kernel=poly, total=  15.1s\n",
            "[CV] C=0.1, gamma=0.1, kernel=poly ...................................\n",
            "[CV] .................... C=0.1, gamma=0.1, kernel=poly, total=  15.1s\n",
            "[CV] C=0.1, gamma=0.1, kernel=poly ...................................\n",
            "[CV] .................... C=0.1, gamma=0.1, kernel=poly, total=  15.1s\n",
            "[CV] C=0.1, gamma=0.1, kernel=poly ...................................\n",
            "[CV] .................... C=0.1, gamma=0.1, kernel=poly, total=  15.2s\n",
            "[CV] C=0.1, gamma=0.1, kernel=poly ...................................\n",
            "[CV] .................... C=0.1, gamma=0.1, kernel=poly, total=  15.1s\n",
            "[CV] C=0.1, gamma=0.1, kernel=sigmoid ................................\n",
            "[CV] ................. C=0.1, gamma=0.1, kernel=sigmoid, total=  15.3s\n",
            "[CV] C=0.1, gamma=0.1, kernel=sigmoid ................................\n",
            "[CV] ................. C=0.1, gamma=0.1, kernel=sigmoid, total=  15.4s\n",
            "[CV] C=0.1, gamma=0.1, kernel=sigmoid ................................\n",
            "[CV] ................. C=0.1, gamma=0.1, kernel=sigmoid, total=  15.2s\n",
            "[CV] C=0.1, gamma=0.1, kernel=sigmoid ................................\n",
            "[CV] ................. C=0.1, gamma=0.1, kernel=sigmoid, total=  15.3s\n",
            "[CV] C=0.1, gamma=0.1, kernel=sigmoid ................................\n",
            "[CV] ................. C=0.1, gamma=0.1, kernel=sigmoid, total=  15.3s\n",
            "[CV] C=0.1, gamma=0.01, kernel=rbf ...................................\n",
            "[CV] .................... C=0.1, gamma=0.01, kernel=rbf, total=  15.3s\n",
            "[CV] C=0.1, gamma=0.01, kernel=rbf ...................................\n",
            "[CV] .................... C=0.1, gamma=0.01, kernel=rbf, total=  15.3s\n",
            "[CV] C=0.1, gamma=0.01, kernel=rbf ...................................\n",
            "[CV] .................... C=0.1, gamma=0.01, kernel=rbf, total=  15.3s\n",
            "[CV] C=0.1, gamma=0.01, kernel=rbf ...................................\n",
            "[CV] .................... C=0.1, gamma=0.01, kernel=rbf, total=  15.3s\n",
            "[CV] C=0.1, gamma=0.01, kernel=rbf ...................................\n",
            "[CV] .................... C=0.1, gamma=0.01, kernel=rbf, total=  15.3s\n",
            "[CV] C=0.1, gamma=0.01, kernel=poly ..................................\n",
            "[CV] ................... C=0.1, gamma=0.01, kernel=poly, total=  15.1s\n",
            "[CV] C=0.1, gamma=0.01, kernel=poly ..................................\n",
            "[CV] ................... C=0.1, gamma=0.01, kernel=poly, total=  15.1s\n",
            "[CV] C=0.1, gamma=0.01, kernel=poly ..................................\n",
            "[CV] ................... C=0.1, gamma=0.01, kernel=poly, total=  15.1s\n",
            "[CV] C=0.1, gamma=0.01, kernel=poly ..................................\n",
            "[CV] ................... C=0.1, gamma=0.01, kernel=poly, total=  15.2s\n",
            "[CV] C=0.1, gamma=0.01, kernel=poly ..................................\n",
            "[CV] ................... C=0.1, gamma=0.01, kernel=poly, total=  15.2s\n",
            "[CV] C=0.1, gamma=0.01, kernel=sigmoid ...............................\n",
            "[CV] ................ C=0.1, gamma=0.01, kernel=sigmoid, total=  15.3s\n",
            "[CV] C=0.1, gamma=0.01, kernel=sigmoid ...............................\n",
            "[CV] ................ C=0.1, gamma=0.01, kernel=sigmoid, total=  15.3s\n",
            "[CV] C=0.1, gamma=0.01, kernel=sigmoid ...............................\n",
            "[CV] ................ C=0.1, gamma=0.01, kernel=sigmoid, total=  15.4s\n",
            "[CV] C=0.1, gamma=0.01, kernel=sigmoid ...............................\n",
            "[CV] ................ C=0.1, gamma=0.01, kernel=sigmoid, total=  15.4s\n",
            "[CV] C=0.1, gamma=0.01, kernel=sigmoid ...............................\n",
            "[CV] ................ C=0.1, gamma=0.01, kernel=sigmoid, total=  15.3s\n",
            "[CV] C=0.1, gamma=0.001, kernel=rbf ..................................\n",
            "[CV] ................... C=0.1, gamma=0.001, kernel=rbf, total=  15.4s\n",
            "[CV] C=0.1, gamma=0.001, kernel=rbf ..................................\n",
            "[CV] ................... C=0.1, gamma=0.001, kernel=rbf, total=  15.3s\n",
            "[CV] C=0.1, gamma=0.001, kernel=rbf ..................................\n",
            "[CV] ................... C=0.1, gamma=0.001, kernel=rbf, total=  15.3s\n",
            "[CV] C=0.1, gamma=0.001, kernel=rbf ..................................\n",
            "[CV] ................... C=0.1, gamma=0.001, kernel=rbf, total=  15.3s\n",
            "[CV] C=0.1, gamma=0.001, kernel=rbf ..................................\n",
            "[CV] ................... C=0.1, gamma=0.001, kernel=rbf, total=  15.4s\n",
            "[CV] C=0.1, gamma=0.001, kernel=poly .................................\n",
            "[CV] .................. C=0.1, gamma=0.001, kernel=poly, total=  15.3s\n",
            "[CV] C=0.1, gamma=0.001, kernel=poly .................................\n",
            "[CV] .................. C=0.1, gamma=0.001, kernel=poly, total=  15.2s\n",
            "[CV] C=0.1, gamma=0.001, kernel=poly .................................\n",
            "[CV] .................. C=0.1, gamma=0.001, kernel=poly, total=  15.1s\n",
            "[CV] C=0.1, gamma=0.001, kernel=poly .................................\n",
            "[CV] .................. C=0.1, gamma=0.001, kernel=poly, total=  16.1s\n",
            "[CV] C=0.1, gamma=0.001, kernel=poly .................................\n",
            "[CV] .................. C=0.1, gamma=0.001, kernel=poly, total=  15.3s\n",
            "[CV] C=0.1, gamma=0.001, kernel=sigmoid ..............................\n",
            "[CV] ............... C=0.1, gamma=0.001, kernel=sigmoid, total=  15.3s\n",
            "[CV] C=0.1, gamma=0.001, kernel=sigmoid ..............................\n",
            "[CV] ............... C=0.1, gamma=0.001, kernel=sigmoid, total=  15.3s\n",
            "[CV] C=0.1, gamma=0.001, kernel=sigmoid ..............................\n",
            "[CV] ............... C=0.1, gamma=0.001, kernel=sigmoid, total=  15.3s\n",
            "[CV] C=0.1, gamma=0.001, kernel=sigmoid ..............................\n",
            "[CV] ............... C=0.1, gamma=0.001, kernel=sigmoid, total=  15.3s\n",
            "[CV] C=0.1, gamma=0.001, kernel=sigmoid ..............................\n",
            "[CV] ............... C=0.1, gamma=0.001, kernel=sigmoid, total=  15.3s\n",
            "[CV] C=1, gamma=1, kernel=rbf ........................................\n",
            "[CV] ......................... C=1, gamma=1, kernel=rbf, total=  15.4s\n",
            "[CV] C=1, gamma=1, kernel=rbf ........................................\n",
            "[CV] ......................... C=1, gamma=1, kernel=rbf, total=  15.4s\n",
            "[CV] C=1, gamma=1, kernel=rbf ........................................\n",
            "[CV] ......................... C=1, gamma=1, kernel=rbf, total=  15.3s\n",
            "[CV] C=1, gamma=1, kernel=rbf ........................................\n",
            "[CV] ......................... C=1, gamma=1, kernel=rbf, total=  15.4s\n",
            "[CV] C=1, gamma=1, kernel=rbf ........................................\n",
            "[CV] ......................... C=1, gamma=1, kernel=rbf, total=  15.4s\n",
            "[CV] C=1, gamma=1, kernel=poly .......................................\n",
            "[CV] ........................ C=1, gamma=1, kernel=poly, total=  14.4s\n",
            "[CV] C=1, gamma=1, kernel=poly .......................................\n",
            "[CV] ........................ C=1, gamma=1, kernel=poly, total=  14.4s\n",
            "[CV] C=1, gamma=1, kernel=poly .......................................\n",
            "[CV] ........................ C=1, gamma=1, kernel=poly, total=  14.4s\n",
            "[CV] C=1, gamma=1, kernel=poly .......................................\n",
            "[CV] ........................ C=1, gamma=1, kernel=poly, total=  14.4s\n",
            "[CV] C=1, gamma=1, kernel=poly .......................................\n",
            "[CV] ........................ C=1, gamma=1, kernel=poly, total=  14.4s\n",
            "[CV] C=1, gamma=1, kernel=sigmoid ....................................\n",
            "[CV] ..................... C=1, gamma=1, kernel=sigmoid, total=   8.1s\n",
            "[CV] C=1, gamma=1, kernel=sigmoid ....................................\n",
            "[CV] ..................... C=1, gamma=1, kernel=sigmoid, total=   8.3s\n",
            "[CV] C=1, gamma=1, kernel=sigmoid ....................................\n",
            "[CV] ..................... C=1, gamma=1, kernel=sigmoid, total=   8.3s\n",
            "[CV] C=1, gamma=1, kernel=sigmoid ....................................\n",
            "[CV] ..................... C=1, gamma=1, kernel=sigmoid, total=   8.1s\n",
            "[CV] C=1, gamma=1, kernel=sigmoid ....................................\n",
            "[CV] ..................... C=1, gamma=1, kernel=sigmoid, total=   8.3s\n",
            "[CV] C=1, gamma=0.1, kernel=rbf ......................................\n",
            "[CV] ....................... C=1, gamma=0.1, kernel=rbf, total=  12.4s\n",
            "[CV] C=1, gamma=0.1, kernel=rbf ......................................\n",
            "[CV] ....................... C=1, gamma=0.1, kernel=rbf, total=  12.4s\n",
            "[CV] C=1, gamma=0.1, kernel=rbf ......................................\n",
            "[CV] ....................... C=1, gamma=0.1, kernel=rbf, total=  12.4s\n",
            "[CV] C=1, gamma=0.1, kernel=rbf ......................................\n",
            "[CV] ....................... C=1, gamma=0.1, kernel=rbf, total=  12.2s\n",
            "[CV] C=1, gamma=0.1, kernel=rbf ......................................\n",
            "[CV] ....................... C=1, gamma=0.1, kernel=rbf, total=  12.3s\n",
            "[CV] C=1, gamma=0.1, kernel=poly .....................................\n",
            "[CV] ...................... C=1, gamma=0.1, kernel=poly, total=  15.2s\n",
            "[CV] C=1, gamma=0.1, kernel=poly .....................................\n",
            "[CV] ...................... C=1, gamma=0.1, kernel=poly, total=  15.1s\n",
            "[CV] C=1, gamma=0.1, kernel=poly .....................................\n",
            "[CV] ...................... C=1, gamma=0.1, kernel=poly, total=  15.1s\n",
            "[CV] C=1, gamma=0.1, kernel=poly .....................................\n",
            "[CV] ...................... C=1, gamma=0.1, kernel=poly, total=  15.2s\n",
            "[CV] C=1, gamma=0.1, kernel=poly .....................................\n",
            "[CV] ...................... C=1, gamma=0.1, kernel=poly, total=  15.1s\n",
            "[CV] C=1, gamma=0.1, kernel=sigmoid ..................................\n",
            "[CV] ................... C=1, gamma=0.1, kernel=sigmoid, total=  12.6s\n",
            "[CV] C=1, gamma=0.1, kernel=sigmoid ..................................\n",
            "[CV] ................... C=1, gamma=0.1, kernel=sigmoid, total=  12.7s\n",
            "[CV] C=1, gamma=0.1, kernel=sigmoid ..................................\n",
            "[CV] ................... C=1, gamma=0.1, kernel=sigmoid, total=  12.6s\n",
            "[CV] C=1, gamma=0.1, kernel=sigmoid ..................................\n",
            "[CV] ................... C=1, gamma=0.1, kernel=sigmoid, total=  12.6s\n",
            "[CV] C=1, gamma=0.1, kernel=sigmoid ..................................\n",
            "[CV] ................... C=1, gamma=0.1, kernel=sigmoid, total=  12.6s\n",
            "[CV] C=1, gamma=0.01, kernel=rbf .....................................\n",
            "[CV] ...................... C=1, gamma=0.01, kernel=rbf, total=  15.1s\n",
            "[CV] C=1, gamma=0.01, kernel=rbf .....................................\n",
            "[CV] ...................... C=1, gamma=0.01, kernel=rbf, total=  15.1s\n",
            "[CV] C=1, gamma=0.01, kernel=rbf .....................................\n",
            "[CV] ...................... C=1, gamma=0.01, kernel=rbf, total=  15.0s\n",
            "[CV] C=1, gamma=0.01, kernel=rbf .....................................\n",
            "[CV] ...................... C=1, gamma=0.01, kernel=rbf, total=  15.2s\n",
            "[CV] C=1, gamma=0.01, kernel=rbf .....................................\n",
            "[CV] ...................... C=1, gamma=0.01, kernel=rbf, total=  15.1s\n",
            "[CV] C=1, gamma=0.01, kernel=poly ....................................\n",
            "[CV] ..................... C=1, gamma=0.01, kernel=poly, total=  15.3s\n",
            "[CV] C=1, gamma=0.01, kernel=poly ....................................\n",
            "[CV] ..................... C=1, gamma=0.01, kernel=poly, total=  15.2s\n",
            "[CV] C=1, gamma=0.01, kernel=poly ....................................\n",
            "[CV] ..................... C=1, gamma=0.01, kernel=poly, total=  15.2s\n",
            "[CV] C=1, gamma=0.01, kernel=poly ....................................\n",
            "[CV] ..................... C=1, gamma=0.01, kernel=poly, total=  15.2s\n",
            "[CV] C=1, gamma=0.01, kernel=poly ....................................\n",
            "[CV] ..................... C=1, gamma=0.01, kernel=poly, total=  15.2s\n",
            "[CV] C=1, gamma=0.01, kernel=sigmoid .................................\n",
            "[CV] .................. C=1, gamma=0.01, kernel=sigmoid, total=  15.3s\n",
            "[CV] C=1, gamma=0.01, kernel=sigmoid .................................\n",
            "[CV] .................. C=1, gamma=0.01, kernel=sigmoid, total=  15.3s\n",
            "[CV] C=1, gamma=0.01, kernel=sigmoid .................................\n",
            "[CV] .................. C=1, gamma=0.01, kernel=sigmoid, total=  15.2s\n",
            "[CV] C=1, gamma=0.01, kernel=sigmoid .................................\n",
            "[CV] .................. C=1, gamma=0.01, kernel=sigmoid, total=  15.3s\n",
            "[CV] C=1, gamma=0.01, kernel=sigmoid .................................\n",
            "[CV] .................. C=1, gamma=0.01, kernel=sigmoid, total=  15.3s\n",
            "[CV] C=1, gamma=0.001, kernel=rbf ....................................\n",
            "[CV] ..................... C=1, gamma=0.001, kernel=rbf, total=  15.3s\n",
            "[CV] C=1, gamma=0.001, kernel=rbf ....................................\n",
            "[CV] ..................... C=1, gamma=0.001, kernel=rbf, total=  15.3s\n",
            "[CV] C=1, gamma=0.001, kernel=rbf ....................................\n",
            "[CV] ..................... C=1, gamma=0.001, kernel=rbf, total=  15.4s\n",
            "[CV] C=1, gamma=0.001, kernel=rbf ....................................\n",
            "[CV] ..................... C=1, gamma=0.001, kernel=rbf, total=  15.3s\n",
            "[CV] C=1, gamma=0.001, kernel=rbf ....................................\n",
            "[CV] ..................... C=1, gamma=0.001, kernel=rbf, total=  15.4s\n",
            "[CV] C=1, gamma=0.001, kernel=poly ...................................\n",
            "[CV] .................... C=1, gamma=0.001, kernel=poly, total=  15.2s\n",
            "[CV] C=1, gamma=0.001, kernel=poly ...................................\n",
            "[CV] .................... C=1, gamma=0.001, kernel=poly, total=  15.2s\n",
            "[CV] C=1, gamma=0.001, kernel=poly ...................................\n",
            "[CV] .................... C=1, gamma=0.001, kernel=poly, total=  15.1s\n",
            "[CV] C=1, gamma=0.001, kernel=poly ...................................\n",
            "[CV] .................... C=1, gamma=0.001, kernel=poly, total=  15.2s\n",
            "[CV] C=1, gamma=0.001, kernel=poly ...................................\n",
            "[CV] .................... C=1, gamma=0.001, kernel=poly, total=  15.2s\n",
            "[CV] C=1, gamma=0.001, kernel=sigmoid ................................\n",
            "[CV] ................. C=1, gamma=0.001, kernel=sigmoid, total=  15.3s\n",
            "[CV] C=1, gamma=0.001, kernel=sigmoid ................................\n",
            "[CV] ................. C=1, gamma=0.001, kernel=sigmoid, total=  15.3s\n",
            "[CV] C=1, gamma=0.001, kernel=sigmoid ................................\n",
            "[CV] ................. C=1, gamma=0.001, kernel=sigmoid, total=  15.2s\n",
            "[CV] C=1, gamma=0.001, kernel=sigmoid ................................\n",
            "[CV] ................. C=1, gamma=0.001, kernel=sigmoid, total=  15.3s\n",
            "[CV] C=1, gamma=0.001, kernel=sigmoid ................................\n",
            "[CV] ................. C=1, gamma=0.001, kernel=sigmoid, total=  15.3s\n",
            "[CV] C=10, gamma=1, kernel=rbf .......................................\n",
            "[CV] ........................ C=10, gamma=1, kernel=rbf, total=  15.4s\n",
            "[CV] C=10, gamma=1, kernel=rbf .......................................\n",
            "[CV] ........................ C=10, gamma=1, kernel=rbf, total=  15.4s\n",
            "[CV] C=10, gamma=1, kernel=rbf .......................................\n",
            "[CV] ........................ C=10, gamma=1, kernel=rbf, total=  15.3s\n",
            "[CV] C=10, gamma=1, kernel=rbf .......................................\n",
            "[CV] ........................ C=10, gamma=1, kernel=rbf, total=  15.4s\n",
            "[CV] C=10, gamma=1, kernel=rbf .......................................\n",
            "[CV] ........................ C=10, gamma=1, kernel=rbf, total=  15.4s\n",
            "[CV] C=10, gamma=1, kernel=poly ......................................\n",
            "[CV] ....................... C=10, gamma=1, kernel=poly, total=  14.4s\n",
            "[CV] C=10, gamma=1, kernel=poly ......................................\n",
            "[CV] ....................... C=10, gamma=1, kernel=poly, total=  14.5s\n",
            "[CV] C=10, gamma=1, kernel=poly ......................................\n",
            "[CV] ....................... C=10, gamma=1, kernel=poly, total=  14.4s\n",
            "[CV] C=10, gamma=1, kernel=poly ......................................\n",
            "[CV] ....................... C=10, gamma=1, kernel=poly, total=  14.4s\n",
            "[CV] C=10, gamma=1, kernel=poly ......................................\n",
            "[CV] ....................... C=10, gamma=1, kernel=poly, total=  14.5s\n",
            "[CV] C=10, gamma=1, kernel=sigmoid ...................................\n",
            "[CV] .................... C=10, gamma=1, kernel=sigmoid, total=   7.8s\n",
            "[CV] C=10, gamma=1, kernel=sigmoid ...................................\n",
            "[CV] .................... C=10, gamma=1, kernel=sigmoid, total=   7.6s\n",
            "[CV] C=10, gamma=1, kernel=sigmoid ...................................\n",
            "[CV] .................... C=10, gamma=1, kernel=sigmoid, total=   7.5s\n",
            "[CV] C=10, gamma=1, kernel=sigmoid ...................................\n",
            "[CV] .................... C=10, gamma=1, kernel=sigmoid, total=   7.5s\n",
            "[CV] C=10, gamma=1, kernel=sigmoid ...................................\n",
            "[CV] .................... C=10, gamma=1, kernel=sigmoid, total=   7.7s\n",
            "[CV] C=10, gamma=0.1, kernel=rbf .....................................\n",
            "[CV] ...................... C=10, gamma=0.1, kernel=rbf, total=  12.9s\n",
            "[CV] C=10, gamma=0.1, kernel=rbf .....................................\n",
            "[CV] ...................... C=10, gamma=0.1, kernel=rbf, total=  13.0s\n",
            "[CV] C=10, gamma=0.1, kernel=rbf .....................................\n",
            "[CV] ...................... C=10, gamma=0.1, kernel=rbf, total=  12.9s\n",
            "[CV] C=10, gamma=0.1, kernel=rbf .....................................\n",
            "[CV] ...................... C=10, gamma=0.1, kernel=rbf, total=  12.9s\n",
            "[CV] C=10, gamma=0.1, kernel=rbf .....................................\n",
            "[CV] ...................... C=10, gamma=0.1, kernel=rbf, total=  12.9s\n",
            "[CV] C=10, gamma=0.1, kernel=poly ....................................\n",
            "[CV] ..................... C=10, gamma=0.1, kernel=poly, total=  13.4s\n",
            "[CV] C=10, gamma=0.1, kernel=poly ....................................\n",
            "[CV] ..................... C=10, gamma=0.1, kernel=poly, total=  13.4s\n",
            "[CV] C=10, gamma=0.1, kernel=poly ....................................\n",
            "[CV] ..................... C=10, gamma=0.1, kernel=poly, total=  13.3s\n",
            "[CV] C=10, gamma=0.1, kernel=poly ....................................\n",
            "[CV] ..................... C=10, gamma=0.1, kernel=poly, total=  13.4s\n",
            "[CV] C=10, gamma=0.1, kernel=poly ....................................\n",
            "[CV] ..................... C=10, gamma=0.1, kernel=poly, total=  13.3s\n",
            "[CV] C=10, gamma=0.1, kernel=sigmoid .................................\n",
            "[CV] .................. C=10, gamma=0.1, kernel=sigmoid, total=   9.3s\n",
            "[CV] C=10, gamma=0.1, kernel=sigmoid .................................\n",
            "[CV] .................. C=10, gamma=0.1, kernel=sigmoid, total=   9.1s\n",
            "[CV] C=10, gamma=0.1, kernel=sigmoid .................................\n",
            "[CV] .................. C=10, gamma=0.1, kernel=sigmoid, total=   8.8s\n",
            "[CV] C=10, gamma=0.1, kernel=sigmoid .................................\n",
            "[CV] .................. C=10, gamma=0.1, kernel=sigmoid, total=   8.8s\n",
            "[CV] C=10, gamma=0.1, kernel=sigmoid .................................\n",
            "[CV] .................. C=10, gamma=0.1, kernel=sigmoid, total=   9.0s\n",
            "[CV] C=10, gamma=0.01, kernel=rbf ....................................\n",
            "[CV] ..................... C=10, gamma=0.01, kernel=rbf, total=  11.3s\n",
            "[CV] C=10, gamma=0.01, kernel=rbf ....................................\n",
            "[CV] ..................... C=10, gamma=0.01, kernel=rbf, total=  11.4s\n",
            "[CV] C=10, gamma=0.01, kernel=rbf ....................................\n",
            "[CV] ..................... C=10, gamma=0.01, kernel=rbf, total=  11.2s\n",
            "[CV] C=10, gamma=0.01, kernel=rbf ....................................\n",
            "[CV] ..................... C=10, gamma=0.01, kernel=rbf, total=  11.2s\n",
            "[CV] C=10, gamma=0.01, kernel=rbf ....................................\n",
            "[CV] ..................... C=10, gamma=0.01, kernel=rbf, total=  11.3s\n",
            "[CV] C=10, gamma=0.01, kernel=poly ...................................\n",
            "[CV] .................... C=10, gamma=0.01, kernel=poly, total=  15.2s\n",
            "[CV] C=10, gamma=0.01, kernel=poly ...................................\n",
            "[CV] .................... C=10, gamma=0.01, kernel=poly, total=  15.2s\n",
            "[CV] C=10, gamma=0.01, kernel=poly ...................................\n",
            "[CV] .................... C=10, gamma=0.01, kernel=poly, total=  15.2s\n",
            "[CV] C=10, gamma=0.01, kernel=poly ...................................\n",
            "[CV] .................... C=10, gamma=0.01, kernel=poly, total=  15.2s\n",
            "[CV] C=10, gamma=0.01, kernel=poly ...................................\n",
            "[CV] .................... C=10, gamma=0.01, kernel=poly, total=  15.1s\n",
            "[CV] C=10, gamma=0.01, kernel=sigmoid ................................\n",
            "[CV] ................. C=10, gamma=0.01, kernel=sigmoid, total=  12.6s\n",
            "[CV] C=10, gamma=0.01, kernel=sigmoid ................................\n",
            "[CV] ................. C=10, gamma=0.01, kernel=sigmoid, total=  12.7s\n",
            "[CV] C=10, gamma=0.01, kernel=sigmoid ................................\n",
            "[CV] ................. C=10, gamma=0.01, kernel=sigmoid, total=  12.6s\n",
            "[CV] C=10, gamma=0.01, kernel=sigmoid ................................\n",
            "[CV] ................. C=10, gamma=0.01, kernel=sigmoid, total=  12.5s\n",
            "[CV] C=10, gamma=0.01, kernel=sigmoid ................................\n",
            "[CV] ................. C=10, gamma=0.01, kernel=sigmoid, total=  12.6s\n",
            "[CV] C=10, gamma=0.001, kernel=rbf ...................................\n",
            "[CV] .................... C=10, gamma=0.001, kernel=rbf, total=  15.1s\n",
            "[CV] C=10, gamma=0.001, kernel=rbf ...................................\n",
            "[CV] .................... C=10, gamma=0.001, kernel=rbf, total=  15.0s\n",
            "[CV] C=10, gamma=0.001, kernel=rbf ...................................\n",
            "[CV] .................... C=10, gamma=0.001, kernel=rbf, total=  14.9s\n",
            "[CV] C=10, gamma=0.001, kernel=rbf ...................................\n",
            "[CV] .................... C=10, gamma=0.001, kernel=rbf, total=  15.1s\n",
            "[CV] C=10, gamma=0.001, kernel=rbf ...................................\n",
            "[CV] .................... C=10, gamma=0.001, kernel=rbf, total=  15.1s\n",
            "[CV] C=10, gamma=0.001, kernel=poly ..................................\n",
            "[CV] ................... C=10, gamma=0.001, kernel=poly, total=  15.2s\n",
            "[CV] C=10, gamma=0.001, kernel=poly ..................................\n",
            "[CV] ................... C=10, gamma=0.001, kernel=poly, total=  15.2s\n",
            "[CV] C=10, gamma=0.001, kernel=poly ..................................\n",
            "[CV] ................... C=10, gamma=0.001, kernel=poly, total=  15.1s\n",
            "[CV] C=10, gamma=0.001, kernel=poly ..................................\n",
            "[CV] ................... C=10, gamma=0.001, kernel=poly, total=  15.2s\n",
            "[CV] C=10, gamma=0.001, kernel=poly ..................................\n",
            "[CV] ................... C=10, gamma=0.001, kernel=poly, total=  15.2s\n",
            "[CV] C=10, gamma=0.001, kernel=sigmoid ...............................\n",
            "[CV] ................ C=10, gamma=0.001, kernel=sigmoid, total=  15.2s\n",
            "[CV] C=10, gamma=0.001, kernel=sigmoid ...............................\n",
            "[CV] ................ C=10, gamma=0.001, kernel=sigmoid, total=  15.3s\n",
            "[CV] C=10, gamma=0.001, kernel=sigmoid ...............................\n",
            "[CV] ................ C=10, gamma=0.001, kernel=sigmoid, total=  15.2s\n",
            "[CV] C=10, gamma=0.001, kernel=sigmoid ...............................\n",
            "[CV] ................ C=10, gamma=0.001, kernel=sigmoid, total=  15.3s\n",
            "[CV] C=10, gamma=0.001, kernel=sigmoid ...............................\n",
            "[CV] ................ C=10, gamma=0.001, kernel=sigmoid, total=  15.4s\n",
            "[CV] C=100, gamma=1, kernel=rbf ......................................\n",
            "[CV] ....................... C=100, gamma=1, kernel=rbf, total=  15.4s\n",
            "[CV] C=100, gamma=1, kernel=rbf ......................................\n",
            "[CV] ....................... C=100, gamma=1, kernel=rbf, total=  15.4s\n",
            "[CV] C=100, gamma=1, kernel=rbf ......................................\n",
            "[CV] ....................... C=100, gamma=1, kernel=rbf, total=  15.3s\n",
            "[CV] C=100, gamma=1, kernel=rbf ......................................\n",
            "[CV] ....................... C=100, gamma=1, kernel=rbf, total=  15.4s\n",
            "[CV] C=100, gamma=1, kernel=rbf ......................................\n",
            "[CV] ....................... C=100, gamma=1, kernel=rbf, total=  15.4s\n",
            "[CV] C=100, gamma=1, kernel=poly .....................................\n",
            "[CV] ...................... C=100, gamma=1, kernel=poly, total=  14.4s\n",
            "[CV] C=100, gamma=1, kernel=poly .....................................\n",
            "[CV] ...................... C=100, gamma=1, kernel=poly, total=  14.5s\n",
            "[CV] C=100, gamma=1, kernel=poly .....................................\n",
            "[CV] ...................... C=100, gamma=1, kernel=poly, total=  14.4s\n",
            "[CV] C=100, gamma=1, kernel=poly .....................................\n",
            "[CV] ...................... C=100, gamma=1, kernel=poly, total=  14.5s\n",
            "[CV] C=100, gamma=1, kernel=poly .....................................\n",
            "[CV] ...................... C=100, gamma=1, kernel=poly, total=  14.5s\n",
            "[CV] C=100, gamma=1, kernel=sigmoid ..................................\n",
            "[CV] ................... C=100, gamma=1, kernel=sigmoid, total=   7.4s\n",
            "[CV] C=100, gamma=1, kernel=sigmoid ..................................\n",
            "[CV] ................... C=100, gamma=1, kernel=sigmoid, total=   7.5s\n",
            "[CV] C=100, gamma=1, kernel=sigmoid ..................................\n",
            "[CV] ................... C=100, gamma=1, kernel=sigmoid, total=   7.5s\n",
            "[CV] C=100, gamma=1, kernel=sigmoid ..................................\n",
            "[CV] ................... C=100, gamma=1, kernel=sigmoid, total=   7.4s\n",
            "[CV] C=100, gamma=1, kernel=sigmoid ..................................\n",
            "[CV] ................... C=100, gamma=1, kernel=sigmoid, total=   7.6s\n",
            "[CV] C=100, gamma=0.1, kernel=rbf ....................................\n",
            "[CV] ..................... C=100, gamma=0.1, kernel=rbf, total=  12.9s\n",
            "[CV] C=100, gamma=0.1, kernel=rbf ....................................\n",
            "[CV] ..................... C=100, gamma=0.1, kernel=rbf, total=  13.0s\n",
            "[CV] C=100, gamma=0.1, kernel=rbf ....................................\n",
            "[CV] ..................... C=100, gamma=0.1, kernel=rbf, total=  12.9s\n",
            "[CV] C=100, gamma=0.1, kernel=rbf ....................................\n",
            "[CV] ..................... C=100, gamma=0.1, kernel=rbf, total=  13.0s\n",
            "[CV] C=100, gamma=0.1, kernel=rbf ....................................\n",
            "[CV] ..................... C=100, gamma=0.1, kernel=rbf, total=  12.9s\n",
            "[CV] C=100, gamma=0.1, kernel=poly ...................................\n",
            "[CV] .................... C=100, gamma=0.1, kernel=poly, total=  14.4s\n",
            "[CV] C=100, gamma=0.1, kernel=poly ...................................\n",
            "[CV] .................... C=100, gamma=0.1, kernel=poly, total=  14.4s\n",
            "[CV] C=100, gamma=0.1, kernel=poly ...................................\n",
            "[CV] .................... C=100, gamma=0.1, kernel=poly, total=  14.4s\n",
            "[CV] C=100, gamma=0.1, kernel=poly ...................................\n",
            "[CV] .................... C=100, gamma=0.1, kernel=poly, total=  14.5s\n",
            "[CV] C=100, gamma=0.1, kernel=poly ...................................\n",
            "[CV] .................... C=100, gamma=0.1, kernel=poly, total=  14.4s\n",
            "[CV] C=100, gamma=0.1, kernel=sigmoid ................................\n",
            "[CV] ................. C=100, gamma=0.1, kernel=sigmoid, total=   7.1s\n",
            "[CV] C=100, gamma=0.1, kernel=sigmoid ................................\n",
            "[CV] ................. C=100, gamma=0.1, kernel=sigmoid, total=   7.4s\n",
            "[CV] C=100, gamma=0.1, kernel=sigmoid ................................\n",
            "[CV] ................. C=100, gamma=0.1, kernel=sigmoid, total=   7.3s\n",
            "[CV] C=100, gamma=0.1, kernel=sigmoid ................................\n",
            "[CV] ................. C=100, gamma=0.1, kernel=sigmoid, total=   7.3s\n",
            "[CV] C=100, gamma=0.1, kernel=sigmoid ................................\n",
            "[CV] ................. C=100, gamma=0.1, kernel=sigmoid, total=   7.0s\n",
            "[CV] C=100, gamma=0.01, kernel=rbf ...................................\n",
            "[CV] .................... C=100, gamma=0.01, kernel=rbf, total=   8.7s\n",
            "[CV] C=100, gamma=0.01, kernel=rbf ...................................\n",
            "[CV] .................... C=100, gamma=0.01, kernel=rbf, total=   8.9s\n",
            "[CV] C=100, gamma=0.01, kernel=rbf ...................................\n",
            "[CV] .................... C=100, gamma=0.01, kernel=rbf, total=   8.7s\n",
            "[CV] C=100, gamma=0.01, kernel=rbf ...................................\n",
            "[CV] .................... C=100, gamma=0.01, kernel=rbf, total=   8.7s\n",
            "[CV] C=100, gamma=0.01, kernel=rbf ...................................\n",
            "[CV] .................... C=100, gamma=0.01, kernel=rbf, total=   8.7s\n",
            "[CV] C=100, gamma=0.01, kernel=poly ..................................\n",
            "[CV] ................... C=100, gamma=0.01, kernel=poly, total=  15.2s\n",
            "[CV] C=100, gamma=0.01, kernel=poly ..................................\n",
            "[CV] ................... C=100, gamma=0.01, kernel=poly, total=  15.2s\n",
            "[CV] C=100, gamma=0.01, kernel=poly ..................................\n",
            "[CV] ................... C=100, gamma=0.01, kernel=poly, total=  15.1s\n",
            "[CV] C=100, gamma=0.01, kernel=poly ..................................\n",
            "[CV] ................... C=100, gamma=0.01, kernel=poly, total=  15.2s\n",
            "[CV] C=100, gamma=0.01, kernel=poly ..................................\n",
            "[CV] ................... C=100, gamma=0.01, kernel=poly, total=  15.2s\n",
            "[CV] C=100, gamma=0.01, kernel=sigmoid ...............................\n",
            "[CV] ................ C=100, gamma=0.01, kernel=sigmoid, total=   9.1s\n",
            "[CV] C=100, gamma=0.01, kernel=sigmoid ...............................\n",
            "[CV] ................ C=100, gamma=0.01, kernel=sigmoid, total=   9.1s\n",
            "[CV] C=100, gamma=0.01, kernel=sigmoid ...............................\n",
            "[CV] ................ C=100, gamma=0.01, kernel=sigmoid, total=   9.0s\n",
            "[CV] C=100, gamma=0.01, kernel=sigmoid ...............................\n",
            "[CV] ................ C=100, gamma=0.01, kernel=sigmoid, total=   9.0s\n",
            "[CV] C=100, gamma=0.01, kernel=sigmoid ...............................\n",
            "[CV] ................ C=100, gamma=0.01, kernel=sigmoid, total=   8.9s\n",
            "[CV] C=100, gamma=0.001, kernel=rbf ..................................\n",
            "[CV] ................... C=100, gamma=0.001, kernel=rbf, total=  11.2s\n",
            "[CV] C=100, gamma=0.001, kernel=rbf ..................................\n",
            "[CV] ................... C=100, gamma=0.001, kernel=rbf, total=  11.3s\n",
            "[CV] C=100, gamma=0.001, kernel=rbf ..................................\n",
            "[CV] ................... C=100, gamma=0.001, kernel=rbf, total=  11.1s\n",
            "[CV] C=100, gamma=0.001, kernel=rbf ..................................\n",
            "[CV] ................... C=100, gamma=0.001, kernel=rbf, total=  11.2s\n",
            "[CV] C=100, gamma=0.001, kernel=rbf ..................................\n",
            "[CV] ................... C=100, gamma=0.001, kernel=rbf, total=  11.2s\n",
            "[CV] C=100, gamma=0.001, kernel=poly .................................\n",
            "[CV] .................. C=100, gamma=0.001, kernel=poly, total=  15.2s\n",
            "[CV] C=100, gamma=0.001, kernel=poly .................................\n",
            "[CV] .................. C=100, gamma=0.001, kernel=poly, total=  15.3s\n",
            "[CV] C=100, gamma=0.001, kernel=poly .................................\n",
            "[CV] .................. C=100, gamma=0.001, kernel=poly, total=  15.2s\n",
            "[CV] C=100, gamma=0.001, kernel=poly .................................\n",
            "[CV] .................. C=100, gamma=0.001, kernel=poly, total=  15.2s\n",
            "[CV] C=100, gamma=0.001, kernel=poly .................................\n",
            "[CV] .................. C=100, gamma=0.001, kernel=poly, total=  15.3s\n",
            "[CV] C=100, gamma=0.001, kernel=sigmoid ..............................\n",
            "[CV] ............... C=100, gamma=0.001, kernel=sigmoid, total=  12.6s\n",
            "[CV] C=100, gamma=0.001, kernel=sigmoid ..............................\n",
            "[CV] ............... C=100, gamma=0.001, kernel=sigmoid, total=  12.7s\n",
            "[CV] C=100, gamma=0.001, kernel=sigmoid ..............................\n",
            "[CV] ............... C=100, gamma=0.001, kernel=sigmoid, total=  12.6s\n",
            "[CV] C=100, gamma=0.001, kernel=sigmoid ..............................\n",
            "[CV] ............... C=100, gamma=0.001, kernel=sigmoid, total=  12.5s\n",
            "[CV] C=100, gamma=0.001, kernel=sigmoid ..............................\n",
            "[CV] ............... C=100, gamma=0.001, kernel=sigmoid, total=  12.6s\n"
          ],
          "name": "stdout"
        },
        {
          "output_type": "stream",
          "text": [
            "[Parallel(n_jobs=1)]: Done 240 out of 240 | elapsed: 54.1min finished\n"
          ],
          "name": "stderr"
        },
        {
          "output_type": "execute_result",
          "data": {
            "text/plain": [
              "GridSearchCV(cv=None, error_score=nan,\n",
              "             estimator=SVC(C=1.0, break_ties=False, cache_size=200,\n",
              "                           class_weight=None, coef0=0.0,\n",
              "                           decision_function_shape='ovr', degree=3,\n",
              "                           gamma='scale', kernel='rbf', max_iter=-1,\n",
              "                           probability=False, random_state=None, shrinking=True,\n",
              "                           tol=0.001, verbose=False),\n",
              "             iid='deprecated', n_jobs=None,\n",
              "             param_grid={'C': [0.1, 1, 10, 100], 'gamma': [1, 0.1, 0.01, 0.001],\n",
              "                         'kernel': ['rbf', 'poly', 'sigmoid']},\n",
              "             pre_dispatch='2*n_jobs', refit=True, return_train_score=False,\n",
              "             scoring=None, verbose=2)"
            ]
          },
          "metadata": {
            "tags": []
          },
          "execution_count": 28
        }
      ]
    },
    {
      "cell_type": "code",
      "metadata": {
        "id": "I5-zL5g05YVH",
        "colab_type": "code",
        "outputId": "edc3b9bd-2a77-4c7a-c15b-bf6c2519872e",
        "colab": {
          "base_uri": "https://localhost:8080/",
          "height": 85
        }
      },
      "source": [
        "print(grid.best_estimator_)"
      ],
      "execution_count": 0,
      "outputs": [
        {
          "output_type": "stream",
          "text": [
            "SVC(C=10, break_ties=False, cache_size=200, class_weight=None, coef0=0.0,\n",
            "    decision_function_shape='ovr', degree=3, gamma=0.1, kernel='rbf',\n",
            "    max_iter=-1, probability=False, random_state=None, shrinking=True,\n",
            "    tol=0.001, verbose=False)\n"
          ],
          "name": "stdout"
        }
      ]
    },
    {
      "cell_type": "code",
      "metadata": {
        "id": "g4IXiXIu2CP2",
        "colab_type": "code",
        "colab": {}
      },
      "source": [
        "svc = SVC(C=10, break_ties=False, cache_size=200, class_weight=None, coef0=0.0,\n",
        "    decision_function_shape='ovr', degree=3, gamma=0.1, kernel='rbf',\n",
        "    max_iter=-1, probability=False, random_state=None, shrinking=True,\n",
        "    tol=0.001, verbose=False)\n",
        "\n",
        "pipeline = make_pipeline(svc)"
      ],
      "execution_count": 0,
      "outputs": []
    },
    {
      "cell_type": "code",
      "metadata": {
        "id": "oP8iXGkvCAhp",
        "colab_type": "code",
        "colab": {}
      },
      "source": [
        "algo_cv(5, combined_TFIDF, df.Stance, svc, 'macro')"
      ],
      "execution_count": 0,
      "outputs": []
    },
    {
      "cell_type": "markdown",
      "metadata": {
        "id": "K8tcpWpyjobp",
        "colab_type": "text"
      },
      "source": [
        "#### TF-IDF/Multinomial Naive Bayes with Extra Features (Over Sampled)"
      ]
    },
    {
      "cell_type": "code",
      "metadata": {
        "id": "Clntj3tYjyt9",
        "colab_type": "code",
        "colab": {}
      },
      "source": [
        "from sklearn.naive_bayes import MultinomialNB\n",
        "nb = MultinomialNB(alpha=0.01, class_prior=None, fit_prior=True)"
      ],
      "execution_count": 0,
      "outputs": []
    },
    {
      "cell_type": "code",
      "metadata": {
        "id": "qwiMvX-Kj7hw",
        "colab_type": "code",
        "colab": {}
      },
      "source": [
        "from imblearn.pipeline import make_pipeline\n",
        "from imblearn.over_sampling import RandomOverSampler\n",
        "nb_pipeline = make_pipeline(RandomOverSampler(random_state=777), nb)"
      ],
      "execution_count": 0,
      "outputs": []
    },
    {
      "cell_type": "code",
      "metadata": {
        "id": "uZg4q9xakjEj",
        "colab_type": "code",
        "outputId": "84efec8c-5e3c-4db7-be34-9f2ad6adc1a3",
        "colab": {
          "base_uri": "https://localhost:8080/",
          "height": 510
        }
      },
      "source": [
        "algo_cv(5, combined_TFIDF, df.Stance, nb_pipeline, 'macro')"
      ],
      "execution_count": 0,
      "outputs": [
        {
          "output_type": "stream",
          "text": [
            "              agree     disagree   discuss   unrelated\n",
            "precision: [0.18400418 0.14030612 0.36218047 0.90309023]\n",
            "recall:    [0.47891156 0.6547619  0.66067416 0.5       ]\n",
            "f1 score:  [0.26586103 0.23109244 0.46787348 0.64364373]\n",
            "--------------------------------------------------\n",
            "              agree     disagree   discuss   unrelated\n",
            "precision: [0.18181818 0.14842767 0.36727617 0.90382149]\n",
            "recall:    [0.52445652 0.70238095 0.65449438 0.48240931]\n",
            "f1 score:  [0.27002448 0.2450675  0.47051696 0.62906105]\n",
            "--------------------------------------------------\n",
            "              agree     disagree   discuss   unrelated\n",
            "precision: [0.20235054 0.16107383 0.36171535 0.90366183]\n",
            "recall:    [0.53877551 0.71428571 0.65356541 0.50335387]\n",
            "f1 score:  [0.29420505 0.26286966 0.46569314 0.64656234]\n",
            "--------------------------------------------------\n",
            "              agree     disagree   discuss   unrelated\n",
            "precision: [0.17688092 0.14456392 0.37309249 0.91077783]\n",
            "recall:    [0.4829932  0.7202381  0.67265581 0.49048597]\n",
            "f1 score:  [0.25893508 0.24079602 0.47996795 0.63760121]\n",
            "--------------------------------------------------\n",
            "              agree     disagree   discuss   unrelated\n",
            "precision: [0.18522373 0.1631644  0.36546944 0.89397649]\n",
            "recall:    [0.48435374 0.78571429 0.65131948 0.49979466]\n",
            "f1 score:  [0.2679714  0.27021494 0.46821393 0.64114496]\n",
            "--------------------------------------------------\n",
            "accuracy: 52.85% (+/- 0.54%)\n",
            "precision: 40.16% (+/- 0.32%)\n",
            "recall: 59.28% (+/- 1.12%)\n",
            "f1 score: 40.79% (+/- 0.58%)\n"
          ],
          "name": "stdout"
        }
      ]
    },
    {
      "cell_type": "code",
      "metadata": {
        "id": "Wyt6v7TjKouD",
        "colab_type": "code",
        "colab": {}
      },
      "source": [
        "nb_model  = nb_pipeline.fit(combined_TFIDF, df.Stance)"
      ],
      "execution_count": 0,
      "outputs": []
    },
    {
      "cell_type": "code",
      "metadata": {
        "id": "9Q6BtJ1ZLOJV",
        "colab_type": "code",
        "outputId": "bd5a83e9-bb3b-46ab-8a97-d6eff60b3448",
        "colab": {
          "base_uri": "https://localhost:8080/",
          "height": 34
        }
      },
      "source": [
        "nb_model.predict"
      ],
      "execution_count": 0,
      "outputs": [
        {
          "output_type": "execute_result",
          "data": {
            "text/plain": [
              "<function imblearn.pipeline.Pipeline.predict>"
            ]
          },
          "metadata": {
            "tags": []
          },
          "execution_count": 42
        }
      ]
    },
    {
      "cell_type": "markdown",
      "metadata": {
        "id": "ILg_vGcLlulK",
        "colab_type": "text"
      },
      "source": [
        "#### TF-IDF/Decision Tree with Extra Features (Over Sampled)"
      ]
    },
    {
      "cell_type": "code",
      "metadata": {
        "id": "lKLvB0eZ_6zq",
        "colab_type": "code",
        "colab": {}
      },
      "source": [
        "from sklearn.tree import DecisionTreeClassifier\n",
        "dt = DecisionTreeClassifier(random_state=12345)"
      ],
      "execution_count": 0,
      "outputs": []
    },
    {
      "cell_type": "code",
      "metadata": {
        "id": "KeamH_G8ANf5",
        "colab_type": "code",
        "colab": {}
      },
      "source": [
        "from imblearn.pipeline import make_pipeline\n",
        "from imblearn.over_sampling import RandomOverSampler\n",
        "pipeline_dt = make_pipeline(RandomOverSampler(random_state=777),dt)"
      ],
      "execution_count": 0,
      "outputs": []
    },
    {
      "cell_type": "code",
      "metadata": {
        "id": "ArzRilySATxC",
        "colab_type": "code",
        "outputId": "75fadad0-59f2-4e99-aae3-ecbf973e599b",
        "colab": {
          "base_uri": "https://localhost:8080/",
          "height": 510
        }
      },
      "source": [
        "algo_cv(5, combined_TFIDF, df.Stance, pipeline_dt, 'macro')"
      ],
      "execution_count": 0,
      "outputs": [
        {
          "output_type": "stream",
          "text": [
            "              agree     disagree   discuss   unrelated\n",
            "precision: [0.65883807 0.50434783 0.84961154 0.96446558]\n",
            "recall:    [0.72517007 0.69047619 0.86011236 0.94360799]\n",
            "f1 score:  [0.69041451 0.58291457 0.8548297  0.95392279]\n",
            "--------------------------------------------------\n",
            "              agree     disagree   discuss   unrelated\n",
            "precision: [0.66185319 0.53240741 0.84939759 0.9658516 ]\n",
            "recall:    [0.74728261 0.68452381 0.87134831 0.94086242]\n",
            "f1 score:  [0.7019783  0.59895833 0.86023295 0.95319326]\n",
            "--------------------------------------------------\n",
            "              agree     disagree   discuss   unrelated\n",
            "precision: [0.63918757 0.49074074 0.8458498  0.96161898]\n",
            "recall:    [0.72789116 0.63095238 0.84110051 0.9431896 ]\n",
            "f1 score:  [0.68066158 0.55208333 0.84346847 0.95231513]\n",
            "--------------------------------------------------\n",
            "              agree     disagree   discuss   unrelated\n",
            "precision: [0.67610837 0.44939271 0.84224891 0.97111862]\n",
            "recall:    [0.74693878 0.66071429 0.86636721 0.94360027]\n",
            "f1 score:  [0.70976083 0.53493976 0.85413784 0.9571617 ]\n",
            "--------------------------------------------------\n",
            "              agree     disagree   discuss   unrelated\n",
            "precision: [0.70580645 0.51707317 0.8459474  0.96823398]\n",
            "recall:    [0.74421769 0.63095238 0.88489613 0.94715948]\n",
            "f1 score:  [0.72450331 0.56836461 0.86498353 0.95758079]\n",
            "--------------------------------------------------\n",
            "accuracy: 90.97% (+/- 0.38%)\n",
            "precision: 74.50% (+/- 0.98%)\n",
            "recall: 80.16% (+/- 0.85%)\n",
            "f1 score: 76.98% (+/- 0.84%)\n"
          ],
          "name": "stdout"
        }
      ]
    },
    {
      "cell_type": "code",
      "metadata": {
        "id": "16bP5aNi9osi",
        "colab_type": "code",
        "colab": {}
      },
      "source": [
        "dt_model  = pipeline_dt.fit(combined_TFIDF, df.Stance)"
      ],
      "execution_count": 0,
      "outputs": []
    },
    {
      "cell_type": "markdown",
      "metadata": {
        "id": "S-ls62xNCn9g",
        "colab_type": "text"
      },
      "source": [
        "#### TF-IDF/Random Forest with Extra Features (Over Sampled)"
      ]
    },
    {
      "cell_type": "code",
      "metadata": {
        "id": "exKGkTZbluB0",
        "colab_type": "code",
        "colab": {}
      },
      "source": [
        "from sklearn.ensemble import RandomForestClassifier\n",
        "rf = RandomForestClassifier(n_estimators=10, random_state=12345)"
      ],
      "execution_count": 0,
      "outputs": []
    },
    {
      "cell_type": "code",
      "metadata": {
        "id": "B8B3iOmGnaQH",
        "colab_type": "code",
        "colab": {}
      },
      "source": [
        "from imblearn.pipeline import make_pipeline\n",
        "from imblearn.over_sampling import RandomOverSampler\n",
        "pipeline_rf = make_pipeline(RandomOverSampler(random_state=777),rf)"
      ],
      "execution_count": 0,
      "outputs": []
    },
    {
      "cell_type": "code",
      "metadata": {
        "id": "bZ3chzDqJRWA",
        "colab_type": "code",
        "outputId": "23aeb0fe-f79d-4591-9f95-8e61696e8c2c",
        "colab": {
          "base_uri": "https://localhost:8080/",
          "height": 510
        }
      },
      "source": [
        "algo_cv(5, combined_TFIDF, df.Stance, pipeline_rf, 'macro')"
      ],
      "execution_count": 0,
      "outputs": [
        {
          "output_type": "stream",
          "text": [
            "              agree     disagree   discuss   unrelated\n",
            "precision: [0.68085106 0.56666667 0.8466994  0.98210074]\n",
            "recall:    [0.74013605 0.50595238 0.87191011 0.96879277]\n",
            "f1 score:  [0.70925684 0.53459119 0.85911985 0.97540136]\n",
            "--------------------------------------------------\n",
            "              agree     disagree   discuss   unrelated\n",
            "precision: [0.70951157 0.54362416 0.84262838 0.97848573]\n",
            "recall:    [0.75       0.48214286 0.85730337 0.97125257]\n",
            "f1 score:  [0.72919419 0.51104101 0.84990253 0.97485573]\n",
            "--------------------------------------------------\n",
            "              agree     disagree   discuss   unrelated\n",
            "precision: [0.65181712 0.48905109 0.86818981 0.97723533]\n",
            "recall:    [0.75646259 0.39880952 0.83211679 0.97549624]\n",
            "f1 score:  [0.70025189 0.43934426 0.84977064 0.97636501]\n",
            "--------------------------------------------------\n",
            "              agree     disagree   discuss   unrelated\n",
            "precision: [0.68447837 0.54609929 0.85231608 0.98242701]\n",
            "recall:    [0.73197279 0.45833333 0.87815834 0.97193703]\n",
            "f1 score:  [0.70742932 0.49838188 0.86504425 0.97715387]\n",
            "--------------------------------------------------\n",
            "              agree     disagree   discuss   unrelated\n",
            "precision: [0.71862616 0.64885496 0.86476086 0.98063719]\n",
            "recall:    [0.74013605 0.50595238 0.88321168 0.97754962]\n",
            "f1 score:  [0.72922252 0.56856187 0.87388889 0.97909097]\n",
            "--------------------------------------------------\n",
            "accuracy: 92.83% (+/- 0.38%)\n",
            "precision: 77.08% (+/- 1.83%)\n",
            "recall: 76.29% (+/- 1.24%)\n",
            "f1 score: 76.54% (+/- 1.48%)\n"
          ],
          "name": "stdout"
        }
      ]
    },
    {
      "cell_type": "code",
      "metadata": {
        "id": "DpR3kc83NGlU",
        "colab_type": "code",
        "colab": {}
      },
      "source": [
        "rf_model = pipeline_rf.fit(combined_TFIDF, df.Stance)"
      ],
      "execution_count": 0,
      "outputs": []
    },
    {
      "cell_type": "markdown",
      "metadata": {
        "id": "5sHNQZA_sOUx",
        "colab_type": "text"
      },
      "source": [
        "#### TF-IDF/Extra Trees Classifier with Extra Features (Over Sampled)\n"
      ]
    },
    {
      "cell_type": "code",
      "metadata": {
        "id": "Dxl8I2OLDb0a",
        "colab_type": "code",
        "colab": {}
      },
      "source": [
        "from sklearn.ensemble import ExtraTreesClassifier\n",
        "et = ExtraTreesClassifier(n_estimators=10, random_state=12345)"
      ],
      "execution_count": 0,
      "outputs": []
    },
    {
      "cell_type": "code",
      "metadata": {
        "id": "hGG76xNDoG1Q",
        "colab_type": "code",
        "colab": {}
      },
      "source": [
        "from imblearn.pipeline import make_pipeline\n",
        "from imblearn.over_sampling import RandomOverSampler\n",
        "pipeline_et = make_pipeline(RandomOverSampler(random_state=777),et)"
      ],
      "execution_count": 0,
      "outputs": []
    },
    {
      "cell_type": "code",
      "metadata": {
        "id": "4l8IlS5UoW-G",
        "colab_type": "code",
        "outputId": "8a76384f-3169-4d96-b0dc-723cae3b2460",
        "colab": {
          "base_uri": "https://localhost:8080/",
          "height": 510
        }
      },
      "source": [
        "algo_cv(5, combined_TFIDF, df.Stance, pipeline_et, 'macro')"
      ],
      "execution_count": 0,
      "outputs": [
        {
          "output_type": "stream",
          "text": [
            "              agree     disagree   discuss   unrelated\n",
            "precision: [0.73452545 0.54901961 0.86868687 0.97911833]\n",
            "recall:    [0.72653061 0.5        0.86966292 0.98193266]\n",
            "f1 score:  [0.73050616 0.52336449 0.86917462 0.98052347]\n",
            "--------------------------------------------------\n",
            "              agree     disagree   discuss   unrelated\n",
            "precision: [0.7369863  0.50299401 0.87550201 0.97727582]\n",
            "recall:    [0.73097826 0.5        0.85730337 0.98316222]\n",
            "f1 score:  [0.73396999 0.50149254 0.86630712 0.98021018]\n",
            "--------------------------------------------------\n",
            "              agree     disagree   discuss   unrelated\n",
            "precision: [0.69044586 0.53956835 0.90217391 0.97503037]\n",
            "recall:    [0.73741497 0.44642857 0.83885458 0.9889117 ]\n",
            "f1 score:  [0.71315789 0.48859935 0.86936282 0.98192198]\n",
            "--------------------------------------------------\n",
            "              agree     disagree   discuss   unrelated\n",
            "precision: [0.71081081 0.52554745 0.8787366  0.98160512]\n",
            "recall:    [0.71564626 0.42857143 0.87478944 0.98617385]\n",
            "f1 score:  [0.71322034 0.47213115 0.87675858 0.98388418]\n",
            "--------------------------------------------------\n",
            "              agree     disagree   discuss   unrelated\n",
            "precision: [0.73509015 0.62962963 0.87914559 0.97946696]\n",
            "recall:    [0.72108844 0.50595238 0.87815834 0.98603696]\n",
            "f1 score:  [0.72802198 0.56105611 0.87865169 0.98274098]\n",
            "--------------------------------------------------\n",
            "accuracy: 93.60% (+/- 0.19%)\n",
            "precision: 78.26% (+/- 1.21%)\n",
            "recall: 76.29% (+/- 0.90%)\n",
            "f1 score: 77.18% (+/- 0.95%)\n"
          ],
          "name": "stdout"
        }
      ]
    },
    {
      "cell_type": "code",
      "metadata": {
        "id": "UZwAZr_zOO_Y",
        "colab_type": "code",
        "colab": {}
      },
      "source": [
        "et_model = pipeline_et.fit(combined_TFIDF, df.Stance)"
      ],
      "execution_count": 0,
      "outputs": []
    },
    {
      "cell_type": "markdown",
      "metadata": {
        "id": "OGybFgizsTLg",
        "colab_type": "text"
      },
      "source": [
        "#### TF-IDF/Ridge Classifier with Extra Features (Over Sampled)"
      ]
    },
    {
      "cell_type": "code",
      "metadata": {
        "id": "OrhgFRQRHNmA",
        "colab_type": "code",
        "colab": {}
      },
      "source": [
        "from sklearn.linear_model import RidgeClassifier\n",
        "rc = RidgeClassifier(random_state=12345)"
      ],
      "execution_count": 0,
      "outputs": []
    },
    {
      "cell_type": "code",
      "metadata": {
        "id": "1q8yJJM5HbuU",
        "colab_type": "code",
        "colab": {}
      },
      "source": [
        "from imblearn.pipeline import make_pipeline\n",
        "from imblearn.over_sampling import RandomOverSampler\n",
        "pipeline_rc = make_pipeline(RandomOverSampler(random_state=777),rc)"
      ],
      "execution_count": 0,
      "outputs": []
    },
    {
      "cell_type": "code",
      "metadata": {
        "id": "8MI5SUqasFlp",
        "colab_type": "code",
        "outputId": "11d2ce50-b335-4aae-8bd5-2903b88ada49",
        "colab": {
          "base_uri": "https://localhost:8080/",
          "height": 510
        }
      },
      "source": [
        "algo_cv(5, combined_TFIDF, df.Stance, pipeline_rc, 'macro')"
      ],
      "execution_count": 0,
      "outputs": [
        {
          "output_type": "stream",
          "text": [
            "              agree     disagree   discuss   unrelated\n",
            "precision: [0.35084306 0.19142857 0.53028527 0.92829607]\n",
            "recall:    [0.73605442 0.79761905 0.76235955 0.65918423]\n",
            "f1 score:  [0.47518665 0.30875576 0.62548974 0.77093005]\n",
            "--------------------------------------------------\n",
            "              agree     disagree   discuss   unrelated\n",
            "precision: [0.35057471 0.17920657 0.51982554 0.92359768]\n",
            "recall:    [0.74592391 0.7797619  0.73651685 0.65366188]\n",
            "f1 score:  [0.47697654 0.29143493 0.60948396 0.76553106]\n",
            "--------------------------------------------------\n",
            "              agree     disagree   discuss   unrelated\n",
            "precision: [0.36107471 0.19973009 0.51730999 0.91994625]\n",
            "recall:    [0.74965986 0.88095238 0.72992701 0.65598905]\n",
            "f1 score:  [0.48739496 0.32563256 0.60549604 0.76586223]\n",
            "--------------------------------------------------\n",
            "              agree     disagree   discuss   unrelated\n",
            "precision: [0.33940182 0.16710526 0.51820621 0.93368752]\n",
            "recall:    [0.71020408 0.75595238 0.75912409 0.6495551 ]\n",
            "f1 score:  [0.45930488 0.2737069  0.61594533 0.76612578]\n",
            "--------------------------------------------------\n",
            "              agree     disagree   discuss   unrelated\n",
            "precision: [0.35902637 0.17557252 0.5308095  0.92100744]\n",
            "recall:    [0.72244898 0.82142857 0.74003369 0.66078029]\n",
            "f1 score:  [0.4796748  0.28930818 0.61819887 0.76948828]\n",
            "--------------------------------------------------\n",
            "accuracy: 68.00% (+/- 0.36%)\n",
            "precision: 49.58% (+/- 0.40%)\n",
            "recall: 73.54% (+/- 1.17%)\n",
            "f1 score: 53.90% (+/- 0.64%)\n"
          ],
          "name": "stdout"
        }
      ]
    },
    {
      "cell_type": "markdown",
      "metadata": {
        "id": "Q1RIob_QI_JJ",
        "colab_type": "text"
      },
      "source": [
        "#### TF-IDF - Bagging, Boosting, Stacking"
      ]
    },
    {
      "cell_type": "code",
      "metadata": {
        "id": "g4heHdnXHo8p",
        "colab_type": "code",
        "colab": {}
      },
      "source": [
        "from sklearn.ensemble import BaggingClassifier"
      ],
      "execution_count": 0,
      "outputs": []
    },
    {
      "cell_type": "code",
      "metadata": {
        "id": "K9lpZ5_BJPPM",
        "colab_type": "code",
        "colab": {}
      },
      "source": [
        "bagging_rf = BaggingClassifier(pipeline_rf, max_samples=0.4)"
      ],
      "execution_count": 0,
      "outputs": []
    },
    {
      "cell_type": "code",
      "metadata": {
        "id": "2dTnyggeJj5B",
        "colab_type": "code",
        "outputId": "7a87bcdf-b6f0-4d7f-8dac-2a994535366b",
        "colab": {
          "base_uri": "https://localhost:8080/",
          "height": 510
        }
      },
      "source": [
        "algo_cv(5, combined_TFIDF, df.Stance, bagging_rf, 'macro')"
      ],
      "execution_count": 0,
      "outputs": [
        {
          "output_type": "stream",
          "text": [
            "              agree     disagree   discuss   unrelated\n",
            "precision: [0.73046252 0.56756757 0.88604509 0.94888305]\n",
            "recall:    [0.62312925 0.375      0.81685393 0.98836573]\n",
            "f1 score:  [0.67254038 0.4516129  0.85004385 0.96822204]\n",
            "--------------------------------------------------\n",
            "              agree     disagree   discuss   unrelated\n",
            "precision: [0.77147766 0.48       0.85536455 0.94509546]\n",
            "recall:    [0.61005435 0.35714286 0.81067416 0.98261465]\n",
            "f1 score:  [0.68133536 0.40955631 0.83241996 0.96348993]\n",
            "--------------------------------------------------\n",
            "              agree     disagree   discuss   unrelated\n",
            "precision: [0.72468354 0.54166667 0.88741303 0.94200627]\n",
            "recall:    [0.62312925 0.38690476 0.78775969 0.98726899]\n",
            "f1 score:  [0.67008047 0.45138889 0.83462225 0.96410668]\n",
            "--------------------------------------------------\n",
            "              agree     disagree   discuss   unrelated\n",
            "precision: [0.7        0.52941176 0.87860577 0.9474516 ]\n",
            "recall:    [0.6        0.32142857 0.82088714 0.98480493]\n",
            "f1 score:  [0.64615385 0.4        0.84876633 0.96576722]\n",
            "--------------------------------------------------\n",
            "              agree     disagree   discuss   unrelated\n",
            "precision: [0.73675497 0.63461538 0.88086643 0.94749967]\n",
            "recall:    [0.60544218 0.39285714 0.82201011 0.98822724]\n",
            "f1 score:  [0.66467513 0.48529412 0.85042114 0.967435  ]\n",
            "--------------------------------------------------\n",
            "accuracy: 91.72% (+/- 0.28%)\n",
            "precision: 77.68% (+/- 1.37%)\n",
            "recall: 69.42% (+/- 0.75%)\n",
            "f1 score: 72.89% (+/- 0.96%)\n"
          ],
          "name": "stdout"
        }
      ]
    },
    {
      "cell_type": "code",
      "metadata": {
        "id": "jojpfmuYJpRo",
        "colab_type": "code",
        "colab": {}
      },
      "source": [
        "from sklearn.ensemble import VotingClassifier"
      ],
      "execution_count": 0,
      "outputs": []
    },
    {
      "cell_type": "code",
      "metadata": {
        "id": "kj6XX4AiUIBr",
        "colab_type": "code",
        "colab": {}
      },
      "source": [
        "eclf = VotingClassifier(estimators=[('Decision Tree', dt), ('Random Forests', rf), ('Extra Trees', et), ('Ridge Classifier', rc), ('Naive Bayes', nb)], voting='hard')"
      ],
      "execution_count": 0,
      "outputs": []
    },
    {
      "cell_type": "code",
      "metadata": {
        "id": "eTJLlCN_UQ3O",
        "colab_type": "code",
        "outputId": "66ec369d-fc66-44e8-b0fc-0839a8b5a6eb",
        "colab": {
          "base_uri": "https://localhost:8080/",
          "height": 510
        }
      },
      "source": [
        "algo_cv(5, combined_TFIDF, df.Stance, eclf, 'macro')"
      ],
      "execution_count": 0,
      "outputs": [
        {
          "output_type": "stream",
          "text": [
            "              agree     disagree   discuss   unrelated\n",
            "precision: [0.79331307 0.60992908 0.90898415 0.9703486 ]\n",
            "recall:    [0.71020408 0.51190476 0.86966292 0.99438817]\n",
            "f1 score:  [0.74946159 0.5566343  0.88888889 0.98222132]\n",
            "--------------------------------------------------\n",
            "              agree     disagree   discuss   unrelated\n",
            "precision: [0.80715397 0.52348993 0.90011962 0.96504983]\n",
            "recall:    [0.70516304 0.46428571 0.84550562 0.99411362]\n",
            "f1 score:  [0.75271936 0.49211356 0.87195829 0.97936615]\n",
            "--------------------------------------------------\n",
            "              agree     disagree   discuss   unrelated\n",
            "precision: [0.75609756 0.56834532 0.91118012 0.96168633]\n",
            "recall:    [0.7170068  0.4702381  0.82369455 0.99301848]\n",
            "f1 score:  [0.73603352 0.51465798 0.8652315  0.97710129]\n",
            "--------------------------------------------------\n",
            "              agree     disagree   discuss   unrelated\n",
            "precision: [0.75725191 0.53594771 0.90385757 0.96678228]\n",
            "recall:    [0.67482993 0.48809524 0.85513756 0.99206023]\n",
            "f1 score:  [0.71366906 0.51090343 0.87882285 0.97925816]\n",
            "--------------------------------------------------\n",
            "              agree     disagree   discuss   unrelated\n",
            "precision: [0.80126183 0.69852941 0.91265597 0.96430467]\n",
            "recall:    [0.69115646 0.56547619 0.86243683 0.99479808]\n",
            "f1 score:  [0.74214755 0.625      0.88683603 0.97931406]\n",
            "--------------------------------------------------\n",
            "accuracy: 93.84% (+/- 0.35%)\n",
            "precision: 81.08% (+/- 1.94%)\n",
            "recall: 76.12% (+/- 1.15%)\n",
            "f1 score: 78.41% (+/- 1.48%)\n"
          ],
          "name": "stdout"
        }
      ]
    },
    {
      "cell_type": "code",
      "metadata": {
        "id": "a2ncwmT8U6wa",
        "colab_type": "code",
        "colab": {}
      },
      "source": [
        "from xgboost import XGBClassifier, plot_importance\n",
        "from sklearn.ensemble import AdaBoostClassifier, GradientBoostingClassifier"
      ],
      "execution_count": 0,
      "outputs": []
    },
    {
      "cell_type": "code",
      "metadata": {
        "id": "faZWWuOhah5X",
        "colab_type": "code",
        "colab": {}
      },
      "source": [
        "# Create boosting classifiers\n",
        "ada_boost = AdaBoostClassifier()\n",
        "grad_boost = GradientBoostingClassifier()\n",
        "xgb_boost = XGBClassifier()"
      ],
      "execution_count": 0,
      "outputs": []
    },
    {
      "cell_type": "code",
      "metadata": {
        "id": "13WwbtJ2azou",
        "colab_type": "code",
        "colab": {}
      },
      "source": [
        "from imblearn.pipeline import make_pipeline\n",
        "from imblearn.over_sampling import RandomOverSampler\n",
        "pipeline_ada = make_pipeline(RandomOverSampler(random_state=777),ada_boost)\n",
        "#pipeline_gb = make_pipeline(RandomOverSampler(random_state=777),grad_boost)\n",
        "pipeline_xgb = make_pipeline(RandomOverSampler(random_state=777),xgb_boost)"
      ],
      "execution_count": 0,
      "outputs": []
    },
    {
      "cell_type": "code",
      "metadata": {
        "id": "SLKJHQqxbLsx",
        "colab_type": "code",
        "outputId": "c744e0a5-10d2-4a45-9352-f5800311600f",
        "colab": {
          "base_uri": "https://localhost:8080/",
          "height": 510
        }
      },
      "source": [
        "algo_cv(5, combined_TFIDF, df.Stance, pipeline_ada, 'macro')"
      ],
      "execution_count": 0,
      "outputs": [
        {
          "output_type": "stream",
          "text": [
            "              agree     disagree   discuss   unrelated\n",
            "precision: [0.11035975 0.10119048 0.30204997 0.83533765]\n",
            "recall:    [0.55510204 0.60714286 0.52977528 0.24719409]\n",
            "f1 score:  [0.18411552 0.17346939 0.38474092 0.38149556]\n",
            "--------------------------------------------------\n",
            "              agree     disagree   discuss   unrelated\n",
            "precision: [0.11201422 0.08820882 0.29472596 0.80490196]\n",
            "recall:    [0.59918478 0.58333333 0.48033708 0.22477755]\n",
            "f1 score:  [0.18874385 0.15324472 0.36530656 0.35141787]\n",
            "--------------------------------------------------\n",
            "              agree     disagree   discuss   unrelated\n",
            "precision: [0.11332801 0.11441144 0.26515433 0.77507599]\n",
            "recall:    [0.57959184 0.61904762 0.40033689 0.27926078]\n",
            "f1 score:  [0.18958611 0.19312906 0.31901566 0.4105867 ]\n",
            "--------------------------------------------------\n",
            "              agree     disagree   discuss   unrelated\n",
            "precision: [0.09366673 0.09929701 0.29807329 0.85358491]\n",
            "recall:    [0.62176871 0.67261905 0.44300955 0.15482546]\n",
            "f1 score:  [0.16280727 0.17304747 0.35636856 0.26210892]\n",
            "--------------------------------------------------\n",
            "              agree     disagree   discuss   unrelated\n",
            "precision: [0.11816131 0.10103872 0.31045519 0.83203733]\n",
            "recall:    [0.57006803 0.63690476 0.49017406 0.29295003]\n",
            "f1 score:  [0.19574866 0.17440913 0.3801437  0.43332996]\n",
            "--------------------------------------------------\n",
            "accuracy: 31.25% (+/- 3.54%)\n",
            "precision: 33.12% (+/- 0.88%)\n",
            "recall: 47.94% (+/- 1.05%)\n",
            "f1 score: 27.16% (+/- 1.93%)\n"
          ],
          "name": "stdout"
        }
      ]
    },
    {
      "cell_type": "code",
      "metadata": {
        "id": "hx2cIb9vbWkf",
        "colab_type": "code",
        "outputId": "00d1bfd6-5c9e-48d7-fbbb-f5d630ba9024",
        "colab": {
          "base_uri": "https://localhost:8080/",
          "height": 510
        }
      },
      "source": [
        "algo_cv(5, combined_TFIDF, df.Stance, xgb_boost, 'macro')"
      ],
      "execution_count": 0,
      "outputs": [
        {
          "output_type": "stream",
          "text": [
            "              agree     disagree   discuss   unrelated\n",
            "precision: [0.96153846 0.85       0.88530466 0.77805008]\n",
            "recall:    [0.03401361 0.10119048 0.27752809 0.9994525 ]\n",
            "f1 score:  [0.06570302 0.18085106 0.4225834  0.87496255]\n",
            "--------------------------------------------------\n",
            "              agree     disagree   discuss   unrelated\n",
            "precision: [1.         0.75       0.86463621 0.78042781]\n",
            "recall:    [0.03804348 0.08928571 0.28707865 0.99890486]\n",
            "f1 score:  [0.07329843 0.15957447 0.43104175 0.87625338]\n",
            "--------------------------------------------------\n",
            "              agree     disagree   discuss   unrelated\n",
            "precision: [0.92307692 0.82352941 0.89705882 0.77782511]\n",
            "recall:    [0.04897959 0.08333333 0.27400337 0.99972621]\n",
            "f1 score:  [0.09302326 0.15135135 0.41978495 0.87492512]\n",
            "--------------------------------------------------\n",
            "              agree     disagree   discuss   unrelated\n",
            "precision: [0.92857143 0.4        0.87331081 0.78030789]\n",
            "recall:    [0.03537415 0.03571429 0.29028636 0.99917864]\n",
            "f1 score:  [0.06815203 0.06557377 0.43573536 0.87628309]\n",
            "--------------------------------------------------\n",
            "              agree     disagree   discuss   unrelated\n",
            "precision: [0.96666667 0.68421053 0.88123924 0.78010471]\n",
            "recall:    [0.03945578 0.07738095 0.28747894 0.99945243]\n",
            "f1 score:  [0.07581699 0.13903743 0.43353091 0.8762602 ]\n",
            "--------------------------------------------------\n",
            "accuracy: 78.55% (+/- 0.06%)\n",
            "precision: 82.93% (+/- 4.39%)\n",
            "recall: 34.98% (+/- 0.49%)\n",
            "f1 score: 37.97% (+/- 0.93%)\n"
          ],
          "name": "stdout"
        }
      ]
    },
    {
      "cell_type": "code",
      "metadata": {
        "id": "nFztDF9JlSVd",
        "colab_type": "code",
        "colab": {}
      },
      "source": [
        "from mlxtend.classifier import EnsembleVoteClassifier\n",
        "boost_array = [ada_boost, xgb_boost]\n",
        "\n",
        "eclf = EnsembleVoteClassifier(clfs=[ada_boost, xgb_boost], voting='hard')"
      ],
      "execution_count": 0,
      "outputs": []
    },
    {
      "cell_type": "code",
      "metadata": {
        "id": "yswWaI2mmMY4",
        "colab_type": "code",
        "outputId": "f4c70d11-7d9e-421c-fc37-5d0ae5727d72",
        "colab": {
          "base_uri": "https://localhost:8080/",
          "height": 510
        }
      },
      "source": [
        "algo_cv(5, combined_TFIDF, df.Stance, eclf, 'macro')"
      ],
      "execution_count": 0,
      "outputs": [
        {
          "output_type": "stream",
          "text": [
            "              agree     disagree   discuss   unrelated\n",
            "precision: [0.96428571 0.35616438 0.6332574  0.78046615]\n",
            "recall:    [0.03673469 0.1547619  0.31235955 0.96249658]\n",
            "f1 score:  [0.07077326 0.21576763 0.41835967 0.86197597]\n",
            "--------------------------------------------------\n",
            "              agree     disagree   discuss   unrelated\n",
            "precision: [1.         0.43589744 0.6443418  0.78012148]\n",
            "recall:    [0.03940217 0.10119048 0.31348315 0.9670089 ]\n",
            "f1 score:  [0.07581699 0.16425121 0.42176871 0.86356968]\n",
            "--------------------------------------------------\n",
            "              agree     disagree   discuss   unrelated\n",
            "precision: [0.925      0.36363636 0.61993428 0.77947064]\n",
            "recall:    [0.05034014 0.0952381  0.31779899 0.95947981]\n",
            "f1 score:  [0.09548387 0.1509434  0.42019302 0.86015831]\n",
            "--------------------------------------------------\n",
            "              agree     disagree   discuss   unrelated\n",
            "precision: [0.92857143 0.24444444 0.62150538 0.77954596]\n",
            "recall:    [0.03537415 0.06547619 0.32453678 0.95893224]\n",
            "f1 score:  [0.06815203 0.10328638 0.42641092 0.85998404]\n",
            "--------------------------------------------------\n",
            "              agree     disagree   discuss   unrelated\n",
            "precision: [0.96666667 0.36585366 0.68080094 0.7821149 ]\n",
            "recall:    [0.03945578 0.08928571 0.32453678 0.97097878]\n",
            "f1 score:  [0.07581699 0.14354067 0.43954373 0.86637352]\n",
            "--------------------------------------------------\n",
            "accuracy: 76.63% (+/- 0.34%)\n",
            "precision: 68.26% (+/- 2.43%)\n",
            "recall: 35.59% (+/- 0.65%)\n",
            "f1 score: 38.01% (+/- 0.88%)\n"
          ],
          "name": "stdout"
        }
      ]
    },
    {
      "cell_type": "code",
      "metadata": {
        "id": "TmYpNq7ymSPJ",
        "colab_type": "code",
        "colab": {}
      },
      "source": [
        "#!pip install -U mlens\n",
        "from mlens.ensemble import SuperLearner\n",
        "from sklearn.metrics import f1_score\n",
        "from sklearn.linear_model import LogisticRegression"
      ],
      "execution_count": 0,
      "outputs": []
    },
    {
      "cell_type": "code",
      "metadata": {
        "id": "-yrriyTwqe4_",
        "colab_type": "code",
        "colab": {}
      },
      "source": [
        "from sklearn.preprocessing import LabelEncoder\n",
        "\n",
        "le = LabelEncoder()\n",
        "le.fit(df.Stance.astype(str))\n",
        "labels = le.transform(df.Stance.astype(str))"
      ],
      "execution_count": 0,
      "outputs": []
    },
    {
      "cell_type": "code",
      "metadata": {
        "id": "TcCsOZbLRw8W",
        "colab_type": "code",
        "colab": {}
      },
      "source": [
        "from imblearn.pipeline import make_pipeline\n",
        "from imblearn.over_sampling import RandomOverSampler\n",
        "model_ensemble = make_pipeline(RandomOverSampler(random_state=777), model)"
      ],
      "execution_count": 0,
      "outputs": []
    },
    {
      "cell_type": "code",
      "metadata": {
        "id": "OmRq_3CKn5Sc",
        "colab_type": "code",
        "outputId": "ad739778-f253-4d43-933a-7e4e29287a82",
        "colab": {
          "base_uri": "https://localhost:8080/",
          "height": 221
        }
      },
      "source": [
        "ensemble = SuperLearner(scorer = f1_score, random_state=777, verbose = 2, folds = 10)\n",
        "ensemble.add([dt, rf, et, rc, nb])\n",
        "ensemble.add_meta(lr)"
      ],
      "execution_count": 0,
      "outputs": [
        {
          "output_type": "execute_result",
          "data": {
            "text/plain": [
              "SuperLearner(array_check=None, backend=None, folds=10,\n",
              "       layers=[Layer(backend='threading', dtype=<class 'numpy.float32'>, n_jobs=-1,\n",
              "   name='layer-1', propagate_features=None, raise_on_exception=True,\n",
              "   random_state=2982, shuffle=False,\n",
              "   stack=[Group(backend='threading', dtype=<class 'numpy.float32'>,\n",
              "   indexer=FoldIndex(X=None, folds=10, raise_on_e...4809ae8>)],\n",
              "   n_jobs=-1, name='group-4', raise_on_exception=True, transformers=[])],\n",
              "   verbose=1)],\n",
              "       model_selection=False, n_jobs=None, raise_on_exception=True,\n",
              "       random_state=777, sample_size=20,\n",
              "       scorer=<function f1_score at 0x7fce94809ae8>, shuffle=False,\n",
              "       verbose=2)"
            ]
          },
          "metadata": {
            "tags": []
          },
          "execution_count": 136
        }
      ]
    },
    {
      "cell_type": "code",
      "metadata": {
        "id": "-uIrsJ9bR_Gl",
        "colab_type": "code",
        "colab": {}
      },
      "source": [
        "model_ensemble_sl = make_pipeline(RandomOverSampler(random_state=777), ensemble)"
      ],
      "execution_count": 0,
      "outputs": []
    },
    {
      "cell_type": "code",
      "metadata": {
        "id": "EL98yglbkbyb",
        "colab_type": "code",
        "outputId": "185aeecb-9a01-4356-d816-54a776906ef4",
        "colab": {
          "base_uri": "https://localhost:8080/",
          "height": 425
        }
      },
      "source": [
        "model_ensemble_sl.fit(combined_TFIDF, labels)"
      ],
      "execution_count": 0,
      "outputs": [
        {
          "output_type": "stream",
          "text": [
            "\n",
            "Fitting 2 layers\n",
            "Processing layer-1             done | 00:27:38\n",
            "Processing layer-2             done | 00:00:12\n",
            "Fit complete                        | 00:27:51\n"
          ],
          "name": "stdout"
        },
        {
          "output_type": "execute_result",
          "data": {
            "text/plain": [
              "Pipeline(memory=None,\n",
              "         steps=[('randomoversampler',\n",
              "                 RandomOverSampler(random_state=777, ratio=None,\n",
              "                                   return_indices=False,\n",
              "                                   sampling_strategy='auto')),\n",
              "                ('superlearner',\n",
              "                 SuperLearner(array_check=None, backend=None, folds=10,\n",
              "       layers=[Layer(backend='threading', dtype=<class 'numpy.float32'>, n_jobs=-1,\n",
              "   name='layer-1', propagate_features=None, raise_on_exception=True,\n",
              "   ran...\n",
              "   stack=[Group(backend='threading', dtype=<class 'numpy.float32'>,\n",
              "   indexer=FoldIndex(X=None, folds=10, raise_on_e...4809ae8>)],\n",
              "   n_jobs=-1, name='group-4', raise_on_exception=True, transformers=[])],\n",
              "   verbose=1)],\n",
              "       model_selection=False, n_jobs=None, raise_on_exception=True,\n",
              "       random_state=777, sample_size=20,\n",
              "       scorer=<function f1_score at 0x7fce94809ae8>, shuffle=False,\n",
              "       verbose=2))],\n",
              "         verbose=False)"
            ]
          },
          "metadata": {
            "tags": []
          },
          "execution_count": 138
        }
      ]
    },
    {
      "cell_type": "code",
      "metadata": {
        "id": "FXQjGHokvdzG",
        "colab_type": "code",
        "outputId": "c8fda80b-4a3e-424c-a534-4771a97f50d2",
        "colab": {
          "base_uri": "https://localhost:8080/",
          "height": 122
        }
      },
      "source": [
        "# mounting drive for clean dataframe\n",
        "from google.colab import drive\n",
        "drive.mount('drive')"
      ],
      "execution_count": 0,
      "outputs": [
        {
          "output_type": "stream",
          "text": [
            "Go to this URL in a browser: https://accounts.google.com/o/oauth2/auth?client_id=947318989803-6bn6qk8qdgf4n4g3pfee6491hc0brc4i.apps.googleusercontent.com&redirect_uri=urn%3aietf%3awg%3aoauth%3a2.0%3aoob&response_type=code&scope=email%20https%3a%2f%2fwww.googleapis.com%2fauth%2fdocs.test%20https%3a%2f%2fwww.googleapis.com%2fauth%2fdrive%20https%3a%2f%2fwww.googleapis.com%2fauth%2fdrive.photos.readonly%20https%3a%2f%2fwww.googleapis.com%2fauth%2fpeopleapi.readonly\n",
            "\n",
            "Enter your authorization code:\n",
            "··········\n",
            "Mounted at drive\n"
          ],
          "name": "stdout"
        }
      ]
    },
    {
      "cell_type": "code",
      "metadata": {
        "id": "VVy8N1JW5o80",
        "colab_type": "code",
        "outputId": "5fb96240-8b75-40ec-9a93-9251a35cc458",
        "colab": {
          "base_uri": "https://localhost:8080/",
          "height": 221
        }
      },
      "source": [
        "pip install pypandoc"
      ],
      "execution_count": 275,
      "outputs": [
        {
          "output_type": "stream",
          "text": [
            "Collecting pypandoc\n",
            "  Downloading https://files.pythonhosted.org/packages/d6/b7/5050dc1769c8a93d3ec7c4bd55be161991c94b8b235f88bf7c764449e708/pypandoc-1.5.tar.gz\n",
            "Requirement already satisfied: setuptools in /usr/local/lib/python3.6/dist-packages (from pypandoc) (46.1.3)\n",
            "Requirement already satisfied: pip>=8.1.0 in /usr/local/lib/python3.6/dist-packages (from pypandoc) (19.3.1)\n",
            "Requirement already satisfied: wheel>=0.25.0 in /usr/local/lib/python3.6/dist-packages (from pypandoc) (0.34.2)\n",
            "Building wheels for collected packages: pypandoc\n",
            "  Building wheel for pypandoc (setup.py) ... \u001b[?25l\u001b[?25hdone\n",
            "  Created wheel for pypandoc: filename=pypandoc-1.5-cp36-none-any.whl size=17037 sha256=2b60be8f8904663af7e0d9d850da596f27f67e24b1b52f0df4764703326c17e6\n",
            "  Stored in directory: /root/.cache/pip/wheels/bb/7d/d6/2f9af55e800d37e42e546106bcbd36a86e24e725e303d17e04\n",
            "Successfully built pypandoc\n",
            "Installing collected packages: pypandoc\n",
            "Successfully installed pypandoc-1.5\n"
          ],
          "name": "stdout"
        }
      ]
    },
    {
      "cell_type": "code",
      "metadata": {
        "id": "ZfSGZjhc5eQI",
        "colab_type": "code",
        "outputId": "16757a18-673f-4437-ef50-0fc49bd4b06a",
        "colab": {
          "base_uri": "https://localhost:8080/",
          "height": 34
        }
      },
      "source": [
        "cd /content/drive/My Drive/Colab Notebooks/Pystacknet"
      ],
      "execution_count": 276,
      "outputs": [
        {
          "output_type": "stream",
          "text": [
            "/content/drive/My Drive/Colab Notebooks/Pystacknet\n"
          ],
          "name": "stdout"
        }
      ]
    },
    {
      "cell_type": "code",
      "metadata": {
        "id": "1eI0q7-w6FKW",
        "colab_type": "code",
        "outputId": "05507919-7122-49db-b310-cc88ac38ff0d",
        "colab": {
          "base_uri": "https://localhost:8080/",
          "height": 1000
        }
      },
      "source": [
        "!python setup.py install"
      ],
      "execution_count": 277,
      "outputs": [
        {
          "output_type": "stream",
          "text": [
            "running install\n",
            "running bdist_egg\n",
            "running egg_info\n",
            "writing pystacknet.egg-info/PKG-INFO\n",
            "writing dependency_links to pystacknet.egg-info/dependency_links.txt\n",
            "writing requirements to pystacknet.egg-info/requires.txt\n",
            "writing top-level names to pystacknet.egg-info/top_level.txt\n",
            "reading manifest file 'pystacknet.egg-info/SOURCES.txt'\n",
            "writing manifest file 'pystacknet.egg-info/SOURCES.txt'\n",
            "installing library code to build/bdist.linux-x86_64/egg\n",
            "running install_lib\n",
            "running build_py\n",
            "creating build/bdist.linux-x86_64/egg\n",
            "creating build/bdist.linux-x86_64/egg/pystacknet\n",
            "copying build/lib/pystacknet/__init__.py -> build/bdist.linux-x86_64/egg/pystacknet\n",
            "copying build/lib/pystacknet/metrics.py -> build/bdist.linux-x86_64/egg/pystacknet\n",
            "copying build/lib/pystacknet/pystacknet.py -> build/bdist.linux-x86_64/egg/pystacknet\n",
            "creating build/bdist.linux-x86_64/egg/pystacknet/test\n",
            "copying build/lib/pystacknet/test/__init__.py -> build/bdist.linux-x86_64/egg/pystacknet/test\n",
            "copying build/lib/pystacknet/test/test_amazon.py -> build/bdist.linux-x86_64/egg/pystacknet/test\n",
            "copying build/lib/pystacknet/test/test_pystacknet.py -> build/bdist.linux-x86_64/egg/pystacknet/test\n",
            "byte-compiling build/bdist.linux-x86_64/egg/pystacknet/__init__.py to __init__.cpython-36.pyc\n",
            "byte-compiling build/bdist.linux-x86_64/egg/pystacknet/metrics.py to metrics.cpython-36.pyc\n",
            "byte-compiling build/bdist.linux-x86_64/egg/pystacknet/pystacknet.py to pystacknet.cpython-36.pyc\n",
            "byte-compiling build/bdist.linux-x86_64/egg/pystacknet/test/__init__.py to __init__.cpython-36.pyc\n",
            "byte-compiling build/bdist.linux-x86_64/egg/pystacknet/test/test_amazon.py to test_amazon.cpython-36.pyc\n",
            "byte-compiling build/bdist.linux-x86_64/egg/pystacknet/test/test_pystacknet.py to test_pystacknet.cpython-36.pyc\n",
            "creating build/bdist.linux-x86_64/egg/EGG-INFO\n",
            "copying pystacknet.egg-info/PKG-INFO -> build/bdist.linux-x86_64/egg/EGG-INFO\n",
            "copying pystacknet.egg-info/SOURCES.txt -> build/bdist.linux-x86_64/egg/EGG-INFO\n",
            "copying pystacknet.egg-info/dependency_links.txt -> build/bdist.linux-x86_64/egg/EGG-INFO\n",
            "copying pystacknet.egg-info/requires.txt -> build/bdist.linux-x86_64/egg/EGG-INFO\n",
            "copying pystacknet.egg-info/top_level.txt -> build/bdist.linux-x86_64/egg/EGG-INFO\n",
            "zip_safe flag not set; analyzing archive contents...\n",
            "creating 'dist/pystacknet-0.0.1-py3.6.egg' and adding 'build/bdist.linux-x86_64/egg' to it\n",
            "removing 'build/bdist.linux-x86_64/egg' (and everything under it)\n",
            "Processing pystacknet-0.0.1-py3.6.egg\n",
            "Copying pystacknet-0.0.1-py3.6.egg to /usr/local/lib/python3.6/dist-packages\n",
            "Adding pystacknet 0.0.1 to easy-install.pth file\n",
            "\n",
            "Installed /usr/local/lib/python3.6/dist-packages/pystacknet-0.0.1-py3.6.egg\n",
            "Processing dependencies for pystacknet==0.0.1\n",
            "Searching for scikit-learn==0.22.2.post1\n",
            "Best match: scikit-learn 0.22.2.post1\n",
            "Adding scikit-learn 0.22.2.post1 to easy-install.pth file\n",
            "\n",
            "Using /usr/local/lib/python3.6/dist-packages\n",
            "Searching for scipy==1.4.1\n",
            "Best match: scipy 1.4.1\n",
            "Adding scipy 1.4.1 to easy-install.pth file\n",
            "\n",
            "Using /usr/local/lib/python3.6/dist-packages\n",
            "Searching for numpy==1.18.3\n",
            "Best match: numpy 1.18.3\n",
            "Adding numpy 1.18.3 to easy-install.pth file\n",
            "Installing f2py script to /usr/local/bin\n",
            "Installing f2py3 script to /usr/local/bin\n",
            "Installing f2py3.6 script to /usr/local/bin\n",
            "\n",
            "Using /usr/local/lib/python3.6/dist-packages\n",
            "Searching for joblib==0.14.1\n",
            "Best match: joblib 0.14.1\n",
            "Adding joblib 0.14.1 to easy-install.pth file\n",
            "\n",
            "Using /usr/local/lib/python3.6/dist-packages\n",
            "Finished processing dependencies for pystacknet==0.0.1\n"
          ],
          "name": "stdout"
        }
      ]
    },
    {
      "cell_type": "code",
      "metadata": {
        "id": "gSkf_uYH6aHW",
        "colab_type": "code",
        "colab": {}
      },
      "source": [
        "from sklearn.ensemble import RandomForestClassifier, RandomForestRegressor, ExtraTreesClassifier, ExtraTreesRegressor, GradientBoostingClassifier,GradientBoostingRegressor\n",
        "\n",
        "models=[ \n",
        "            ######## First level ########\n",
        "            [RandomForestClassifier (n_estimators=100, criterion=\"entropy\", max_depth=5, max_features=0.5, random_state=1),\n",
        "             ExtraTreesClassifier (n_estimators=100, criterion=\"entropy\", max_depth=5, max_features=0.5, random_state=1),\n",
        "             LogisticRegression(random_state=1),\n",
        "             MultinomialNB(),\n",
        "             DecisionTreeClassifier(criterion=\"entropy\", max_depth=5, max_features=0.5, random_state=1)\n",
        "\n",
        "             ],\n",
        "            ######## Second level ########\n",
        "            [RandomForestClassifier (n_estimators=200, criterion=\"entropy\", max_depth=5, max_features=0.5, random_state=1)]\n",
        "            ]"
      ],
      "execution_count": 0,
      "outputs": []
    },
    {
      "cell_type": "code",
      "metadata": {
        "id": "3eS8JTBd6lj-",
        "colab_type": "code",
        "colab": {}
      },
      "source": [
        "from pystacknet.pystacknet import StackNetClassifier\n",
        "\n",
        "\n",
        "model=StackNetClassifier(models, metric=\"accuracy\",\n",
        "\trestacking=False,use_retraining=True, use_proba=True, \n",
        "\trandom_state=12345,n_jobs=1, verbose=1)"
      ],
      "execution_count": 0,
      "outputs": []
    },
    {
      "cell_type": "code",
      "metadata": {
        "id": "Zf9pMX1K6aFv",
        "colab_type": "code",
        "colab": {}
      },
      "source": [
        "from imblearn.pipeline import make_pipeline\n",
        "from imblearn.over_sampling import RandomOverSampler\n",
        "model_ensemble = make_pipeline(RandomOverSampler(random_state=777), model)"
      ],
      "execution_count": 0,
      "outputs": []
    },
    {
      "cell_type": "code",
      "metadata": {
        "id": "vJ1fk2-e63tl",
        "colab_type": "code",
        "outputId": "3b84e3e6-b4a8-467e-dfeb-23ae6193d573",
        "colab": {
          "base_uri": "https://localhost:8080/",
          "height": 1000
        }
      },
      "source": [
        "model_ensemble.fit(combined_TFIDF, df.Stance)"
      ],
      "execution_count": 281,
      "outputs": [
        {
          "output_type": "stream",
          "text": [
            "====================== Start of Level 0 ======================\n",
            "Input Dimensionality 5421 at Level 0 \n",
            "5 models included in Level 0 \n",
            "Level 0, fold 1/3 , model 0 , accuracy===0.526385 \n",
            "Level 0, fold 1/3 , model 1 , accuracy===0.565131 \n",
            "Level 0, fold 1/3 , model 2 , accuracy===0.843497 \n",
            "Level 0, fold 1/3 , model 3 , accuracy===0.615416 \n",
            "Level 0, fold 1/3 , model 4 , accuracy===0.402981 \n",
            "=========== end of fold 1 in level 0 ===========\n",
            "Level 0, fold 2/3 , model 0 , accuracy===0.516478 \n",
            "Level 0, fold 2/3 , model 1 , accuracy===0.567914 \n",
            "Level 0, fold 2/3 , model 2 , accuracy===0.844028 \n",
            "Level 0, fold 2/3 , model 3 , accuracy===0.618304 \n",
            "Level 0, fold 2/3 , model 4 , accuracy===0.407261 \n",
            "=========== end of fold 2 in level 0 ===========\n",
            "Level 0, fold 3/3 , model 0 , accuracy===0.525965 \n",
            "Level 0, fold 3/3 , model 1 , accuracy===0.576148 \n",
            "Level 0, fold 3/3 , model 2 , accuracy===0.840968 \n",
            "Level 0, fold 3/3 , model 3 , accuracy===0.619926 \n",
            "Level 0, fold 3/3 , model 4 , accuracy===0.400361 \n",
            "=========== end of fold 3 in level 0 ===========\n",
            "Level 0, model 0 , accuracy===0.522943 \n",
            "Level 0, model 1 , accuracy===0.569731 \n",
            "Level 0, model 2 , accuracy===0.842831 \n",
            "Level 0, model 3 , accuracy===0.617882 \n",
            "Level 0, model 4 , accuracy===0.403534 \n",
            "Output dimensionality of level 0 is 20 \n",
            "====================== End of Level 0 ======================\n",
            " level 0 lasted 1312.162256 seconds \n",
            "====================== Start of Level 1 ======================\n",
            "Input Dimensionality 20 at Level 1 \n",
            "1 models included in Level 1 \n",
            "Level 1, fold 1/3 , model 0 , accuracy===0.867870 \n",
            "=========== end of fold 1 in level 1 ===========\n",
            "Level 1, fold 2/3 , model 0 , accuracy===0.869305 \n",
            "=========== end of fold 2 in level 1 ===========\n",
            "Level 1, fold 3/3 , model 0 , accuracy===0.871132 \n",
            "=========== end of fold 3 in level 1 ===========\n",
            "Level 1, model 0 , accuracy===0.869435 \n",
            "Output dimensionality of level 1 is 4 \n",
            "====================== End of Level 1 ======================\n",
            " level 1 lasted 383.475341 seconds \n",
            "====================== End of fit ======================\n",
            " fit() lasted 1695.665751 seconds \n"
          ],
          "name": "stdout"
        },
        {
          "output_type": "execute_result",
          "data": {
            "text/plain": [
              "Pipeline(memory=None,\n",
              "         steps=[('randomoversampler',\n",
              "                 RandomOverSampler(random_state=777, ratio=None,\n",
              "                                   return_indices=False,\n",
              "                                   sampling_strategy='auto')),\n",
              "                ('stacknetclassifier',\n",
              "                 StackNetClassifier(folds=3,\n",
              "                                    metric=<function accuracy at 0x7f6e396e2268>,\n",
              "                                    models=[[RandomForestClassifier(bootstrap=True,\n",
              "                                                                    ccp_alpha=0.0,\n",
              "                                                                    class_weight=None,\n",
              "                                                                    criterion='entropy',\n",
              "                                                                    max_depth=5,\n",
              "                                                                    max_f...\n",
              "                                                                    max_leaf_nodes=None,\n",
              "                                                                    max_samples=None,\n",
              "                                                                    min_impurity_decrease=0.0,\n",
              "                                                                    min_impurity_split=None,\n",
              "                                                                    min_samples_leaf=1,\n",
              "                                                                    min_samples_split=2,\n",
              "                                                                    min_weight_fraction_leaf=0.0,\n",
              "                                                                    n_estimators=200,\n",
              "                                                                    n_jobs=None,\n",
              "                                                                    oob_score=False,\n",
              "                                                                    random_state=1,\n",
              "                                                                    verbose=0,\n",
              "                                                                    warm_start=False)]],\n",
              "                                    n_jobs=1, random_state=12345,\n",
              "                                    restacking=False, use_proba=False,\n",
              "                                    use_retraining=True, verbose=1))],\n",
              "         verbose=False)"
            ]
          },
          "metadata": {
            "tags": []
          },
          "execution_count": 281
        }
      ]
    },
    {
      "cell_type": "markdown",
      "metadata": {
        "id": "ebw-EeWcH8SF",
        "colab_type": "text"
      },
      "source": [
        "### Test Phase"
      ]
    },
    {
      "cell_type": "markdown",
      "metadata": {
        "id": "gd4bw7FXMKnu",
        "colab_type": "text"
      },
      "source": [
        "#### Test Set Cleaning"
      ]
    },
    {
      "cell_type": "code",
      "metadata": {
        "id": "zzwKJvwMKS3a",
        "colab_type": "code",
        "colab": {}
      },
      "source": [
        "# Loaing Both Test Datasets\n",
        "link = 'https://drive.google.com/open?id=1U-aDBWPm8txmgPSfNDF8IiSQVOpdE4rj' # The shareable link\n",
        "fluff, id = link.split('=')\n",
        "# loading bodies dataset\n",
        "downloaded = drive.CreateFile({'id':id}) \n",
        "downloaded.GetContentFile('Filename.csv')  \n",
        "df_test_body = pd.read_csv('Filename.csv')\n",
        "# Dataset is now stored in a Pandas Dataframe"
      ],
      "execution_count": 0,
      "outputs": []
    },
    {
      "cell_type": "code",
      "metadata": {
        "id": "DKt-LLEmkck4",
        "colab_type": "code",
        "outputId": "5cb9b598-355b-4584-ee25-edca7337a582",
        "colab": {
          "base_uri": "https://localhost:8080/",
          "height": 204
        }
      },
      "source": [
        "df_test_body.head()"
      ],
      "execution_count": 0,
      "outputs": [
        {
          "output_type": "execute_result",
          "data": {
            "text/html": [
              "<div>\n",
              "<style scoped>\n",
              "    .dataframe tbody tr th:only-of-type {\n",
              "        vertical-align: middle;\n",
              "    }\n",
              "\n",
              "    .dataframe tbody tr th {\n",
              "        vertical-align: top;\n",
              "    }\n",
              "\n",
              "    .dataframe thead th {\n",
              "        text-align: right;\n",
              "    }\n",
              "</style>\n",
              "<table border=\"1\" class=\"dataframe\">\n",
              "  <thead>\n",
              "    <tr style=\"text-align: right;\">\n",
              "      <th></th>\n",
              "      <th>Body ID</th>\n",
              "      <th>articleBody</th>\n",
              "    </tr>\n",
              "  </thead>\n",
              "  <tbody>\n",
              "    <tr>\n",
              "      <th>0</th>\n",
              "      <td>1</td>\n",
              "      <td>Al-Sisi has denied Israeli reports stating tha...</td>\n",
              "    </tr>\n",
              "    <tr>\n",
              "      <th>1</th>\n",
              "      <td>2</td>\n",
              "      <td>A bereaved Afghan mother took revenge on the T...</td>\n",
              "    </tr>\n",
              "    <tr>\n",
              "      <th>2</th>\n",
              "      <td>3</td>\n",
              "      <td>CNBC is reporting Tesla has chosen Nevada as t...</td>\n",
              "    </tr>\n",
              "    <tr>\n",
              "      <th>3</th>\n",
              "      <td>12</td>\n",
              "      <td>A 4-inch version of the iPhone 6 is said to be...</td>\n",
              "    </tr>\n",
              "    <tr>\n",
              "      <th>4</th>\n",
              "      <td>19</td>\n",
              "      <td>GR editor’s Note\\n\\nThere are no reports in th...</td>\n",
              "    </tr>\n",
              "  </tbody>\n",
              "</table>\n",
              "</div>"
            ],
            "text/plain": [
              "   Body ID                                        articleBody\n",
              "0        1  Al-Sisi has denied Israeli reports stating tha...\n",
              "1        2  A bereaved Afghan mother took revenge on the T...\n",
              "2        3  CNBC is reporting Tesla has chosen Nevada as t...\n",
              "3       12  A 4-inch version of the iPhone 6 is said to be...\n",
              "4       19  GR editor’s Note\\n\\nThere are no reports in th..."
            ]
          },
          "metadata": {
            "tags": []
          },
          "execution_count": 173
        }
      ]
    },
    {
      "cell_type": "code",
      "metadata": {
        "id": "Y4XXkzAnjsIJ",
        "colab_type": "code",
        "colab": {}
      },
      "source": [
        "link = 'https://drive.google.com/open?id=1gooUabGuSJzEKCoOmvdoU3z3zQy3unQP' # The shareable link\n",
        "fluff, id = link.split('=')\n",
        "# loading bodies dataset\n",
        "downloaded = drive.CreateFile({'id':id}) \n",
        "downloaded.GetContentFile('Filename.csv')  \n",
        "df_test_headline = pd.read_csv('Filename.csv')\n",
        "# Dataset is now stored in a Pandas Dataframe"
      ],
      "execution_count": 0,
      "outputs": []
    },
    {
      "cell_type": "code",
      "metadata": {
        "id": "4iZW6RvpLTib",
        "colab_type": "code",
        "outputId": "f5295316-a575-4170-ad0b-d180c6ea158b",
        "colab": {
          "base_uri": "https://localhost:8080/",
          "height": 204
        }
      },
      "source": [
        "#df_test = df_test.drop(['Unnamed: 0', 'Unnamed: 0.1', 'Headline_nostop', 'articleBody_lemma', 'Headline_lemma'], axis=1)\n",
        "df_test_headline.head()"
      ],
      "execution_count": 0,
      "outputs": [
        {
          "output_type": "execute_result",
          "data": {
            "text/html": [
              "<div>\n",
              "<style scoped>\n",
              "    .dataframe tbody tr th:only-of-type {\n",
              "        vertical-align: middle;\n",
              "    }\n",
              "\n",
              "    .dataframe tbody tr th {\n",
              "        vertical-align: top;\n",
              "    }\n",
              "\n",
              "    .dataframe thead th {\n",
              "        text-align: right;\n",
              "    }\n",
              "</style>\n",
              "<table border=\"1\" class=\"dataframe\">\n",
              "  <thead>\n",
              "    <tr style=\"text-align: right;\">\n",
              "      <th></th>\n",
              "      <th>Headline</th>\n",
              "      <th>Body ID</th>\n",
              "      <th>Stance</th>\n",
              "    </tr>\n",
              "  </thead>\n",
              "  <tbody>\n",
              "    <tr>\n",
              "      <th>0</th>\n",
              "      <td>Ferguson riots: Pregnant woman loses eye after...</td>\n",
              "      <td>2008</td>\n",
              "      <td>unrelated</td>\n",
              "    </tr>\n",
              "    <tr>\n",
              "      <th>1</th>\n",
              "      <td>Crazy Conservatives Are Sure a Gitmo Detainee ...</td>\n",
              "      <td>1550</td>\n",
              "      <td>unrelated</td>\n",
              "    </tr>\n",
              "    <tr>\n",
              "      <th>2</th>\n",
              "      <td>A Russian Guy Says His Justin Bieber Ringtone ...</td>\n",
              "      <td>2</td>\n",
              "      <td>unrelated</td>\n",
              "    </tr>\n",
              "    <tr>\n",
              "      <th>3</th>\n",
              "      <td>Zombie Cat: Buried Kitty Believed Dead, Meows ...</td>\n",
              "      <td>1793</td>\n",
              "      <td>unrelated</td>\n",
              "    </tr>\n",
              "    <tr>\n",
              "      <th>4</th>\n",
              "      <td>Argentina's President Adopts Boy to End Werewo...</td>\n",
              "      <td>37</td>\n",
              "      <td>unrelated</td>\n",
              "    </tr>\n",
              "  </tbody>\n",
              "</table>\n",
              "</div>"
            ],
            "text/plain": [
              "                                            Headline  Body ID     Stance\n",
              "0  Ferguson riots: Pregnant woman loses eye after...     2008  unrelated\n",
              "1  Crazy Conservatives Are Sure a Gitmo Detainee ...     1550  unrelated\n",
              "2  A Russian Guy Says His Justin Bieber Ringtone ...        2  unrelated\n",
              "3  Zombie Cat: Buried Kitty Believed Dead, Meows ...     1793  unrelated\n",
              "4  Argentina's President Adopts Boy to End Werewo...       37  unrelated"
            ]
          },
          "metadata": {
            "tags": []
          },
          "execution_count": 175
        }
      ]
    },
    {
      "cell_type": "code",
      "metadata": {
        "id": "2g2Hjdm5k2LT",
        "colab_type": "code",
        "outputId": "6fee247b-1528-4a5b-ad24-53e15abe978f",
        "colab": {
          "base_uri": "https://localhost:8080/",
          "height": 34
        }
      },
      "source": [
        "# remove special caracters and put everything in lower case for both train data sets\n",
        "for i in range(len(df_test_body)):\n",
        "  df_test_body[\"articleBody\"][i]= (df_test_body[\"articleBody\"][i].encode('ascii', 'ignore')).decode(\"utf-8\")\n",
        "  df_test_body[\"articleBody\"][i] = df_test_body[\"articleBody\"][i].lower()\n",
        "\n",
        "for i in range(len(df_test_headline)):\n",
        "  df_test_headline[\"Headline\"][i]= (df_test_headline[\"Headline\"][i].encode('ascii', 'ignore')).decode(\"utf-8\")\n",
        "  df_test_headline[\"Headline\"][i] = df_test_headline[\"Headline\"][i].lower()\n",
        "  out.update(progress(i, len(df_test_headline)))"
      ],
      "execution_count": 0,
      "outputs": [
        {
          "output_type": "display_data",
          "data": {
            "text/html": [
              "\n",
              "        <progress\n",
              "            value='25412'\n",
              "            max='25413',\n",
              "            style='width: 100%'\n",
              "        >\n",
              "            25412\n",
              "        </progress>\n",
              "    "
            ],
            "text/plain": [
              "<IPython.core.display.HTML object>"
            ]
          },
          "metadata": {
            "tags": []
          }
        }
      ]
    },
    {
      "cell_type": "code",
      "metadata": {
        "id": "hYjTq8culi3H",
        "colab_type": "code",
        "colab": {}
      },
      "source": [
        "# create function for removing special caracters\n",
        "import html\n",
        "import re\n",
        "def clean(s):\n",
        "    s = html.unescape(s)\n",
        "    s = s.replace(\"\\\\n\",\" \")\n",
        "    s = s.replace(\"_NEG\",\"\")\n",
        "    s = s.replace(\"_NEGFIRST\", \"\")\n",
        "    s = re.sub(r\"_\", \"\", s)\n",
        "    s = re.sub(r\"#\", \"\", s)\n",
        "    s = re.sub(r\"\\*\", \"\", s)\n",
        "    s = re.sub(r\"\\'s\", \"\", s)\n",
        "    s = re.sub(r\"\\'m\", \" am\", s)\n",
        "    s = re.sub(r\"\\'ve\", \" have\", s)\n",
        "    s = re.sub(r\"n\\'t\", \" not\", s)\n",
        "    s = re.sub(r\"\\'re\", \" are\", s)\n",
        "    s = re.sub(r\"\\'d\", \" would\", s)\n",
        "    s = re.sub(r\"\\'ll\", \" will\", s)\n",
        "    s = re.sub(r\",\", \"\", s)\n",
        "    s = re.sub(r\"!\", \" !\", s)\n",
        "    s = re.sub(r\"\\(\", \"\", s)\n",
        "    s = re.sub(r\"\\)\", \"\", s)\n",
        "    s = re.sub(r\"\\?\", \" ?\", s)\n",
        "    s = re.sub(r'[^\\x00-\\x7F]',' ', s)\n",
        "    s = re.sub(r'[^\\w\\s]',' ',s)\n",
        "    s = re.sub(\"\\d+\", \" \", s)\n",
        "    s = re.sub(r\"\\s{2,}\", \" \", s)\n",
        "    s = s.rstrip(',|.|;|:|\\'|\\\"')\n",
        "    s = s.lstrip('\\'|\\\"')\n",
        "\n",
        "    return str(s)"
      ],
      "execution_count": 0,
      "outputs": []
    },
    {
      "cell_type": "code",
      "metadata": {
        "id": "-xcwiBOklpMy",
        "colab_type": "code",
        "outputId": "7eacb1e9-8e71-49af-c4f5-db93623b5422",
        "colab": {
          "base_uri": "https://localhost:8080/",
          "height": 34
        }
      },
      "source": [
        "# apply clean function to data_train_bodies\n",
        "for i in range(len(df_test_body)):\n",
        "      df_test_body[\"articleBody\"][i]= clean(df_test_body[\"articleBody\"][i])\n",
        "      out.update(progress(i, len(df_test_body)))"
      ],
      "execution_count": 0,
      "outputs": [
        {
          "output_type": "display_data",
          "data": {
            "text/html": [
              "\n",
              "        <progress\n",
              "            value='903'\n",
              "            max='904',\n",
              "            style='width: 100%'\n",
              "        >\n",
              "            903\n",
              "        </progress>\n",
              "    "
            ],
            "text/plain": [
              "<IPython.core.display.HTML object>"
            ]
          },
          "metadata": {
            "tags": []
          }
        }
      ]
    },
    {
      "cell_type": "code",
      "metadata": {
        "id": "xW3fuvHRl5DI",
        "colab_type": "code",
        "outputId": "93396b37-ee2a-494c-a29d-f45e1c6b1e83",
        "colab": {
          "base_uri": "https://localhost:8080/",
          "height": 34
        }
      },
      "source": [
        "# apply clean function to data_train_headlines\n",
        "for i in range(len(df_test_headline)):\n",
        "      df_test_headline[\"Headline\"][i]= clean(df_test_headline[\"Headline\"][i])\n",
        "      out.update(progress(i, len(df_test_headline)))"
      ],
      "execution_count": 0,
      "outputs": [
        {
          "output_type": "display_data",
          "data": {
            "text/html": [
              "\n",
              "        <progress\n",
              "            value='25412'\n",
              "            max='25413',\n",
              "            style='width: 100%'\n",
              "        >\n",
              "            25412\n",
              "        </progress>\n",
              "    "
            ],
            "text/plain": [
              "<IPython.core.display.HTML object>"
            ]
          },
          "metadata": {
            "tags": []
          }
        }
      ]
    },
    {
      "cell_type": "code",
      "metadata": {
        "id": "5sFMQgqzmDx9",
        "colab_type": "code",
        "colab": {}
      },
      "source": [
        "# remove stop words from df_test_body \n",
        "from gensim.parsing.preprocessing import remove_stopwords\n",
        "\n",
        "df_test_body.loc[:,\"articleBody_nostop\"] = df_test_body.articleBody.apply(lambda x : remove_stopwords(x))"
      ],
      "execution_count": 0,
      "outputs": []
    },
    {
      "cell_type": "code",
      "metadata": {
        "id": "_ojosuwQmTF-",
        "colab_type": "code",
        "colab": {}
      },
      "source": [
        "# removing stop words from df_test_headline \n",
        "df_test_headline.loc[:,\"Headline_nostop\"] = df_test_headline.Headline.apply(lambda x : remove_stopwords(x))"
      ],
      "execution_count": 0,
      "outputs": []
    },
    {
      "cell_type": "code",
      "metadata": {
        "id": "bg2ZsDjRmb2k",
        "colab_type": "code",
        "outputId": "c4cccdc8-2f3f-49b6-f940-ed5a42ad8aba",
        "colab": {
          "base_uri": "https://localhost:8080/",
          "height": 204
        }
      },
      "source": [
        "df_test_body.tail()"
      ],
      "execution_count": 0,
      "outputs": [
        {
          "output_type": "execute_result",
          "data": {
            "text/html": [
              "<div>\n",
              "<style scoped>\n",
              "    .dataframe tbody tr th:only-of-type {\n",
              "        vertical-align: middle;\n",
              "    }\n",
              "\n",
              "    .dataframe tbody tr th {\n",
              "        vertical-align: top;\n",
              "    }\n",
              "\n",
              "    .dataframe thead th {\n",
              "        text-align: right;\n",
              "    }\n",
              "</style>\n",
              "<table border=\"1\" class=\"dataframe\">\n",
              "  <thead>\n",
              "    <tr style=\"text-align: right;\">\n",
              "      <th></th>\n",
              "      <th>Body ID</th>\n",
              "      <th>articleBody</th>\n",
              "      <th>articleBody_nostop</th>\n",
              "    </tr>\n",
              "  </thead>\n",
              "  <tbody>\n",
              "    <tr>\n",
              "      <th>899</th>\n",
              "      <td>2582</td>\n",
              "      <td>congressional republicans evidently hoping tha...</td>\n",
              "      <td>congressional republicans evidently hoping rep...</td>\n",
              "    </tr>\n",
              "    <tr>\n",
              "      <th>900</th>\n",
              "      <td>2583</td>\n",
              "      <td>did obamacare work its worth reflecting upon a...</td>\n",
              "      <td>obamacare work worth reflecting president trum...</td>\n",
              "    </tr>\n",
              "    <tr>\n",
              "      <th>901</th>\n",
              "      <td>2584</td>\n",
              "      <td>millions may lose coverage next year if congre...</td>\n",
              "      <td>millions lose coverage year congress repeal ob...</td>\n",
              "    </tr>\n",
              "    <tr>\n",
              "      <th>902</th>\n",
              "      <td>2585</td>\n",
              "      <td>come november the grim trudge across the incre...</td>\n",
              "      <td>come november grim trudge increasingly barren ...</td>\n",
              "    </tr>\n",
              "    <tr>\n",
              "      <th>903</th>\n",
              "      <td>2586</td>\n",
              "      <td>remember how much republicans wanted to repeal...</td>\n",
              "      <td>remember republicans wanted repeal obamacare r...</td>\n",
              "    </tr>\n",
              "  </tbody>\n",
              "</table>\n",
              "</div>"
            ],
            "text/plain": [
              "     Body ID  ...                                 articleBody_nostop\n",
              "899     2582  ...  congressional republicans evidently hoping rep...\n",
              "900     2583  ...  obamacare work worth reflecting president trum...\n",
              "901     2584  ...  millions lose coverage year congress repeal ob...\n",
              "902     2585  ...  come november grim trudge increasingly barren ...\n",
              "903     2586  ...  remember republicans wanted repeal obamacare r...\n",
              "\n",
              "[5 rows x 3 columns]"
            ]
          },
          "metadata": {
            "tags": []
          },
          "execution_count": 182
        }
      ]
    },
    {
      "cell_type": "code",
      "metadata": {
        "id": "a3YzFkaFmwmj",
        "colab_type": "code",
        "colab": {}
      },
      "source": [
        "# apply lemmatization to both data_train_bodies and data_train_headlines\n",
        "import spacy\n",
        "lemmatizer = spacy.load('en', disable=['parser', 'ner'])"
      ],
      "execution_count": 0,
      "outputs": []
    },
    {
      "cell_type": "code",
      "metadata": {
        "id": "oCl99wstmzOJ",
        "colab_type": "code",
        "outputId": "465adea9-fd87-4740-a00e-4de325a9999d",
        "colab": {
          "base_uri": "https://localhost:8080/",
          "height": 34
        }
      },
      "source": [
        "df_test_body['articleBody_lemma'] = ''\n",
        "for i in range(0, len(df_test_body.articleBody_nostop)):\n",
        "  doc = lemmatizer(df_test_body.articleBody_nostop[i])\n",
        "  df_test_body['articleBody_lemma'][i] = \" \".join([token.lemma_ for token in doc])\n",
        "  out.update(progress(i, len(df_test_body))) "
      ],
      "execution_count": 0,
      "outputs": [
        {
          "output_type": "display_data",
          "data": {
            "text/html": [
              "\n",
              "        <progress\n",
              "            value='903'\n",
              "            max='904',\n",
              "            style='width: 100%'\n",
              "        >\n",
              "            903\n",
              "        </progress>\n",
              "    "
            ],
            "text/plain": [
              "<IPython.core.display.HTML object>"
            ]
          },
          "metadata": {
            "tags": []
          }
        }
      ]
    },
    {
      "cell_type": "code",
      "metadata": {
        "id": "fZKwkVaJn6fg",
        "colab_type": "code",
        "outputId": "03d6c409-5b5e-4003-a6f2-b1dbcb747275",
        "colab": {
          "base_uri": "https://localhost:8080/",
          "height": 34
        }
      },
      "source": [
        "df_test_headline['Headline_lemma'] = ''\n",
        "for i in range(0, len(df_test_headline.Headline_nostop)):\n",
        "  doc = lemmatizer(df_test_headline.Headline_nostop[i])\n",
        "  df_test_headline['Headline_lemma'][i] = \" \".join([token.lemma_ for token in doc])\n",
        "  out.update(progress(i, len(df_test_headline))) "
      ],
      "execution_count": 0,
      "outputs": [
        {
          "output_type": "display_data",
          "data": {
            "text/html": [
              "\n",
              "        <progress\n",
              "            value='25412'\n",
              "            max='25413',\n",
              "            style='width: 100%'\n",
              "        >\n",
              "            25412\n",
              "        </progress>\n",
              "    "
            ],
            "text/plain": [
              "<IPython.core.display.HTML object>"
            ]
          },
          "metadata": {
            "tags": []
          }
        }
      ]
    },
    {
      "cell_type": "code",
      "metadata": {
        "id": "oBRBHtIS6uAZ",
        "colab_type": "code",
        "outputId": "e0ddd25e-946c-4605-c2f2-c3e4c6abf1d7",
        "colab": {
          "base_uri": "https://localhost:8080/",
          "height": 34
        }
      },
      "source": [
        "# adding articleBody_sentiment to main data frame\n",
        "df_test_headline[\"articleBody_clean\"]=''\n",
        "for i in range(len(df_test_headline)):\n",
        "  for j in range(len(df_test_body)):\n",
        "    if (df_test_body[\"Body ID\"][j]==df_test_headline[\"Body ID\"][i]):\n",
        "      df_test_headline[\"articleBody_clean_final\"][i]=df_test_body[\"articleBody_nostop\"][j]\n",
        "      out.update(progress(i, len(df_test_headline)))"
      ],
      "execution_count": 0,
      "outputs": [
        {
          "output_type": "display_data",
          "data": {
            "text/html": [
              "\n",
              "        <progress\n",
              "            value='25412'\n",
              "            max='25413',\n",
              "            style='width: 100%'\n",
              "        >\n",
              "            25412\n",
              "        </progress>\n",
              "    "
            ],
            "text/plain": [
              "<IPython.core.display.HTML object>"
            ]
          },
          "metadata": {
            "tags": []
          }
        }
      ]
    },
    {
      "cell_type": "code",
      "metadata": {
        "id": "x4wTTGwYuWID",
        "colab_type": "code",
        "outputId": "b354e98b-d468-4c4a-8089-ce01d533d06c",
        "colab": {
          "base_uri": "https://localhost:8080/",
          "height": 153
        }
      },
      "source": [
        "df_test_headline.isnull().sum()"
      ],
      "execution_count": 191,
      "outputs": [
        {
          "output_type": "execute_result",
          "data": {
            "text/plain": [
              "Headline                   0\n",
              "Body ID                    0\n",
              "Stance                     0\n",
              "Headline_nostop            0\n",
              "Headline_lemma             0\n",
              "articleBody_clean_final    0\n",
              "articleBody_clean          0\n",
              "dtype: int64"
            ]
          },
          "metadata": {
            "tags": []
          },
          "execution_count": 191
        }
      ]
    },
    {
      "cell_type": "code",
      "metadata": {
        "id": "0jRLWq3eyJMa",
        "colab_type": "code",
        "outputId": "6fe8ad90-536d-4109-9afe-6185de231d4b",
        "colab": {
          "base_uri": "https://localhost:8080/",
          "height": 34
        }
      },
      "source": [
        "# mounting drive for clean dataframe\n",
        "from google.colab import drive\n",
        "drive.mount('drive')"
      ],
      "execution_count": 192,
      "outputs": [
        {
          "output_type": "stream",
          "text": [
            "Drive already mounted at drive; to attempt to forcibly remount, call drive.mount(\"drive\", force_remount=True).\n"
          ],
          "name": "stdout"
        }
      ]
    },
    {
      "cell_type": "code",
      "metadata": {
        "id": "PYyoyjXCyOxw",
        "colab_type": "code",
        "colab": {}
      },
      "source": [
        "# save both dataframes as csv files\n",
        "df_test_headline.to_csv('drive/My Drive/Colab Notebooks/clean_test_big.csv')"
      ],
      "execution_count": 0,
      "outputs": []
    },
    {
      "cell_type": "code",
      "metadata": {
        "id": "N2R4vcvlybDv",
        "colab_type": "code",
        "colab": {}
      },
      "source": [
        "df_test = df_test_headline"
      ],
      "execution_count": 0,
      "outputs": []
    },
    {
      "cell_type": "code",
      "metadata": {
        "id": "TfnpOxDdyesm",
        "colab_type": "code",
        "outputId": "a224c138-88bf-40c2-b0dd-732f615f58c6",
        "colab": {
          "base_uri": "https://localhost:8080/",
          "height": 204
        }
      },
      "source": [
        "#df_test = df_test.drop(['Headline', 'Headline_nostop', 'articleBody_lemma', 'Headline_lemma'], axis=1 )\n",
        "df_test = df_test.drop(['Headline', 'Headline_lemma', 'articleBody_clean'], axis=1 )\n",
        "df_test.head()"
      ],
      "execution_count": 200,
      "outputs": [
        {
          "output_type": "execute_result",
          "data": {
            "text/html": [
              "<div>\n",
              "<style scoped>\n",
              "    .dataframe tbody tr th:only-of-type {\n",
              "        vertical-align: middle;\n",
              "    }\n",
              "\n",
              "    .dataframe tbody tr th {\n",
              "        vertical-align: top;\n",
              "    }\n",
              "\n",
              "    .dataframe thead th {\n",
              "        text-align: right;\n",
              "    }\n",
              "</style>\n",
              "<table border=\"1\" class=\"dataframe\">\n",
              "  <thead>\n",
              "    <tr style=\"text-align: right;\">\n",
              "      <th></th>\n",
              "      <th>Body ID</th>\n",
              "      <th>Stance</th>\n",
              "      <th>Headline_nostop</th>\n",
              "      <th>articleBody_clean_final</th>\n",
              "    </tr>\n",
              "  </thead>\n",
              "  <tbody>\n",
              "    <tr>\n",
              "      <th>0</th>\n",
              "      <td>2008</td>\n",
              "      <td>unrelated</td>\n",
              "      <td>ferguson riots pregnant woman loses eye cops b...</td>\n",
              "      <td>respected senior french police officer investi...</td>\n",
              "    </tr>\n",
              "    <tr>\n",
              "      <th>1</th>\n",
              "      <td>1550</td>\n",
              "      <td>unrelated</td>\n",
              "      <td>crazy conservatives sure gitmo detainee killed...</td>\n",
              "      <td>dave morin social networking company path repo...</td>\n",
              "    </tr>\n",
              "    <tr>\n",
              "      <th>2</th>\n",
              "      <td>2</td>\n",
              "      <td>unrelated</td>\n",
              "      <td>russian guy says justin bieber ringtone saved ...</td>\n",
              "      <td>bereaved afghan mother took revenge taliban wa...</td>\n",
              "    </tr>\n",
              "    <tr>\n",
              "      <th>3</th>\n",
              "      <td>1793</td>\n",
              "      <td>unrelated</td>\n",
              "      <td>zombie cat buried kitty believed dead meows life</td>\n",
              "      <td>hewlett packard officially splitting following...</td>\n",
              "    </tr>\n",
              "    <tr>\n",
              "      <th>4</th>\n",
              "      <td>37</td>\n",
              "      <td>unrelated</td>\n",
              "      <td>argentina president adopts boy end werewolf curse</td>\n",
              "      <td>airline passenger headed dallas removed plane ...</td>\n",
              "    </tr>\n",
              "  </tbody>\n",
              "</table>\n",
              "</div>"
            ],
            "text/plain": [
              "   Body ID  ...                            articleBody_clean_final\n",
              "0     2008  ...  respected senior french police officer investi...\n",
              "1     1550  ...  dave morin social networking company path repo...\n",
              "2        2  ...  bereaved afghan mother took revenge taliban wa...\n",
              "3     1793  ...  hewlett packard officially splitting following...\n",
              "4       37  ...  airline passenger headed dallas removed plane ...\n",
              "\n",
              "[5 rows x 4 columns]"
            ]
          },
          "metadata": {
            "tags": []
          },
          "execution_count": 200
        }
      ]
    },
    {
      "cell_type": "code",
      "metadata": {
        "id": "GNz_go1CacTg",
        "colab_type": "code",
        "colab": {}
      },
      "source": [
        "def extract_cosine_similarity(headlines, bodies):\n",
        "    vectorizer = TfidfVectorizer(ngram_range=(1,2))\n",
        "\n",
        "    cos_sim_features = []\n",
        "    for i in range(0, len(bodies)):\n",
        "        body_vs_headline = []\n",
        "        body_vs_headline.append(bodies[i])\n",
        "        body_vs_headline.append(headlines[i])\n",
        "        tfidf = vectorizer.fit_transform(body_vs_headline)\n",
        "        \n",
        "        cosine_similarity = (tfidf * tfidf.T).A\n",
        "        cos_sim_features.append(cosine_similarity[0][1])\n",
        "\n",
        "    cos_sim_array = np.array(cos_sim_features)\n",
        "\n",
        "    return cos_sim_array"
      ],
      "execution_count": 0,
      "outputs": []
    },
    {
      "cell_type": "code",
      "metadata": {
        "id": "qUm3zgAdavAf",
        "colab_type": "code",
        "colab": {}
      },
      "source": [
        "#cosine_similarity_test = extract_cosine_similarity(df_test.Headline_clean, df_test.articleBody_clean_final)\n",
        "cosine_similarity_test = extract_cosine_similarity(df_test.Headline_nostop, df_test.articleBody_clean_final)"
      ],
      "execution_count": 0,
      "outputs": []
    },
    {
      "cell_type": "code",
      "metadata": {
        "id": "sArPHZ1_a_gh",
        "colab_type": "code",
        "colab": {}
      },
      "source": [
        "word_overlap_test = []\n",
        "for i in range(len(df_test)):\n",
        "  features = len(set(df_test.Headline_clean[i]).intersection(df_test.articleBody_clean_final[i])) / float(len(set(df_test.Headline_clean[i]).union(df_test.articleBody_clean_final[i])))\n",
        "  word_overlap_test.append(features)"
      ],
      "execution_count": 0,
      "outputs": []
    },
    {
      "cell_type": "code",
      "metadata": {
        "id": "XFCxhUB0zSzO",
        "colab_type": "code",
        "colab": {}
      },
      "source": [
        "df_test['cosine_similarity'] = cosine_similarity_test"
      ],
      "execution_count": 0,
      "outputs": []
    },
    {
      "cell_type": "code",
      "metadata": {
        "id": "NAezJNRd0wp_",
        "colab_type": "code",
        "colab": {}
      },
      "source": [
        "df_test['word_overlap'] = word_overlap_test"
      ],
      "execution_count": 0,
      "outputs": []
    },
    {
      "cell_type": "code",
      "metadata": {
        "id": "9_5yrIkL084A",
        "colab_type": "code",
        "outputId": "66002376-2228-4b8d-fdc7-e41f0f581649",
        "colab": {
          "base_uri": "https://localhost:8080/",
          "height": 204
        }
      },
      "source": [
        "df_test.head()"
      ],
      "execution_count": 210,
      "outputs": [
        {
          "output_type": "execute_result",
          "data": {
            "text/html": [
              "<div>\n",
              "<style scoped>\n",
              "    .dataframe tbody tr th:only-of-type {\n",
              "        vertical-align: middle;\n",
              "    }\n",
              "\n",
              "    .dataframe tbody tr th {\n",
              "        vertical-align: top;\n",
              "    }\n",
              "\n",
              "    .dataframe thead th {\n",
              "        text-align: right;\n",
              "    }\n",
              "</style>\n",
              "<table border=\"1\" class=\"dataframe\">\n",
              "  <thead>\n",
              "    <tr style=\"text-align: right;\">\n",
              "      <th></th>\n",
              "      <th>Body ID</th>\n",
              "      <th>Stance</th>\n",
              "      <th>Headline_nostop</th>\n",
              "      <th>articleBody_clean_final</th>\n",
              "      <th>cosine_similarity</th>\n",
              "      <th>word_overlap</th>\n",
              "    </tr>\n",
              "  </thead>\n",
              "  <tbody>\n",
              "    <tr>\n",
              "      <th>0</th>\n",
              "      <td>2008</td>\n",
              "      <td>unrelated</td>\n",
              "      <td>ferguson riots pregnant woman loses eye cops b...</td>\n",
              "      <td>respected senior french police officer investi...</td>\n",
              "      <td>0.000000</td>\n",
              "      <td>0.833333</td>\n",
              "    </tr>\n",
              "    <tr>\n",
              "      <th>1</th>\n",
              "      <td>1550</td>\n",
              "      <td>unrelated</td>\n",
              "      <td>crazy conservatives sure gitmo detainee killed...</td>\n",
              "      <td>dave morin social networking company path repo...</td>\n",
              "      <td>0.000000</td>\n",
              "      <td>0.538462</td>\n",
              "    </tr>\n",
              "    <tr>\n",
              "      <th>2</th>\n",
              "      <td>2</td>\n",
              "      <td>unrelated</td>\n",
              "      <td>russian guy says justin bieber ringtone saved ...</td>\n",
              "      <td>bereaved afghan mother took revenge taliban wa...</td>\n",
              "      <td>0.005745</td>\n",
              "      <td>0.653846</td>\n",
              "    </tr>\n",
              "    <tr>\n",
              "      <th>3</th>\n",
              "      <td>1793</td>\n",
              "      <td>unrelated</td>\n",
              "      <td>zombie cat buried kitty believed dead meows life</td>\n",
              "      <td>hewlett packard officially splitting following...</td>\n",
              "      <td>0.000000</td>\n",
              "      <td>0.615385</td>\n",
              "    </tr>\n",
              "    <tr>\n",
              "      <th>4</th>\n",
              "      <td>37</td>\n",
              "      <td>unrelated</td>\n",
              "      <td>argentina president adopts boy end werewolf curse</td>\n",
              "      <td>airline passenger headed dallas removed plane ...</td>\n",
              "      <td>0.000000</td>\n",
              "      <td>0.739130</td>\n",
              "    </tr>\n",
              "  </tbody>\n",
              "</table>\n",
              "</div>"
            ],
            "text/plain": [
              "   Body ID     Stance  ... cosine_similarity word_overlap\n",
              "0     2008  unrelated  ...          0.000000     0.833333\n",
              "1     1550  unrelated  ...          0.000000     0.538462\n",
              "2        2  unrelated  ...          0.005745     0.653846\n",
              "3     1793  unrelated  ...          0.000000     0.615385\n",
              "4       37  unrelated  ...          0.000000     0.739130\n",
              "\n",
              "[5 rows x 6 columns]"
            ]
          },
          "metadata": {
            "tags": []
          },
          "execution_count": 210
        }
      ]
    },
    {
      "cell_type": "code",
      "metadata": {
        "id": "vkjeb1vEbv4k",
        "colab_type": "code",
        "outputId": "844ffac6-4170-454c-8a65-3ad44094ff0d",
        "colab": {
          "base_uri": "https://localhost:8080/",
          "height": 136
        }
      },
      "source": [
        "df_test.isna().sum()"
      ],
      "execution_count": 211,
      "outputs": [
        {
          "output_type": "execute_result",
          "data": {
            "text/plain": [
              "Body ID                    0\n",
              "Stance                     0\n",
              "Headline_nostop            0\n",
              "articleBody_clean_final    0\n",
              "cosine_similarity          0\n",
              "word_overlap               0\n",
              "dtype: int64"
            ]
          },
          "metadata": {
            "tags": []
          },
          "execution_count": 211
        }
      ]
    },
    {
      "cell_type": "code",
      "metadata": {
        "id": "fR_BAdXIcJ6M",
        "colab_type": "code",
        "colab": {}
      },
      "source": [
        "# save both dataframes as csv files\n",
        "df_test.to_csv('drive/My Drive/Colab Notebooks/clean_test_final_big.csv')"
      ],
      "execution_count": 0,
      "outputs": []
    },
    {
      "cell_type": "markdown",
      "metadata": {
        "id": "Mnof5_KbNg9K",
        "colab_type": "text"
      },
      "source": [
        "#### Testing Models"
      ]
    },
    {
      "cell_type": "code",
      "metadata": {
        "id": "wGT7E1DL18up",
        "colab_type": "code",
        "colab": {}
      },
      "source": [
        "from sklearn.feature_extraction.text import TfidfVectorizer\n",
        "tfidf = TfidfVectorizer(analyzer='word', lowercase=False)"
      ],
      "execution_count": 0,
      "outputs": []
    },
    {
      "cell_type": "code",
      "metadata": {
        "id": "DagpwsVE2CEB",
        "colab_type": "code",
        "colab": {}
      },
      "source": [
        "articleBody_TFIDF_test = tfidf.fit_transform(df_test['articleBody_clean_final'])\n",
        "#Headline_TFIDF_test = tfidf.fit_transform(df_test['Headline_clean'])\n",
        "Headline_TFIDF_test = tfidf.fit_transform(df_test['Headline_nostop'])\n",
        "combined_TFIDF_test = sp.hstack([Headline_TFIDF_test, articleBody_TFIDF_test, ], format='csr')"
      ],
      "execution_count": 0,
      "outputs": []
    },
    {
      "cell_type": "code",
      "metadata": {
        "id": "fj1lhGcWCcPN",
        "colab_type": "code",
        "colab": {}
      },
      "source": [
        "from sklearn.feature_selection import chi2\n",
        "selector = SelectKBest(chi2, k=5421)\n",
        "selector.fit(combined_TFIDF_test, df_test.Stance)\n",
        "combined_TFIDF_test = selector.transform(combined_TFIDF_test)"
      ],
      "execution_count": 0,
      "outputs": []
    },
    {
      "cell_type": "code",
      "metadata": {
        "id": "yhkzE8xALpWZ",
        "colab_type": "code",
        "colab": {
          "base_uri": "https://localhost:8080/",
          "height": 51
        },
        "outputId": "27eddc5e-b719-4524-83f3-b897bd097d6b"
      },
      "source": [
        "combined_TFIDF_test"
      ],
      "execution_count": 263,
      "outputs": [
        {
          "output_type": "execute_result",
          "data": {
            "text/plain": [
              "<25413x5421 sparse matrix of type '<class 'numpy.float64'>'\n",
              "\twith 1483316 stored elements in Compressed Sparse Row format>"
            ]
          },
          "metadata": {
            "tags": []
          },
          "execution_count": 263
        }
      ]
    },
    {
      "cell_type": "code",
      "metadata": {
        "id": "LndAP4zJ36xf",
        "colab_type": "code",
        "outputId": "57730097-a2ec-4e1a-ebab-fb7d6c7d5aa3",
        "colab": {
          "base_uri": "https://localhost:8080/",
          "height": 51
        }
      },
      "source": [
        "combined_TFIDF"
      ],
      "execution_count": 247,
      "outputs": [
        {
          "output_type": "execute_result",
          "data": {
            "text/plain": [
              "<49945x5421 sparse matrix of type '<class 'numpy.float64'>'\n",
              "\twith 5730500 stored elements in Compressed Sparse Row format>"
            ]
          },
          "metadata": {
            "tags": []
          },
          "execution_count": 247
        }
      ]
    },
    {
      "cell_type": "code",
      "metadata": {
        "id": "_gcwmilt1OnH",
        "colab_type": "code",
        "colab": {}
      },
      "source": [
        "nb_results = nb_model.predict(combined_TFIDF_test)"
      ],
      "execution_count": 0,
      "outputs": []
    },
    {
      "cell_type": "code",
      "metadata": {
        "id": "hb506x_LEoPD",
        "colab_type": "code",
        "colab": {}
      },
      "source": [
        "from sklearn.metrics import accuracy_score, confusion_matrix, classification_report\n",
        "mat = confusion_matrix(nb_results,df_test.Stance)"
      ],
      "execution_count": 0,
      "outputs": []
    },
    {
      "cell_type": "code",
      "metadata": {
        "id": "GGORVJYDFUz4",
        "colab_type": "code",
        "colab": {
          "base_uri": "https://localhost:8080/",
          "height": 845
        },
        "outputId": "eb948979-a545-4cfb-e324-1f8a0cea28a0"
      },
      "source": [
        "classes = ['agree', 'disagree', 'discuss', 'unrelated']\n",
        "\n",
        "\n",
        "import seaborn as sns\n",
        "fig, ax = plt.subplots(figsize=(11,11))  \n",
        "ax.set_title(\"Confusion Matrix for\")\n",
        "sns.heatmap(mat.T, square=True, annot=True, fmt='d', cbar=True,cmap=\"icefire\",\n",
        "xticklabels=classes,yticklabels=classes,linewidths=.3, ax=ax)\n",
        "plt.xlabel('True label')\n",
        "plt.ylabel('Predicted label');"
      ],
      "execution_count": 266,
      "outputs": [
        {
          "output_type": "display_data",
          "data": {
            "text/plain": [
              "<Figure size 792x792 with 2 Axes>"
            ],
            "image/svg+xml": "<?xml version=\"1.0\" encoding=\"utf-8\" standalone=\"no\"?>\n<!DOCTYPE svg PUBLIC \"-//W3C//DTD SVG 1.1//EN\"\n  \"http://www.w3.org/Graphics/SVG/1.1/DTD/svg11.dtd\">\n<!-- Created with matplotlib (https://matplotlib.org/) -->\n<svg height=\"618.238906pt\" version=\"1.1\" viewBox=\"0 0 635.19675 618.238906\" width=\"635.19675pt\" xmlns=\"http://www.w3.org/2000/svg\" xmlns:xlink=\"http://www.w3.org/1999/xlink\">\n <defs>\n  <style type=\"text/css\">\n*{stroke-linecap:butt;stroke-linejoin:round;}\n  </style>\n </defs>\n <g id=\"figure_1\">\n  <g id=\"patch_1\">\n   <path d=\"M 0 618.238906 \nL 635.19675 618.238906 \nL 635.19675 0 \nL 0 0 \nz\n\" style=\"fill:none;\"/>\n  </g>\n  <g id=\"axes_1\">\n   <g id=\"patch_2\">\n    <path d=\"M 37.55625 551.7 \nL 528.59625 551.7 \nL 528.59625 60.66 \nL 37.55625 60.66 \nz\n\" style=\"fill:#ffffff;\"/>\n   </g>\n   <g id=\"matplotlib.axis_1\">\n    <g id=\"xtick_1\">\n     <g id=\"text_1\">\n      <!-- agree -->\n      <defs>\n       <path d=\"M 34.28125 27.484375 \nQ 23.390625 27.484375 19.1875 25 \nQ 14.984375 22.515625 14.984375 16.5 \nQ 14.984375 11.71875 18.140625 8.90625 \nQ 21.296875 6.109375 26.703125 6.109375 \nQ 34.1875 6.109375 38.703125 11.40625 \nQ 43.21875 16.703125 43.21875 25.484375 \nL 43.21875 27.484375 \nz\nM 52.203125 31.203125 \nL 52.203125 0 \nL 43.21875 0 \nL 43.21875 8.296875 \nQ 40.140625 3.328125 35.546875 0.953125 \nQ 30.953125 -1.421875 24.3125 -1.421875 \nQ 15.921875 -1.421875 10.953125 3.296875 \nQ 6 8.015625 6 15.921875 \nQ 6 25.140625 12.171875 29.828125 \nQ 18.359375 34.515625 30.609375 34.515625 \nL 43.21875 34.515625 \nL 43.21875 35.40625 \nQ 43.21875 41.609375 39.140625 45 \nQ 35.0625 48.390625 27.6875 48.390625 \nQ 23 48.390625 18.546875 47.265625 \nQ 14.109375 46.140625 10.015625 43.890625 \nL 10.015625 52.203125 \nQ 14.9375 54.109375 19.578125 55.046875 \nQ 24.21875 56 28.609375 56 \nQ 40.484375 56 46.34375 49.84375 \nQ 52.203125 43.703125 52.203125 31.203125 \nz\n\" id=\"DejaVuSans-97\"/>\n       <path d=\"M 45.40625 27.984375 \nQ 45.40625 37.75 41.375 43.109375 \nQ 37.359375 48.484375 30.078125 48.484375 \nQ 22.859375 48.484375 18.828125 43.109375 \nQ 14.796875 37.75 14.796875 27.984375 \nQ 14.796875 18.265625 18.828125 12.890625 \nQ 22.859375 7.515625 30.078125 7.515625 \nQ 37.359375 7.515625 41.375 12.890625 \nQ 45.40625 18.265625 45.40625 27.984375 \nz\nM 54.390625 6.78125 \nQ 54.390625 -7.171875 48.1875 -13.984375 \nQ 42 -20.796875 29.203125 -20.796875 \nQ 24.46875 -20.796875 20.265625 -20.09375 \nQ 16.0625 -19.390625 12.109375 -17.921875 \nL 12.109375 -9.1875 \nQ 16.0625 -11.328125 19.921875 -12.34375 \nQ 23.78125 -13.375 27.78125 -13.375 \nQ 36.625 -13.375 41.015625 -8.765625 \nQ 45.40625 -4.15625 45.40625 5.171875 \nL 45.40625 9.625 \nQ 42.625 4.78125 38.28125 2.390625 \nQ 33.9375 0 27.875 0 \nQ 17.828125 0 11.671875 7.65625 \nQ 5.515625 15.328125 5.515625 27.984375 \nQ 5.515625 40.671875 11.671875 48.328125 \nQ 17.828125 56 27.875 56 \nQ 33.9375 56 38.28125 53.609375 \nQ 42.625 51.21875 45.40625 46.390625 \nL 45.40625 54.6875 \nL 54.390625 54.6875 \nz\n\" id=\"DejaVuSans-103\"/>\n       <path d=\"M 41.109375 46.296875 \nQ 39.59375 47.171875 37.8125 47.578125 \nQ 36.03125 48 33.890625 48 \nQ 26.265625 48 22.1875 43.046875 \nQ 18.109375 38.09375 18.109375 28.8125 \nL 18.109375 0 \nL 9.078125 0 \nL 9.078125 54.6875 \nL 18.109375 54.6875 \nL 18.109375 46.1875 \nQ 20.953125 51.171875 25.484375 53.578125 \nQ 30.03125 56 36.53125 56 \nQ 37.453125 56 38.578125 55.875 \nQ 39.703125 55.765625 41.0625 55.515625 \nz\n\" id=\"DejaVuSans-114\"/>\n       <path d=\"M 56.203125 29.59375 \nL 56.203125 25.203125 \nL 14.890625 25.203125 \nQ 15.484375 15.921875 20.484375 11.0625 \nQ 25.484375 6.203125 34.421875 6.203125 \nQ 39.59375 6.203125 44.453125 7.46875 \nQ 49.3125 8.734375 54.109375 11.28125 \nL 54.109375 2.78125 \nQ 49.265625 0.734375 44.1875 -0.34375 \nQ 39.109375 -1.421875 33.890625 -1.421875 \nQ 20.796875 -1.421875 13.15625 6.1875 \nQ 5.515625 13.8125 5.515625 26.8125 \nQ 5.515625 40.234375 12.765625 48.109375 \nQ 20.015625 56 32.328125 56 \nQ 43.359375 56 49.78125 48.890625 \nQ 56.203125 41.796875 56.203125 29.59375 \nz\nM 47.21875 32.234375 \nQ 47.125 39.59375 43.09375 43.984375 \nQ 39.0625 48.390625 32.421875 48.390625 \nQ 24.90625 48.390625 20.390625 44.140625 \nQ 15.875 39.890625 15.1875 32.171875 \nz\n\" id=\"DejaVuSans-101\"/>\n      </defs>\n      <g style=\"fill:#262626;\" transform=\"translate(84.601875 566.298437)scale(0.1 -0.1)\">\n       <use xlink:href=\"#DejaVuSans-97\"/>\n       <use x=\"61.279297\" xlink:href=\"#DejaVuSans-103\"/>\n       <use x=\"124.755859\" xlink:href=\"#DejaVuSans-114\"/>\n       <use x=\"163.619141\" xlink:href=\"#DejaVuSans-101\"/>\n       <use x=\"225.142578\" xlink:href=\"#DejaVuSans-101\"/>\n      </g>\n     </g>\n    </g>\n    <g id=\"xtick_2\">\n     <g id=\"text_2\">\n      <!-- disagree -->\n      <defs>\n       <path d=\"M 45.40625 46.390625 \nL 45.40625 75.984375 \nL 54.390625 75.984375 \nL 54.390625 0 \nL 45.40625 0 \nL 45.40625 8.203125 \nQ 42.578125 3.328125 38.25 0.953125 \nQ 33.9375 -1.421875 27.875 -1.421875 \nQ 17.96875 -1.421875 11.734375 6.484375 \nQ 5.515625 14.40625 5.515625 27.296875 \nQ 5.515625 40.1875 11.734375 48.09375 \nQ 17.96875 56 27.875 56 \nQ 33.9375 56 38.25 53.625 \nQ 42.578125 51.265625 45.40625 46.390625 \nz\nM 14.796875 27.296875 \nQ 14.796875 17.390625 18.875 11.75 \nQ 22.953125 6.109375 30.078125 6.109375 \nQ 37.203125 6.109375 41.296875 11.75 \nQ 45.40625 17.390625 45.40625 27.296875 \nQ 45.40625 37.203125 41.296875 42.84375 \nQ 37.203125 48.484375 30.078125 48.484375 \nQ 22.953125 48.484375 18.875 42.84375 \nQ 14.796875 37.203125 14.796875 27.296875 \nz\n\" id=\"DejaVuSans-100\"/>\n       <path d=\"M 9.421875 54.6875 \nL 18.40625 54.6875 \nL 18.40625 0 \nL 9.421875 0 \nz\nM 9.421875 75.984375 \nL 18.40625 75.984375 \nL 18.40625 64.59375 \nL 9.421875 64.59375 \nz\n\" id=\"DejaVuSans-105\"/>\n       <path d=\"M 44.28125 53.078125 \nL 44.28125 44.578125 \nQ 40.484375 46.53125 36.375 47.5 \nQ 32.28125 48.484375 27.875 48.484375 \nQ 21.1875 48.484375 17.84375 46.4375 \nQ 14.5 44.390625 14.5 40.28125 \nQ 14.5 37.15625 16.890625 35.375 \nQ 19.28125 33.59375 26.515625 31.984375 \nL 29.59375 31.296875 \nQ 39.15625 29.25 43.1875 25.515625 \nQ 47.21875 21.78125 47.21875 15.09375 \nQ 47.21875 7.46875 41.1875 3.015625 \nQ 35.15625 -1.421875 24.609375 -1.421875 \nQ 20.21875 -1.421875 15.453125 -0.5625 \nQ 10.6875 0.296875 5.421875 2 \nL 5.421875 11.28125 \nQ 10.40625 8.6875 15.234375 7.390625 \nQ 20.0625 6.109375 24.8125 6.109375 \nQ 31.15625 6.109375 34.5625 8.28125 \nQ 37.984375 10.453125 37.984375 14.40625 \nQ 37.984375 18.0625 35.515625 20.015625 \nQ 33.0625 21.96875 24.703125 23.78125 \nL 21.578125 24.515625 \nQ 13.234375 26.265625 9.515625 29.90625 \nQ 5.8125 33.546875 5.8125 39.890625 \nQ 5.8125 47.609375 11.28125 51.796875 \nQ 16.75 56 26.8125 56 \nQ 31.78125 56 36.171875 55.265625 \nQ 40.578125 54.546875 44.28125 53.078125 \nz\n\" id=\"DejaVuSans-115\"/>\n      </defs>\n      <g style=\"fill:#262626;\" transform=\"translate(200.193906 566.298437)scale(0.1 -0.1)\">\n       <use xlink:href=\"#DejaVuSans-100\"/>\n       <use x=\"63.476562\" xlink:href=\"#DejaVuSans-105\"/>\n       <use x=\"91.259766\" xlink:href=\"#DejaVuSans-115\"/>\n       <use x=\"143.359375\" xlink:href=\"#DejaVuSans-97\"/>\n       <use x=\"204.638672\" xlink:href=\"#DejaVuSans-103\"/>\n       <use x=\"268.115234\" xlink:href=\"#DejaVuSans-114\"/>\n       <use x=\"306.978516\" xlink:href=\"#DejaVuSans-101\"/>\n       <use x=\"368.501953\" xlink:href=\"#DejaVuSans-101\"/>\n      </g>\n     </g>\n    </g>\n    <g id=\"xtick_3\">\n     <g id=\"text_3\">\n      <!-- discuss -->\n      <defs>\n       <path d=\"M 48.78125 52.59375 \nL 48.78125 44.1875 \nQ 44.96875 46.296875 41.140625 47.34375 \nQ 37.3125 48.390625 33.40625 48.390625 \nQ 24.65625 48.390625 19.8125 42.84375 \nQ 14.984375 37.3125 14.984375 27.296875 \nQ 14.984375 17.28125 19.8125 11.734375 \nQ 24.65625 6.203125 33.40625 6.203125 \nQ 37.3125 6.203125 41.140625 7.25 \nQ 44.96875 8.296875 48.78125 10.40625 \nL 48.78125 2.09375 \nQ 45.015625 0.34375 40.984375 -0.53125 \nQ 36.96875 -1.421875 32.421875 -1.421875 \nQ 20.0625 -1.421875 12.78125 6.34375 \nQ 5.515625 14.109375 5.515625 27.296875 \nQ 5.515625 40.671875 12.859375 48.328125 \nQ 20.21875 56 33.015625 56 \nQ 37.15625 56 41.109375 55.140625 \nQ 45.0625 54.296875 48.78125 52.59375 \nz\n\" id=\"DejaVuSans-99\"/>\n       <path d=\"M 8.5 21.578125 \nL 8.5 54.6875 \nL 17.484375 54.6875 \nL 17.484375 21.921875 \nQ 17.484375 14.15625 20.5 10.265625 \nQ 23.53125 6.390625 29.59375 6.390625 \nQ 36.859375 6.390625 41.078125 11.03125 \nQ 45.3125 15.671875 45.3125 23.6875 \nL 45.3125 54.6875 \nL 54.296875 54.6875 \nL 54.296875 0 \nL 45.3125 0 \nL 45.3125 8.40625 \nQ 42.046875 3.421875 37.71875 1 \nQ 33.40625 -1.421875 27.6875 -1.421875 \nQ 18.265625 -1.421875 13.375 4.4375 \nQ 8.5 10.296875 8.5 21.578125 \nz\nM 31.109375 56 \nz\n\" id=\"DejaVuSans-117\"/>\n      </defs>\n      <g style=\"fill:#262626;\" transform=\"translate(326.160938 566.298437)scale(0.1 -0.1)\">\n       <use xlink:href=\"#DejaVuSans-100\"/>\n       <use x=\"63.476562\" xlink:href=\"#DejaVuSans-105\"/>\n       <use x=\"91.259766\" xlink:href=\"#DejaVuSans-115\"/>\n       <use x=\"143.359375\" xlink:href=\"#DejaVuSans-99\"/>\n       <use x=\"198.339844\" xlink:href=\"#DejaVuSans-117\"/>\n       <use x=\"261.71875\" xlink:href=\"#DejaVuSans-115\"/>\n       <use x=\"313.818359\" xlink:href=\"#DejaVuSans-115\"/>\n      </g>\n     </g>\n    </g>\n    <g id=\"xtick_4\">\n     <g id=\"text_4\">\n      <!-- unrelated -->\n      <defs>\n       <path d=\"M 54.890625 33.015625 \nL 54.890625 0 \nL 45.90625 0 \nL 45.90625 32.71875 \nQ 45.90625 40.484375 42.875 44.328125 \nQ 39.84375 48.1875 33.796875 48.1875 \nQ 26.515625 48.1875 22.3125 43.546875 \nQ 18.109375 38.921875 18.109375 30.90625 \nL 18.109375 0 \nL 9.078125 0 \nL 9.078125 54.6875 \nL 18.109375 54.6875 \nL 18.109375 46.1875 \nQ 21.34375 51.125 25.703125 53.5625 \nQ 30.078125 56 35.796875 56 \nQ 45.21875 56 50.046875 50.171875 \nQ 54.890625 44.34375 54.890625 33.015625 \nz\n\" id=\"DejaVuSans-110\"/>\n       <path d=\"M 9.421875 75.984375 \nL 18.40625 75.984375 \nL 18.40625 0 \nL 9.421875 0 \nz\n\" id=\"DejaVuSans-108\"/>\n       <path d=\"M 18.3125 70.21875 \nL 18.3125 54.6875 \nL 36.8125 54.6875 \nL 36.8125 47.703125 \nL 18.3125 47.703125 \nL 18.3125 18.015625 \nQ 18.3125 11.328125 20.140625 9.421875 \nQ 21.96875 7.515625 27.59375 7.515625 \nL 36.8125 7.515625 \nL 36.8125 0 \nL 27.59375 0 \nQ 17.1875 0 13.234375 3.875 \nQ 9.28125 7.765625 9.28125 18.015625 \nL 9.28125 47.703125 \nL 2.6875 47.703125 \nL 2.6875 54.6875 \nL 9.28125 54.6875 \nL 9.28125 70.21875 \nz\n\" id=\"DejaVuSans-116\"/>\n      </defs>\n      <g style=\"fill:#262626;\" transform=\"translate(443.195156 566.298437)scale(0.1 -0.1)\">\n       <use xlink:href=\"#DejaVuSans-117\"/>\n       <use x=\"63.378906\" xlink:href=\"#DejaVuSans-110\"/>\n       <use x=\"126.757812\" xlink:href=\"#DejaVuSans-114\"/>\n       <use x=\"165.621094\" xlink:href=\"#DejaVuSans-101\"/>\n       <use x=\"227.144531\" xlink:href=\"#DejaVuSans-108\"/>\n       <use x=\"254.927734\" xlink:href=\"#DejaVuSans-97\"/>\n       <use x=\"316.207031\" xlink:href=\"#DejaVuSans-116\"/>\n       <use x=\"355.416016\" xlink:href=\"#DejaVuSans-101\"/>\n       <use x=\"416.939453\" xlink:href=\"#DejaVuSans-100\"/>\n      </g>\n     </g>\n    </g>\n    <g id=\"text_5\">\n     <!-- True label -->\n     <defs>\n      <path d=\"M -0.296875 72.90625 \nL 61.375 72.90625 \nL 61.375 64.59375 \nL 35.5 64.59375 \nL 35.5 0 \nL 25.59375 0 \nL 25.59375 64.59375 \nL -0.296875 64.59375 \nz\n\" id=\"DejaVuSans-84\"/>\n      <path id=\"DejaVuSans-32\"/>\n      <path d=\"M 48.6875 27.296875 \nQ 48.6875 37.203125 44.609375 42.84375 \nQ 40.53125 48.484375 33.40625 48.484375 \nQ 26.265625 48.484375 22.1875 42.84375 \nQ 18.109375 37.203125 18.109375 27.296875 \nQ 18.109375 17.390625 22.1875 11.75 \nQ 26.265625 6.109375 33.40625 6.109375 \nQ 40.53125 6.109375 44.609375 11.75 \nQ 48.6875 17.390625 48.6875 27.296875 \nz\nM 18.109375 46.390625 \nQ 20.953125 51.265625 25.265625 53.625 \nQ 29.59375 56 35.59375 56 \nQ 45.5625 56 51.78125 48.09375 \nQ 58.015625 40.1875 58.015625 27.296875 \nQ 58.015625 14.40625 51.78125 6.484375 \nQ 45.5625 -1.421875 35.59375 -1.421875 \nQ 29.59375 -1.421875 25.265625 0.953125 \nQ 20.953125 3.328125 18.109375 8.203125 \nL 18.109375 0 \nL 9.078125 0 \nL 9.078125 75.984375 \nL 18.109375 75.984375 \nz\n\" id=\"DejaVuSans-98\"/>\n     </defs>\n     <g style=\"fill:#262626;\" transform=\"translate(258.777031 579.976562)scale(0.1 -0.1)\">\n      <use xlink:href=\"#DejaVuSans-84\"/>\n      <use x=\"46.333984\" xlink:href=\"#DejaVuSans-114\"/>\n      <use x=\"87.447266\" xlink:href=\"#DejaVuSans-117\"/>\n      <use x=\"150.826172\" xlink:href=\"#DejaVuSans-101\"/>\n      <use x=\"212.349609\" xlink:href=\"#DejaVuSans-32\"/>\n      <use x=\"244.136719\" xlink:href=\"#DejaVuSans-108\"/>\n      <use x=\"271.919922\" xlink:href=\"#DejaVuSans-97\"/>\n      <use x=\"333.199219\" xlink:href=\"#DejaVuSans-98\"/>\n      <use x=\"396.675781\" xlink:href=\"#DejaVuSans-101\"/>\n      <use x=\"458.199219\" xlink:href=\"#DejaVuSans-108\"/>\n     </g>\n    </g>\n   </g>\n   <g id=\"matplotlib.axis_2\">\n    <g id=\"ytick_1\">\n     <g id=\"text_6\">\n      <!-- agree -->\n      <g style=\"fill:#262626;\" transform=\"translate(28.476563 146.909531)rotate(-90)scale(0.1 -0.1)\">\n       <use xlink:href=\"#DejaVuSans-97\"/>\n       <use x=\"61.279297\" xlink:href=\"#DejaVuSans-103\"/>\n       <use x=\"124.755859\" xlink:href=\"#DejaVuSans-114\"/>\n       <use x=\"163.619141\" xlink:href=\"#DejaVuSans-101\"/>\n       <use x=\"225.142578\" xlink:href=\"#DejaVuSans-101\"/>\n      </g>\n     </g>\n    </g>\n    <g id=\"ytick_2\">\n     <g id=\"text_7\">\n      <!-- disagree -->\n      <g style=\"fill:#262626;\" transform=\"translate(28.476563 284.005469)rotate(-90)scale(0.1 -0.1)\">\n       <use xlink:href=\"#DejaVuSans-100\"/>\n       <use x=\"63.476562\" xlink:href=\"#DejaVuSans-105\"/>\n       <use x=\"91.259766\" xlink:href=\"#DejaVuSans-115\"/>\n       <use x=\"143.359375\" xlink:href=\"#DejaVuSans-97\"/>\n       <use x=\"204.638672\" xlink:href=\"#DejaVuSans-103\"/>\n       <use x=\"268.115234\" xlink:href=\"#DejaVuSans-114\"/>\n       <use x=\"306.978516\" xlink:href=\"#DejaVuSans-101\"/>\n       <use x=\"368.501953\" xlink:href=\"#DejaVuSans-101\"/>\n      </g>\n     </g>\n    </g>\n    <g id=\"ytick_3\">\n     <g id=\"text_8\">\n      <!-- discuss -->\n      <g style=\"fill:#262626;\" transform=\"translate(28.476563 400.351406)rotate(-90)scale(0.1 -0.1)\">\n       <use xlink:href=\"#DejaVuSans-100\"/>\n       <use x=\"63.476562\" xlink:href=\"#DejaVuSans-105\"/>\n       <use x=\"91.259766\" xlink:href=\"#DejaVuSans-115\"/>\n       <use x=\"143.359375\" xlink:href=\"#DejaVuSans-99\"/>\n       <use x=\"198.339844\" xlink:href=\"#DejaVuSans-117\"/>\n       <use x=\"261.71875\" xlink:href=\"#DejaVuSans-115\"/>\n       <use x=\"313.818359\" xlink:href=\"#DejaVuSans-115\"/>\n      </g>\n     </g>\n    </g>\n    <g id=\"ytick_4\">\n     <g id=\"text_9\">\n      <!-- unrelated -->\n      <g style=\"fill:#262626;\" transform=\"translate(28.476563 534.562969)rotate(-90)scale(0.1 -0.1)\">\n       <use xlink:href=\"#DejaVuSans-117\"/>\n       <use x=\"63.378906\" xlink:href=\"#DejaVuSans-110\"/>\n       <use x=\"126.757812\" xlink:href=\"#DejaVuSans-114\"/>\n       <use x=\"165.621094\" xlink:href=\"#DejaVuSans-101\"/>\n       <use x=\"227.144531\" xlink:href=\"#DejaVuSans-108\"/>\n       <use x=\"254.927734\" xlink:href=\"#DejaVuSans-97\"/>\n       <use x=\"316.207031\" xlink:href=\"#DejaVuSans-116\"/>\n       <use x=\"355.416016\" xlink:href=\"#DejaVuSans-101\"/>\n       <use x=\"416.939453\" xlink:href=\"#DejaVuSans-100\"/>\n      </g>\n     </g>\n    </g>\n    <g id=\"text_10\">\n     <!-- Predicted label -->\n     <defs>\n      <path d=\"M 19.671875 64.796875 \nL 19.671875 37.40625 \nL 32.078125 37.40625 \nQ 38.96875 37.40625 42.71875 40.96875 \nQ 46.484375 44.53125 46.484375 51.125 \nQ 46.484375 57.671875 42.71875 61.234375 \nQ 38.96875 64.796875 32.078125 64.796875 \nz\nM 9.8125 72.90625 \nL 32.078125 72.90625 \nQ 44.34375 72.90625 50.609375 67.359375 \nQ 56.890625 61.8125 56.890625 51.125 \nQ 56.890625 40.328125 50.609375 34.8125 \nQ 44.34375 29.296875 32.078125 29.296875 \nL 19.671875 29.296875 \nL 19.671875 0 \nL 9.8125 0 \nz\n\" id=\"DejaVuSans-80\"/>\n     </defs>\n     <g style=\"fill:#262626;\" transform=\"translate(14.798438 343.332344)rotate(-90)scale(0.1 -0.1)\">\n      <use xlink:href=\"#DejaVuSans-80\"/>\n      <use x=\"58.552734\" xlink:href=\"#DejaVuSans-114\"/>\n      <use x=\"97.416016\" xlink:href=\"#DejaVuSans-101\"/>\n      <use x=\"158.939453\" xlink:href=\"#DejaVuSans-100\"/>\n      <use x=\"222.416016\" xlink:href=\"#DejaVuSans-105\"/>\n      <use x=\"250.199219\" xlink:href=\"#DejaVuSans-99\"/>\n      <use x=\"305.179688\" xlink:href=\"#DejaVuSans-116\"/>\n      <use x=\"344.388672\" xlink:href=\"#DejaVuSans-101\"/>\n      <use x=\"405.912109\" xlink:href=\"#DejaVuSans-100\"/>\n      <use x=\"469.388672\" xlink:href=\"#DejaVuSans-32\"/>\n      <use x=\"501.175781\" xlink:href=\"#DejaVuSans-108\"/>\n      <use x=\"528.958984\" xlink:href=\"#DejaVuSans-97\"/>\n      <use x=\"590.238281\" xlink:href=\"#DejaVuSans-98\"/>\n      <use x=\"653.714844\" xlink:href=\"#DejaVuSans-101\"/>\n      <use x=\"715.238281\" xlink:href=\"#DejaVuSans-108\"/>\n     </g>\n    </g>\n   </g>\n   <g id=\"QuadMesh_1\">\n    <path clip-path=\"url(#p37826ca7fb)\" d=\"M 37.55625 60.66 \nL 160.31625 60.66 \nL 160.31625 183.42 \nL 37.55625 183.42 \nL 37.55625 60.66 \n\" style=\"fill:#bde7db;stroke:#ffffff;stroke-width:0.3;\"/>\n    <path clip-path=\"url(#p37826ca7fb)\" d=\"M 160.31625 60.66 \nL 283.07625 60.66 \nL 283.07625 183.42 \nL 160.31625 183.42 \nL 160.31625 60.66 \n\" style=\"fill:#bde7db;stroke:#ffffff;stroke-width:0.3;\"/>\n    <path clip-path=\"url(#p37826ca7fb)\" d=\"M 283.07625 60.66 \nL 405.83625 60.66 \nL 405.83625 183.42 \nL 283.07625 183.42 \nL 283.07625 60.66 \n\" style=\"fill:#bde7db;stroke:#ffffff;stroke-width:0.3;\"/>\n    <path clip-path=\"url(#p37826ca7fb)\" d=\"M 405.83625 60.66 \nL 528.59625 60.66 \nL 528.59625 183.42 \nL 405.83625 183.42 \nL 405.83625 60.66 \n\" style=\"fill:#72b6ce;stroke:#ffffff;stroke-width:0.3;\"/>\n    <path clip-path=\"url(#p37826ca7fb)\" d=\"M 37.55625 183.42 \nL 160.31625 183.42 \nL 160.31625 306.18 \nL 37.55625 306.18 \nL 37.55625 183.42 \n\" style=\"fill:#bde7db;stroke:#ffffff;stroke-width:0.3;\"/>\n    <path clip-path=\"url(#p37826ca7fb)\" d=\"M 160.31625 183.42 \nL 283.07625 183.42 \nL 283.07625 306.18 \nL 160.31625 306.18 \nL 160.31625 183.42 \n\" style=\"fill:#bde7db;stroke:#ffffff;stroke-width:0.3;\"/>\n    <path clip-path=\"url(#p37826ca7fb)\" d=\"M 283.07625 183.42 \nL 405.83625 183.42 \nL 405.83625 306.18 \nL 283.07625 306.18 \nL 283.07625 183.42 \n\" style=\"fill:#bde7db;stroke:#ffffff;stroke-width:0.3;\"/>\n    <path clip-path=\"url(#p37826ca7fb)\" d=\"M 405.83625 183.42 \nL 528.59625 183.42 \nL 528.59625 306.18 \nL 405.83625 306.18 \nL 405.83625 183.42 \n\" style=\"fill:#a4d5d5;stroke:#ffffff;stroke-width:0.3;\"/>\n    <path clip-path=\"url(#p37826ca7fb)\" d=\"M 37.55625 306.18 \nL 160.31625 306.18 \nL 160.31625 428.94 \nL 37.55625 428.94 \nL 37.55625 306.18 \n\" style=\"fill:#bae5da;stroke:#ffffff;stroke-width:0.3;\"/>\n    <path clip-path=\"url(#p37826ca7fb)\" d=\"M 160.31625 306.18 \nL 283.07625 306.18 \nL 283.07625 428.94 \nL 160.31625 428.94 \nL 160.31625 306.18 \n\" style=\"fill:#bde7db;stroke:#ffffff;stroke-width:0.3;\"/>\n    <path clip-path=\"url(#p37826ca7fb)\" d=\"M 283.07625 306.18 \nL 405.83625 306.18 \nL 405.83625 428.94 \nL 283.07625 428.94 \nL 283.07625 306.18 \n\" style=\"fill:#bde7db;stroke:#ffffff;stroke-width:0.3;\"/>\n    <path clip-path=\"url(#p37826ca7fb)\" d=\"M 405.83625 306.18 \nL 528.59625 306.18 \nL 528.59625 428.94 \nL 405.83625 428.94 \nL 405.83625 306.18 \n\" style=\"fill:#3f69c9;stroke:#ffffff;stroke-width:0.3;\"/>\n    <path clip-path=\"url(#p37826ca7fb)\" d=\"M 37.55625 428.94 \nL 160.31625 428.94 \nL 160.31625 551.7 \nL 37.55625 551.7 \nL 37.55625 428.94 \n\" style=\"fill:#acdbd7;stroke:#ffffff;stroke-width:0.3;\"/>\n    <path clip-path=\"url(#p37826ca7fb)\" d=\"M 160.31625 428.94 \nL 283.07625 428.94 \nL 283.07625 551.7 \nL 160.31625 551.7 \nL 160.31625 428.94 \n\" style=\"fill:#bde7db;stroke:#ffffff;stroke-width:0.3;\"/>\n    <path clip-path=\"url(#p37826ca7fb)\" d=\"M 283.07625 428.94 \nL 405.83625 428.94 \nL 405.83625 551.7 \nL 283.07625 551.7 \nL 283.07625 428.94 \n\" style=\"fill:#acdbd7;stroke:#ffffff;stroke-width:0.3;\"/>\n    <path clip-path=\"url(#p37826ca7fb)\" d=\"M 405.83625 428.94 \nL 528.59625 428.94 \nL 528.59625 551.7 \nL 405.83625 551.7 \nL 405.83625 428.94 \n\" style=\"fill:#ffd4ac;stroke:#ffffff;stroke-width:0.3;\"/>\n   </g>\n   <g id=\"text_11\">\n    <!-- 59 -->\n    <defs>\n     <path d=\"M 10.796875 72.90625 \nL 49.515625 72.90625 \nL 49.515625 64.59375 \nL 19.828125 64.59375 \nL 19.828125 46.734375 \nQ 21.96875 47.46875 24.109375 47.828125 \nQ 26.265625 48.1875 28.421875 48.1875 \nQ 40.625 48.1875 47.75 41.5 \nQ 54.890625 34.8125 54.890625 23.390625 \nQ 54.890625 11.625 47.5625 5.09375 \nQ 40.234375 -1.421875 26.90625 -1.421875 \nQ 22.3125 -1.421875 17.546875 -0.640625 \nQ 12.796875 0.140625 7.71875 1.703125 \nL 7.71875 11.625 \nQ 12.109375 9.234375 16.796875 8.0625 \nQ 21.484375 6.890625 26.703125 6.890625 \nQ 35.15625 6.890625 40.078125 11.328125 \nQ 45.015625 15.765625 45.015625 23.390625 \nQ 45.015625 31 40.078125 35.4375 \nQ 35.15625 39.890625 26.703125 39.890625 \nQ 22.75 39.890625 18.8125 39.015625 \nQ 14.890625 38.140625 10.796875 36.28125 \nz\n\" id=\"DejaVuSans-53\"/>\n     <path d=\"M 10.984375 1.515625 \nL 10.984375 10.5 \nQ 14.703125 8.734375 18.5 7.8125 \nQ 22.3125 6.890625 25.984375 6.890625 \nQ 35.75 6.890625 40.890625 13.453125 \nQ 46.046875 20.015625 46.78125 33.40625 \nQ 43.953125 29.203125 39.59375 26.953125 \nQ 35.25 24.703125 29.984375 24.703125 \nQ 19.046875 24.703125 12.671875 31.3125 \nQ 6.296875 37.9375 6.296875 49.421875 \nQ 6.296875 60.640625 12.9375 67.421875 \nQ 19.578125 74.21875 30.609375 74.21875 \nQ 43.265625 74.21875 49.921875 64.515625 \nQ 56.59375 54.828125 56.59375 36.375 \nQ 56.59375 19.140625 48.40625 8.859375 \nQ 40.234375 -1.421875 26.421875 -1.421875 \nQ 22.703125 -1.421875 18.890625 -0.6875 \nQ 15.09375 0.046875 10.984375 1.515625 \nz\nM 30.609375 32.421875 \nQ 37.25 32.421875 41.125 36.953125 \nQ 45.015625 41.5 45.015625 49.421875 \nQ 45.015625 57.28125 41.125 61.84375 \nQ 37.25 66.40625 30.609375 66.40625 \nQ 23.96875 66.40625 20.09375 61.84375 \nQ 16.21875 57.28125 16.21875 49.421875 \nQ 16.21875 41.5 20.09375 36.953125 \nQ 23.96875 32.421875 30.609375 32.421875 \nz\n\" id=\"DejaVuSans-57\"/>\n    </defs>\n    <g style=\"fill:#262626;\" transform=\"translate(92.57375 124.799375)scale(0.1 -0.1)\">\n     <use xlink:href=\"#DejaVuSans-53\"/>\n     <use x=\"63.623047\" xlink:href=\"#DejaVuSans-57\"/>\n    </g>\n   </g>\n   <g id=\"text_12\">\n    <!-- 0 -->\n    <defs>\n     <path d=\"M 31.78125 66.40625 \nQ 24.171875 66.40625 20.328125 58.90625 \nQ 16.5 51.421875 16.5 36.375 \nQ 16.5 21.390625 20.328125 13.890625 \nQ 24.171875 6.390625 31.78125 6.390625 \nQ 39.453125 6.390625 43.28125 13.890625 \nQ 47.125 21.390625 47.125 36.375 \nQ 47.125 51.421875 43.28125 58.90625 \nQ 39.453125 66.40625 31.78125 66.40625 \nz\nM 31.78125 74.21875 \nQ 44.046875 74.21875 50.515625 64.515625 \nQ 56.984375 54.828125 56.984375 36.375 \nQ 56.984375 17.96875 50.515625 8.265625 \nQ 44.046875 -1.421875 31.78125 -1.421875 \nQ 19.53125 -1.421875 13.0625 8.265625 \nQ 6.59375 17.96875 6.59375 36.375 \nQ 6.59375 54.828125 13.0625 64.515625 \nQ 19.53125 74.21875 31.78125 74.21875 \nz\n\" id=\"DejaVuSans-48\"/>\n    </defs>\n    <g style=\"fill:#262626;\" transform=\"translate(218.515 124.799375)scale(0.1 -0.1)\">\n     <use xlink:href=\"#DejaVuSans-48\"/>\n    </g>\n   </g>\n   <g id=\"text_13\">\n    <!-- 38 -->\n    <defs>\n     <path d=\"M 40.578125 39.3125 \nQ 47.65625 37.796875 51.625 33 \nQ 55.609375 28.21875 55.609375 21.1875 \nQ 55.609375 10.40625 48.1875 4.484375 \nQ 40.765625 -1.421875 27.09375 -1.421875 \nQ 22.515625 -1.421875 17.65625 -0.515625 \nQ 12.796875 0.390625 7.625 2.203125 \nL 7.625 11.71875 \nQ 11.71875 9.328125 16.59375 8.109375 \nQ 21.484375 6.890625 26.8125 6.890625 \nQ 36.078125 6.890625 40.9375 10.546875 \nQ 45.796875 14.203125 45.796875 21.1875 \nQ 45.796875 27.640625 41.28125 31.265625 \nQ 36.765625 34.90625 28.71875 34.90625 \nL 20.21875 34.90625 \nL 20.21875 43.015625 \nL 29.109375 43.015625 \nQ 36.375 43.015625 40.234375 45.921875 \nQ 44.09375 48.828125 44.09375 54.296875 \nQ 44.09375 59.90625 40.109375 62.90625 \nQ 36.140625 65.921875 28.71875 65.921875 \nQ 24.65625 65.921875 20.015625 65.03125 \nQ 15.375 64.15625 9.8125 62.3125 \nL 9.8125 71.09375 \nQ 15.4375 72.65625 20.34375 73.4375 \nQ 25.25 74.21875 29.59375 74.21875 \nQ 40.828125 74.21875 47.359375 69.109375 \nQ 53.90625 64.015625 53.90625 55.328125 \nQ 53.90625 49.265625 50.4375 45.09375 \nQ 46.96875 40.921875 40.578125 39.3125 \nz\n\" id=\"DejaVuSans-51\"/>\n     <path d=\"M 31.78125 34.625 \nQ 24.75 34.625 20.71875 30.859375 \nQ 16.703125 27.09375 16.703125 20.515625 \nQ 16.703125 13.921875 20.71875 10.15625 \nQ 24.75 6.390625 31.78125 6.390625 \nQ 38.8125 6.390625 42.859375 10.171875 \nQ 46.921875 13.96875 46.921875 20.515625 \nQ 46.921875 27.09375 42.890625 30.859375 \nQ 38.875 34.625 31.78125 34.625 \nz\nM 21.921875 38.8125 \nQ 15.578125 40.375 12.03125 44.71875 \nQ 8.5 49.078125 8.5 55.328125 \nQ 8.5 64.0625 14.71875 69.140625 \nQ 20.953125 74.21875 31.78125 74.21875 \nQ 42.671875 74.21875 48.875 69.140625 \nQ 55.078125 64.0625 55.078125 55.328125 \nQ 55.078125 49.078125 51.53125 44.71875 \nQ 48 40.375 41.703125 38.8125 \nQ 48.828125 37.15625 52.796875 32.3125 \nQ 56.78125 27.484375 56.78125 20.515625 \nQ 56.78125 9.90625 50.3125 4.234375 \nQ 43.84375 -1.421875 31.78125 -1.421875 \nQ 19.734375 -1.421875 13.25 4.234375 \nQ 6.78125 9.90625 6.78125 20.515625 \nQ 6.78125 27.484375 10.78125 32.3125 \nQ 14.796875 37.15625 21.921875 38.8125 \nz\nM 18.3125 54.390625 \nQ 18.3125 48.734375 21.84375 45.5625 \nQ 25.390625 42.390625 31.78125 42.390625 \nQ 38.140625 42.390625 41.71875 45.5625 \nQ 45.3125 48.734375 45.3125 54.390625 \nQ 45.3125 60.0625 41.71875 63.234375 \nQ 38.140625 66.40625 31.78125 66.40625 \nQ 25.390625 66.40625 21.84375 63.234375 \nQ 18.3125 60.0625 18.3125 54.390625 \nz\n\" id=\"DejaVuSans-56\"/>\n    </defs>\n    <g style=\"fill:#262626;\" transform=\"translate(338.09375 124.799375)scale(0.1 -0.1)\">\n     <use xlink:href=\"#DejaVuSans-51\"/>\n     <use x=\"63.623047\" xlink:href=\"#DejaVuSans-56\"/>\n    </g>\n   </g>\n   <g id=\"text_14\">\n    <!-- 1806 -->\n    <defs>\n     <path d=\"M 12.40625 8.296875 \nL 28.515625 8.296875 \nL 28.515625 63.921875 \nL 10.984375 60.40625 \nL 10.984375 69.390625 \nL 28.421875 72.90625 \nL 38.28125 72.90625 \nL 38.28125 8.296875 \nL 54.390625 8.296875 \nL 54.390625 0 \nL 12.40625 0 \nz\n\" id=\"DejaVuSans-49\"/>\n     <path d=\"M 33.015625 40.375 \nQ 26.375 40.375 22.484375 35.828125 \nQ 18.609375 31.296875 18.609375 23.390625 \nQ 18.609375 15.53125 22.484375 10.953125 \nQ 26.375 6.390625 33.015625 6.390625 \nQ 39.65625 6.390625 43.53125 10.953125 \nQ 47.40625 15.53125 47.40625 23.390625 \nQ 47.40625 31.296875 43.53125 35.828125 \nQ 39.65625 40.375 33.015625 40.375 \nz\nM 52.59375 71.296875 \nL 52.59375 62.3125 \nQ 48.875 64.0625 45.09375 64.984375 \nQ 41.3125 65.921875 37.59375 65.921875 \nQ 27.828125 65.921875 22.671875 59.328125 \nQ 17.53125 52.734375 16.796875 39.40625 \nQ 19.671875 43.65625 24.015625 45.921875 \nQ 28.375 48.1875 33.59375 48.1875 \nQ 44.578125 48.1875 50.953125 41.515625 \nQ 57.328125 34.859375 57.328125 23.390625 \nQ 57.328125 12.15625 50.6875 5.359375 \nQ 44.046875 -1.421875 33.015625 -1.421875 \nQ 20.359375 -1.421875 13.671875 8.265625 \nQ 6.984375 17.96875 6.984375 36.375 \nQ 6.984375 53.65625 15.1875 63.9375 \nQ 23.390625 74.21875 37.203125 74.21875 \nQ 40.921875 74.21875 44.703125 73.484375 \nQ 48.484375 72.75 52.59375 71.296875 \nz\n\" id=\"DejaVuSans-54\"/>\n    </defs>\n    <g style=\"fill:#262626;\" transform=\"translate(454.49125 124.799375)scale(0.1 -0.1)\">\n     <use xlink:href=\"#DejaVuSans-49\"/>\n     <use x=\"63.623047\" xlink:href=\"#DejaVuSans-56\"/>\n     <use x=\"127.246094\" xlink:href=\"#DejaVuSans-48\"/>\n     <use x=\"190.869141\" xlink:href=\"#DejaVuSans-54\"/>\n    </g>\n   </g>\n   <g id=\"text_15\">\n    <!-- 26 -->\n    <defs>\n     <path d=\"M 19.1875 8.296875 \nL 53.609375 8.296875 \nL 53.609375 0 \nL 7.328125 0 \nL 7.328125 8.296875 \nQ 12.9375 14.109375 22.625 23.890625 \nQ 32.328125 33.6875 34.8125 36.53125 \nQ 39.546875 41.84375 41.421875 45.53125 \nQ 43.3125 49.21875 43.3125 52.78125 \nQ 43.3125 58.59375 39.234375 62.25 \nQ 35.15625 65.921875 28.609375 65.921875 \nQ 23.96875 65.921875 18.8125 64.3125 \nQ 13.671875 62.703125 7.8125 59.421875 \nL 7.8125 69.390625 \nQ 13.765625 71.78125 18.9375 73 \nQ 24.125 74.21875 28.421875 74.21875 \nQ 39.75 74.21875 46.484375 68.546875 \nQ 53.21875 62.890625 53.21875 53.421875 \nQ 53.21875 48.921875 51.53125 44.890625 \nQ 49.859375 40.875 45.40625 35.40625 \nQ 44.1875 33.984375 37.640625 27.21875 \nQ 31.109375 20.453125 19.1875 8.296875 \nz\n\" id=\"DejaVuSans-50\"/>\n    </defs>\n    <g style=\"fill:#262626;\" transform=\"translate(92.57375 247.559375)scale(0.1 -0.1)\">\n     <use xlink:href=\"#DejaVuSans-50\"/>\n     <use x=\"63.623047\" xlink:href=\"#DejaVuSans-54\"/>\n    </g>\n   </g>\n   <g id=\"text_16\">\n    <!-- 5 -->\n    <g style=\"fill:#262626;\" transform=\"translate(218.515 247.559375)scale(0.1 -0.1)\">\n     <use xlink:href=\"#DejaVuSans-53\"/>\n    </g>\n   </g>\n   <g id=\"text_17\">\n    <!-- 5 -->\n    <g style=\"fill:#262626;\" transform=\"translate(341.275 247.559375)scale(0.1 -0.1)\">\n     <use xlink:href=\"#DejaVuSans-53\"/>\n    </g>\n   </g>\n   <g id=\"text_18\">\n    <!-- 661 -->\n    <g style=\"fill:#262626;\" transform=\"translate(457.6725 247.559375)scale(0.1 -0.1)\">\n     <use xlink:href=\"#DejaVuSans-54\"/>\n     <use x=\"63.623047\" xlink:href=\"#DejaVuSans-54\"/>\n     <use x=\"127.246094\" xlink:href=\"#DejaVuSans-49\"/>\n    </g>\n   </g>\n   <g id=\"text_19\">\n    <!-- 95 -->\n    <g style=\"fill:#262626;\" transform=\"translate(92.57375 370.319375)scale(0.1 -0.1)\">\n     <use xlink:href=\"#DejaVuSans-57\"/>\n     <use x=\"63.623047\" xlink:href=\"#DejaVuSans-53\"/>\n    </g>\n   </g>\n   <g id=\"text_20\">\n    <!-- 2 -->\n    <g style=\"fill:#262626;\" transform=\"translate(218.515 370.319375)scale(0.1 -0.1)\">\n     <use xlink:href=\"#DejaVuSans-50\"/>\n    </g>\n   </g>\n   <g id=\"text_21\">\n    <!-- 65 -->\n    <g style=\"fill:#262626;\" transform=\"translate(338.09375 370.319375)scale(0.1 -0.1)\">\n     <use xlink:href=\"#DejaVuSans-54\"/>\n     <use x=\"63.623047\" xlink:href=\"#DejaVuSans-53\"/>\n    </g>\n   </g>\n   <g id=\"text_22\">\n    <!-- 4302 -->\n    <defs>\n     <path d=\"M 37.796875 64.3125 \nL 12.890625 25.390625 \nL 37.796875 25.390625 \nz\nM 35.203125 72.90625 \nL 47.609375 72.90625 \nL 47.609375 25.390625 \nL 58.015625 25.390625 \nL 58.015625 17.1875 \nL 47.609375 17.1875 \nL 47.609375 0 \nL 37.796875 0 \nL 37.796875 17.1875 \nL 4.890625 17.1875 \nL 4.890625 26.703125 \nz\n\" id=\"DejaVuSans-52\"/>\n    </defs>\n    <g style=\"fill:#ffffff;\" transform=\"translate(454.49125 370.319375)scale(0.1 -0.1)\">\n     <use xlink:href=\"#DejaVuSans-52\"/>\n     <use x=\"63.623047\" xlink:href=\"#DejaVuSans-51\"/>\n     <use x=\"127.246094\" xlink:href=\"#DejaVuSans-48\"/>\n     <use x=\"190.869141\" xlink:href=\"#DejaVuSans-50\"/>\n    </g>\n   </g>\n   <g id=\"text_23\">\n    <!-- 466 -->\n    <g style=\"fill:#262626;\" transform=\"translate(89.3925 493.079375)scale(0.1 -0.1)\">\n     <use xlink:href=\"#DejaVuSans-52\"/>\n     <use x=\"63.623047\" xlink:href=\"#DejaVuSans-54\"/>\n     <use x=\"127.246094\" xlink:href=\"#DejaVuSans-54\"/>\n    </g>\n   </g>\n   <g id=\"text_24\">\n    <!-- 13 -->\n    <g style=\"fill:#262626;\" transform=\"translate(215.33375 493.079375)scale(0.1 -0.1)\">\n     <use xlink:href=\"#DejaVuSans-49\"/>\n     <use x=\"63.623047\" xlink:href=\"#DejaVuSans-51\"/>\n    </g>\n   </g>\n   <g id=\"text_25\">\n    <!-- 429 -->\n    <g style=\"fill:#262626;\" transform=\"translate(334.9125 493.079375)scale(0.1 -0.1)\">\n     <use xlink:href=\"#DejaVuSans-52\"/>\n     <use x=\"63.623047\" xlink:href=\"#DejaVuSans-50\"/>\n     <use x=\"127.246094\" xlink:href=\"#DejaVuSans-57\"/>\n    </g>\n   </g>\n   <g id=\"text_26\">\n    <!-- 17441 -->\n    <defs>\n     <path d=\"M 8.203125 72.90625 \nL 55.078125 72.90625 \nL 55.078125 68.703125 \nL 28.609375 0 \nL 18.3125 0 \nL 43.21875 64.59375 \nL 8.203125 64.59375 \nz\n\" id=\"DejaVuSans-55\"/>\n    </defs>\n    <g style=\"fill:#262626;\" transform=\"translate(451.31 493.079375)scale(0.1 -0.1)\">\n     <use xlink:href=\"#DejaVuSans-49\"/>\n     <use x=\"63.623047\" xlink:href=\"#DejaVuSans-55\"/>\n     <use x=\"127.246094\" xlink:href=\"#DejaVuSans-52\"/>\n     <use x=\"190.869141\" xlink:href=\"#DejaVuSans-52\"/>\n     <use x=\"254.492188\" xlink:href=\"#DejaVuSans-49\"/>\n    </g>\n   </g>\n   <g id=\"text_27\">\n    <!-- Confusion Matrix for -->\n    <defs>\n     <path d=\"M 64.40625 67.28125 \nL 64.40625 56.890625 \nQ 59.421875 61.53125 53.78125 63.8125 \nQ 48.140625 66.109375 41.796875 66.109375 \nQ 29.296875 66.109375 22.65625 58.46875 \nQ 16.015625 50.828125 16.015625 36.375 \nQ 16.015625 21.96875 22.65625 14.328125 \nQ 29.296875 6.6875 41.796875 6.6875 \nQ 48.140625 6.6875 53.78125 8.984375 \nQ 59.421875 11.28125 64.40625 15.921875 \nL 64.40625 5.609375 \nQ 59.234375 2.09375 53.4375 0.328125 \nQ 47.65625 -1.421875 41.21875 -1.421875 \nQ 24.65625 -1.421875 15.125 8.703125 \nQ 5.609375 18.84375 5.609375 36.375 \nQ 5.609375 53.953125 15.125 64.078125 \nQ 24.65625 74.21875 41.21875 74.21875 \nQ 47.75 74.21875 53.53125 72.484375 \nQ 59.328125 70.75 64.40625 67.28125 \nz\n\" id=\"DejaVuSans-67\"/>\n     <path d=\"M 30.609375 48.390625 \nQ 23.390625 48.390625 19.1875 42.75 \nQ 14.984375 37.109375 14.984375 27.296875 \nQ 14.984375 17.484375 19.15625 11.84375 \nQ 23.34375 6.203125 30.609375 6.203125 \nQ 37.796875 6.203125 41.984375 11.859375 \nQ 46.1875 17.53125 46.1875 27.296875 \nQ 46.1875 37.015625 41.984375 42.703125 \nQ 37.796875 48.390625 30.609375 48.390625 \nz\nM 30.609375 56 \nQ 42.328125 56 49.015625 48.375 \nQ 55.71875 40.765625 55.71875 27.296875 \nQ 55.71875 13.875 49.015625 6.21875 \nQ 42.328125 -1.421875 30.609375 -1.421875 \nQ 18.84375 -1.421875 12.171875 6.21875 \nQ 5.515625 13.875 5.515625 27.296875 \nQ 5.515625 40.765625 12.171875 48.375 \nQ 18.84375 56 30.609375 56 \nz\n\" id=\"DejaVuSans-111\"/>\n     <path d=\"M 37.109375 75.984375 \nL 37.109375 68.5 \nL 28.515625 68.5 \nQ 23.6875 68.5 21.796875 66.546875 \nQ 19.921875 64.59375 19.921875 59.515625 \nL 19.921875 54.6875 \nL 34.71875 54.6875 \nL 34.71875 47.703125 \nL 19.921875 47.703125 \nL 19.921875 0 \nL 10.890625 0 \nL 10.890625 47.703125 \nL 2.296875 47.703125 \nL 2.296875 54.6875 \nL 10.890625 54.6875 \nL 10.890625 58.5 \nQ 10.890625 67.625 15.140625 71.796875 \nQ 19.390625 75.984375 28.609375 75.984375 \nz\n\" id=\"DejaVuSans-102\"/>\n     <path d=\"M 9.8125 72.90625 \nL 24.515625 72.90625 \nL 43.109375 23.296875 \nL 61.8125 72.90625 \nL 76.515625 72.90625 \nL 76.515625 0 \nL 66.890625 0 \nL 66.890625 64.015625 \nL 48.09375 14.015625 \nL 38.1875 14.015625 \nL 19.390625 64.015625 \nL 19.390625 0 \nL 9.8125 0 \nz\n\" id=\"DejaVuSans-77\"/>\n     <path d=\"M 54.890625 54.6875 \nL 35.109375 28.078125 \nL 55.90625 0 \nL 45.3125 0 \nL 29.390625 21.484375 \nL 13.484375 0 \nL 2.875 0 \nL 24.125 28.609375 \nL 4.6875 54.6875 \nL 15.28125 54.6875 \nL 29.78125 35.203125 \nL 44.28125 54.6875 \nz\n\" id=\"DejaVuSans-120\"/>\n    </defs>\n    <g style=\"fill:#262626;\" transform=\"translate(222.2775 54.66)scale(0.12 -0.12)\">\n     <use xlink:href=\"#DejaVuSans-67\"/>\n     <use x=\"69.824219\" xlink:href=\"#DejaVuSans-111\"/>\n     <use x=\"131.005859\" xlink:href=\"#DejaVuSans-110\"/>\n     <use x=\"194.384766\" xlink:href=\"#DejaVuSans-102\"/>\n     <use x=\"229.589844\" xlink:href=\"#DejaVuSans-117\"/>\n     <use x=\"292.96875\" xlink:href=\"#DejaVuSans-115\"/>\n     <use x=\"345.068359\" xlink:href=\"#DejaVuSans-105\"/>\n     <use x=\"372.851562\" xlink:href=\"#DejaVuSans-111\"/>\n     <use x=\"434.033203\" xlink:href=\"#DejaVuSans-110\"/>\n     <use x=\"497.412109\" xlink:href=\"#DejaVuSans-32\"/>\n     <use x=\"529.199219\" xlink:href=\"#DejaVuSans-77\"/>\n     <use x=\"615.478516\" xlink:href=\"#DejaVuSans-97\"/>\n     <use x=\"676.757812\" xlink:href=\"#DejaVuSans-116\"/>\n     <use x=\"715.966797\" xlink:href=\"#DejaVuSans-114\"/>\n     <use x=\"757.080078\" xlink:href=\"#DejaVuSans-105\"/>\n     <use x=\"784.863281\" xlink:href=\"#DejaVuSans-120\"/>\n     <use x=\"844.042969\" xlink:href=\"#DejaVuSans-32\"/>\n     <use x=\"875.830078\" xlink:href=\"#DejaVuSans-102\"/>\n     <use x=\"911.035156\" xlink:href=\"#DejaVuSans-111\"/>\n     <use x=\"972.216797\" xlink:href=\"#DejaVuSans-114\"/>\n    </g>\n   </g>\n  </g>\n  <g id=\"axes_2\">\n   <g id=\"patch_3\">\n    <path clip-path=\"url(#p5ca02f9259)\" d=\"M 559.28625 605.16 \nL 559.28625 602.824219 \nL 559.28625 9.535781 \nL 559.28625 7.2 \nL 589.18425 7.2 \nL 589.18425 9.535781 \nL 589.18425 602.824219 \nL 589.18425 605.16 \nz\n\" style=\"fill:#ffffff;stroke:#ffffff;stroke-linejoin:miter;stroke-width:0.01;\"/>\n   </g>\n   <g id=\"matplotlib.axis_3\"/>\n   <g id=\"matplotlib.axis_4\">\n    <g id=\"ytick_5\">\n     <g id=\"line2d_1\">\n      <defs>\n       <path d=\"M 0 0 \nL 3.5 0 \n\" id=\"m705f275cd2\" style=\"stroke:#262626;stroke-width:0.8;\"/>\n      </defs>\n      <g>\n       <use style=\"fill:#262626;stroke:#262626;stroke-width:0.8;\" x=\"589.18425\" xlink:href=\"#m705f275cd2\" y=\"605.16\"/>\n      </g>\n     </g>\n     <g id=\"text_28\">\n      <!-- 0 -->\n      <g style=\"fill:#262626;\" transform=\"translate(596.18425 608.959219)scale(0.1 -0.1)\">\n       <use xlink:href=\"#DejaVuSans-48\"/>\n      </g>\n     </g>\n    </g>\n    <g id=\"ytick_6\">\n     <g id=\"line2d_2\">\n      <g>\n       <use style=\"fill:#262626;stroke:#262626;stroke-width:0.8;\" x=\"589.18425\" xlink:href=\"#m705f275cd2\" y=\"536.590537\"/>\n      </g>\n     </g>\n     <g id=\"text_29\">\n      <!-- 2000 -->\n      <g style=\"fill:#262626;\" transform=\"translate(596.18425 540.389756)scale(0.1 -0.1)\">\n       <use xlink:href=\"#DejaVuSans-50\"/>\n       <use x=\"63.623047\" xlink:href=\"#DejaVuSans-48\"/>\n       <use x=\"127.246094\" xlink:href=\"#DejaVuSans-48\"/>\n       <use x=\"190.869141\" xlink:href=\"#DejaVuSans-48\"/>\n      </g>\n     </g>\n    </g>\n    <g id=\"ytick_7\">\n     <g id=\"line2d_3\">\n      <g>\n       <use style=\"fill:#262626;stroke:#262626;stroke-width:0.8;\" x=\"589.18425\" xlink:href=\"#m705f275cd2\" y=\"468.021074\"/>\n      </g>\n     </g>\n     <g id=\"text_30\">\n      <!-- 4000 -->\n      <g style=\"fill:#262626;\" transform=\"translate(596.18425 471.820293)scale(0.1 -0.1)\">\n       <use xlink:href=\"#DejaVuSans-52\"/>\n       <use x=\"63.623047\" xlink:href=\"#DejaVuSans-48\"/>\n       <use x=\"127.246094\" xlink:href=\"#DejaVuSans-48\"/>\n       <use x=\"190.869141\" xlink:href=\"#DejaVuSans-48\"/>\n      </g>\n     </g>\n    </g>\n    <g id=\"ytick_8\">\n     <g id=\"line2d_4\">\n      <g>\n       <use style=\"fill:#262626;stroke:#262626;stroke-width:0.8;\" x=\"589.18425\" xlink:href=\"#m705f275cd2\" y=\"399.451612\"/>\n      </g>\n     </g>\n     <g id=\"text_31\">\n      <!-- 6000 -->\n      <g style=\"fill:#262626;\" transform=\"translate(596.18425 403.25083)scale(0.1 -0.1)\">\n       <use xlink:href=\"#DejaVuSans-54\"/>\n       <use x=\"63.623047\" xlink:href=\"#DejaVuSans-48\"/>\n       <use x=\"127.246094\" xlink:href=\"#DejaVuSans-48\"/>\n       <use x=\"190.869141\" xlink:href=\"#DejaVuSans-48\"/>\n      </g>\n     </g>\n    </g>\n    <g id=\"ytick_9\">\n     <g id=\"line2d_5\">\n      <g>\n       <use style=\"fill:#262626;stroke:#262626;stroke-width:0.8;\" x=\"589.18425\" xlink:href=\"#m705f275cd2\" y=\"330.882149\"/>\n      </g>\n     </g>\n     <g id=\"text_32\">\n      <!-- 8000 -->\n      <g style=\"fill:#262626;\" transform=\"translate(596.18425 334.681368)scale(0.1 -0.1)\">\n       <use xlink:href=\"#DejaVuSans-56\"/>\n       <use x=\"63.623047\" xlink:href=\"#DejaVuSans-48\"/>\n       <use x=\"127.246094\" xlink:href=\"#DejaVuSans-48\"/>\n       <use x=\"190.869141\" xlink:href=\"#DejaVuSans-48\"/>\n      </g>\n     </g>\n    </g>\n    <g id=\"ytick_10\">\n     <g id=\"line2d_6\">\n      <g>\n       <use style=\"fill:#262626;stroke:#262626;stroke-width:0.8;\" x=\"589.18425\" xlink:href=\"#m705f275cd2\" y=\"262.312686\"/>\n      </g>\n     </g>\n     <g id=\"text_33\">\n      <!-- 10000 -->\n      <g style=\"fill:#262626;\" transform=\"translate(596.18425 266.111905)scale(0.1 -0.1)\">\n       <use xlink:href=\"#DejaVuSans-49\"/>\n       <use x=\"63.623047\" xlink:href=\"#DejaVuSans-48\"/>\n       <use x=\"127.246094\" xlink:href=\"#DejaVuSans-48\"/>\n       <use x=\"190.869141\" xlink:href=\"#DejaVuSans-48\"/>\n       <use x=\"254.492188\" xlink:href=\"#DejaVuSans-48\"/>\n      </g>\n     </g>\n    </g>\n    <g id=\"ytick_11\">\n     <g id=\"line2d_7\">\n      <g>\n       <use style=\"fill:#262626;stroke:#262626;stroke-width:0.8;\" x=\"589.18425\" xlink:href=\"#m705f275cd2\" y=\"193.743223\"/>\n      </g>\n     </g>\n     <g id=\"text_34\">\n      <!-- 12000 -->\n      <g style=\"fill:#262626;\" transform=\"translate(596.18425 197.542442)scale(0.1 -0.1)\">\n       <use xlink:href=\"#DejaVuSans-49\"/>\n       <use x=\"63.623047\" xlink:href=\"#DejaVuSans-50\"/>\n       <use x=\"127.246094\" xlink:href=\"#DejaVuSans-48\"/>\n       <use x=\"190.869141\" xlink:href=\"#DejaVuSans-48\"/>\n       <use x=\"254.492188\" xlink:href=\"#DejaVuSans-48\"/>\n      </g>\n     </g>\n    </g>\n    <g id=\"ytick_12\">\n     <g id=\"line2d_8\">\n      <g>\n       <use style=\"fill:#262626;stroke:#262626;stroke-width:0.8;\" x=\"589.18425\" xlink:href=\"#m705f275cd2\" y=\"125.173761\"/>\n      </g>\n     </g>\n     <g id=\"text_35\">\n      <!-- 14000 -->\n      <g style=\"fill:#262626;\" transform=\"translate(596.18425 128.972979)scale(0.1 -0.1)\">\n       <use xlink:href=\"#DejaVuSans-49\"/>\n       <use x=\"63.623047\" xlink:href=\"#DejaVuSans-52\"/>\n       <use x=\"127.246094\" xlink:href=\"#DejaVuSans-48\"/>\n       <use x=\"190.869141\" xlink:href=\"#DejaVuSans-48\"/>\n       <use x=\"254.492188\" xlink:href=\"#DejaVuSans-48\"/>\n      </g>\n     </g>\n    </g>\n    <g id=\"ytick_13\">\n     <g id=\"line2d_9\">\n      <g>\n       <use style=\"fill:#262626;stroke:#262626;stroke-width:0.8;\" x=\"589.18425\" xlink:href=\"#m705f275cd2\" y=\"56.604298\"/>\n      </g>\n     </g>\n     <g id=\"text_36\">\n      <!-- 16000 -->\n      <g style=\"fill:#262626;\" transform=\"translate(596.18425 60.403517)scale(0.1 -0.1)\">\n       <use xlink:href=\"#DejaVuSans-49\"/>\n       <use x=\"63.623047\" xlink:href=\"#DejaVuSans-54\"/>\n       <use x=\"127.246094\" xlink:href=\"#DejaVuSans-48\"/>\n       <use x=\"190.869141\" xlink:href=\"#DejaVuSans-48\"/>\n       <use x=\"254.492188\" xlink:href=\"#DejaVuSans-48\"/>\n      </g>\n     </g>\n    </g>\n   </g>\n   <image height=\"598\" id=\"imagec3bc5ba6db\" transform=\"scale(1 -1)translate(0 -598)\" width=\"30\" x=\"559\" xlink:href=\"data:image/png;base64,\niVBORw0KGgoAAAANSUhEUgAAAB4AAAJWCAYAAABPpDeKAAAABHNCSVQICAgIfAhkiAAAAx5JREFUeJztnYlxIzEQA0lq8s/oIrkAnIS1dBZA1XZ3AlPgAKC8erz//fy/q8BpDF1rrfk+FcEqBgye79MZ3FP80MxlnGIA44QzF69AjFMMYJxwio1TDJ65eDsuvhC4miuDBfL+wZorRlFxR7BxymGcYvB27FHH4HU1b8e9o/61q0Oo+P2DgV390MxlnGLwjhqoGFcgmivGlF7dumPAYF5zARV/n10ZbJxiqDgGT7FHHQOo+Ho7hQCa6/l2Bjfj1BkMjBOuuXjmmkVT7FHHmIW7nXA77h31xn0qYuPihNuxRx1jTumDIO74/YNnl97jK8ap9PSlGSeYYo86xhxcgezSw0zjFKP5hznMXMYpBu+ogXHCKW7G6bcyuGiuS1N8aTtumgvWXLNo5ppLKxCbKwbxdqIpNk4xeOaaS3sForliAAvkMU4hiHGimYu342ZX08yF62rjFAPZ1TTFuALxdooBjBNOsUcdY57S9wc1VwwVx5hrnEJorhgqfv9g4xSjqLj0XW9knGBHPQun+NL+QZzNFcM4xQDGaeHidBfMXLOMUwiiuXAFUloxMU4LGCcVZ+DFiTd4Or8Bq2LCYN5RAxWfBfsZac0VA6jYOKXQXDGKOy4tGRgnnrmAio1TCKK5eIpL15NxiqG5YkxrMjFOQHPRFH9oO9ZcMebszuxinGg79naKwetqXmVqrhi8ruZVpuaKAVRsnFIAzeV9nMI4xbCrY/B27FHHQN5OHYxTDBXHME4x7OoYFsj7ByPN1UHF7x+MvJ1gX/U2TjF4Rz0f2tcVeAWiuWLMZ8PMNYem2DjFME4xkHGCHfWcQ1OM23HTXJ3BdnUMXoEUm4t21Dxz8RR7O8WYTTOXcYoxp/SkXHPFmE3bsbdTDOMUwzjF0FwxeIqNU4zZpbfajNP7BxPNVfpR1OaOYb/d5FHHIBbIp3M9AeO0gHHiKTZOGWbRjnp26b0B4/T+wcQ4faYy2B2/fzCvuWYdWpxwBWKcYsyimYv38lZzxbCrYxDNRWsu3o5trhjGKYZxiuFTnxizaY8ibK4YFkgMYJxwzYUsEOOU4Q9/T0A103X+HAAAAABJRU5ErkJggg==\" y=\"-7\"/>\n   <g id=\"patch_4\">\n    <path d=\"M 559.28625 605.16 \nL 559.28625 602.824219 \nL 559.28625 9.535781 \nL 559.28625 7.2 \nL 589.18425 7.2 \nL 589.18425 9.535781 \nL 589.18425 602.824219 \nL 589.18425 605.16 \nz\n\" style=\"fill:none;\"/>\n   </g>\n  </g>\n </g>\n <defs>\n  <clipPath id=\"p37826ca7fb\">\n   <rect height=\"491.04\" width=\"491.04\" x=\"37.55625\" y=\"60.66\"/>\n  </clipPath>\n  <clipPath id=\"p5ca02f9259\">\n   <rect height=\"597.96\" width=\"29.898\" x=\"559.28625\" y=\"7.2\"/>\n  </clipPath>\n </defs>\n</svg>\n"
          },
          "metadata": {
            "tags": [],
            "needs_background": "light"
          }
        }
      ]
    },
    {
      "cell_type": "code",
      "metadata": {
        "id": "XoO1M20gHPVu",
        "colab_type": "code",
        "colab": {}
      },
      "source": [
        "dt_results = dt_model.predict(features)"
      ],
      "execution_count": 0,
      "outputs": []
    },
    {
      "cell_type": "code",
      "metadata": {
        "id": "ae4h5cMgI3qq",
        "colab_type": "code",
        "colab": {}
      },
      "source": [
        "mat = confusion_matrix(results,df_test.Stance)"
      ],
      "execution_count": 0,
      "outputs": []
    },
    {
      "cell_type": "code",
      "metadata": {
        "id": "_qD3OdNAJAvc",
        "colab_type": "code",
        "colab": {
          "base_uri": "https://localhost:8080/",
          "height": 837
        },
        "outputId": "db95f1bc-7708-4ba8-c9d3-5a91e89859e0"
      },
      "source": [
        "import seaborn as sns\n",
        "fig, ax = plt.subplots(figsize=(11,11))  \n",
        "ax.set_title(\"Confusion Matrix for\")\n",
        "sns.heatmap(mat.T, square=True, annot=True, fmt='d', cbar=True,cmap=\"icefire\",\n",
        "xticklabels=classes,yticklabels=classes,linewidths=.3, ax=ax)\n",
        "plt.xlabel('True label')\n",
        "plt.ylabel('Predicted label');"
      ],
      "execution_count": 239,
      "outputs": [
        {
          "output_type": "display_data",
          "data": {
            "text/plain": [
              "<Figure size 792x792 with 2 Axes>"
            ],
            "image/svg+xml": "<?xml version=\"1.0\" encoding=\"utf-8\" standalone=\"no\"?>\n<!DOCTYPE svg PUBLIC \"-//W3C//DTD SVG 1.1//EN\"\n  \"http://www.w3.org/Graphics/SVG/1.1/DTD/svg11.dtd\">\n<!-- Created with matplotlib (https://matplotlib.org/) -->\n<svg height=\"612.36pt\" version=\"1.1\" viewBox=\"0 0 635.19675 612.36\" width=\"635.19675pt\" xmlns=\"http://www.w3.org/2000/svg\" xmlns:xlink=\"http://www.w3.org/1999/xlink\">\n <defs>\n  <style type=\"text/css\">\n*{stroke-linecap:butt;stroke-linejoin:round;}\n  </style>\n </defs>\n <g id=\"figure_1\">\n  <g id=\"patch_1\">\n   <path d=\"M 0 612.36 \nL 635.19675 612.36 \nL 635.19675 0 \nL 0 0 \nz\n\" style=\"fill:none;\"/>\n  </g>\n  <g id=\"axes_1\">\n   <g id=\"patch_2\">\n    <path d=\"M 37.55625 551.7 \nL 528.59625 551.7 \nL 528.59625 60.66 \nL 37.55625 60.66 \nz\n\" style=\"fill:#ffffff;\"/>\n   </g>\n   <g id=\"matplotlib.axis_1\">\n    <g id=\"xtick_1\">\n     <g id=\"text_1\">\n      <!-- agree -->\n      <defs>\n       <path d=\"M 34.28125 27.484375 \nQ 23.390625 27.484375 19.1875 25 \nQ 14.984375 22.515625 14.984375 16.5 \nQ 14.984375 11.71875 18.140625 8.90625 \nQ 21.296875 6.109375 26.703125 6.109375 \nQ 34.1875 6.109375 38.703125 11.40625 \nQ 43.21875 16.703125 43.21875 25.484375 \nL 43.21875 27.484375 \nz\nM 52.203125 31.203125 \nL 52.203125 0 \nL 43.21875 0 \nL 43.21875 8.296875 \nQ 40.140625 3.328125 35.546875 0.953125 \nQ 30.953125 -1.421875 24.3125 -1.421875 \nQ 15.921875 -1.421875 10.953125 3.296875 \nQ 6 8.015625 6 15.921875 \nQ 6 25.140625 12.171875 29.828125 \nQ 18.359375 34.515625 30.609375 34.515625 \nL 43.21875 34.515625 \nL 43.21875 35.40625 \nQ 43.21875 41.609375 39.140625 45 \nQ 35.0625 48.390625 27.6875 48.390625 \nQ 23 48.390625 18.546875 47.265625 \nQ 14.109375 46.140625 10.015625 43.890625 \nL 10.015625 52.203125 \nQ 14.9375 54.109375 19.578125 55.046875 \nQ 24.21875 56 28.609375 56 \nQ 40.484375 56 46.34375 49.84375 \nQ 52.203125 43.703125 52.203125 31.203125 \nz\n\" id=\"DejaVuSans-97\"/>\n       <path d=\"M 45.40625 27.984375 \nQ 45.40625 37.75 41.375 43.109375 \nQ 37.359375 48.484375 30.078125 48.484375 \nQ 22.859375 48.484375 18.828125 43.109375 \nQ 14.796875 37.75 14.796875 27.984375 \nQ 14.796875 18.265625 18.828125 12.890625 \nQ 22.859375 7.515625 30.078125 7.515625 \nQ 37.359375 7.515625 41.375 12.890625 \nQ 45.40625 18.265625 45.40625 27.984375 \nz\nM 54.390625 6.78125 \nQ 54.390625 -7.171875 48.1875 -13.984375 \nQ 42 -20.796875 29.203125 -20.796875 \nQ 24.46875 -20.796875 20.265625 -20.09375 \nQ 16.0625 -19.390625 12.109375 -17.921875 \nL 12.109375 -9.1875 \nQ 16.0625 -11.328125 19.921875 -12.34375 \nQ 23.78125 -13.375 27.78125 -13.375 \nQ 36.625 -13.375 41.015625 -8.765625 \nQ 45.40625 -4.15625 45.40625 5.171875 \nL 45.40625 9.625 \nQ 42.625 4.78125 38.28125 2.390625 \nQ 33.9375 0 27.875 0 \nQ 17.828125 0 11.671875 7.65625 \nQ 5.515625 15.328125 5.515625 27.984375 \nQ 5.515625 40.671875 11.671875 48.328125 \nQ 17.828125 56 27.875 56 \nQ 33.9375 56 38.28125 53.609375 \nQ 42.625 51.21875 45.40625 46.390625 \nL 45.40625 54.6875 \nL 54.390625 54.6875 \nz\n\" id=\"DejaVuSans-103\"/>\n       <path d=\"M 41.109375 46.296875 \nQ 39.59375 47.171875 37.8125 47.578125 \nQ 36.03125 48 33.890625 48 \nQ 26.265625 48 22.1875 43.046875 \nQ 18.109375 38.09375 18.109375 28.8125 \nL 18.109375 0 \nL 9.078125 0 \nL 9.078125 54.6875 \nL 18.109375 54.6875 \nL 18.109375 46.1875 \nQ 20.953125 51.171875 25.484375 53.578125 \nQ 30.03125 56 36.53125 56 \nQ 37.453125 56 38.578125 55.875 \nQ 39.703125 55.765625 41.0625 55.515625 \nz\n\" id=\"DejaVuSans-114\"/>\n       <path d=\"M 56.203125 29.59375 \nL 56.203125 25.203125 \nL 14.890625 25.203125 \nQ 15.484375 15.921875 20.484375 11.0625 \nQ 25.484375 6.203125 34.421875 6.203125 \nQ 39.59375 6.203125 44.453125 7.46875 \nQ 49.3125 8.734375 54.109375 11.28125 \nL 54.109375 2.78125 \nQ 49.265625 0.734375 44.1875 -0.34375 \nQ 39.109375 -1.421875 33.890625 -1.421875 \nQ 20.796875 -1.421875 13.15625 6.1875 \nQ 5.515625 13.8125 5.515625 26.8125 \nQ 5.515625 40.234375 12.765625 48.109375 \nQ 20.015625 56 32.328125 56 \nQ 43.359375 56 49.78125 48.890625 \nQ 56.203125 41.796875 56.203125 29.59375 \nz\nM 47.21875 32.234375 \nQ 47.125 39.59375 43.09375 43.984375 \nQ 39.0625 48.390625 32.421875 48.390625 \nQ 24.90625 48.390625 20.390625 44.140625 \nQ 15.875 39.890625 15.1875 32.171875 \nz\n\" id=\"DejaVuSans-101\"/>\n      </defs>\n      <g style=\"fill:#262626;\" transform=\"translate(84.601875 566.298437)scale(0.1 -0.1)\">\n       <use xlink:href=\"#DejaVuSans-97\"/>\n       <use x=\"61.279297\" xlink:href=\"#DejaVuSans-103\"/>\n       <use x=\"124.755859\" xlink:href=\"#DejaVuSans-114\"/>\n       <use x=\"163.619141\" xlink:href=\"#DejaVuSans-101\"/>\n       <use x=\"225.142578\" xlink:href=\"#DejaVuSans-101\"/>\n      </g>\n     </g>\n    </g>\n    <g id=\"xtick_2\">\n     <g id=\"text_2\">\n      <!-- disagree -->\n      <defs>\n       <path d=\"M 45.40625 46.390625 \nL 45.40625 75.984375 \nL 54.390625 75.984375 \nL 54.390625 0 \nL 45.40625 0 \nL 45.40625 8.203125 \nQ 42.578125 3.328125 38.25 0.953125 \nQ 33.9375 -1.421875 27.875 -1.421875 \nQ 17.96875 -1.421875 11.734375 6.484375 \nQ 5.515625 14.40625 5.515625 27.296875 \nQ 5.515625 40.1875 11.734375 48.09375 \nQ 17.96875 56 27.875 56 \nQ 33.9375 56 38.25 53.625 \nQ 42.578125 51.265625 45.40625 46.390625 \nz\nM 14.796875 27.296875 \nQ 14.796875 17.390625 18.875 11.75 \nQ 22.953125 6.109375 30.078125 6.109375 \nQ 37.203125 6.109375 41.296875 11.75 \nQ 45.40625 17.390625 45.40625 27.296875 \nQ 45.40625 37.203125 41.296875 42.84375 \nQ 37.203125 48.484375 30.078125 48.484375 \nQ 22.953125 48.484375 18.875 42.84375 \nQ 14.796875 37.203125 14.796875 27.296875 \nz\n\" id=\"DejaVuSans-100\"/>\n       <path d=\"M 9.421875 54.6875 \nL 18.40625 54.6875 \nL 18.40625 0 \nL 9.421875 0 \nz\nM 9.421875 75.984375 \nL 18.40625 75.984375 \nL 18.40625 64.59375 \nL 9.421875 64.59375 \nz\n\" id=\"DejaVuSans-105\"/>\n       <path d=\"M 44.28125 53.078125 \nL 44.28125 44.578125 \nQ 40.484375 46.53125 36.375 47.5 \nQ 32.28125 48.484375 27.875 48.484375 \nQ 21.1875 48.484375 17.84375 46.4375 \nQ 14.5 44.390625 14.5 40.28125 \nQ 14.5 37.15625 16.890625 35.375 \nQ 19.28125 33.59375 26.515625 31.984375 \nL 29.59375 31.296875 \nQ 39.15625 29.25 43.1875 25.515625 \nQ 47.21875 21.78125 47.21875 15.09375 \nQ 47.21875 7.46875 41.1875 3.015625 \nQ 35.15625 -1.421875 24.609375 -1.421875 \nQ 20.21875 -1.421875 15.453125 -0.5625 \nQ 10.6875 0.296875 5.421875 2 \nL 5.421875 11.28125 \nQ 10.40625 8.6875 15.234375 7.390625 \nQ 20.0625 6.109375 24.8125 6.109375 \nQ 31.15625 6.109375 34.5625 8.28125 \nQ 37.984375 10.453125 37.984375 14.40625 \nQ 37.984375 18.0625 35.515625 20.015625 \nQ 33.0625 21.96875 24.703125 23.78125 \nL 21.578125 24.515625 \nQ 13.234375 26.265625 9.515625 29.90625 \nQ 5.8125 33.546875 5.8125 39.890625 \nQ 5.8125 47.609375 11.28125 51.796875 \nQ 16.75 56 26.8125 56 \nQ 31.78125 56 36.171875 55.265625 \nQ 40.578125 54.546875 44.28125 53.078125 \nz\n\" id=\"DejaVuSans-115\"/>\n      </defs>\n      <g style=\"fill:#262626;\" transform=\"translate(200.193906 566.298437)scale(0.1 -0.1)\">\n       <use xlink:href=\"#DejaVuSans-100\"/>\n       <use x=\"63.476562\" xlink:href=\"#DejaVuSans-105\"/>\n       <use x=\"91.259766\" xlink:href=\"#DejaVuSans-115\"/>\n       <use x=\"143.359375\" xlink:href=\"#DejaVuSans-97\"/>\n       <use x=\"204.638672\" xlink:href=\"#DejaVuSans-103\"/>\n       <use x=\"268.115234\" xlink:href=\"#DejaVuSans-114\"/>\n       <use x=\"306.978516\" xlink:href=\"#DejaVuSans-101\"/>\n       <use x=\"368.501953\" xlink:href=\"#DejaVuSans-101\"/>\n      </g>\n     </g>\n    </g>\n    <g id=\"xtick_3\">\n     <g id=\"text_3\">\n      <!-- discuss -->\n      <defs>\n       <path d=\"M 48.78125 52.59375 \nL 48.78125 44.1875 \nQ 44.96875 46.296875 41.140625 47.34375 \nQ 37.3125 48.390625 33.40625 48.390625 \nQ 24.65625 48.390625 19.8125 42.84375 \nQ 14.984375 37.3125 14.984375 27.296875 \nQ 14.984375 17.28125 19.8125 11.734375 \nQ 24.65625 6.203125 33.40625 6.203125 \nQ 37.3125 6.203125 41.140625 7.25 \nQ 44.96875 8.296875 48.78125 10.40625 \nL 48.78125 2.09375 \nQ 45.015625 0.34375 40.984375 -0.53125 \nQ 36.96875 -1.421875 32.421875 -1.421875 \nQ 20.0625 -1.421875 12.78125 6.34375 \nQ 5.515625 14.109375 5.515625 27.296875 \nQ 5.515625 40.671875 12.859375 48.328125 \nQ 20.21875 56 33.015625 56 \nQ 37.15625 56 41.109375 55.140625 \nQ 45.0625 54.296875 48.78125 52.59375 \nz\n\" id=\"DejaVuSans-99\"/>\n       <path d=\"M 8.5 21.578125 \nL 8.5 54.6875 \nL 17.484375 54.6875 \nL 17.484375 21.921875 \nQ 17.484375 14.15625 20.5 10.265625 \nQ 23.53125 6.390625 29.59375 6.390625 \nQ 36.859375 6.390625 41.078125 11.03125 \nQ 45.3125 15.671875 45.3125 23.6875 \nL 45.3125 54.6875 \nL 54.296875 54.6875 \nL 54.296875 0 \nL 45.3125 0 \nL 45.3125 8.40625 \nQ 42.046875 3.421875 37.71875 1 \nQ 33.40625 -1.421875 27.6875 -1.421875 \nQ 18.265625 -1.421875 13.375 4.4375 \nQ 8.5 10.296875 8.5 21.578125 \nz\nM 31.109375 56 \nz\n\" id=\"DejaVuSans-117\"/>\n      </defs>\n      <g style=\"fill:#262626;\" transform=\"translate(326.160938 566.298437)scale(0.1 -0.1)\">\n       <use xlink:href=\"#DejaVuSans-100\"/>\n       <use x=\"63.476562\" xlink:href=\"#DejaVuSans-105\"/>\n       <use x=\"91.259766\" xlink:href=\"#DejaVuSans-115\"/>\n       <use x=\"143.359375\" xlink:href=\"#DejaVuSans-99\"/>\n       <use x=\"198.339844\" xlink:href=\"#DejaVuSans-117\"/>\n       <use x=\"261.71875\" xlink:href=\"#DejaVuSans-115\"/>\n       <use x=\"313.818359\" xlink:href=\"#DejaVuSans-115\"/>\n      </g>\n     </g>\n    </g>\n    <g id=\"xtick_4\">\n     <g id=\"text_4\">\n      <!-- unrelated -->\n      <defs>\n       <path d=\"M 54.890625 33.015625 \nL 54.890625 0 \nL 45.90625 0 \nL 45.90625 32.71875 \nQ 45.90625 40.484375 42.875 44.328125 \nQ 39.84375 48.1875 33.796875 48.1875 \nQ 26.515625 48.1875 22.3125 43.546875 \nQ 18.109375 38.921875 18.109375 30.90625 \nL 18.109375 0 \nL 9.078125 0 \nL 9.078125 54.6875 \nL 18.109375 54.6875 \nL 18.109375 46.1875 \nQ 21.34375 51.125 25.703125 53.5625 \nQ 30.078125 56 35.796875 56 \nQ 45.21875 56 50.046875 50.171875 \nQ 54.890625 44.34375 54.890625 33.015625 \nz\n\" id=\"DejaVuSans-110\"/>\n       <path d=\"M 9.421875 75.984375 \nL 18.40625 75.984375 \nL 18.40625 0 \nL 9.421875 0 \nz\n\" id=\"DejaVuSans-108\"/>\n       <path d=\"M 18.3125 70.21875 \nL 18.3125 54.6875 \nL 36.8125 54.6875 \nL 36.8125 47.703125 \nL 18.3125 47.703125 \nL 18.3125 18.015625 \nQ 18.3125 11.328125 20.140625 9.421875 \nQ 21.96875 7.515625 27.59375 7.515625 \nL 36.8125 7.515625 \nL 36.8125 0 \nL 27.59375 0 \nQ 17.1875 0 13.234375 3.875 \nQ 9.28125 7.765625 9.28125 18.015625 \nL 9.28125 47.703125 \nL 2.6875 47.703125 \nL 2.6875 54.6875 \nL 9.28125 54.6875 \nL 9.28125 70.21875 \nz\n\" id=\"DejaVuSans-116\"/>\n      </defs>\n      <g style=\"fill:#262626;\" transform=\"translate(443.195156 566.298437)scale(0.1 -0.1)\">\n       <use xlink:href=\"#DejaVuSans-117\"/>\n       <use x=\"63.378906\" xlink:href=\"#DejaVuSans-110\"/>\n       <use x=\"126.757812\" xlink:href=\"#DejaVuSans-114\"/>\n       <use x=\"165.621094\" xlink:href=\"#DejaVuSans-101\"/>\n       <use x=\"227.144531\" xlink:href=\"#DejaVuSans-108\"/>\n       <use x=\"254.927734\" xlink:href=\"#DejaVuSans-97\"/>\n       <use x=\"316.207031\" xlink:href=\"#DejaVuSans-116\"/>\n       <use x=\"355.416016\" xlink:href=\"#DejaVuSans-101\"/>\n       <use x=\"416.939453\" xlink:href=\"#DejaVuSans-100\"/>\n      </g>\n     </g>\n    </g>\n    <g id=\"text_5\">\n     <!-- True label -->\n     <defs>\n      <path d=\"M -0.296875 72.90625 \nL 61.375 72.90625 \nL 61.375 64.59375 \nL 35.5 64.59375 \nL 35.5 0 \nL 25.59375 0 \nL 25.59375 64.59375 \nL -0.296875 64.59375 \nz\n\" id=\"DejaVuSans-84\"/>\n      <path id=\"DejaVuSans-32\"/>\n      <path d=\"M 48.6875 27.296875 \nQ 48.6875 37.203125 44.609375 42.84375 \nQ 40.53125 48.484375 33.40625 48.484375 \nQ 26.265625 48.484375 22.1875 42.84375 \nQ 18.109375 37.203125 18.109375 27.296875 \nQ 18.109375 17.390625 22.1875 11.75 \nQ 26.265625 6.109375 33.40625 6.109375 \nQ 40.53125 6.109375 44.609375 11.75 \nQ 48.6875 17.390625 48.6875 27.296875 \nz\nM 18.109375 46.390625 \nQ 20.953125 51.265625 25.265625 53.625 \nQ 29.59375 56 35.59375 56 \nQ 45.5625 56 51.78125 48.09375 \nQ 58.015625 40.1875 58.015625 27.296875 \nQ 58.015625 14.40625 51.78125 6.484375 \nQ 45.5625 -1.421875 35.59375 -1.421875 \nQ 29.59375 -1.421875 25.265625 0.953125 \nQ 20.953125 3.328125 18.109375 8.203125 \nL 18.109375 0 \nL 9.078125 0 \nL 9.078125 75.984375 \nL 18.109375 75.984375 \nz\n\" id=\"DejaVuSans-98\"/>\n     </defs>\n     <g style=\"fill:#262626;\" transform=\"translate(258.777031 579.976562)scale(0.1 -0.1)\">\n      <use xlink:href=\"#DejaVuSans-84\"/>\n      <use x=\"46.333984\" xlink:href=\"#DejaVuSans-114\"/>\n      <use x=\"87.447266\" xlink:href=\"#DejaVuSans-117\"/>\n      <use x=\"150.826172\" xlink:href=\"#DejaVuSans-101\"/>\n      <use x=\"212.349609\" xlink:href=\"#DejaVuSans-32\"/>\n      <use x=\"244.136719\" xlink:href=\"#DejaVuSans-108\"/>\n      <use x=\"271.919922\" xlink:href=\"#DejaVuSans-97\"/>\n      <use x=\"333.199219\" xlink:href=\"#DejaVuSans-98\"/>\n      <use x=\"396.675781\" xlink:href=\"#DejaVuSans-101\"/>\n      <use x=\"458.199219\" xlink:href=\"#DejaVuSans-108\"/>\n     </g>\n    </g>\n   </g>\n   <g id=\"matplotlib.axis_2\">\n    <g id=\"ytick_1\">\n     <g id=\"text_6\">\n      <!-- agree -->\n      <g style=\"fill:#262626;\" transform=\"translate(28.476563 146.909531)rotate(-90)scale(0.1 -0.1)\">\n       <use xlink:href=\"#DejaVuSans-97\"/>\n       <use x=\"61.279297\" xlink:href=\"#DejaVuSans-103\"/>\n       <use x=\"124.755859\" xlink:href=\"#DejaVuSans-114\"/>\n       <use x=\"163.619141\" xlink:href=\"#DejaVuSans-101\"/>\n       <use x=\"225.142578\" xlink:href=\"#DejaVuSans-101\"/>\n      </g>\n     </g>\n    </g>\n    <g id=\"ytick_2\">\n     <g id=\"text_7\">\n      <!-- disagree -->\n      <g style=\"fill:#262626;\" transform=\"translate(28.476563 284.005469)rotate(-90)scale(0.1 -0.1)\">\n       <use xlink:href=\"#DejaVuSans-100\"/>\n       <use x=\"63.476562\" xlink:href=\"#DejaVuSans-105\"/>\n       <use x=\"91.259766\" xlink:href=\"#DejaVuSans-115\"/>\n       <use x=\"143.359375\" xlink:href=\"#DejaVuSans-97\"/>\n       <use x=\"204.638672\" xlink:href=\"#DejaVuSans-103\"/>\n       <use x=\"268.115234\" xlink:href=\"#DejaVuSans-114\"/>\n       <use x=\"306.978516\" xlink:href=\"#DejaVuSans-101\"/>\n       <use x=\"368.501953\" xlink:href=\"#DejaVuSans-101\"/>\n      </g>\n     </g>\n    </g>\n    <g id=\"ytick_3\">\n     <g id=\"text_8\">\n      <!-- discuss -->\n      <g style=\"fill:#262626;\" transform=\"translate(28.476563 400.351406)rotate(-90)scale(0.1 -0.1)\">\n       <use xlink:href=\"#DejaVuSans-100\"/>\n       <use x=\"63.476562\" xlink:href=\"#DejaVuSans-105\"/>\n       <use x=\"91.259766\" xlink:href=\"#DejaVuSans-115\"/>\n       <use x=\"143.359375\" xlink:href=\"#DejaVuSans-99\"/>\n       <use x=\"198.339844\" xlink:href=\"#DejaVuSans-117\"/>\n       <use x=\"261.71875\" xlink:href=\"#DejaVuSans-115\"/>\n       <use x=\"313.818359\" xlink:href=\"#DejaVuSans-115\"/>\n      </g>\n     </g>\n    </g>\n    <g id=\"ytick_4\">\n     <g id=\"text_9\">\n      <!-- unrelated -->\n      <g style=\"fill:#262626;\" transform=\"translate(28.476563 534.562969)rotate(-90)scale(0.1 -0.1)\">\n       <use xlink:href=\"#DejaVuSans-117\"/>\n       <use x=\"63.378906\" xlink:href=\"#DejaVuSans-110\"/>\n       <use x=\"126.757812\" xlink:href=\"#DejaVuSans-114\"/>\n       <use x=\"165.621094\" xlink:href=\"#DejaVuSans-101\"/>\n       <use x=\"227.144531\" xlink:href=\"#DejaVuSans-108\"/>\n       <use x=\"254.927734\" xlink:href=\"#DejaVuSans-97\"/>\n       <use x=\"316.207031\" xlink:href=\"#DejaVuSans-116\"/>\n       <use x=\"355.416016\" xlink:href=\"#DejaVuSans-101\"/>\n       <use x=\"416.939453\" xlink:href=\"#DejaVuSans-100\"/>\n      </g>\n     </g>\n    </g>\n    <g id=\"text_10\">\n     <!-- Predicted label -->\n     <defs>\n      <path d=\"M 19.671875 64.796875 \nL 19.671875 37.40625 \nL 32.078125 37.40625 \nQ 38.96875 37.40625 42.71875 40.96875 \nQ 46.484375 44.53125 46.484375 51.125 \nQ 46.484375 57.671875 42.71875 61.234375 \nQ 38.96875 64.796875 32.078125 64.796875 \nz\nM 9.8125 72.90625 \nL 32.078125 72.90625 \nQ 44.34375 72.90625 50.609375 67.359375 \nQ 56.890625 61.8125 56.890625 51.125 \nQ 56.890625 40.328125 50.609375 34.8125 \nQ 44.34375 29.296875 32.078125 29.296875 \nL 19.671875 29.296875 \nL 19.671875 0 \nL 9.8125 0 \nz\n\" id=\"DejaVuSans-80\"/>\n     </defs>\n     <g style=\"fill:#262626;\" transform=\"translate(14.798438 343.332344)rotate(-90)scale(0.1 -0.1)\">\n      <use xlink:href=\"#DejaVuSans-80\"/>\n      <use x=\"58.552734\" xlink:href=\"#DejaVuSans-114\"/>\n      <use x=\"97.416016\" xlink:href=\"#DejaVuSans-101\"/>\n      <use x=\"158.939453\" xlink:href=\"#DejaVuSans-100\"/>\n      <use x=\"222.416016\" xlink:href=\"#DejaVuSans-105\"/>\n      <use x=\"250.199219\" xlink:href=\"#DejaVuSans-99\"/>\n      <use x=\"305.179688\" xlink:href=\"#DejaVuSans-116\"/>\n      <use x=\"344.388672\" xlink:href=\"#DejaVuSans-101\"/>\n      <use x=\"405.912109\" xlink:href=\"#DejaVuSans-100\"/>\n      <use x=\"469.388672\" xlink:href=\"#DejaVuSans-32\"/>\n      <use x=\"501.175781\" xlink:href=\"#DejaVuSans-108\"/>\n      <use x=\"528.958984\" xlink:href=\"#DejaVuSans-97\"/>\n      <use x=\"590.238281\" xlink:href=\"#DejaVuSans-98\"/>\n      <use x=\"653.714844\" xlink:href=\"#DejaVuSans-101\"/>\n      <use x=\"715.238281\" xlink:href=\"#DejaVuSans-108\"/>\n     </g>\n    </g>\n   </g>\n   <g id=\"QuadMesh_1\">\n    <path clip-path=\"url(#p4cd1d4ce84)\" d=\"M 37.55625 60.66 \nL 160.31625 60.66 \nL 160.31625 183.42 \nL 37.55625 183.42 \nL 37.55625 60.66 \n\" style=\"fill:#7bbbce;stroke:#ffffff;stroke-width:0.3;\"/>\n    <path clip-path=\"url(#p4cd1d4ce84)\" d=\"M 160.31625 60.66 \nL 283.07625 60.66 \nL 283.07625 183.42 \nL 160.31625 183.42 \nL 160.31625 60.66 \n\" style=\"fill:#bae5da;stroke:#ffffff;stroke-width:0.3;\"/>\n    <path clip-path=\"url(#p4cd1d4ce84)\" d=\"M 283.07625 60.66 \nL 405.83625 60.66 \nL 405.83625 183.42 \nL 283.07625 183.42 \nL 283.07625 60.66 \n\" style=\"fill:#bae5da;stroke:#ffffff;stroke-width:0.3;\"/>\n    <path clip-path=\"url(#p4cd1d4ce84)\" d=\"M 405.83625 60.66 \nL 528.59625 60.66 \nL 528.59625 183.42 \nL 405.83625 183.42 \nL 405.83625 60.66 \n\" style=\"fill:#87c2cf;stroke:#ffffff;stroke-width:0.3;\"/>\n    <path clip-path=\"url(#p4cd1d4ce84)\" d=\"M 37.55625 183.42 \nL 160.31625 183.42 \nL 160.31625 306.18 \nL 37.55625 306.18 \nL 37.55625 183.42 \n\" style=\"fill:#a7d7d5;stroke:#ffffff;stroke-width:0.3;\"/>\n    <path clip-path=\"url(#p4cd1d4ce84)\" d=\"M 160.31625 183.42 \nL 283.07625 183.42 \nL 283.07625 306.18 \nL 160.31625 306.18 \nL 160.31625 183.42 \n\" style=\"fill:#bde7db;stroke:#ffffff;stroke-width:0.3;\"/>\n    <path clip-path=\"url(#p4cd1d4ce84)\" d=\"M 283.07625 183.42 \nL 405.83625 183.42 \nL 405.83625 306.18 \nL 283.07625 306.18 \nL 283.07625 183.42 \n\" style=\"fill:#bde7db;stroke:#ffffff;stroke-width:0.3;\"/>\n    <path clip-path=\"url(#p4cd1d4ce84)\" d=\"M 405.83625 183.42 \nL 528.59625 183.42 \nL 528.59625 306.18 \nL 405.83625 306.18 \nL 405.83625 183.42 \n\" style=\"fill:#acdbd7;stroke:#ffffff;stroke-width:0.3;\"/>\n    <path clip-path=\"url(#p4cd1d4ce84)\" d=\"M 37.55625 306.18 \nL 160.31625 306.18 \nL 160.31625 428.94 \nL 37.55625 428.94 \nL 37.55625 306.18 \n\" style=\"fill:#3975cf;stroke:#ffffff;stroke-width:0.3;\"/>\n    <path clip-path=\"url(#p4cd1d4ce84)\" d=\"M 160.31625 306.18 \nL 283.07625 306.18 \nL 283.07625 428.94 \nL 160.31625 428.94 \nL 160.31625 306.18 \n\" style=\"fill:#a4d5d5;stroke:#ffffff;stroke-width:0.3;\"/>\n    <path clip-path=\"url(#p4cd1d4ce84)\" d=\"M 283.07625 306.18 \nL 405.83625 306.18 \nL 405.83625 428.94 \nL 283.07625 428.94 \nL 283.07625 306.18 \n\" style=\"fill:#a7d7d5;stroke:#ffffff;stroke-width:0.3;\"/>\n    <path clip-path=\"url(#p4cd1d4ce84)\" d=\"M 405.83625 306.18 \nL 528.59625 306.18 \nL 528.59625 428.94 \nL 405.83625 428.94 \nL 405.83625 306.18 \n\" style=\"fill:#5da9cd;stroke:#ffffff;stroke-width:0.3;\"/>\n    <path clip-path=\"url(#p4cd1d4ce84)\" d=\"M 37.55625 428.94 \nL 160.31625 428.94 \nL 160.31625 551.7 \nL 37.55625 551.7 \nL 37.55625 428.94 \n\" style=\"fill:#ffd4ac;stroke:#ffffff;stroke-width:0.3;\"/>\n    <path clip-path=\"url(#p4cd1d4ce84)\" d=\"M 160.31625 428.94 \nL 283.07625 428.94 \nL 283.07625 551.7 \nL 160.31625 551.7 \nL 160.31625 428.94 \n\" style=\"fill:#72b6ce;stroke:#ffffff;stroke-width:0.3;\"/>\n    <path clip-path=\"url(#p4cd1d4ce84)\" d=\"M 283.07625 428.94 \nL 405.83625 428.94 \nL 405.83625 551.7 \nL 283.07625 551.7 \nL 283.07625 428.94 \n\" style=\"fill:#63adcd;stroke:#ffffff;stroke-width:0.3;\"/>\n    <path clip-path=\"url(#p4cd1d4ce84)\" d=\"M 405.83625 428.94 \nL 528.59625 428.94 \nL 528.59625 551.7 \nL 405.83625 551.7 \nL 405.83625 428.94 \n\" style=\"fill:#311f23;stroke:#ffffff;stroke-width:0.3;\"/>\n   </g>\n   <g id=\"text_11\">\n    <!-- 967 -->\n    <defs>\n     <path d=\"M 10.984375 1.515625 \nL 10.984375 10.5 \nQ 14.703125 8.734375 18.5 7.8125 \nQ 22.3125 6.890625 25.984375 6.890625 \nQ 35.75 6.890625 40.890625 13.453125 \nQ 46.046875 20.015625 46.78125 33.40625 \nQ 43.953125 29.203125 39.59375 26.953125 \nQ 35.25 24.703125 29.984375 24.703125 \nQ 19.046875 24.703125 12.671875 31.3125 \nQ 6.296875 37.9375 6.296875 49.421875 \nQ 6.296875 60.640625 12.9375 67.421875 \nQ 19.578125 74.21875 30.609375 74.21875 \nQ 43.265625 74.21875 49.921875 64.515625 \nQ 56.59375 54.828125 56.59375 36.375 \nQ 56.59375 19.140625 48.40625 8.859375 \nQ 40.234375 -1.421875 26.421875 -1.421875 \nQ 22.703125 -1.421875 18.890625 -0.6875 \nQ 15.09375 0.046875 10.984375 1.515625 \nz\nM 30.609375 32.421875 \nQ 37.25 32.421875 41.125 36.953125 \nQ 45.015625 41.5 45.015625 49.421875 \nQ 45.015625 57.28125 41.125 61.84375 \nQ 37.25 66.40625 30.609375 66.40625 \nQ 23.96875 66.40625 20.09375 61.84375 \nQ 16.21875 57.28125 16.21875 49.421875 \nQ 16.21875 41.5 20.09375 36.953125 \nQ 23.96875 32.421875 30.609375 32.421875 \nz\n\" id=\"DejaVuSans-57\"/>\n     <path d=\"M 33.015625 40.375 \nQ 26.375 40.375 22.484375 35.828125 \nQ 18.609375 31.296875 18.609375 23.390625 \nQ 18.609375 15.53125 22.484375 10.953125 \nQ 26.375 6.390625 33.015625 6.390625 \nQ 39.65625 6.390625 43.53125 10.953125 \nQ 47.40625 15.53125 47.40625 23.390625 \nQ 47.40625 31.296875 43.53125 35.828125 \nQ 39.65625 40.375 33.015625 40.375 \nz\nM 52.59375 71.296875 \nL 52.59375 62.3125 \nQ 48.875 64.0625 45.09375 64.984375 \nQ 41.3125 65.921875 37.59375 65.921875 \nQ 27.828125 65.921875 22.671875 59.328125 \nQ 17.53125 52.734375 16.796875 39.40625 \nQ 19.671875 43.65625 24.015625 45.921875 \nQ 28.375 48.1875 33.59375 48.1875 \nQ 44.578125 48.1875 50.953125 41.515625 \nQ 57.328125 34.859375 57.328125 23.390625 \nQ 57.328125 12.15625 50.6875 5.359375 \nQ 44.046875 -1.421875 33.015625 -1.421875 \nQ 20.359375 -1.421875 13.671875 8.265625 \nQ 6.984375 17.96875 6.984375 36.375 \nQ 6.984375 53.65625 15.1875 63.9375 \nQ 23.390625 74.21875 37.203125 74.21875 \nQ 40.921875 74.21875 44.703125 73.484375 \nQ 48.484375 72.75 52.59375 71.296875 \nz\n\" id=\"DejaVuSans-54\"/>\n     <path d=\"M 8.203125 72.90625 \nL 55.078125 72.90625 \nL 55.078125 68.703125 \nL 28.609375 0 \nL 18.3125 0 \nL 43.21875 64.59375 \nL 8.203125 64.59375 \nz\n\" id=\"DejaVuSans-55\"/>\n    </defs>\n    <g style=\"fill:#262626;\" transform=\"translate(89.3925 124.799375)scale(0.1 -0.1)\">\n     <use xlink:href=\"#DejaVuSans-57\"/>\n     <use x=\"63.623047\" xlink:href=\"#DejaVuSans-54\"/>\n     <use x=\"127.246094\" xlink:href=\"#DejaVuSans-55\"/>\n    </g>\n   </g>\n   <g id=\"text_12\">\n    <!-- 54 -->\n    <defs>\n     <path d=\"M 10.796875 72.90625 \nL 49.515625 72.90625 \nL 49.515625 64.59375 \nL 19.828125 64.59375 \nL 19.828125 46.734375 \nQ 21.96875 47.46875 24.109375 47.828125 \nQ 26.265625 48.1875 28.421875 48.1875 \nQ 40.625 48.1875 47.75 41.5 \nQ 54.890625 34.8125 54.890625 23.390625 \nQ 54.890625 11.625 47.5625 5.09375 \nQ 40.234375 -1.421875 26.90625 -1.421875 \nQ 22.3125 -1.421875 17.546875 -0.640625 \nQ 12.796875 0.140625 7.71875 1.703125 \nL 7.71875 11.625 \nQ 12.109375 9.234375 16.796875 8.0625 \nQ 21.484375 6.890625 26.703125 6.890625 \nQ 35.15625 6.890625 40.078125 11.328125 \nQ 45.015625 15.765625 45.015625 23.390625 \nQ 45.015625 31 40.078125 35.4375 \nQ 35.15625 39.890625 26.703125 39.890625 \nQ 22.75 39.890625 18.8125 39.015625 \nQ 14.890625 38.140625 10.796875 36.28125 \nz\n\" id=\"DejaVuSans-53\"/>\n     <path d=\"M 37.796875 64.3125 \nL 12.890625 25.390625 \nL 37.796875 25.390625 \nz\nM 35.203125 72.90625 \nL 47.609375 72.90625 \nL 47.609375 25.390625 \nL 58.015625 25.390625 \nL 58.015625 17.1875 \nL 47.609375 17.1875 \nL 47.609375 0 \nL 37.796875 0 \nL 37.796875 17.1875 \nL 4.890625 17.1875 \nL 4.890625 26.703125 \nz\n\" id=\"DejaVuSans-52\"/>\n    </defs>\n    <g style=\"fill:#262626;\" transform=\"translate(215.33375 124.799375)scale(0.1 -0.1)\">\n     <use xlink:href=\"#DejaVuSans-53\"/>\n     <use x=\"63.623047\" xlink:href=\"#DejaVuSans-52\"/>\n    </g>\n   </g>\n   <g id=\"text_13\">\n    <!-- 89 -->\n    <defs>\n     <path d=\"M 31.78125 34.625 \nQ 24.75 34.625 20.71875 30.859375 \nQ 16.703125 27.09375 16.703125 20.515625 \nQ 16.703125 13.921875 20.71875 10.15625 \nQ 24.75 6.390625 31.78125 6.390625 \nQ 38.8125 6.390625 42.859375 10.171875 \nQ 46.921875 13.96875 46.921875 20.515625 \nQ 46.921875 27.09375 42.890625 30.859375 \nQ 38.875 34.625 31.78125 34.625 \nz\nM 21.921875 38.8125 \nQ 15.578125 40.375 12.03125 44.71875 \nQ 8.5 49.078125 8.5 55.328125 \nQ 8.5 64.0625 14.71875 69.140625 \nQ 20.953125 74.21875 31.78125 74.21875 \nQ 42.671875 74.21875 48.875 69.140625 \nQ 55.078125 64.0625 55.078125 55.328125 \nQ 55.078125 49.078125 51.53125 44.71875 \nQ 48 40.375 41.703125 38.8125 \nQ 48.828125 37.15625 52.796875 32.3125 \nQ 56.78125 27.484375 56.78125 20.515625 \nQ 56.78125 9.90625 50.3125 4.234375 \nQ 43.84375 -1.421875 31.78125 -1.421875 \nQ 19.734375 -1.421875 13.25 4.234375 \nQ 6.78125 9.90625 6.78125 20.515625 \nQ 6.78125 27.484375 10.78125 32.3125 \nQ 14.796875 37.15625 21.921875 38.8125 \nz\nM 18.3125 54.390625 \nQ 18.3125 48.734375 21.84375 45.5625 \nQ 25.390625 42.390625 31.78125 42.390625 \nQ 38.140625 42.390625 41.71875 45.5625 \nQ 45.3125 48.734375 45.3125 54.390625 \nQ 45.3125 60.0625 41.71875 63.234375 \nQ 38.140625 66.40625 31.78125 66.40625 \nQ 25.390625 66.40625 21.84375 63.234375 \nQ 18.3125 60.0625 18.3125 54.390625 \nz\n\" id=\"DejaVuSans-56\"/>\n    </defs>\n    <g style=\"fill:#262626;\" transform=\"translate(338.09375 124.799375)scale(0.1 -0.1)\">\n     <use xlink:href=\"#DejaVuSans-56\"/>\n     <use x=\"63.623047\" xlink:href=\"#DejaVuSans-57\"/>\n    </g>\n   </g>\n   <g id=\"text_14\">\n    <!-- 793 -->\n    <defs>\n     <path d=\"M 40.578125 39.3125 \nQ 47.65625 37.796875 51.625 33 \nQ 55.609375 28.21875 55.609375 21.1875 \nQ 55.609375 10.40625 48.1875 4.484375 \nQ 40.765625 -1.421875 27.09375 -1.421875 \nQ 22.515625 -1.421875 17.65625 -0.515625 \nQ 12.796875 0.390625 7.625 2.203125 \nL 7.625 11.71875 \nQ 11.71875 9.328125 16.59375 8.109375 \nQ 21.484375 6.890625 26.8125 6.890625 \nQ 36.078125 6.890625 40.9375 10.546875 \nQ 45.796875 14.203125 45.796875 21.1875 \nQ 45.796875 27.640625 41.28125 31.265625 \nQ 36.765625 34.90625 28.71875 34.90625 \nL 20.21875 34.90625 \nL 20.21875 43.015625 \nL 29.109375 43.015625 \nQ 36.375 43.015625 40.234375 45.921875 \nQ 44.09375 48.828125 44.09375 54.296875 \nQ 44.09375 59.90625 40.109375 62.90625 \nQ 36.140625 65.921875 28.71875 65.921875 \nQ 24.65625 65.921875 20.015625 65.03125 \nQ 15.375 64.15625 9.8125 62.3125 \nL 9.8125 71.09375 \nQ 15.4375 72.65625 20.34375 73.4375 \nQ 25.25 74.21875 29.59375 74.21875 \nQ 40.828125 74.21875 47.359375 69.109375 \nQ 53.90625 64.015625 53.90625 55.328125 \nQ 53.90625 49.265625 50.4375 45.09375 \nQ 46.96875 40.921875 40.578125 39.3125 \nz\n\" id=\"DejaVuSans-51\"/>\n    </defs>\n    <g style=\"fill:#262626;\" transform=\"translate(457.6725 124.799375)scale(0.1 -0.1)\">\n     <use xlink:href=\"#DejaVuSans-55\"/>\n     <use x=\"63.623047\" xlink:href=\"#DejaVuSans-57\"/>\n     <use x=\"127.246094\" xlink:href=\"#DejaVuSans-51\"/>\n    </g>\n   </g>\n   <g id=\"text_15\">\n    <!-- 368 -->\n    <g style=\"fill:#262626;\" transform=\"translate(89.3925 247.559375)scale(0.1 -0.1)\">\n     <use xlink:href=\"#DejaVuSans-51\"/>\n     <use x=\"63.623047\" xlink:href=\"#DejaVuSans-54\"/>\n     <use x=\"127.246094\" xlink:href=\"#DejaVuSans-56\"/>\n    </g>\n   </g>\n   <g id=\"text_16\">\n    <!-- 9 -->\n    <g style=\"fill:#262626;\" transform=\"translate(218.515 247.559375)scale(0.1 -0.1)\">\n     <use xlink:href=\"#DejaVuSans-57\"/>\n    </g>\n   </g>\n   <g id=\"text_17\">\n    <!-- 42 -->\n    <defs>\n     <path d=\"M 19.1875 8.296875 \nL 53.609375 8.296875 \nL 53.609375 0 \nL 7.328125 0 \nL 7.328125 8.296875 \nQ 12.9375 14.109375 22.625 23.890625 \nQ 32.328125 33.6875 34.8125 36.53125 \nQ 39.546875 41.84375 41.421875 45.53125 \nQ 43.3125 49.21875 43.3125 52.78125 \nQ 43.3125 58.59375 39.234375 62.25 \nQ 35.15625 65.921875 28.609375 65.921875 \nQ 23.96875 65.921875 18.8125 64.3125 \nQ 13.671875 62.703125 7.8125 59.421875 \nL 7.8125 69.390625 \nQ 13.765625 71.78125 18.9375 73 \nQ 24.125 74.21875 28.421875 74.21875 \nQ 39.75 74.21875 46.484375 68.546875 \nQ 53.21875 62.890625 53.21875 53.421875 \nQ 53.21875 48.921875 51.53125 44.890625 \nQ 49.859375 40.875 45.40625 35.40625 \nQ 44.1875 33.984375 37.640625 27.21875 \nQ 31.109375 20.453125 19.1875 8.296875 \nz\n\" id=\"DejaVuSans-50\"/>\n    </defs>\n    <g style=\"fill:#262626;\" transform=\"translate(338.09375 247.559375)scale(0.1 -0.1)\">\n     <use xlink:href=\"#DejaVuSans-52\"/>\n     <use x=\"63.623047\" xlink:href=\"#DejaVuSans-50\"/>\n    </g>\n   </g>\n   <g id=\"text_18\">\n    <!-- 278 -->\n    <g style=\"fill:#262626;\" transform=\"translate(457.6725 247.559375)scale(0.1 -0.1)\">\n     <use xlink:href=\"#DejaVuSans-50\"/>\n     <use x=\"63.623047\" xlink:href=\"#DejaVuSans-55\"/>\n     <use x=\"127.246094\" xlink:href=\"#DejaVuSans-56\"/>\n    </g>\n   </g>\n   <g id=\"text_19\">\n    <!-- 2377 -->\n    <g style=\"fill:#ffffff;\" transform=\"translate(86.21125 370.319375)scale(0.1 -0.1)\">\n     <use xlink:href=\"#DejaVuSans-50\"/>\n     <use x=\"63.623047\" xlink:href=\"#DejaVuSans-51\"/>\n     <use x=\"127.246094\" xlink:href=\"#DejaVuSans-55\"/>\n     <use x=\"190.869141\" xlink:href=\"#DejaVuSans-55\"/>\n    </g>\n   </g>\n   <g id=\"text_20\">\n    <!-- 389 -->\n    <g style=\"fill:#262626;\" transform=\"translate(212.1525 370.319375)scale(0.1 -0.1)\">\n     <use xlink:href=\"#DejaVuSans-51\"/>\n     <use x=\"63.623047\" xlink:href=\"#DejaVuSans-56\"/>\n     <use x=\"127.246094\" xlink:href=\"#DejaVuSans-57\"/>\n    </g>\n   </g>\n   <g id=\"text_21\">\n    <!-- 363 -->\n    <g style=\"fill:#262626;\" transform=\"translate(334.9125 370.319375)scale(0.1 -0.1)\">\n     <use xlink:href=\"#DejaVuSans-51\"/>\n     <use x=\"63.623047\" xlink:href=\"#DejaVuSans-54\"/>\n     <use x=\"127.246094\" xlink:href=\"#DejaVuSans-51\"/>\n    </g>\n   </g>\n   <g id=\"text_22\">\n    <!-- 1335 -->\n    <defs>\n     <path d=\"M 12.40625 8.296875 \nL 28.515625 8.296875 \nL 28.515625 63.921875 \nL 10.984375 60.40625 \nL 10.984375 69.390625 \nL 28.421875 72.90625 \nL 38.28125 72.90625 \nL 38.28125 8.296875 \nL 54.390625 8.296875 \nL 54.390625 0 \nL 12.40625 0 \nz\n\" id=\"DejaVuSans-49\"/>\n    </defs>\n    <g style=\"fill:#ffffff;\" transform=\"translate(454.49125 370.319375)scale(0.1 -0.1)\">\n     <use xlink:href=\"#DejaVuSans-49\"/>\n     <use x=\"63.623047\" xlink:href=\"#DejaVuSans-51\"/>\n     <use x=\"127.246094\" xlink:href=\"#DejaVuSans-51\"/>\n     <use x=\"190.869141\" xlink:href=\"#DejaVuSans-53\"/>\n    </g>\n   </g>\n   <g id=\"text_23\">\n    <!-- 10289 -->\n    <defs>\n     <path d=\"M 31.78125 66.40625 \nQ 24.171875 66.40625 20.328125 58.90625 \nQ 16.5 51.421875 16.5 36.375 \nQ 16.5 21.390625 20.328125 13.890625 \nQ 24.171875 6.390625 31.78125 6.390625 \nQ 39.453125 6.390625 43.28125 13.890625 \nQ 47.125 21.390625 47.125 36.375 \nQ 47.125 51.421875 43.28125 58.90625 \nQ 39.453125 66.40625 31.78125 66.40625 \nz\nM 31.78125 74.21875 \nQ 44.046875 74.21875 50.515625 64.515625 \nQ 56.984375 54.828125 56.984375 36.375 \nQ 56.984375 17.96875 50.515625 8.265625 \nQ 44.046875 -1.421875 31.78125 -1.421875 \nQ 19.53125 -1.421875 13.0625 8.265625 \nQ 6.59375 17.96875 6.59375 36.375 \nQ 6.59375 54.828125 13.0625 64.515625 \nQ 19.53125 74.21875 31.78125 74.21875 \nz\n\" id=\"DejaVuSans-48\"/>\n    </defs>\n    <g style=\"fill:#262626;\" transform=\"translate(83.03 493.079375)scale(0.1 -0.1)\">\n     <use xlink:href=\"#DejaVuSans-49\"/>\n     <use x=\"63.623047\" xlink:href=\"#DejaVuSans-48\"/>\n     <use x=\"127.246094\" xlink:href=\"#DejaVuSans-50\"/>\n     <use x=\"190.869141\" xlink:href=\"#DejaVuSans-56\"/>\n     <use x=\"254.492188\" xlink:href=\"#DejaVuSans-57\"/>\n    </g>\n   </g>\n   <g id=\"text_24\">\n    <!-- 1085 -->\n    <g style=\"fill:#262626;\" transform=\"translate(208.97125 493.079375)scale(0.1 -0.1)\">\n     <use xlink:href=\"#DejaVuSans-49\"/>\n     <use x=\"63.623047\" xlink:href=\"#DejaVuSans-48\"/>\n     <use x=\"127.246094\" xlink:href=\"#DejaVuSans-56\"/>\n     <use x=\"190.869141\" xlink:href=\"#DejaVuSans-53\"/>\n    </g>\n   </g>\n   <g id=\"text_25\">\n    <!-- 1265 -->\n    <g style=\"fill:#ffffff;\" transform=\"translate(331.73125 493.079375)scale(0.1 -0.1)\">\n     <use xlink:href=\"#DejaVuSans-49\"/>\n     <use x=\"63.623047\" xlink:href=\"#DejaVuSans-50\"/>\n     <use x=\"127.246094\" xlink:href=\"#DejaVuSans-54\"/>\n     <use x=\"190.869141\" xlink:href=\"#DejaVuSans-53\"/>\n    </g>\n   </g>\n   <g id=\"text_26\">\n    <!-- 5710 -->\n    <g style=\"fill:#ffffff;\" transform=\"translate(454.49125 493.079375)scale(0.1 -0.1)\">\n     <use xlink:href=\"#DejaVuSans-53\"/>\n     <use x=\"63.623047\" xlink:href=\"#DejaVuSans-55\"/>\n     <use x=\"127.246094\" xlink:href=\"#DejaVuSans-49\"/>\n     <use x=\"190.869141\" xlink:href=\"#DejaVuSans-48\"/>\n    </g>\n   </g>\n   <g id=\"text_27\">\n    <!-- Confusion Matrix for -->\n    <defs>\n     <path d=\"M 64.40625 67.28125 \nL 64.40625 56.890625 \nQ 59.421875 61.53125 53.78125 63.8125 \nQ 48.140625 66.109375 41.796875 66.109375 \nQ 29.296875 66.109375 22.65625 58.46875 \nQ 16.015625 50.828125 16.015625 36.375 \nQ 16.015625 21.96875 22.65625 14.328125 \nQ 29.296875 6.6875 41.796875 6.6875 \nQ 48.140625 6.6875 53.78125 8.984375 \nQ 59.421875 11.28125 64.40625 15.921875 \nL 64.40625 5.609375 \nQ 59.234375 2.09375 53.4375 0.328125 \nQ 47.65625 -1.421875 41.21875 -1.421875 \nQ 24.65625 -1.421875 15.125 8.703125 \nQ 5.609375 18.84375 5.609375 36.375 \nQ 5.609375 53.953125 15.125 64.078125 \nQ 24.65625 74.21875 41.21875 74.21875 \nQ 47.75 74.21875 53.53125 72.484375 \nQ 59.328125 70.75 64.40625 67.28125 \nz\n\" id=\"DejaVuSans-67\"/>\n     <path d=\"M 30.609375 48.390625 \nQ 23.390625 48.390625 19.1875 42.75 \nQ 14.984375 37.109375 14.984375 27.296875 \nQ 14.984375 17.484375 19.15625 11.84375 \nQ 23.34375 6.203125 30.609375 6.203125 \nQ 37.796875 6.203125 41.984375 11.859375 \nQ 46.1875 17.53125 46.1875 27.296875 \nQ 46.1875 37.015625 41.984375 42.703125 \nQ 37.796875 48.390625 30.609375 48.390625 \nz\nM 30.609375 56 \nQ 42.328125 56 49.015625 48.375 \nQ 55.71875 40.765625 55.71875 27.296875 \nQ 55.71875 13.875 49.015625 6.21875 \nQ 42.328125 -1.421875 30.609375 -1.421875 \nQ 18.84375 -1.421875 12.171875 6.21875 \nQ 5.515625 13.875 5.515625 27.296875 \nQ 5.515625 40.765625 12.171875 48.375 \nQ 18.84375 56 30.609375 56 \nz\n\" id=\"DejaVuSans-111\"/>\n     <path d=\"M 37.109375 75.984375 \nL 37.109375 68.5 \nL 28.515625 68.5 \nQ 23.6875 68.5 21.796875 66.546875 \nQ 19.921875 64.59375 19.921875 59.515625 \nL 19.921875 54.6875 \nL 34.71875 54.6875 \nL 34.71875 47.703125 \nL 19.921875 47.703125 \nL 19.921875 0 \nL 10.890625 0 \nL 10.890625 47.703125 \nL 2.296875 47.703125 \nL 2.296875 54.6875 \nL 10.890625 54.6875 \nL 10.890625 58.5 \nQ 10.890625 67.625 15.140625 71.796875 \nQ 19.390625 75.984375 28.609375 75.984375 \nz\n\" id=\"DejaVuSans-102\"/>\n     <path d=\"M 9.8125 72.90625 \nL 24.515625 72.90625 \nL 43.109375 23.296875 \nL 61.8125 72.90625 \nL 76.515625 72.90625 \nL 76.515625 0 \nL 66.890625 0 \nL 66.890625 64.015625 \nL 48.09375 14.015625 \nL 38.1875 14.015625 \nL 19.390625 64.015625 \nL 19.390625 0 \nL 9.8125 0 \nz\n\" id=\"DejaVuSans-77\"/>\n     <path d=\"M 54.890625 54.6875 \nL 35.109375 28.078125 \nL 55.90625 0 \nL 45.3125 0 \nL 29.390625 21.484375 \nL 13.484375 0 \nL 2.875 0 \nL 24.125 28.609375 \nL 4.6875 54.6875 \nL 15.28125 54.6875 \nL 29.78125 35.203125 \nL 44.28125 54.6875 \nz\n\" id=\"DejaVuSans-120\"/>\n    </defs>\n    <g style=\"fill:#262626;\" transform=\"translate(222.2775 54.66)scale(0.12 -0.12)\">\n     <use xlink:href=\"#DejaVuSans-67\"/>\n     <use x=\"69.824219\" xlink:href=\"#DejaVuSans-111\"/>\n     <use x=\"131.005859\" xlink:href=\"#DejaVuSans-110\"/>\n     <use x=\"194.384766\" xlink:href=\"#DejaVuSans-102\"/>\n     <use x=\"229.589844\" xlink:href=\"#DejaVuSans-117\"/>\n     <use x=\"292.96875\" xlink:href=\"#DejaVuSans-115\"/>\n     <use x=\"345.068359\" xlink:href=\"#DejaVuSans-105\"/>\n     <use x=\"372.851562\" xlink:href=\"#DejaVuSans-111\"/>\n     <use x=\"434.033203\" xlink:href=\"#DejaVuSans-110\"/>\n     <use x=\"497.412109\" xlink:href=\"#DejaVuSans-32\"/>\n     <use x=\"529.199219\" xlink:href=\"#DejaVuSans-77\"/>\n     <use x=\"615.478516\" xlink:href=\"#DejaVuSans-97\"/>\n     <use x=\"676.757812\" xlink:href=\"#DejaVuSans-116\"/>\n     <use x=\"715.966797\" xlink:href=\"#DejaVuSans-114\"/>\n     <use x=\"757.080078\" xlink:href=\"#DejaVuSans-105\"/>\n     <use x=\"784.863281\" xlink:href=\"#DejaVuSans-120\"/>\n     <use x=\"844.042969\" xlink:href=\"#DejaVuSans-32\"/>\n     <use x=\"875.830078\" xlink:href=\"#DejaVuSans-102\"/>\n     <use x=\"911.035156\" xlink:href=\"#DejaVuSans-111\"/>\n     <use x=\"972.216797\" xlink:href=\"#DejaVuSans-114\"/>\n    </g>\n   </g>\n  </g>\n  <g id=\"axes_2\">\n   <g id=\"patch_3\">\n    <path clip-path=\"url(#p9001571019)\" d=\"M 559.28625 605.16 \nL 559.28625 602.824219 \nL 559.28625 9.535781 \nL 559.28625 7.2 \nL 589.18425 7.2 \nL 589.18425 9.535781 \nL 589.18425 602.824219 \nL 589.18425 605.16 \nz\n\" style=\"fill:#ffffff;stroke:#ffffff;stroke-linejoin:miter;stroke-width:0.01;\"/>\n   </g>\n   <g id=\"matplotlib.axis_3\"/>\n   <g id=\"matplotlib.axis_4\">\n    <g id=\"ytick_5\">\n     <g id=\"line2d_1\">\n      <defs>\n       <path d=\"M 0 0 \nL 3.5 0 \n\" id=\"m129ddc656c\" style=\"stroke:#262626;stroke-width:0.8;\"/>\n      </defs>\n      <g>\n       <use style=\"fill:#262626;stroke:#262626;stroke-width:0.8;\" x=\"589.18425\" xlink:href=\"#m129ddc656c\" y=\"489.348875\"/>\n      </g>\n     </g>\n     <g id=\"text_28\">\n      <!-- 2000 -->\n      <g style=\"fill:#262626;\" transform=\"translate(596.18425 493.148094)scale(0.1 -0.1)\">\n       <use xlink:href=\"#DejaVuSans-50\"/>\n       <use x=\"63.623047\" xlink:href=\"#DejaVuSans-48\"/>\n       <use x=\"127.246094\" xlink:href=\"#DejaVuSans-48\"/>\n       <use x=\"190.869141\" xlink:href=\"#DejaVuSans-48\"/>\n      </g>\n     </g>\n    </g>\n    <g id=\"ytick_6\">\n     <g id=\"line2d_2\">\n      <g>\n       <use style=\"fill:#262626;stroke:#262626;stroke-width:0.8;\" x=\"589.18425\" xlink:href=\"#m129ddc656c\" y=\"373.014245\"/>\n      </g>\n     </g>\n     <g id=\"text_29\">\n      <!-- 4000 -->\n      <g style=\"fill:#262626;\" transform=\"translate(596.18425 376.813464)scale(0.1 -0.1)\">\n       <use xlink:href=\"#DejaVuSans-52\"/>\n       <use x=\"63.623047\" xlink:href=\"#DejaVuSans-48\"/>\n       <use x=\"127.246094\" xlink:href=\"#DejaVuSans-48\"/>\n       <use x=\"190.869141\" xlink:href=\"#DejaVuSans-48\"/>\n      </g>\n     </g>\n    </g>\n    <g id=\"ytick_7\">\n     <g id=\"line2d_3\">\n      <g>\n       <use style=\"fill:#262626;stroke:#262626;stroke-width:0.8;\" x=\"589.18425\" xlink:href=\"#m129ddc656c\" y=\"256.679615\"/>\n      </g>\n     </g>\n     <g id=\"text_30\">\n      <!-- 6000 -->\n      <g style=\"fill:#262626;\" transform=\"translate(596.18425 260.478834)scale(0.1 -0.1)\">\n       <use xlink:href=\"#DejaVuSans-54\"/>\n       <use x=\"63.623047\" xlink:href=\"#DejaVuSans-48\"/>\n       <use x=\"127.246094\" xlink:href=\"#DejaVuSans-48\"/>\n       <use x=\"190.869141\" xlink:href=\"#DejaVuSans-48\"/>\n      </g>\n     </g>\n    </g>\n    <g id=\"ytick_8\">\n     <g id=\"line2d_4\">\n      <g>\n       <use style=\"fill:#262626;stroke:#262626;stroke-width:0.8;\" x=\"589.18425\" xlink:href=\"#m129ddc656c\" y=\"140.344984\"/>\n      </g>\n     </g>\n     <g id=\"text_31\">\n      <!-- 8000 -->\n      <g style=\"fill:#262626;\" transform=\"translate(596.18425 144.144203)scale(0.1 -0.1)\">\n       <use xlink:href=\"#DejaVuSans-56\"/>\n       <use x=\"63.623047\" xlink:href=\"#DejaVuSans-48\"/>\n       <use x=\"127.246094\" xlink:href=\"#DejaVuSans-48\"/>\n       <use x=\"190.869141\" xlink:href=\"#DejaVuSans-48\"/>\n      </g>\n     </g>\n    </g>\n    <g id=\"ytick_9\">\n     <g id=\"line2d_5\">\n      <g>\n       <use style=\"fill:#262626;stroke:#262626;stroke-width:0.8;\" x=\"589.18425\" xlink:href=\"#m129ddc656c\" y=\"24.010354\"/>\n      </g>\n     </g>\n     <g id=\"text_32\">\n      <!-- 10000 -->\n      <g style=\"fill:#262626;\" transform=\"translate(596.18425 27.809573)scale(0.1 -0.1)\">\n       <use xlink:href=\"#DejaVuSans-49\"/>\n       <use x=\"63.623047\" xlink:href=\"#DejaVuSans-48\"/>\n       <use x=\"127.246094\" xlink:href=\"#DejaVuSans-48\"/>\n       <use x=\"190.869141\" xlink:href=\"#DejaVuSans-48\"/>\n       <use x=\"254.492188\" xlink:href=\"#DejaVuSans-48\"/>\n      </g>\n     </g>\n    </g>\n   </g>\n   <image height=\"598\" id=\"image6798569325\" transform=\"scale(1 -1)translate(0 -598)\" width=\"30\" x=\"559\" xlink:href=\"data:image/png;base64,\niVBORw0KGgoAAAANSUhEUgAAAB4AAAJWCAYAAABPpDeKAAAABHNCSVQICAgIfAhkiAAAAxlJREFUeJztnYFtwzAQAyX599+ok3SALpHY3YIEfHcLPKgnKcNN0v3z9/usAqcxdK215ntXBKsYMHi+d2dwT/FNM5dxigGME85cvAIxTjGAccIpNk4xeObi7bj4IPBorgwWyPsHa64YRcUdwcYph3GKwduxRx2D19W8HfeO+mNXh1Dx+wcDu/qmmcs4xeAdNVAxrkA0V4wpPd26Y8BgXnMBFX/vXRlsnGKoOAZPsUcdA6j48XYKATTX/e0MbsapMxgYJ1xz8cw1i6bYo44xi3Y7aa4Ys3GfitjGKQTRXDjFp/RBEOMUo9nVnQu5GKfS2xdknGBHDVR8aAXSNFfnwdo4xZhF27FxigFUbJxS8I569v2pDC7u+IEpbv6JD3bUsx5agSzajotxojUXskBgio1TDGCccDtuHjXt0QdnLl6BNL+paZwyWJnvH0w0F+5dJq4yjVMMXlfzFNtcMYC3k3FKwTtqoOK79P1B4xRDxTHmMU4hNFcMFb9/sHGKUVRc+so1Mk6wo56FU/zQ/kGczRXDOMUAxmnh4vQsmLlmGacQRHPhCqS0YmKcFjBOKs7AixNv8HR+A1bFhMG8owYqPgv2M9KaKwZQsXFKobliFHdcWjIwTjxzARUbpxBEc/EUl64n4xRDc8WY1mRinIDmoim+aDvWXDHm7M7sYpxoO/Z2isHral5laq4YvK7mVabmigFUbJxSAM3lfZzCOMWwq2PwduxRx0DeTh2MUwwVxzBOMezqGBbI+wcjzdVBxe8fjLydYF/1Nk4xeEc9F+3rCrwC0Vwx5tqaK8Mc2lEbpxjGKYbmijHnwBRrrhhzSqOtzPcP5jXXXDjFuB171DGAt9Om7dg4xZhTelPujt8/eDbQXJ3Bxun9g41TDHf8/sG8o0bGCfaxKuMUg2eu2aUfRUXGifajUUTFxinD7KtzPfUUL2CcYIqNU4xZOMW79LcB4xTDOMWYfU1lMDBORHPRFK9jnDLwmosYJ9qOfa6OwTMXrzI1VwwLJAYwTrjmMk4xjFMMX77EmO2riBC85rJAYgDjhGsuZIEYpwz/nu9ANam1ZroAAAAASUVORK5CYII=\" y=\"-7\"/>\n   <g id=\"patch_4\">\n    <path d=\"M 559.28625 605.16 \nL 559.28625 602.824219 \nL 559.28625 9.535781 \nL 559.28625 7.2 \nL 589.18425 7.2 \nL 589.18425 9.535781 \nL 589.18425 602.824219 \nL 589.18425 605.16 \nz\n\" style=\"fill:none;\"/>\n   </g>\n  </g>\n </g>\n <defs>\n  <clipPath id=\"p4cd1d4ce84\">\n   <rect height=\"491.04\" width=\"491.04\" x=\"37.55625\" y=\"60.66\"/>\n  </clipPath>\n  <clipPath id=\"p9001571019\">\n   <rect height=\"597.96\" width=\"29.898\" x=\"559.28625\" y=\"7.2\"/>\n  </clipPath>\n </defs>\n</svg>\n"
          },
          "metadata": {
            "tags": [],
            "needs_background": "light"
          }
        }
      ]
    },
    {
      "cell_type": "code",
      "metadata": {
        "id": "fOMiTMxRJDJF",
        "colab_type": "code",
        "colab": {}
      },
      "source": [
        "rf_results = rf_model.predict(combined_TFIDF_test) "
      ],
      "execution_count": 0,
      "outputs": []
    },
    {
      "cell_type": "code",
      "metadata": {
        "id": "LkcanTGFN9LD",
        "colab_type": "code",
        "colab": {}
      },
      "source": [
        "mat = confusion_matrix(rf_results,df_test.Stance)"
      ],
      "execution_count": 0,
      "outputs": []
    },
    {
      "cell_type": "code",
      "metadata": {
        "id": "ipzGCjv2OALE",
        "colab_type": "code",
        "colab": {
          "base_uri": "https://localhost:8080/",
          "height": 845
        },
        "outputId": "7c854dbd-3a1d-4abd-bad0-573bef545a51"
      },
      "source": [
        "import seaborn as sns\n",
        "fig, ax = plt.subplots(figsize=(11,11))  \n",
        "ax.set_title(\"Confusion Matrix for\")\n",
        "sns.heatmap(mat.T, square=True, annot=True, fmt='d', cbar=True,cmap=\"icefire\",\n",
        "xticklabels=classes,yticklabels=classes,linewidths=.3, ax=ax)\n",
        "plt.xlabel('True label')\n",
        "plt.ylabel('Predicted label');"
      ],
      "execution_count": 270,
      "outputs": [
        {
          "output_type": "display_data",
          "data": {
            "text/plain": [
              "<Figure size 792x792 with 2 Axes>"
            ],
            "image/svg+xml": "<?xml version=\"1.0\" encoding=\"utf-8\" standalone=\"no\"?>\n<!DOCTYPE svg PUBLIC \"-//W3C//DTD SVG 1.1//EN\"\n  \"http://www.w3.org/Graphics/SVG/1.1/DTD/svg11.dtd\">\n<!-- Created with matplotlib (https://matplotlib.org/) -->\n<svg height=\"618.238906pt\" version=\"1.1\" viewBox=\"0 0 635.19675 618.238906\" width=\"635.19675pt\" xmlns=\"http://www.w3.org/2000/svg\" xmlns:xlink=\"http://www.w3.org/1999/xlink\">\n <defs>\n  <style type=\"text/css\">\n*{stroke-linecap:butt;stroke-linejoin:round;}\n  </style>\n </defs>\n <g id=\"figure_1\">\n  <g id=\"patch_1\">\n   <path d=\"M 0 618.238906 \nL 635.19675 618.238906 \nL 635.19675 0 \nL 0 0 \nz\n\" style=\"fill:none;\"/>\n  </g>\n  <g id=\"axes_1\">\n   <g id=\"patch_2\">\n    <path d=\"M 37.55625 551.7 \nL 528.59625 551.7 \nL 528.59625 60.66 \nL 37.55625 60.66 \nz\n\" style=\"fill:#ffffff;\"/>\n   </g>\n   <g id=\"matplotlib.axis_1\">\n    <g id=\"xtick_1\">\n     <g id=\"text_1\">\n      <!-- agree -->\n      <defs>\n       <path d=\"M 34.28125 27.484375 \nQ 23.390625 27.484375 19.1875 25 \nQ 14.984375 22.515625 14.984375 16.5 \nQ 14.984375 11.71875 18.140625 8.90625 \nQ 21.296875 6.109375 26.703125 6.109375 \nQ 34.1875 6.109375 38.703125 11.40625 \nQ 43.21875 16.703125 43.21875 25.484375 \nL 43.21875 27.484375 \nz\nM 52.203125 31.203125 \nL 52.203125 0 \nL 43.21875 0 \nL 43.21875 8.296875 \nQ 40.140625 3.328125 35.546875 0.953125 \nQ 30.953125 -1.421875 24.3125 -1.421875 \nQ 15.921875 -1.421875 10.953125 3.296875 \nQ 6 8.015625 6 15.921875 \nQ 6 25.140625 12.171875 29.828125 \nQ 18.359375 34.515625 30.609375 34.515625 \nL 43.21875 34.515625 \nL 43.21875 35.40625 \nQ 43.21875 41.609375 39.140625 45 \nQ 35.0625 48.390625 27.6875 48.390625 \nQ 23 48.390625 18.546875 47.265625 \nQ 14.109375 46.140625 10.015625 43.890625 \nL 10.015625 52.203125 \nQ 14.9375 54.109375 19.578125 55.046875 \nQ 24.21875 56 28.609375 56 \nQ 40.484375 56 46.34375 49.84375 \nQ 52.203125 43.703125 52.203125 31.203125 \nz\n\" id=\"DejaVuSans-97\"/>\n       <path d=\"M 45.40625 27.984375 \nQ 45.40625 37.75 41.375 43.109375 \nQ 37.359375 48.484375 30.078125 48.484375 \nQ 22.859375 48.484375 18.828125 43.109375 \nQ 14.796875 37.75 14.796875 27.984375 \nQ 14.796875 18.265625 18.828125 12.890625 \nQ 22.859375 7.515625 30.078125 7.515625 \nQ 37.359375 7.515625 41.375 12.890625 \nQ 45.40625 18.265625 45.40625 27.984375 \nz\nM 54.390625 6.78125 \nQ 54.390625 -7.171875 48.1875 -13.984375 \nQ 42 -20.796875 29.203125 -20.796875 \nQ 24.46875 -20.796875 20.265625 -20.09375 \nQ 16.0625 -19.390625 12.109375 -17.921875 \nL 12.109375 -9.1875 \nQ 16.0625 -11.328125 19.921875 -12.34375 \nQ 23.78125 -13.375 27.78125 -13.375 \nQ 36.625 -13.375 41.015625 -8.765625 \nQ 45.40625 -4.15625 45.40625 5.171875 \nL 45.40625 9.625 \nQ 42.625 4.78125 38.28125 2.390625 \nQ 33.9375 0 27.875 0 \nQ 17.828125 0 11.671875 7.65625 \nQ 5.515625 15.328125 5.515625 27.984375 \nQ 5.515625 40.671875 11.671875 48.328125 \nQ 17.828125 56 27.875 56 \nQ 33.9375 56 38.28125 53.609375 \nQ 42.625 51.21875 45.40625 46.390625 \nL 45.40625 54.6875 \nL 54.390625 54.6875 \nz\n\" id=\"DejaVuSans-103\"/>\n       <path d=\"M 41.109375 46.296875 \nQ 39.59375 47.171875 37.8125 47.578125 \nQ 36.03125 48 33.890625 48 \nQ 26.265625 48 22.1875 43.046875 \nQ 18.109375 38.09375 18.109375 28.8125 \nL 18.109375 0 \nL 9.078125 0 \nL 9.078125 54.6875 \nL 18.109375 54.6875 \nL 18.109375 46.1875 \nQ 20.953125 51.171875 25.484375 53.578125 \nQ 30.03125 56 36.53125 56 \nQ 37.453125 56 38.578125 55.875 \nQ 39.703125 55.765625 41.0625 55.515625 \nz\n\" id=\"DejaVuSans-114\"/>\n       <path d=\"M 56.203125 29.59375 \nL 56.203125 25.203125 \nL 14.890625 25.203125 \nQ 15.484375 15.921875 20.484375 11.0625 \nQ 25.484375 6.203125 34.421875 6.203125 \nQ 39.59375 6.203125 44.453125 7.46875 \nQ 49.3125 8.734375 54.109375 11.28125 \nL 54.109375 2.78125 \nQ 49.265625 0.734375 44.1875 -0.34375 \nQ 39.109375 -1.421875 33.890625 -1.421875 \nQ 20.796875 -1.421875 13.15625 6.1875 \nQ 5.515625 13.8125 5.515625 26.8125 \nQ 5.515625 40.234375 12.765625 48.109375 \nQ 20.015625 56 32.328125 56 \nQ 43.359375 56 49.78125 48.890625 \nQ 56.203125 41.796875 56.203125 29.59375 \nz\nM 47.21875 32.234375 \nQ 47.125 39.59375 43.09375 43.984375 \nQ 39.0625 48.390625 32.421875 48.390625 \nQ 24.90625 48.390625 20.390625 44.140625 \nQ 15.875 39.890625 15.1875 32.171875 \nz\n\" id=\"DejaVuSans-101\"/>\n      </defs>\n      <g style=\"fill:#262626;\" transform=\"translate(84.601875 566.298437)scale(0.1 -0.1)\">\n       <use xlink:href=\"#DejaVuSans-97\"/>\n       <use x=\"61.279297\" xlink:href=\"#DejaVuSans-103\"/>\n       <use x=\"124.755859\" xlink:href=\"#DejaVuSans-114\"/>\n       <use x=\"163.619141\" xlink:href=\"#DejaVuSans-101\"/>\n       <use x=\"225.142578\" xlink:href=\"#DejaVuSans-101\"/>\n      </g>\n     </g>\n    </g>\n    <g id=\"xtick_2\">\n     <g id=\"text_2\">\n      <!-- disagree -->\n      <defs>\n       <path d=\"M 45.40625 46.390625 \nL 45.40625 75.984375 \nL 54.390625 75.984375 \nL 54.390625 0 \nL 45.40625 0 \nL 45.40625 8.203125 \nQ 42.578125 3.328125 38.25 0.953125 \nQ 33.9375 -1.421875 27.875 -1.421875 \nQ 17.96875 -1.421875 11.734375 6.484375 \nQ 5.515625 14.40625 5.515625 27.296875 \nQ 5.515625 40.1875 11.734375 48.09375 \nQ 17.96875 56 27.875 56 \nQ 33.9375 56 38.25 53.625 \nQ 42.578125 51.265625 45.40625 46.390625 \nz\nM 14.796875 27.296875 \nQ 14.796875 17.390625 18.875 11.75 \nQ 22.953125 6.109375 30.078125 6.109375 \nQ 37.203125 6.109375 41.296875 11.75 \nQ 45.40625 17.390625 45.40625 27.296875 \nQ 45.40625 37.203125 41.296875 42.84375 \nQ 37.203125 48.484375 30.078125 48.484375 \nQ 22.953125 48.484375 18.875 42.84375 \nQ 14.796875 37.203125 14.796875 27.296875 \nz\n\" id=\"DejaVuSans-100\"/>\n       <path d=\"M 9.421875 54.6875 \nL 18.40625 54.6875 \nL 18.40625 0 \nL 9.421875 0 \nz\nM 9.421875 75.984375 \nL 18.40625 75.984375 \nL 18.40625 64.59375 \nL 9.421875 64.59375 \nz\n\" id=\"DejaVuSans-105\"/>\n       <path d=\"M 44.28125 53.078125 \nL 44.28125 44.578125 \nQ 40.484375 46.53125 36.375 47.5 \nQ 32.28125 48.484375 27.875 48.484375 \nQ 21.1875 48.484375 17.84375 46.4375 \nQ 14.5 44.390625 14.5 40.28125 \nQ 14.5 37.15625 16.890625 35.375 \nQ 19.28125 33.59375 26.515625 31.984375 \nL 29.59375 31.296875 \nQ 39.15625 29.25 43.1875 25.515625 \nQ 47.21875 21.78125 47.21875 15.09375 \nQ 47.21875 7.46875 41.1875 3.015625 \nQ 35.15625 -1.421875 24.609375 -1.421875 \nQ 20.21875 -1.421875 15.453125 -0.5625 \nQ 10.6875 0.296875 5.421875 2 \nL 5.421875 11.28125 \nQ 10.40625 8.6875 15.234375 7.390625 \nQ 20.0625 6.109375 24.8125 6.109375 \nQ 31.15625 6.109375 34.5625 8.28125 \nQ 37.984375 10.453125 37.984375 14.40625 \nQ 37.984375 18.0625 35.515625 20.015625 \nQ 33.0625 21.96875 24.703125 23.78125 \nL 21.578125 24.515625 \nQ 13.234375 26.265625 9.515625 29.90625 \nQ 5.8125 33.546875 5.8125 39.890625 \nQ 5.8125 47.609375 11.28125 51.796875 \nQ 16.75 56 26.8125 56 \nQ 31.78125 56 36.171875 55.265625 \nQ 40.578125 54.546875 44.28125 53.078125 \nz\n\" id=\"DejaVuSans-115\"/>\n      </defs>\n      <g style=\"fill:#262626;\" transform=\"translate(200.193906 566.298437)scale(0.1 -0.1)\">\n       <use xlink:href=\"#DejaVuSans-100\"/>\n       <use x=\"63.476562\" xlink:href=\"#DejaVuSans-105\"/>\n       <use x=\"91.259766\" xlink:href=\"#DejaVuSans-115\"/>\n       <use x=\"143.359375\" xlink:href=\"#DejaVuSans-97\"/>\n       <use x=\"204.638672\" xlink:href=\"#DejaVuSans-103\"/>\n       <use x=\"268.115234\" xlink:href=\"#DejaVuSans-114\"/>\n       <use x=\"306.978516\" xlink:href=\"#DejaVuSans-101\"/>\n       <use x=\"368.501953\" xlink:href=\"#DejaVuSans-101\"/>\n      </g>\n     </g>\n    </g>\n    <g id=\"xtick_3\">\n     <g id=\"text_3\">\n      <!-- discuss -->\n      <defs>\n       <path d=\"M 48.78125 52.59375 \nL 48.78125 44.1875 \nQ 44.96875 46.296875 41.140625 47.34375 \nQ 37.3125 48.390625 33.40625 48.390625 \nQ 24.65625 48.390625 19.8125 42.84375 \nQ 14.984375 37.3125 14.984375 27.296875 \nQ 14.984375 17.28125 19.8125 11.734375 \nQ 24.65625 6.203125 33.40625 6.203125 \nQ 37.3125 6.203125 41.140625 7.25 \nQ 44.96875 8.296875 48.78125 10.40625 \nL 48.78125 2.09375 \nQ 45.015625 0.34375 40.984375 -0.53125 \nQ 36.96875 -1.421875 32.421875 -1.421875 \nQ 20.0625 -1.421875 12.78125 6.34375 \nQ 5.515625 14.109375 5.515625 27.296875 \nQ 5.515625 40.671875 12.859375 48.328125 \nQ 20.21875 56 33.015625 56 \nQ 37.15625 56 41.109375 55.140625 \nQ 45.0625 54.296875 48.78125 52.59375 \nz\n\" id=\"DejaVuSans-99\"/>\n       <path d=\"M 8.5 21.578125 \nL 8.5 54.6875 \nL 17.484375 54.6875 \nL 17.484375 21.921875 \nQ 17.484375 14.15625 20.5 10.265625 \nQ 23.53125 6.390625 29.59375 6.390625 \nQ 36.859375 6.390625 41.078125 11.03125 \nQ 45.3125 15.671875 45.3125 23.6875 \nL 45.3125 54.6875 \nL 54.296875 54.6875 \nL 54.296875 0 \nL 45.3125 0 \nL 45.3125 8.40625 \nQ 42.046875 3.421875 37.71875 1 \nQ 33.40625 -1.421875 27.6875 -1.421875 \nQ 18.265625 -1.421875 13.375 4.4375 \nQ 8.5 10.296875 8.5 21.578125 \nz\nM 31.109375 56 \nz\n\" id=\"DejaVuSans-117\"/>\n      </defs>\n      <g style=\"fill:#262626;\" transform=\"translate(326.160938 566.298437)scale(0.1 -0.1)\">\n       <use xlink:href=\"#DejaVuSans-100\"/>\n       <use x=\"63.476562\" xlink:href=\"#DejaVuSans-105\"/>\n       <use x=\"91.259766\" xlink:href=\"#DejaVuSans-115\"/>\n       <use x=\"143.359375\" xlink:href=\"#DejaVuSans-99\"/>\n       <use x=\"198.339844\" xlink:href=\"#DejaVuSans-117\"/>\n       <use x=\"261.71875\" xlink:href=\"#DejaVuSans-115\"/>\n       <use x=\"313.818359\" xlink:href=\"#DejaVuSans-115\"/>\n      </g>\n     </g>\n    </g>\n    <g id=\"xtick_4\">\n     <g id=\"text_4\">\n      <!-- unrelated -->\n      <defs>\n       <path d=\"M 54.890625 33.015625 \nL 54.890625 0 \nL 45.90625 0 \nL 45.90625 32.71875 \nQ 45.90625 40.484375 42.875 44.328125 \nQ 39.84375 48.1875 33.796875 48.1875 \nQ 26.515625 48.1875 22.3125 43.546875 \nQ 18.109375 38.921875 18.109375 30.90625 \nL 18.109375 0 \nL 9.078125 0 \nL 9.078125 54.6875 \nL 18.109375 54.6875 \nL 18.109375 46.1875 \nQ 21.34375 51.125 25.703125 53.5625 \nQ 30.078125 56 35.796875 56 \nQ 45.21875 56 50.046875 50.171875 \nQ 54.890625 44.34375 54.890625 33.015625 \nz\n\" id=\"DejaVuSans-110\"/>\n       <path d=\"M 9.421875 75.984375 \nL 18.40625 75.984375 \nL 18.40625 0 \nL 9.421875 0 \nz\n\" id=\"DejaVuSans-108\"/>\n       <path d=\"M 18.3125 70.21875 \nL 18.3125 54.6875 \nL 36.8125 54.6875 \nL 36.8125 47.703125 \nL 18.3125 47.703125 \nL 18.3125 18.015625 \nQ 18.3125 11.328125 20.140625 9.421875 \nQ 21.96875 7.515625 27.59375 7.515625 \nL 36.8125 7.515625 \nL 36.8125 0 \nL 27.59375 0 \nQ 17.1875 0 13.234375 3.875 \nQ 9.28125 7.765625 9.28125 18.015625 \nL 9.28125 47.703125 \nL 2.6875 47.703125 \nL 2.6875 54.6875 \nL 9.28125 54.6875 \nL 9.28125 70.21875 \nz\n\" id=\"DejaVuSans-116\"/>\n      </defs>\n      <g style=\"fill:#262626;\" transform=\"translate(443.195156 566.298437)scale(0.1 -0.1)\">\n       <use xlink:href=\"#DejaVuSans-117\"/>\n       <use x=\"63.378906\" xlink:href=\"#DejaVuSans-110\"/>\n       <use x=\"126.757812\" xlink:href=\"#DejaVuSans-114\"/>\n       <use x=\"165.621094\" xlink:href=\"#DejaVuSans-101\"/>\n       <use x=\"227.144531\" xlink:href=\"#DejaVuSans-108\"/>\n       <use x=\"254.927734\" xlink:href=\"#DejaVuSans-97\"/>\n       <use x=\"316.207031\" xlink:href=\"#DejaVuSans-116\"/>\n       <use x=\"355.416016\" xlink:href=\"#DejaVuSans-101\"/>\n       <use x=\"416.939453\" xlink:href=\"#DejaVuSans-100\"/>\n      </g>\n     </g>\n    </g>\n    <g id=\"text_5\">\n     <!-- True label -->\n     <defs>\n      <path d=\"M -0.296875 72.90625 \nL 61.375 72.90625 \nL 61.375 64.59375 \nL 35.5 64.59375 \nL 35.5 0 \nL 25.59375 0 \nL 25.59375 64.59375 \nL -0.296875 64.59375 \nz\n\" id=\"DejaVuSans-84\"/>\n      <path id=\"DejaVuSans-32\"/>\n      <path d=\"M 48.6875 27.296875 \nQ 48.6875 37.203125 44.609375 42.84375 \nQ 40.53125 48.484375 33.40625 48.484375 \nQ 26.265625 48.484375 22.1875 42.84375 \nQ 18.109375 37.203125 18.109375 27.296875 \nQ 18.109375 17.390625 22.1875 11.75 \nQ 26.265625 6.109375 33.40625 6.109375 \nQ 40.53125 6.109375 44.609375 11.75 \nQ 48.6875 17.390625 48.6875 27.296875 \nz\nM 18.109375 46.390625 \nQ 20.953125 51.265625 25.265625 53.625 \nQ 29.59375 56 35.59375 56 \nQ 45.5625 56 51.78125 48.09375 \nQ 58.015625 40.1875 58.015625 27.296875 \nQ 58.015625 14.40625 51.78125 6.484375 \nQ 45.5625 -1.421875 35.59375 -1.421875 \nQ 29.59375 -1.421875 25.265625 0.953125 \nQ 20.953125 3.328125 18.109375 8.203125 \nL 18.109375 0 \nL 9.078125 0 \nL 9.078125 75.984375 \nL 18.109375 75.984375 \nz\n\" id=\"DejaVuSans-98\"/>\n     </defs>\n     <g style=\"fill:#262626;\" transform=\"translate(258.777031 579.976562)scale(0.1 -0.1)\">\n      <use xlink:href=\"#DejaVuSans-84\"/>\n      <use x=\"46.333984\" xlink:href=\"#DejaVuSans-114\"/>\n      <use x=\"87.447266\" xlink:href=\"#DejaVuSans-117\"/>\n      <use x=\"150.826172\" xlink:href=\"#DejaVuSans-101\"/>\n      <use x=\"212.349609\" xlink:href=\"#DejaVuSans-32\"/>\n      <use x=\"244.136719\" xlink:href=\"#DejaVuSans-108\"/>\n      <use x=\"271.919922\" xlink:href=\"#DejaVuSans-97\"/>\n      <use x=\"333.199219\" xlink:href=\"#DejaVuSans-98\"/>\n      <use x=\"396.675781\" xlink:href=\"#DejaVuSans-101\"/>\n      <use x=\"458.199219\" xlink:href=\"#DejaVuSans-108\"/>\n     </g>\n    </g>\n   </g>\n   <g id=\"matplotlib.axis_2\">\n    <g id=\"ytick_1\">\n     <g id=\"text_6\">\n      <!-- agree -->\n      <g style=\"fill:#262626;\" transform=\"translate(28.476563 146.909531)rotate(-90)scale(0.1 -0.1)\">\n       <use xlink:href=\"#DejaVuSans-97\"/>\n       <use x=\"61.279297\" xlink:href=\"#DejaVuSans-103\"/>\n       <use x=\"124.755859\" xlink:href=\"#DejaVuSans-114\"/>\n       <use x=\"163.619141\" xlink:href=\"#DejaVuSans-101\"/>\n       <use x=\"225.142578\" xlink:href=\"#DejaVuSans-101\"/>\n      </g>\n     </g>\n    </g>\n    <g id=\"ytick_2\">\n     <g id=\"text_7\">\n      <!-- disagree -->\n      <g style=\"fill:#262626;\" transform=\"translate(28.476563 284.005469)rotate(-90)scale(0.1 -0.1)\">\n       <use xlink:href=\"#DejaVuSans-100\"/>\n       <use x=\"63.476562\" xlink:href=\"#DejaVuSans-105\"/>\n       <use x=\"91.259766\" xlink:href=\"#DejaVuSans-115\"/>\n       <use x=\"143.359375\" xlink:href=\"#DejaVuSans-97\"/>\n       <use x=\"204.638672\" xlink:href=\"#DejaVuSans-103\"/>\n       <use x=\"268.115234\" xlink:href=\"#DejaVuSans-114\"/>\n       <use x=\"306.978516\" xlink:href=\"#DejaVuSans-101\"/>\n       <use x=\"368.501953\" xlink:href=\"#DejaVuSans-101\"/>\n      </g>\n     </g>\n    </g>\n    <g id=\"ytick_3\">\n     <g id=\"text_8\">\n      <!-- discuss -->\n      <g style=\"fill:#262626;\" transform=\"translate(28.476563 400.351406)rotate(-90)scale(0.1 -0.1)\">\n       <use xlink:href=\"#DejaVuSans-100\"/>\n       <use x=\"63.476562\" xlink:href=\"#DejaVuSans-105\"/>\n       <use x=\"91.259766\" xlink:href=\"#DejaVuSans-115\"/>\n       <use x=\"143.359375\" xlink:href=\"#DejaVuSans-99\"/>\n       <use x=\"198.339844\" xlink:href=\"#DejaVuSans-117\"/>\n       <use x=\"261.71875\" xlink:href=\"#DejaVuSans-115\"/>\n       <use x=\"313.818359\" xlink:href=\"#DejaVuSans-115\"/>\n      </g>\n     </g>\n    </g>\n    <g id=\"ytick_4\">\n     <g id=\"text_9\">\n      <!-- unrelated -->\n      <g style=\"fill:#262626;\" transform=\"translate(28.476563 534.562969)rotate(-90)scale(0.1 -0.1)\">\n       <use xlink:href=\"#DejaVuSans-117\"/>\n       <use x=\"63.378906\" xlink:href=\"#DejaVuSans-110\"/>\n       <use x=\"126.757812\" xlink:href=\"#DejaVuSans-114\"/>\n       <use x=\"165.621094\" xlink:href=\"#DejaVuSans-101\"/>\n       <use x=\"227.144531\" xlink:href=\"#DejaVuSans-108\"/>\n       <use x=\"254.927734\" xlink:href=\"#DejaVuSans-97\"/>\n       <use x=\"316.207031\" xlink:href=\"#DejaVuSans-116\"/>\n       <use x=\"355.416016\" xlink:href=\"#DejaVuSans-101\"/>\n       <use x=\"416.939453\" xlink:href=\"#DejaVuSans-100\"/>\n      </g>\n     </g>\n    </g>\n    <g id=\"text_10\">\n     <!-- Predicted label -->\n     <defs>\n      <path d=\"M 19.671875 64.796875 \nL 19.671875 37.40625 \nL 32.078125 37.40625 \nQ 38.96875 37.40625 42.71875 40.96875 \nQ 46.484375 44.53125 46.484375 51.125 \nQ 46.484375 57.671875 42.71875 61.234375 \nQ 38.96875 64.796875 32.078125 64.796875 \nz\nM 9.8125 72.90625 \nL 32.078125 72.90625 \nQ 44.34375 72.90625 50.609375 67.359375 \nQ 56.890625 61.8125 56.890625 51.125 \nQ 56.890625 40.328125 50.609375 34.8125 \nQ 44.34375 29.296875 32.078125 29.296875 \nL 19.671875 29.296875 \nL 19.671875 0 \nL 9.8125 0 \nz\n\" id=\"DejaVuSans-80\"/>\n     </defs>\n     <g style=\"fill:#262626;\" transform=\"translate(14.798438 343.332344)rotate(-90)scale(0.1 -0.1)\">\n      <use xlink:href=\"#DejaVuSans-80\"/>\n      <use x=\"58.552734\" xlink:href=\"#DejaVuSans-114\"/>\n      <use x=\"97.416016\" xlink:href=\"#DejaVuSans-101\"/>\n      <use x=\"158.939453\" xlink:href=\"#DejaVuSans-100\"/>\n      <use x=\"222.416016\" xlink:href=\"#DejaVuSans-105\"/>\n      <use x=\"250.199219\" xlink:href=\"#DejaVuSans-99\"/>\n      <use x=\"305.179688\" xlink:href=\"#DejaVuSans-116\"/>\n      <use x=\"344.388672\" xlink:href=\"#DejaVuSans-101\"/>\n      <use x=\"405.912109\" xlink:href=\"#DejaVuSans-100\"/>\n      <use x=\"469.388672\" xlink:href=\"#DejaVuSans-32\"/>\n      <use x=\"501.175781\" xlink:href=\"#DejaVuSans-108\"/>\n      <use x=\"528.958984\" xlink:href=\"#DejaVuSans-97\"/>\n      <use x=\"590.238281\" xlink:href=\"#DejaVuSans-98\"/>\n      <use x=\"653.714844\" xlink:href=\"#DejaVuSans-101\"/>\n      <use x=\"715.238281\" xlink:href=\"#DejaVuSans-108\"/>\n     </g>\n    </g>\n   </g>\n   <g id=\"QuadMesh_1\">\n    <path clip-path=\"url(#p74f3daeee5)\" d=\"M 37.55625 60.66 \nL 160.31625 60.66 \nL 160.31625 183.42 \nL 37.55625 183.42 \nL 37.55625 60.66 \n\" style=\"fill:#8ac4d0;stroke:#ffffff;stroke-width:0.3;\"/>\n    <path clip-path=\"url(#p74f3daeee5)\" d=\"M 160.31625 60.66 \nL 283.07625 60.66 \nL 283.07625 183.42 \nL 160.31625 183.42 \nL 160.31625 60.66 \n\" style=\"fill:#bde7db;stroke:#ffffff;stroke-width:0.3;\"/>\n    <path clip-path=\"url(#p74f3daeee5)\" d=\"M 283.07625 60.66 \nL 405.83625 60.66 \nL 405.83625 183.42 \nL 283.07625 183.42 \nL 283.07625 60.66 \n\" style=\"fill:#bae5da;stroke:#ffffff;stroke-width:0.3;\"/>\n    <path clip-path=\"url(#p74f3daeee5)\" d=\"M 405.83625 60.66 \nL 528.59625 60.66 \nL 528.59625 183.42 \nL 405.83625 183.42 \nL 405.83625 60.66 \n\" style=\"fill:#7bbbce;stroke:#ffffff;stroke-width:0.3;\"/>\n    <path clip-path=\"url(#p74f3daeee5)\" d=\"M 37.55625 183.42 \nL 160.31625 183.42 \nL 160.31625 306.18 \nL 37.55625 306.18 \nL 37.55625 183.42 \n\" style=\"fill:#a9d9d6;stroke:#ffffff;stroke-width:0.3;\"/>\n    <path clip-path=\"url(#p74f3daeee5)\" d=\"M 160.31625 183.42 \nL 283.07625 183.42 \nL 283.07625 306.18 \nL 160.31625 306.18 \nL 160.31625 183.42 \n\" style=\"fill:#bde7db;stroke:#ffffff;stroke-width:0.3;\"/>\n    <path clip-path=\"url(#p74f3daeee5)\" d=\"M 283.07625 183.42 \nL 405.83625 183.42 \nL 405.83625 306.18 \nL 283.07625 306.18 \nL 283.07625 183.42 \n\" style=\"fill:#bde7db;stroke:#ffffff;stroke-width:0.3;\"/>\n    <path clip-path=\"url(#p74f3daeee5)\" d=\"M 405.83625 183.42 \nL 528.59625 183.42 \nL 528.59625 306.18 \nL 405.83625 306.18 \nL 405.83625 183.42 \n\" style=\"fill:#a7d7d5;stroke:#ffffff;stroke-width:0.3;\"/>\n    <path clip-path=\"url(#p74f3daeee5)\" d=\"M 37.55625 306.18 \nL 160.31625 306.18 \nL 160.31625 428.94 \nL 37.55625 428.94 \nL 37.55625 306.18 \n\" style=\"fill:#3a73ce;stroke:#ffffff;stroke-width:0.3;\"/>\n    <path clip-path=\"url(#p74f3daeee5)\" d=\"M 160.31625 306.18 \nL 283.07625 306.18 \nL 283.07625 428.94 \nL 160.31625 428.94 \nL 160.31625 306.18 \n\" style=\"fill:#bde7db;stroke:#ffffff;stroke-width:0.3;\"/>\n    <path clip-path=\"url(#p74f3daeee5)\" d=\"M 283.07625 306.18 \nL 405.83625 306.18 \nL 405.83625 428.94 \nL 283.07625 428.94 \nL 283.07625 306.18 \n\" style=\"fill:#b4e1d9;stroke:#ffffff;stroke-width:0.3;\"/>\n    <path clip-path=\"url(#p74f3daeee5)\" d=\"M 405.83625 306.18 \nL 528.59625 306.18 \nL 528.59625 428.94 \nL 405.83625 428.94 \nL 405.83625 306.18 \n\" style=\"fill:#4c9ccd;stroke:#ffffff;stroke-width:0.3;\"/>\n    <path clip-path=\"url(#p74f3daeee5)\" d=\"M 37.55625 428.94 \nL 160.31625 428.94 \nL 160.31625 551.7 \nL 37.55625 551.7 \nL 37.55625 428.94 \n\" style=\"fill:#ffd4ac;stroke:#ffffff;stroke-width:0.3;\"/>\n    <path clip-path=\"url(#p74f3daeee5)\" d=\"M 160.31625 428.94 \nL 283.07625 428.94 \nL 283.07625 551.7 \nL 160.31625 551.7 \nL 160.31625 428.94 \n\" style=\"fill:#bde7db;stroke:#ffffff;stroke-width:0.3;\"/>\n    <path clip-path=\"url(#p74f3daeee5)\" d=\"M 283.07625 428.94 \nL 405.83625 428.94 \nL 405.83625 551.7 \nL 283.07625 551.7 \nL 283.07625 428.94 \n\" style=\"fill:#a1d3d4;stroke:#ffffff;stroke-width:0.3;\"/>\n    <path clip-path=\"url(#p74f3daeee5)\" d=\"M 405.83625 428.94 \nL 528.59625 428.94 \nL 528.59625 551.7 \nL 405.83625 551.7 \nL 405.83625 428.94 \n\" style=\"fill:#522731;stroke:#ffffff;stroke-width:0.3;\"/>\n   </g>\n   <g id=\"text_11\">\n    <!-- 812 -->\n    <defs>\n     <path d=\"M 31.78125 34.625 \nQ 24.75 34.625 20.71875 30.859375 \nQ 16.703125 27.09375 16.703125 20.515625 \nQ 16.703125 13.921875 20.71875 10.15625 \nQ 24.75 6.390625 31.78125 6.390625 \nQ 38.8125 6.390625 42.859375 10.171875 \nQ 46.921875 13.96875 46.921875 20.515625 \nQ 46.921875 27.09375 42.890625 30.859375 \nQ 38.875 34.625 31.78125 34.625 \nz\nM 21.921875 38.8125 \nQ 15.578125 40.375 12.03125 44.71875 \nQ 8.5 49.078125 8.5 55.328125 \nQ 8.5 64.0625 14.71875 69.140625 \nQ 20.953125 74.21875 31.78125 74.21875 \nQ 42.671875 74.21875 48.875 69.140625 \nQ 55.078125 64.0625 55.078125 55.328125 \nQ 55.078125 49.078125 51.53125 44.71875 \nQ 48 40.375 41.703125 38.8125 \nQ 48.828125 37.15625 52.796875 32.3125 \nQ 56.78125 27.484375 56.78125 20.515625 \nQ 56.78125 9.90625 50.3125 4.234375 \nQ 43.84375 -1.421875 31.78125 -1.421875 \nQ 19.734375 -1.421875 13.25 4.234375 \nQ 6.78125 9.90625 6.78125 20.515625 \nQ 6.78125 27.484375 10.78125 32.3125 \nQ 14.796875 37.15625 21.921875 38.8125 \nz\nM 18.3125 54.390625 \nQ 18.3125 48.734375 21.84375 45.5625 \nQ 25.390625 42.390625 31.78125 42.390625 \nQ 38.140625 42.390625 41.71875 45.5625 \nQ 45.3125 48.734375 45.3125 54.390625 \nQ 45.3125 60.0625 41.71875 63.234375 \nQ 38.140625 66.40625 31.78125 66.40625 \nQ 25.390625 66.40625 21.84375 63.234375 \nQ 18.3125 60.0625 18.3125 54.390625 \nz\n\" id=\"DejaVuSans-56\"/>\n     <path d=\"M 12.40625 8.296875 \nL 28.515625 8.296875 \nL 28.515625 63.921875 \nL 10.984375 60.40625 \nL 10.984375 69.390625 \nL 28.421875 72.90625 \nL 38.28125 72.90625 \nL 38.28125 8.296875 \nL 54.390625 8.296875 \nL 54.390625 0 \nL 12.40625 0 \nz\n\" id=\"DejaVuSans-49\"/>\n     <path d=\"M 19.1875 8.296875 \nL 53.609375 8.296875 \nL 53.609375 0 \nL 7.328125 0 \nL 7.328125 8.296875 \nQ 12.9375 14.109375 22.625 23.890625 \nQ 32.328125 33.6875 34.8125 36.53125 \nQ 39.546875 41.84375 41.421875 45.53125 \nQ 43.3125 49.21875 43.3125 52.78125 \nQ 43.3125 58.59375 39.234375 62.25 \nQ 35.15625 65.921875 28.609375 65.921875 \nQ 23.96875 65.921875 18.8125 64.3125 \nQ 13.671875 62.703125 7.8125 59.421875 \nL 7.8125 69.390625 \nQ 13.765625 71.78125 18.9375 73 \nQ 24.125 74.21875 28.421875 74.21875 \nQ 39.75 74.21875 46.484375 68.546875 \nQ 53.21875 62.890625 53.21875 53.421875 \nQ 53.21875 48.921875 51.53125 44.890625 \nQ 49.859375 40.875 45.40625 35.40625 \nQ 44.1875 33.984375 37.640625 27.21875 \nQ 31.109375 20.453125 19.1875 8.296875 \nz\n\" id=\"DejaVuSans-50\"/>\n    </defs>\n    <g style=\"fill:#262626;\" transform=\"translate(89.3925 124.799375)scale(0.1 -0.1)\">\n     <use xlink:href=\"#DejaVuSans-56\"/>\n     <use x=\"63.623047\" xlink:href=\"#DejaVuSans-49\"/>\n     <use x=\"127.246094\" xlink:href=\"#DejaVuSans-50\"/>\n    </g>\n   </g>\n   <g id=\"text_12\">\n    <!-- 0 -->\n    <defs>\n     <path d=\"M 31.78125 66.40625 \nQ 24.171875 66.40625 20.328125 58.90625 \nQ 16.5 51.421875 16.5 36.375 \nQ 16.5 21.390625 20.328125 13.890625 \nQ 24.171875 6.390625 31.78125 6.390625 \nQ 39.453125 6.390625 43.28125 13.890625 \nQ 47.125 21.390625 47.125 36.375 \nQ 47.125 51.421875 43.28125 58.90625 \nQ 39.453125 66.40625 31.78125 66.40625 \nz\nM 31.78125 74.21875 \nQ 44.046875 74.21875 50.515625 64.515625 \nQ 56.984375 54.828125 56.984375 36.375 \nQ 56.984375 17.96875 50.515625 8.265625 \nQ 44.046875 -1.421875 31.78125 -1.421875 \nQ 19.53125 -1.421875 13.0625 8.265625 \nQ 6.59375 17.96875 6.59375 36.375 \nQ 6.59375 54.828125 13.0625 64.515625 \nQ 19.53125 74.21875 31.78125 74.21875 \nz\n\" id=\"DejaVuSans-48\"/>\n    </defs>\n    <g style=\"fill:#262626;\" transform=\"translate(218.515 124.799375)scale(0.1 -0.1)\">\n     <use xlink:href=\"#DejaVuSans-48\"/>\n    </g>\n   </g>\n   <g id=\"text_13\">\n    <!-- 82 -->\n    <g style=\"fill:#262626;\" transform=\"translate(338.09375 124.799375)scale(0.1 -0.1)\">\n     <use xlink:href=\"#DejaVuSans-56\"/>\n     <use x=\"63.623047\" xlink:href=\"#DejaVuSans-50\"/>\n    </g>\n   </g>\n   <g id=\"text_14\">\n    <!-- 1009 -->\n    <defs>\n     <path d=\"M 10.984375 1.515625 \nL 10.984375 10.5 \nQ 14.703125 8.734375 18.5 7.8125 \nQ 22.3125 6.890625 25.984375 6.890625 \nQ 35.75 6.890625 40.890625 13.453125 \nQ 46.046875 20.015625 46.78125 33.40625 \nQ 43.953125 29.203125 39.59375 26.953125 \nQ 35.25 24.703125 29.984375 24.703125 \nQ 19.046875 24.703125 12.671875 31.3125 \nQ 6.296875 37.9375 6.296875 49.421875 \nQ 6.296875 60.640625 12.9375 67.421875 \nQ 19.578125 74.21875 30.609375 74.21875 \nQ 43.265625 74.21875 49.921875 64.515625 \nQ 56.59375 54.828125 56.59375 36.375 \nQ 56.59375 19.140625 48.40625 8.859375 \nQ 40.234375 -1.421875 26.421875 -1.421875 \nQ 22.703125 -1.421875 18.890625 -0.6875 \nQ 15.09375 0.046875 10.984375 1.515625 \nz\nM 30.609375 32.421875 \nQ 37.25 32.421875 41.125 36.953125 \nQ 45.015625 41.5 45.015625 49.421875 \nQ 45.015625 57.28125 41.125 61.84375 \nQ 37.25 66.40625 30.609375 66.40625 \nQ 23.96875 66.40625 20.09375 61.84375 \nQ 16.21875 57.28125 16.21875 49.421875 \nQ 16.21875 41.5 20.09375 36.953125 \nQ 23.96875 32.421875 30.609375 32.421875 \nz\n\" id=\"DejaVuSans-57\"/>\n    </defs>\n    <g style=\"fill:#262626;\" transform=\"translate(454.49125 124.799375)scale(0.1 -0.1)\">\n     <use xlink:href=\"#DejaVuSans-49\"/>\n     <use x=\"63.623047\" xlink:href=\"#DejaVuSans-48\"/>\n     <use x=\"127.246094\" xlink:href=\"#DejaVuSans-48\"/>\n     <use x=\"190.869141\" xlink:href=\"#DejaVuSans-57\"/>\n    </g>\n   </g>\n   <g id=\"text_15\">\n    <!-- 305 -->\n    <defs>\n     <path d=\"M 40.578125 39.3125 \nQ 47.65625 37.796875 51.625 33 \nQ 55.609375 28.21875 55.609375 21.1875 \nQ 55.609375 10.40625 48.1875 4.484375 \nQ 40.765625 -1.421875 27.09375 -1.421875 \nQ 22.515625 -1.421875 17.65625 -0.515625 \nQ 12.796875 0.390625 7.625 2.203125 \nL 7.625 11.71875 \nQ 11.71875 9.328125 16.59375 8.109375 \nQ 21.484375 6.890625 26.8125 6.890625 \nQ 36.078125 6.890625 40.9375 10.546875 \nQ 45.796875 14.203125 45.796875 21.1875 \nQ 45.796875 27.640625 41.28125 31.265625 \nQ 36.765625 34.90625 28.71875 34.90625 \nL 20.21875 34.90625 \nL 20.21875 43.015625 \nL 29.109375 43.015625 \nQ 36.375 43.015625 40.234375 45.921875 \nQ 44.09375 48.828125 44.09375 54.296875 \nQ 44.09375 59.90625 40.109375 62.90625 \nQ 36.140625 65.921875 28.71875 65.921875 \nQ 24.65625 65.921875 20.015625 65.03125 \nQ 15.375 64.15625 9.8125 62.3125 \nL 9.8125 71.09375 \nQ 15.4375 72.65625 20.34375 73.4375 \nQ 25.25 74.21875 29.59375 74.21875 \nQ 40.828125 74.21875 47.359375 69.109375 \nQ 53.90625 64.015625 53.90625 55.328125 \nQ 53.90625 49.265625 50.4375 45.09375 \nQ 46.96875 40.921875 40.578125 39.3125 \nz\n\" id=\"DejaVuSans-51\"/>\n     <path d=\"M 10.796875 72.90625 \nL 49.515625 72.90625 \nL 49.515625 64.59375 \nL 19.828125 64.59375 \nL 19.828125 46.734375 \nQ 21.96875 47.46875 24.109375 47.828125 \nQ 26.265625 48.1875 28.421875 48.1875 \nQ 40.625 48.1875 47.75 41.5 \nQ 54.890625 34.8125 54.890625 23.390625 \nQ 54.890625 11.625 47.5625 5.09375 \nQ 40.234375 -1.421875 26.90625 -1.421875 \nQ 22.3125 -1.421875 17.546875 -0.640625 \nQ 12.796875 0.140625 7.71875 1.703125 \nL 7.71875 11.625 \nQ 12.109375 9.234375 16.796875 8.0625 \nQ 21.484375 6.890625 26.703125 6.890625 \nQ 35.15625 6.890625 40.078125 11.328125 \nQ 45.015625 15.765625 45.015625 23.390625 \nQ 45.015625 31 40.078125 35.4375 \nQ 35.15625 39.890625 26.703125 39.890625 \nQ 22.75 39.890625 18.8125 39.015625 \nQ 14.890625 38.140625 10.796875 36.28125 \nz\n\" id=\"DejaVuSans-53\"/>\n    </defs>\n    <g style=\"fill:#262626;\" transform=\"translate(89.3925 247.559375)scale(0.1 -0.1)\">\n     <use xlink:href=\"#DejaVuSans-51\"/>\n     <use x=\"63.623047\" xlink:href=\"#DejaVuSans-48\"/>\n     <use x=\"127.246094\" xlink:href=\"#DejaVuSans-53\"/>\n    </g>\n   </g>\n   <g id=\"text_16\">\n    <!-- 0 -->\n    <g style=\"fill:#262626;\" transform=\"translate(218.515 247.559375)scale(0.1 -0.1)\">\n     <use xlink:href=\"#DejaVuSans-48\"/>\n    </g>\n   </g>\n   <g id=\"text_17\">\n    <!-- 26 -->\n    <defs>\n     <path d=\"M 33.015625 40.375 \nQ 26.375 40.375 22.484375 35.828125 \nQ 18.609375 31.296875 18.609375 23.390625 \nQ 18.609375 15.53125 22.484375 10.953125 \nQ 26.375 6.390625 33.015625 6.390625 \nQ 39.65625 6.390625 43.53125 10.953125 \nQ 47.40625 15.53125 47.40625 23.390625 \nQ 47.40625 31.296875 43.53125 35.828125 \nQ 39.65625 40.375 33.015625 40.375 \nz\nM 52.59375 71.296875 \nL 52.59375 62.3125 \nQ 48.875 64.0625 45.09375 64.984375 \nQ 41.3125 65.921875 37.59375 65.921875 \nQ 27.828125 65.921875 22.671875 59.328125 \nQ 17.53125 52.734375 16.796875 39.40625 \nQ 19.671875 43.65625 24.015625 45.921875 \nQ 28.375 48.1875 33.59375 48.1875 \nQ 44.578125 48.1875 50.953125 41.515625 \nQ 57.328125 34.859375 57.328125 23.390625 \nQ 57.328125 12.15625 50.6875 5.359375 \nQ 44.046875 -1.421875 33.015625 -1.421875 \nQ 20.359375 -1.421875 13.671875 8.265625 \nQ 6.984375 17.96875 6.984375 36.375 \nQ 6.984375 53.65625 15.1875 63.9375 \nQ 23.390625 74.21875 37.203125 74.21875 \nQ 40.921875 74.21875 44.703125 73.484375 \nQ 48.484375 72.75 52.59375 71.296875 \nz\n\" id=\"DejaVuSans-54\"/>\n    </defs>\n    <g style=\"fill:#262626;\" transform=\"translate(338.09375 247.559375)scale(0.1 -0.1)\">\n     <use xlink:href=\"#DejaVuSans-50\"/>\n     <use x=\"63.623047\" xlink:href=\"#DejaVuSans-54\"/>\n    </g>\n   </g>\n   <g id=\"text_18\">\n    <!-- 366 -->\n    <g style=\"fill:#262626;\" transform=\"translate(457.6725 247.559375)scale(0.1 -0.1)\">\n     <use xlink:href=\"#DejaVuSans-51\"/>\n     <use x=\"63.623047\" xlink:href=\"#DejaVuSans-54\"/>\n     <use x=\"127.246094\" xlink:href=\"#DejaVuSans-54\"/>\n    </g>\n   </g>\n   <g id=\"text_19\">\n    <!-- 2560 -->\n    <g style=\"fill:#ffffff;\" transform=\"translate(86.21125 370.319375)scale(0.1 -0.1)\">\n     <use xlink:href=\"#DejaVuSans-50\"/>\n     <use x=\"63.623047\" xlink:href=\"#DejaVuSans-53\"/>\n     <use x=\"127.246094\" xlink:href=\"#DejaVuSans-54\"/>\n     <use x=\"190.869141\" xlink:href=\"#DejaVuSans-48\"/>\n    </g>\n   </g>\n   <g id=\"text_20\">\n    <!-- 0 -->\n    <g style=\"fill:#262626;\" transform=\"translate(218.515 370.319375)scale(0.1 -0.1)\">\n     <use xlink:href=\"#DejaVuSans-48\"/>\n    </g>\n   </g>\n   <g id=\"text_21\">\n    <!-- 168 -->\n    <g style=\"fill:#262626;\" transform=\"translate(334.9125 370.319375)scale(0.1 -0.1)\">\n     <use xlink:href=\"#DejaVuSans-49\"/>\n     <use x=\"63.623047\" xlink:href=\"#DejaVuSans-54\"/>\n     <use x=\"127.246094\" xlink:href=\"#DejaVuSans-56\"/>\n    </g>\n   </g>\n   <g id=\"text_22\">\n    <!-- 1736 -->\n    <defs>\n     <path d=\"M 8.203125 72.90625 \nL 55.078125 72.90625 \nL 55.078125 68.703125 \nL 28.609375 0 \nL 18.3125 0 \nL 43.21875 64.59375 \nL 8.203125 64.59375 \nz\n\" id=\"DejaVuSans-55\"/>\n    </defs>\n    <g style=\"fill:#ffffff;\" transform=\"translate(454.49125 370.319375)scale(0.1 -0.1)\">\n     <use xlink:href=\"#DejaVuSans-49\"/>\n     <use x=\"63.623047\" xlink:href=\"#DejaVuSans-55\"/>\n     <use x=\"127.246094\" xlink:href=\"#DejaVuSans-51\"/>\n     <use x=\"190.869141\" xlink:href=\"#DejaVuSans-54\"/>\n    </g>\n   </g>\n   <g id=\"text_23\">\n    <!-- 11092 -->\n    <g style=\"fill:#262626;\" transform=\"translate(83.03 493.079375)scale(0.1 -0.1)\">\n     <use xlink:href=\"#DejaVuSans-49\"/>\n     <use x=\"63.623047\" xlink:href=\"#DejaVuSans-49\"/>\n     <use x=\"127.246094\" xlink:href=\"#DejaVuSans-48\"/>\n     <use x=\"190.869141\" xlink:href=\"#DejaVuSans-57\"/>\n     <use x=\"254.492188\" xlink:href=\"#DejaVuSans-50\"/>\n    </g>\n   </g>\n   <g id=\"text_24\">\n    <!-- 11 -->\n    <g style=\"fill:#262626;\" transform=\"translate(215.33375 493.079375)scale(0.1 -0.1)\">\n     <use xlink:href=\"#DejaVuSans-49\"/>\n     <use x=\"63.623047\" xlink:href=\"#DejaVuSans-49\"/>\n    </g>\n   </g>\n   <g id=\"text_25\">\n    <!-- 449 -->\n    <defs>\n     <path d=\"M 37.796875 64.3125 \nL 12.890625 25.390625 \nL 37.796875 25.390625 \nz\nM 35.203125 72.90625 \nL 47.609375 72.90625 \nL 47.609375 25.390625 \nL 58.015625 25.390625 \nL 58.015625 17.1875 \nL 47.609375 17.1875 \nL 47.609375 0 \nL 37.796875 0 \nL 37.796875 17.1875 \nL 4.890625 17.1875 \nL 4.890625 26.703125 \nz\n\" id=\"DejaVuSans-52\"/>\n    </defs>\n    <g style=\"fill:#262626;\" transform=\"translate(334.9125 493.079375)scale(0.1 -0.1)\">\n     <use xlink:href=\"#DejaVuSans-52\"/>\n     <use x=\"63.623047\" xlink:href=\"#DejaVuSans-52\"/>\n     <use x=\"127.246094\" xlink:href=\"#DejaVuSans-57\"/>\n    </g>\n   </g>\n   <g id=\"text_26\">\n    <!-- 6797 -->\n    <g style=\"fill:#ffffff;\" transform=\"translate(454.49125 493.079375)scale(0.1 -0.1)\">\n     <use xlink:href=\"#DejaVuSans-54\"/>\n     <use x=\"63.623047\" xlink:href=\"#DejaVuSans-55\"/>\n     <use x=\"127.246094\" xlink:href=\"#DejaVuSans-57\"/>\n     <use x=\"190.869141\" xlink:href=\"#DejaVuSans-55\"/>\n    </g>\n   </g>\n   <g id=\"text_27\">\n    <!-- Confusion Matrix for -->\n    <defs>\n     <path d=\"M 64.40625 67.28125 \nL 64.40625 56.890625 \nQ 59.421875 61.53125 53.78125 63.8125 \nQ 48.140625 66.109375 41.796875 66.109375 \nQ 29.296875 66.109375 22.65625 58.46875 \nQ 16.015625 50.828125 16.015625 36.375 \nQ 16.015625 21.96875 22.65625 14.328125 \nQ 29.296875 6.6875 41.796875 6.6875 \nQ 48.140625 6.6875 53.78125 8.984375 \nQ 59.421875 11.28125 64.40625 15.921875 \nL 64.40625 5.609375 \nQ 59.234375 2.09375 53.4375 0.328125 \nQ 47.65625 -1.421875 41.21875 -1.421875 \nQ 24.65625 -1.421875 15.125 8.703125 \nQ 5.609375 18.84375 5.609375 36.375 \nQ 5.609375 53.953125 15.125 64.078125 \nQ 24.65625 74.21875 41.21875 74.21875 \nQ 47.75 74.21875 53.53125 72.484375 \nQ 59.328125 70.75 64.40625 67.28125 \nz\n\" id=\"DejaVuSans-67\"/>\n     <path d=\"M 30.609375 48.390625 \nQ 23.390625 48.390625 19.1875 42.75 \nQ 14.984375 37.109375 14.984375 27.296875 \nQ 14.984375 17.484375 19.15625 11.84375 \nQ 23.34375 6.203125 30.609375 6.203125 \nQ 37.796875 6.203125 41.984375 11.859375 \nQ 46.1875 17.53125 46.1875 27.296875 \nQ 46.1875 37.015625 41.984375 42.703125 \nQ 37.796875 48.390625 30.609375 48.390625 \nz\nM 30.609375 56 \nQ 42.328125 56 49.015625 48.375 \nQ 55.71875 40.765625 55.71875 27.296875 \nQ 55.71875 13.875 49.015625 6.21875 \nQ 42.328125 -1.421875 30.609375 -1.421875 \nQ 18.84375 -1.421875 12.171875 6.21875 \nQ 5.515625 13.875 5.515625 27.296875 \nQ 5.515625 40.765625 12.171875 48.375 \nQ 18.84375 56 30.609375 56 \nz\n\" id=\"DejaVuSans-111\"/>\n     <path d=\"M 37.109375 75.984375 \nL 37.109375 68.5 \nL 28.515625 68.5 \nQ 23.6875 68.5 21.796875 66.546875 \nQ 19.921875 64.59375 19.921875 59.515625 \nL 19.921875 54.6875 \nL 34.71875 54.6875 \nL 34.71875 47.703125 \nL 19.921875 47.703125 \nL 19.921875 0 \nL 10.890625 0 \nL 10.890625 47.703125 \nL 2.296875 47.703125 \nL 2.296875 54.6875 \nL 10.890625 54.6875 \nL 10.890625 58.5 \nQ 10.890625 67.625 15.140625 71.796875 \nQ 19.390625 75.984375 28.609375 75.984375 \nz\n\" id=\"DejaVuSans-102\"/>\n     <path d=\"M 9.8125 72.90625 \nL 24.515625 72.90625 \nL 43.109375 23.296875 \nL 61.8125 72.90625 \nL 76.515625 72.90625 \nL 76.515625 0 \nL 66.890625 0 \nL 66.890625 64.015625 \nL 48.09375 14.015625 \nL 38.1875 14.015625 \nL 19.390625 64.015625 \nL 19.390625 0 \nL 9.8125 0 \nz\n\" id=\"DejaVuSans-77\"/>\n     <path d=\"M 54.890625 54.6875 \nL 35.109375 28.078125 \nL 55.90625 0 \nL 45.3125 0 \nL 29.390625 21.484375 \nL 13.484375 0 \nL 2.875 0 \nL 24.125 28.609375 \nL 4.6875 54.6875 \nL 15.28125 54.6875 \nL 29.78125 35.203125 \nL 44.28125 54.6875 \nz\n\" id=\"DejaVuSans-120\"/>\n    </defs>\n    <g style=\"fill:#262626;\" transform=\"translate(222.2775 54.66)scale(0.12 -0.12)\">\n     <use xlink:href=\"#DejaVuSans-67\"/>\n     <use x=\"69.824219\" xlink:href=\"#DejaVuSans-111\"/>\n     <use x=\"131.005859\" xlink:href=\"#DejaVuSans-110\"/>\n     <use x=\"194.384766\" xlink:href=\"#DejaVuSans-102\"/>\n     <use x=\"229.589844\" xlink:href=\"#DejaVuSans-117\"/>\n     <use x=\"292.96875\" xlink:href=\"#DejaVuSans-115\"/>\n     <use x=\"345.068359\" xlink:href=\"#DejaVuSans-105\"/>\n     <use x=\"372.851562\" xlink:href=\"#DejaVuSans-111\"/>\n     <use x=\"434.033203\" xlink:href=\"#DejaVuSans-110\"/>\n     <use x=\"497.412109\" xlink:href=\"#DejaVuSans-32\"/>\n     <use x=\"529.199219\" xlink:href=\"#DejaVuSans-77\"/>\n     <use x=\"615.478516\" xlink:href=\"#DejaVuSans-97\"/>\n     <use x=\"676.757812\" xlink:href=\"#DejaVuSans-116\"/>\n     <use x=\"715.966797\" xlink:href=\"#DejaVuSans-114\"/>\n     <use x=\"757.080078\" xlink:href=\"#DejaVuSans-105\"/>\n     <use x=\"784.863281\" xlink:href=\"#DejaVuSans-120\"/>\n     <use x=\"844.042969\" xlink:href=\"#DejaVuSans-32\"/>\n     <use x=\"875.830078\" xlink:href=\"#DejaVuSans-102\"/>\n     <use x=\"911.035156\" xlink:href=\"#DejaVuSans-111\"/>\n     <use x=\"972.216797\" xlink:href=\"#DejaVuSans-114\"/>\n    </g>\n   </g>\n  </g>\n  <g id=\"axes_2\">\n   <g id=\"patch_3\">\n    <path clip-path=\"url(#p76a1b8a477)\" d=\"M 559.28625 605.16 \nL 559.28625 602.824219 \nL 559.28625 9.535781 \nL 559.28625 7.2 \nL 589.18425 7.2 \nL 589.18425 9.535781 \nL 589.18425 602.824219 \nL 589.18425 605.16 \nz\n\" style=\"fill:#ffffff;stroke:#ffffff;stroke-linejoin:miter;stroke-width:0.01;\"/>\n   </g>\n   <g id=\"matplotlib.axis_3\"/>\n   <g id=\"matplotlib.axis_4\">\n    <g id=\"ytick_5\">\n     <g id=\"line2d_1\">\n      <defs>\n       <path d=\"M 0 0 \nL 3.5 0 \n\" id=\"m27bc8b9ce5\" style=\"stroke:#262626;stroke-width:0.8;\"/>\n      </defs>\n      <g>\n       <use style=\"fill:#262626;stroke:#262626;stroke-width:0.8;\" x=\"589.18425\" xlink:href=\"#m27bc8b9ce5\" y=\"605.16\"/>\n      </g>\n     </g>\n     <g id=\"text_28\">\n      <!-- 0 -->\n      <g style=\"fill:#262626;\" transform=\"translate(596.18425 608.959219)scale(0.1 -0.1)\">\n       <use xlink:href=\"#DejaVuSans-48\"/>\n      </g>\n     </g>\n    </g>\n    <g id=\"ytick_6\">\n     <g id=\"line2d_2\">\n      <g>\n       <use style=\"fill:#262626;stroke:#262626;stroke-width:0.8;\" x=\"589.18425\" xlink:href=\"#m27bc8b9ce5\" y=\"497.341753\"/>\n      </g>\n     </g>\n     <g id=\"text_29\">\n      <!-- 2000 -->\n      <g style=\"fill:#262626;\" transform=\"translate(596.18425 501.140971)scale(0.1 -0.1)\">\n       <use xlink:href=\"#DejaVuSans-50\"/>\n       <use x=\"63.623047\" xlink:href=\"#DejaVuSans-48\"/>\n       <use x=\"127.246094\" xlink:href=\"#DejaVuSans-48\"/>\n       <use x=\"190.869141\" xlink:href=\"#DejaVuSans-48\"/>\n      </g>\n     </g>\n    </g>\n    <g id=\"ytick_7\">\n     <g id=\"line2d_3\">\n      <g>\n       <use style=\"fill:#262626;stroke:#262626;stroke-width:0.8;\" x=\"589.18425\" xlink:href=\"#m27bc8b9ce5\" y=\"389.523505\"/>\n      </g>\n     </g>\n     <g id=\"text_30\">\n      <!-- 4000 -->\n      <g style=\"fill:#262626;\" transform=\"translate(596.18425 393.322724)scale(0.1 -0.1)\">\n       <use xlink:href=\"#DejaVuSans-52\"/>\n       <use x=\"63.623047\" xlink:href=\"#DejaVuSans-48\"/>\n       <use x=\"127.246094\" xlink:href=\"#DejaVuSans-48\"/>\n       <use x=\"190.869141\" xlink:href=\"#DejaVuSans-48\"/>\n      </g>\n     </g>\n    </g>\n    <g id=\"ytick_8\">\n     <g id=\"line2d_4\">\n      <g>\n       <use style=\"fill:#262626;stroke:#262626;stroke-width:0.8;\" x=\"589.18425\" xlink:href=\"#m27bc8b9ce5\" y=\"281.705258\"/>\n      </g>\n     </g>\n     <g id=\"text_31\">\n      <!-- 6000 -->\n      <g style=\"fill:#262626;\" transform=\"translate(596.18425 285.504477)scale(0.1 -0.1)\">\n       <use xlink:href=\"#DejaVuSans-54\"/>\n       <use x=\"63.623047\" xlink:href=\"#DejaVuSans-48\"/>\n       <use x=\"127.246094\" xlink:href=\"#DejaVuSans-48\"/>\n       <use x=\"190.869141\" xlink:href=\"#DejaVuSans-48\"/>\n      </g>\n     </g>\n    </g>\n    <g id=\"ytick_9\">\n     <g id=\"line2d_5\">\n      <g>\n       <use style=\"fill:#262626;stroke:#262626;stroke-width:0.8;\" x=\"589.18425\" xlink:href=\"#m27bc8b9ce5\" y=\"173.88701\"/>\n      </g>\n     </g>\n     <g id=\"text_32\">\n      <!-- 8000 -->\n      <g style=\"fill:#262626;\" transform=\"translate(596.18425 177.686229)scale(0.1 -0.1)\">\n       <use xlink:href=\"#DejaVuSans-56\"/>\n       <use x=\"63.623047\" xlink:href=\"#DejaVuSans-48\"/>\n       <use x=\"127.246094\" xlink:href=\"#DejaVuSans-48\"/>\n       <use x=\"190.869141\" xlink:href=\"#DejaVuSans-48\"/>\n      </g>\n     </g>\n    </g>\n    <g id=\"ytick_10\">\n     <g id=\"line2d_6\">\n      <g>\n       <use style=\"fill:#262626;stroke:#262626;stroke-width:0.8;\" x=\"589.18425\" xlink:href=\"#m27bc8b9ce5\" y=\"66.068763\"/>\n      </g>\n     </g>\n     <g id=\"text_33\">\n      <!-- 10000 -->\n      <g style=\"fill:#262626;\" transform=\"translate(596.18425 69.867982)scale(0.1 -0.1)\">\n       <use xlink:href=\"#DejaVuSans-49\"/>\n       <use x=\"63.623047\" xlink:href=\"#DejaVuSans-48\"/>\n       <use x=\"127.246094\" xlink:href=\"#DejaVuSans-48\"/>\n       <use x=\"190.869141\" xlink:href=\"#DejaVuSans-48\"/>\n       <use x=\"254.492188\" xlink:href=\"#DejaVuSans-48\"/>\n      </g>\n     </g>\n    </g>\n   </g>\n   <image height=\"598\" id=\"imagefc5315f35b\" transform=\"scale(1 -1)translate(0 -598)\" width=\"30\" x=\"559\" xlink:href=\"data:image/png;base64,\niVBORw0KGgoAAAANSUhEUgAAAB4AAAJWCAYAAABPpDeKAAAABHNCSVQICAgIfAhkiAAAAx5JREFUeJztnYlxIzEQA0lq8s/oIrkAnIS1dBZA1XZ3AlPgAKC8erz//fy/q8BpDF1rrfk+FcEqBgye79MZ3FP80MxlnGIA44QzF69AjFMMYJxwio1TDJ65eDsuvhC4miuDBfL+wZorRlFxR7BxymGcYvB27FHH4HU1b8e9o/61q0Oo+P2DgV390MxlnGLwjhqoGFcgmivGlF7dumPAYF5zARV/n10ZbJxiqDgGT7FHHQOo+Ho7hQCa6/l2Bjfj1BkMjBOuuXjmmkVT7FHHmIW7nXA77h31xn0qYuPihNuxRx1jTumDIO74/YNnl97jK8ap9PSlGSeYYo86xhxcgezSw0zjFKP5hznMXMYpBu+ogXHCKW7G6bcyuGiuS1N8aTtumgvWXLNo5ppLKxCbKwbxdqIpNk4xeOaaS3sForliAAvkMU4hiHGimYu342ZX08yF62rjFAPZ1TTFuALxdooBjBNOsUcdY57S9wc1VwwVx5hrnEJorhgqfv9g4xSjqLj0XW9knGBHPQun+NL+QZzNFcM4xQDGaeHidBfMXLOMUwiiuXAFUloxMU4LGCcVZ+DFiTd4Or8Bq2LCYN5RAxWfBfsZac0VA6jYOKXQXDGKOy4tGRgnnrmAio1TCKK5eIpL15NxiqG5YkxrMjFOQHPRFH9oO9ZcMebszuxinGg79naKwetqXmVqrhi8ruZVpuaKAVRsnFIAzeV9nMI4xbCrY/B27FHHQN5OHYxTDBXHME4x7OoYFsj7ByPN1UHF7x+MvJ1gX/U2TjF4Rz0f2tcVeAWiuWLMZ8PMNYem2DjFME4xkHGCHfWcQ1OM23HTXJ3BdnUMXoEUm4t21Dxz8RR7O8WYTTOXcYoxp/SkXHPFmE3bsbdTDOMUwzjF0FwxeIqNU4zZpbfajNP7BxPNVfpR1OaOYb/d5FHHIBbIp3M9AeO0gHHiKTZOGWbRjnp26b0B4/T+wcQ4faYy2B2/fzCvuWYdWpxwBWKcYsyimYv38lZzxbCrYxDNRWsu3o5trhjGKYZxiuFTnxizaY8ibK4YFkgMYJxwzYUsEOOU4Q9/T0A103X+HAAAAABJRU5ErkJggg==\" y=\"-7\"/>\n   <g id=\"patch_4\">\n    <path d=\"M 559.28625 605.16 \nL 559.28625 602.824219 \nL 559.28625 9.535781 \nL 559.28625 7.2 \nL 589.18425 7.2 \nL 589.18425 9.535781 \nL 589.18425 602.824219 \nL 589.18425 605.16 \nz\n\" style=\"fill:none;\"/>\n   </g>\n  </g>\n </g>\n <defs>\n  <clipPath id=\"p74f3daeee5\">\n   <rect height=\"491.04\" width=\"491.04\" x=\"37.55625\" y=\"60.66\"/>\n  </clipPath>\n  <clipPath id=\"p76a1b8a477\">\n   <rect height=\"597.96\" width=\"29.898\" x=\"559.28625\" y=\"7.2\"/>\n  </clipPath>\n </defs>\n</svg>\n"
          },
          "metadata": {
            "tags": [],
            "needs_background": "light"
          }
        }
      ]
    },
    {
      "cell_type": "code",
      "metadata": {
        "id": "0pXmJVrSOCCL",
        "colab_type": "code",
        "colab": {}
      },
      "source": [
        "et_results = et_model.predict(combined_TFIDF_test)"
      ],
      "execution_count": 0,
      "outputs": []
    },
    {
      "cell_type": "code",
      "metadata": {
        "id": "Zumf0jQQPDO_",
        "colab_type": "code",
        "colab": {}
      },
      "source": [
        "mat = confusion_matrix(et_results,df_test.Stance)"
      ],
      "execution_count": 0,
      "outputs": []
    },
    {
      "cell_type": "code",
      "metadata": {
        "id": "nWf6GYnJPFw7",
        "colab_type": "code",
        "colab": {
          "base_uri": "https://localhost:8080/",
          "height": 845
        },
        "outputId": "0d00a67b-eb12-42e7-ba4c-8232d928cd58"
      },
      "source": [
        "import seaborn as sns\n",
        "fig, ax = plt.subplots(figsize=(11,11))  \n",
        "ax.set_title(\"Confusion Matrix for\")\n",
        "sns.heatmap(mat.T, square=True, annot=True, fmt='d', cbar=True,cmap=\"icefire\",\n",
        "xticklabels=classes,yticklabels=classes,linewidths=.3, ax=ax)\n",
        "plt.xlabel('True label')\n",
        "plt.ylabel('Predicted label');"
      ],
      "execution_count": 274,
      "outputs": [
        {
          "output_type": "display_data",
          "data": {
            "text/plain": [
              "<Figure size 792x792 with 2 Axes>"
            ],
            "image/svg+xml": "<?xml version=\"1.0\" encoding=\"utf-8\" standalone=\"no\"?>\n<!DOCTYPE svg PUBLIC \"-//W3C//DTD SVG 1.1//EN\"\n  \"http://www.w3.org/Graphics/SVG/1.1/DTD/svg11.dtd\">\n<!-- Created with matplotlib (https://matplotlib.org/) -->\n<svg height=\"618.238906pt\" version=\"1.1\" viewBox=\"0 0 628.83425 618.238906\" width=\"628.83425pt\" xmlns=\"http://www.w3.org/2000/svg\" xmlns:xlink=\"http://www.w3.org/1999/xlink\">\n <defs>\n  <style type=\"text/css\">\n*{stroke-linecap:butt;stroke-linejoin:round;}\n  </style>\n </defs>\n <g id=\"figure_1\">\n  <g id=\"patch_1\">\n   <path d=\"M 0 618.238906 \nL 628.83425 618.238906 \nL 628.83425 0 \nL 0 0 \nz\n\" style=\"fill:none;\"/>\n  </g>\n  <g id=\"axes_1\">\n   <g id=\"patch_2\">\n    <path d=\"M 37.55625 551.7 \nL 528.59625 551.7 \nL 528.59625 60.66 \nL 37.55625 60.66 \nz\n\" style=\"fill:#ffffff;\"/>\n   </g>\n   <g id=\"matplotlib.axis_1\">\n    <g id=\"xtick_1\">\n     <g id=\"text_1\">\n      <!-- agree -->\n      <defs>\n       <path d=\"M 34.28125 27.484375 \nQ 23.390625 27.484375 19.1875 25 \nQ 14.984375 22.515625 14.984375 16.5 \nQ 14.984375 11.71875 18.140625 8.90625 \nQ 21.296875 6.109375 26.703125 6.109375 \nQ 34.1875 6.109375 38.703125 11.40625 \nQ 43.21875 16.703125 43.21875 25.484375 \nL 43.21875 27.484375 \nz\nM 52.203125 31.203125 \nL 52.203125 0 \nL 43.21875 0 \nL 43.21875 8.296875 \nQ 40.140625 3.328125 35.546875 0.953125 \nQ 30.953125 -1.421875 24.3125 -1.421875 \nQ 15.921875 -1.421875 10.953125 3.296875 \nQ 6 8.015625 6 15.921875 \nQ 6 25.140625 12.171875 29.828125 \nQ 18.359375 34.515625 30.609375 34.515625 \nL 43.21875 34.515625 \nL 43.21875 35.40625 \nQ 43.21875 41.609375 39.140625 45 \nQ 35.0625 48.390625 27.6875 48.390625 \nQ 23 48.390625 18.546875 47.265625 \nQ 14.109375 46.140625 10.015625 43.890625 \nL 10.015625 52.203125 \nQ 14.9375 54.109375 19.578125 55.046875 \nQ 24.21875 56 28.609375 56 \nQ 40.484375 56 46.34375 49.84375 \nQ 52.203125 43.703125 52.203125 31.203125 \nz\n\" id=\"DejaVuSans-97\"/>\n       <path d=\"M 45.40625 27.984375 \nQ 45.40625 37.75 41.375 43.109375 \nQ 37.359375 48.484375 30.078125 48.484375 \nQ 22.859375 48.484375 18.828125 43.109375 \nQ 14.796875 37.75 14.796875 27.984375 \nQ 14.796875 18.265625 18.828125 12.890625 \nQ 22.859375 7.515625 30.078125 7.515625 \nQ 37.359375 7.515625 41.375 12.890625 \nQ 45.40625 18.265625 45.40625 27.984375 \nz\nM 54.390625 6.78125 \nQ 54.390625 -7.171875 48.1875 -13.984375 \nQ 42 -20.796875 29.203125 -20.796875 \nQ 24.46875 -20.796875 20.265625 -20.09375 \nQ 16.0625 -19.390625 12.109375 -17.921875 \nL 12.109375 -9.1875 \nQ 16.0625 -11.328125 19.921875 -12.34375 \nQ 23.78125 -13.375 27.78125 -13.375 \nQ 36.625 -13.375 41.015625 -8.765625 \nQ 45.40625 -4.15625 45.40625 5.171875 \nL 45.40625 9.625 \nQ 42.625 4.78125 38.28125 2.390625 \nQ 33.9375 0 27.875 0 \nQ 17.828125 0 11.671875 7.65625 \nQ 5.515625 15.328125 5.515625 27.984375 \nQ 5.515625 40.671875 11.671875 48.328125 \nQ 17.828125 56 27.875 56 \nQ 33.9375 56 38.28125 53.609375 \nQ 42.625 51.21875 45.40625 46.390625 \nL 45.40625 54.6875 \nL 54.390625 54.6875 \nz\n\" id=\"DejaVuSans-103\"/>\n       <path d=\"M 41.109375 46.296875 \nQ 39.59375 47.171875 37.8125 47.578125 \nQ 36.03125 48 33.890625 48 \nQ 26.265625 48 22.1875 43.046875 \nQ 18.109375 38.09375 18.109375 28.8125 \nL 18.109375 0 \nL 9.078125 0 \nL 9.078125 54.6875 \nL 18.109375 54.6875 \nL 18.109375 46.1875 \nQ 20.953125 51.171875 25.484375 53.578125 \nQ 30.03125 56 36.53125 56 \nQ 37.453125 56 38.578125 55.875 \nQ 39.703125 55.765625 41.0625 55.515625 \nz\n\" id=\"DejaVuSans-114\"/>\n       <path d=\"M 56.203125 29.59375 \nL 56.203125 25.203125 \nL 14.890625 25.203125 \nQ 15.484375 15.921875 20.484375 11.0625 \nQ 25.484375 6.203125 34.421875 6.203125 \nQ 39.59375 6.203125 44.453125 7.46875 \nQ 49.3125 8.734375 54.109375 11.28125 \nL 54.109375 2.78125 \nQ 49.265625 0.734375 44.1875 -0.34375 \nQ 39.109375 -1.421875 33.890625 -1.421875 \nQ 20.796875 -1.421875 13.15625 6.1875 \nQ 5.515625 13.8125 5.515625 26.8125 \nQ 5.515625 40.234375 12.765625 48.109375 \nQ 20.015625 56 32.328125 56 \nQ 43.359375 56 49.78125 48.890625 \nQ 56.203125 41.796875 56.203125 29.59375 \nz\nM 47.21875 32.234375 \nQ 47.125 39.59375 43.09375 43.984375 \nQ 39.0625 48.390625 32.421875 48.390625 \nQ 24.90625 48.390625 20.390625 44.140625 \nQ 15.875 39.890625 15.1875 32.171875 \nz\n\" id=\"DejaVuSans-101\"/>\n      </defs>\n      <g style=\"fill:#262626;\" transform=\"translate(84.601875 566.298437)scale(0.1 -0.1)\">\n       <use xlink:href=\"#DejaVuSans-97\"/>\n       <use x=\"61.279297\" xlink:href=\"#DejaVuSans-103\"/>\n       <use x=\"124.755859\" xlink:href=\"#DejaVuSans-114\"/>\n       <use x=\"163.619141\" xlink:href=\"#DejaVuSans-101\"/>\n       <use x=\"225.142578\" xlink:href=\"#DejaVuSans-101\"/>\n      </g>\n     </g>\n    </g>\n    <g id=\"xtick_2\">\n     <g id=\"text_2\">\n      <!-- disagree -->\n      <defs>\n       <path d=\"M 45.40625 46.390625 \nL 45.40625 75.984375 \nL 54.390625 75.984375 \nL 54.390625 0 \nL 45.40625 0 \nL 45.40625 8.203125 \nQ 42.578125 3.328125 38.25 0.953125 \nQ 33.9375 -1.421875 27.875 -1.421875 \nQ 17.96875 -1.421875 11.734375 6.484375 \nQ 5.515625 14.40625 5.515625 27.296875 \nQ 5.515625 40.1875 11.734375 48.09375 \nQ 17.96875 56 27.875 56 \nQ 33.9375 56 38.25 53.625 \nQ 42.578125 51.265625 45.40625 46.390625 \nz\nM 14.796875 27.296875 \nQ 14.796875 17.390625 18.875 11.75 \nQ 22.953125 6.109375 30.078125 6.109375 \nQ 37.203125 6.109375 41.296875 11.75 \nQ 45.40625 17.390625 45.40625 27.296875 \nQ 45.40625 37.203125 41.296875 42.84375 \nQ 37.203125 48.484375 30.078125 48.484375 \nQ 22.953125 48.484375 18.875 42.84375 \nQ 14.796875 37.203125 14.796875 27.296875 \nz\n\" id=\"DejaVuSans-100\"/>\n       <path d=\"M 9.421875 54.6875 \nL 18.40625 54.6875 \nL 18.40625 0 \nL 9.421875 0 \nz\nM 9.421875 75.984375 \nL 18.40625 75.984375 \nL 18.40625 64.59375 \nL 9.421875 64.59375 \nz\n\" id=\"DejaVuSans-105\"/>\n       <path d=\"M 44.28125 53.078125 \nL 44.28125 44.578125 \nQ 40.484375 46.53125 36.375 47.5 \nQ 32.28125 48.484375 27.875 48.484375 \nQ 21.1875 48.484375 17.84375 46.4375 \nQ 14.5 44.390625 14.5 40.28125 \nQ 14.5 37.15625 16.890625 35.375 \nQ 19.28125 33.59375 26.515625 31.984375 \nL 29.59375 31.296875 \nQ 39.15625 29.25 43.1875 25.515625 \nQ 47.21875 21.78125 47.21875 15.09375 \nQ 47.21875 7.46875 41.1875 3.015625 \nQ 35.15625 -1.421875 24.609375 -1.421875 \nQ 20.21875 -1.421875 15.453125 -0.5625 \nQ 10.6875 0.296875 5.421875 2 \nL 5.421875 11.28125 \nQ 10.40625 8.6875 15.234375 7.390625 \nQ 20.0625 6.109375 24.8125 6.109375 \nQ 31.15625 6.109375 34.5625 8.28125 \nQ 37.984375 10.453125 37.984375 14.40625 \nQ 37.984375 18.0625 35.515625 20.015625 \nQ 33.0625 21.96875 24.703125 23.78125 \nL 21.578125 24.515625 \nQ 13.234375 26.265625 9.515625 29.90625 \nQ 5.8125 33.546875 5.8125 39.890625 \nQ 5.8125 47.609375 11.28125 51.796875 \nQ 16.75 56 26.8125 56 \nQ 31.78125 56 36.171875 55.265625 \nQ 40.578125 54.546875 44.28125 53.078125 \nz\n\" id=\"DejaVuSans-115\"/>\n      </defs>\n      <g style=\"fill:#262626;\" transform=\"translate(200.193906 566.298437)scale(0.1 -0.1)\">\n       <use xlink:href=\"#DejaVuSans-100\"/>\n       <use x=\"63.476562\" xlink:href=\"#DejaVuSans-105\"/>\n       <use x=\"91.259766\" xlink:href=\"#DejaVuSans-115\"/>\n       <use x=\"143.359375\" xlink:href=\"#DejaVuSans-97\"/>\n       <use x=\"204.638672\" xlink:href=\"#DejaVuSans-103\"/>\n       <use x=\"268.115234\" xlink:href=\"#DejaVuSans-114\"/>\n       <use x=\"306.978516\" xlink:href=\"#DejaVuSans-101\"/>\n       <use x=\"368.501953\" xlink:href=\"#DejaVuSans-101\"/>\n      </g>\n     </g>\n    </g>\n    <g id=\"xtick_3\">\n     <g id=\"text_3\">\n      <!-- discuss -->\n      <defs>\n       <path d=\"M 48.78125 52.59375 \nL 48.78125 44.1875 \nQ 44.96875 46.296875 41.140625 47.34375 \nQ 37.3125 48.390625 33.40625 48.390625 \nQ 24.65625 48.390625 19.8125 42.84375 \nQ 14.984375 37.3125 14.984375 27.296875 \nQ 14.984375 17.28125 19.8125 11.734375 \nQ 24.65625 6.203125 33.40625 6.203125 \nQ 37.3125 6.203125 41.140625 7.25 \nQ 44.96875 8.296875 48.78125 10.40625 \nL 48.78125 2.09375 \nQ 45.015625 0.34375 40.984375 -0.53125 \nQ 36.96875 -1.421875 32.421875 -1.421875 \nQ 20.0625 -1.421875 12.78125 6.34375 \nQ 5.515625 14.109375 5.515625 27.296875 \nQ 5.515625 40.671875 12.859375 48.328125 \nQ 20.21875 56 33.015625 56 \nQ 37.15625 56 41.109375 55.140625 \nQ 45.0625 54.296875 48.78125 52.59375 \nz\n\" id=\"DejaVuSans-99\"/>\n       <path d=\"M 8.5 21.578125 \nL 8.5 54.6875 \nL 17.484375 54.6875 \nL 17.484375 21.921875 \nQ 17.484375 14.15625 20.5 10.265625 \nQ 23.53125 6.390625 29.59375 6.390625 \nQ 36.859375 6.390625 41.078125 11.03125 \nQ 45.3125 15.671875 45.3125 23.6875 \nL 45.3125 54.6875 \nL 54.296875 54.6875 \nL 54.296875 0 \nL 45.3125 0 \nL 45.3125 8.40625 \nQ 42.046875 3.421875 37.71875 1 \nQ 33.40625 -1.421875 27.6875 -1.421875 \nQ 18.265625 -1.421875 13.375 4.4375 \nQ 8.5 10.296875 8.5 21.578125 \nz\nM 31.109375 56 \nz\n\" id=\"DejaVuSans-117\"/>\n      </defs>\n      <g style=\"fill:#262626;\" transform=\"translate(326.160938 566.298437)scale(0.1 -0.1)\">\n       <use xlink:href=\"#DejaVuSans-100\"/>\n       <use x=\"63.476562\" xlink:href=\"#DejaVuSans-105\"/>\n       <use x=\"91.259766\" xlink:href=\"#DejaVuSans-115\"/>\n       <use x=\"143.359375\" xlink:href=\"#DejaVuSans-99\"/>\n       <use x=\"198.339844\" xlink:href=\"#DejaVuSans-117\"/>\n       <use x=\"261.71875\" xlink:href=\"#DejaVuSans-115\"/>\n       <use x=\"313.818359\" xlink:href=\"#DejaVuSans-115\"/>\n      </g>\n     </g>\n    </g>\n    <g id=\"xtick_4\">\n     <g id=\"text_4\">\n      <!-- unrelated -->\n      <defs>\n       <path d=\"M 54.890625 33.015625 \nL 54.890625 0 \nL 45.90625 0 \nL 45.90625 32.71875 \nQ 45.90625 40.484375 42.875 44.328125 \nQ 39.84375 48.1875 33.796875 48.1875 \nQ 26.515625 48.1875 22.3125 43.546875 \nQ 18.109375 38.921875 18.109375 30.90625 \nL 18.109375 0 \nL 9.078125 0 \nL 9.078125 54.6875 \nL 18.109375 54.6875 \nL 18.109375 46.1875 \nQ 21.34375 51.125 25.703125 53.5625 \nQ 30.078125 56 35.796875 56 \nQ 45.21875 56 50.046875 50.171875 \nQ 54.890625 44.34375 54.890625 33.015625 \nz\n\" id=\"DejaVuSans-110\"/>\n       <path d=\"M 9.421875 75.984375 \nL 18.40625 75.984375 \nL 18.40625 0 \nL 9.421875 0 \nz\n\" id=\"DejaVuSans-108\"/>\n       <path d=\"M 18.3125 70.21875 \nL 18.3125 54.6875 \nL 36.8125 54.6875 \nL 36.8125 47.703125 \nL 18.3125 47.703125 \nL 18.3125 18.015625 \nQ 18.3125 11.328125 20.140625 9.421875 \nQ 21.96875 7.515625 27.59375 7.515625 \nL 36.8125 7.515625 \nL 36.8125 0 \nL 27.59375 0 \nQ 17.1875 0 13.234375 3.875 \nQ 9.28125 7.765625 9.28125 18.015625 \nL 9.28125 47.703125 \nL 2.6875 47.703125 \nL 2.6875 54.6875 \nL 9.28125 54.6875 \nL 9.28125 70.21875 \nz\n\" id=\"DejaVuSans-116\"/>\n      </defs>\n      <g style=\"fill:#262626;\" transform=\"translate(443.195156 566.298437)scale(0.1 -0.1)\">\n       <use xlink:href=\"#DejaVuSans-117\"/>\n       <use x=\"63.378906\" xlink:href=\"#DejaVuSans-110\"/>\n       <use x=\"126.757812\" xlink:href=\"#DejaVuSans-114\"/>\n       <use x=\"165.621094\" xlink:href=\"#DejaVuSans-101\"/>\n       <use x=\"227.144531\" xlink:href=\"#DejaVuSans-108\"/>\n       <use x=\"254.927734\" xlink:href=\"#DejaVuSans-97\"/>\n       <use x=\"316.207031\" xlink:href=\"#DejaVuSans-116\"/>\n       <use x=\"355.416016\" xlink:href=\"#DejaVuSans-101\"/>\n       <use x=\"416.939453\" xlink:href=\"#DejaVuSans-100\"/>\n      </g>\n     </g>\n    </g>\n    <g id=\"text_5\">\n     <!-- True label -->\n     <defs>\n      <path d=\"M -0.296875 72.90625 \nL 61.375 72.90625 \nL 61.375 64.59375 \nL 35.5 64.59375 \nL 35.5 0 \nL 25.59375 0 \nL 25.59375 64.59375 \nL -0.296875 64.59375 \nz\n\" id=\"DejaVuSans-84\"/>\n      <path id=\"DejaVuSans-32\"/>\n      <path d=\"M 48.6875 27.296875 \nQ 48.6875 37.203125 44.609375 42.84375 \nQ 40.53125 48.484375 33.40625 48.484375 \nQ 26.265625 48.484375 22.1875 42.84375 \nQ 18.109375 37.203125 18.109375 27.296875 \nQ 18.109375 17.390625 22.1875 11.75 \nQ 26.265625 6.109375 33.40625 6.109375 \nQ 40.53125 6.109375 44.609375 11.75 \nQ 48.6875 17.390625 48.6875 27.296875 \nz\nM 18.109375 46.390625 \nQ 20.953125 51.265625 25.265625 53.625 \nQ 29.59375 56 35.59375 56 \nQ 45.5625 56 51.78125 48.09375 \nQ 58.015625 40.1875 58.015625 27.296875 \nQ 58.015625 14.40625 51.78125 6.484375 \nQ 45.5625 -1.421875 35.59375 -1.421875 \nQ 29.59375 -1.421875 25.265625 0.953125 \nQ 20.953125 3.328125 18.109375 8.203125 \nL 18.109375 0 \nL 9.078125 0 \nL 9.078125 75.984375 \nL 18.109375 75.984375 \nz\n\" id=\"DejaVuSans-98\"/>\n     </defs>\n     <g style=\"fill:#262626;\" transform=\"translate(258.777031 579.976562)scale(0.1 -0.1)\">\n      <use xlink:href=\"#DejaVuSans-84\"/>\n      <use x=\"46.333984\" xlink:href=\"#DejaVuSans-114\"/>\n      <use x=\"87.447266\" xlink:href=\"#DejaVuSans-117\"/>\n      <use x=\"150.826172\" xlink:href=\"#DejaVuSans-101\"/>\n      <use x=\"212.349609\" xlink:href=\"#DejaVuSans-32\"/>\n      <use x=\"244.136719\" xlink:href=\"#DejaVuSans-108\"/>\n      <use x=\"271.919922\" xlink:href=\"#DejaVuSans-97\"/>\n      <use x=\"333.199219\" xlink:href=\"#DejaVuSans-98\"/>\n      <use x=\"396.675781\" xlink:href=\"#DejaVuSans-101\"/>\n      <use x=\"458.199219\" xlink:href=\"#DejaVuSans-108\"/>\n     </g>\n    </g>\n   </g>\n   <g id=\"matplotlib.axis_2\">\n    <g id=\"ytick_1\">\n     <g id=\"text_6\">\n      <!-- agree -->\n      <g style=\"fill:#262626;\" transform=\"translate(28.476563 146.909531)rotate(-90)scale(0.1 -0.1)\">\n       <use xlink:href=\"#DejaVuSans-97\"/>\n       <use x=\"61.279297\" xlink:href=\"#DejaVuSans-103\"/>\n       <use x=\"124.755859\" xlink:href=\"#DejaVuSans-114\"/>\n       <use x=\"163.619141\" xlink:href=\"#DejaVuSans-101\"/>\n       <use x=\"225.142578\" xlink:href=\"#DejaVuSans-101\"/>\n      </g>\n     </g>\n    </g>\n    <g id=\"ytick_2\">\n     <g id=\"text_7\">\n      <!-- disagree -->\n      <g style=\"fill:#262626;\" transform=\"translate(28.476563 284.005469)rotate(-90)scale(0.1 -0.1)\">\n       <use xlink:href=\"#DejaVuSans-100\"/>\n       <use x=\"63.476562\" xlink:href=\"#DejaVuSans-105\"/>\n       <use x=\"91.259766\" xlink:href=\"#DejaVuSans-115\"/>\n       <use x=\"143.359375\" xlink:href=\"#DejaVuSans-97\"/>\n       <use x=\"204.638672\" xlink:href=\"#DejaVuSans-103\"/>\n       <use x=\"268.115234\" xlink:href=\"#DejaVuSans-114\"/>\n       <use x=\"306.978516\" xlink:href=\"#DejaVuSans-101\"/>\n       <use x=\"368.501953\" xlink:href=\"#DejaVuSans-101\"/>\n      </g>\n     </g>\n    </g>\n    <g id=\"ytick_3\">\n     <g id=\"text_8\">\n      <!-- discuss -->\n      <g style=\"fill:#262626;\" transform=\"translate(28.476563 400.351406)rotate(-90)scale(0.1 -0.1)\">\n       <use xlink:href=\"#DejaVuSans-100\"/>\n       <use x=\"63.476562\" xlink:href=\"#DejaVuSans-105\"/>\n       <use x=\"91.259766\" xlink:href=\"#DejaVuSans-115\"/>\n       <use x=\"143.359375\" xlink:href=\"#DejaVuSans-99\"/>\n       <use x=\"198.339844\" xlink:href=\"#DejaVuSans-117\"/>\n       <use x=\"261.71875\" xlink:href=\"#DejaVuSans-115\"/>\n       <use x=\"313.818359\" xlink:href=\"#DejaVuSans-115\"/>\n      </g>\n     </g>\n    </g>\n    <g id=\"ytick_4\">\n     <g id=\"text_9\">\n      <!-- unrelated -->\n      <g style=\"fill:#262626;\" transform=\"translate(28.476563 534.562969)rotate(-90)scale(0.1 -0.1)\">\n       <use xlink:href=\"#DejaVuSans-117\"/>\n       <use x=\"63.378906\" xlink:href=\"#DejaVuSans-110\"/>\n       <use x=\"126.757812\" xlink:href=\"#DejaVuSans-114\"/>\n       <use x=\"165.621094\" xlink:href=\"#DejaVuSans-101\"/>\n       <use x=\"227.144531\" xlink:href=\"#DejaVuSans-108\"/>\n       <use x=\"254.927734\" xlink:href=\"#DejaVuSans-97\"/>\n       <use x=\"316.207031\" xlink:href=\"#DejaVuSans-116\"/>\n       <use x=\"355.416016\" xlink:href=\"#DejaVuSans-101\"/>\n       <use x=\"416.939453\" xlink:href=\"#DejaVuSans-100\"/>\n      </g>\n     </g>\n    </g>\n    <g id=\"text_10\">\n     <!-- Predicted label -->\n     <defs>\n      <path d=\"M 19.671875 64.796875 \nL 19.671875 37.40625 \nL 32.078125 37.40625 \nQ 38.96875 37.40625 42.71875 40.96875 \nQ 46.484375 44.53125 46.484375 51.125 \nQ 46.484375 57.671875 42.71875 61.234375 \nQ 38.96875 64.796875 32.078125 64.796875 \nz\nM 9.8125 72.90625 \nL 32.078125 72.90625 \nQ 44.34375 72.90625 50.609375 67.359375 \nQ 56.890625 61.8125 56.890625 51.125 \nQ 56.890625 40.328125 50.609375 34.8125 \nQ 44.34375 29.296875 32.078125 29.296875 \nL 19.671875 29.296875 \nL 19.671875 0 \nL 9.8125 0 \nz\n\" id=\"DejaVuSans-80\"/>\n     </defs>\n     <g style=\"fill:#262626;\" transform=\"translate(14.798438 343.332344)rotate(-90)scale(0.1 -0.1)\">\n      <use xlink:href=\"#DejaVuSans-80\"/>\n      <use x=\"58.552734\" xlink:href=\"#DejaVuSans-114\"/>\n      <use x=\"97.416016\" xlink:href=\"#DejaVuSans-101\"/>\n      <use x=\"158.939453\" xlink:href=\"#DejaVuSans-100\"/>\n      <use x=\"222.416016\" xlink:href=\"#DejaVuSans-105\"/>\n      <use x=\"250.199219\" xlink:href=\"#DejaVuSans-99\"/>\n      <use x=\"305.179688\" xlink:href=\"#DejaVuSans-116\"/>\n      <use x=\"344.388672\" xlink:href=\"#DejaVuSans-101\"/>\n      <use x=\"405.912109\" xlink:href=\"#DejaVuSans-100\"/>\n      <use x=\"469.388672\" xlink:href=\"#DejaVuSans-32\"/>\n      <use x=\"501.175781\" xlink:href=\"#DejaVuSans-108\"/>\n      <use x=\"528.958984\" xlink:href=\"#DejaVuSans-97\"/>\n      <use x=\"590.238281\" xlink:href=\"#DejaVuSans-98\"/>\n      <use x=\"653.714844\" xlink:href=\"#DejaVuSans-101\"/>\n      <use x=\"715.238281\" xlink:href=\"#DejaVuSans-108\"/>\n     </g>\n    </g>\n   </g>\n   <g id=\"QuadMesh_1\">\n    <path clip-path=\"url(#p81a0e60a51)\" d=\"M 37.55625 60.66 \nL 160.31625 60.66 \nL 160.31625 183.42 \nL 37.55625 183.42 \nL 37.55625 60.66 \n\" style=\"fill:#90c8d1;stroke:#ffffff;stroke-width:0.3;\"/>\n    <path clip-path=\"url(#p81a0e60a51)\" d=\"M 160.31625 60.66 \nL 283.07625 60.66 \nL 283.07625 183.42 \nL 160.31625 183.42 \nL 160.31625 60.66 \n\" style=\"fill:#bde7db;stroke:#ffffff;stroke-width:0.3;\"/>\n    <path clip-path=\"url(#p81a0e60a51)\" d=\"M 283.07625 60.66 \nL 405.83625 60.66 \nL 405.83625 183.42 \nL 283.07625 183.42 \nL 283.07625 60.66 \n\" style=\"fill:#afddd7;stroke:#ffffff;stroke-width:0.3;\"/>\n    <path clip-path=\"url(#p81a0e60a51)\" d=\"M 405.83625 60.66 \nL 528.59625 60.66 \nL 528.59625 183.42 \nL 405.83625 183.42 \nL 405.83625 60.66 \n\" style=\"fill:#60abcd;stroke:#ffffff;stroke-width:0.3;\"/>\n    <path clip-path=\"url(#p81a0e60a51)\" d=\"M 37.55625 183.42 \nL 160.31625 183.42 \nL 160.31625 306.18 \nL 37.55625 306.18 \nL 37.55625 183.42 \n\" style=\"fill:#afddd7;stroke:#ffffff;stroke-width:0.3;\"/>\n    <path clip-path=\"url(#p81a0e60a51)\" d=\"M 160.31625 183.42 \nL 283.07625 183.42 \nL 283.07625 306.18 \nL 160.31625 306.18 \nL 160.31625 183.42 \n\" style=\"fill:#bde7db;stroke:#ffffff;stroke-width:0.3;\"/>\n    <path clip-path=\"url(#p81a0e60a51)\" d=\"M 283.07625 183.42 \nL 405.83625 183.42 \nL 405.83625 306.18 \nL 283.07625 306.18 \nL 283.07625 183.42 \n\" style=\"fill:#bae5da;stroke:#ffffff;stroke-width:0.3;\"/>\n    <path clip-path=\"url(#p81a0e60a51)\" d=\"M 405.83625 183.42 \nL 528.59625 183.42 \nL 528.59625 306.18 \nL 405.83625 306.18 \nL 405.83625 183.42 \n\" style=\"fill:#9bcfd3;stroke:#ffffff;stroke-width:0.3;\"/>\n    <path clip-path=\"url(#p81a0e60a51)\" d=\"M 37.55625 306.18 \nL 160.31625 306.18 \nL 160.31625 428.94 \nL 37.55625 428.94 \nL 37.55625 306.18 \n\" style=\"fill:#4394ce;stroke:#ffffff;stroke-width:0.3;\"/>\n    <path clip-path=\"url(#p81a0e60a51)\" d=\"M 160.31625 306.18 \nL 283.07625 306.18 \nL 283.07625 428.94 \nL 160.31625 428.94 \nL 160.31625 306.18 \n\" style=\"fill:#bde7db;stroke:#ffffff;stroke-width:0.3;\"/>\n    <path clip-path=\"url(#p81a0e60a51)\" d=\"M 283.07625 306.18 \nL 405.83625 306.18 \nL 405.83625 428.94 \nL 283.07625 428.94 \nL 283.07625 306.18 \n\" style=\"fill:#9bcfd3;stroke:#ffffff;stroke-width:0.3;\"/>\n    <path clip-path=\"url(#p81a0e60a51)\" d=\"M 405.83625 306.18 \nL 528.59625 306.18 \nL 528.59625 428.94 \nL 405.83625 428.94 \nL 405.83625 306.18 \n\" style=\"fill:#465ebe;stroke:#ffffff;stroke-width:0.3;\"/>\n    <path clip-path=\"url(#p81a0e60a51)\" d=\"M 37.55625 428.94 \nL 160.31625 428.94 \nL 160.31625 551.7 \nL 37.55625 551.7 \nL 37.55625 428.94 \n\" style=\"fill:#e25f33;stroke:#ffffff;stroke-width:0.3;\"/>\n    <path clip-path=\"url(#p81a0e60a51)\" d=\"M 160.31625 428.94 \nL 283.07625 428.94 \nL 283.07625 551.7 \nL 160.31625 551.7 \nL 160.31625 428.94 \n\" style=\"fill:#bde7db;stroke:#ffffff;stroke-width:0.3;\"/>\n    <path clip-path=\"url(#p81a0e60a51)\" d=\"M 283.07625 428.94 \nL 405.83625 428.94 \nL 405.83625 551.7 \nL 283.07625 551.7 \nL 283.07625 428.94 \n\" style=\"fill:#3a89cf;stroke:#ffffff;stroke-width:0.3;\"/>\n    <path clip-path=\"url(#p81a0e60a51)\" d=\"M 405.83625 428.94 \nL 528.59625 428.94 \nL 528.59625 551.7 \nL 405.83625 551.7 \nL 405.83625 428.94 \n\" style=\"fill:#ffd4ac;stroke:#ffffff;stroke-width:0.3;\"/>\n   </g>\n   <g id=\"text_11\">\n    <!-- 576 -->\n    <defs>\n     <path d=\"M 10.796875 72.90625 \nL 49.515625 72.90625 \nL 49.515625 64.59375 \nL 19.828125 64.59375 \nL 19.828125 46.734375 \nQ 21.96875 47.46875 24.109375 47.828125 \nQ 26.265625 48.1875 28.421875 48.1875 \nQ 40.625 48.1875 47.75 41.5 \nQ 54.890625 34.8125 54.890625 23.390625 \nQ 54.890625 11.625 47.5625 5.09375 \nQ 40.234375 -1.421875 26.90625 -1.421875 \nQ 22.3125 -1.421875 17.546875 -0.640625 \nQ 12.796875 0.140625 7.71875 1.703125 \nL 7.71875 11.625 \nQ 12.109375 9.234375 16.796875 8.0625 \nQ 21.484375 6.890625 26.703125 6.890625 \nQ 35.15625 6.890625 40.078125 11.328125 \nQ 45.015625 15.765625 45.015625 23.390625 \nQ 45.015625 31 40.078125 35.4375 \nQ 35.15625 39.890625 26.703125 39.890625 \nQ 22.75 39.890625 18.8125 39.015625 \nQ 14.890625 38.140625 10.796875 36.28125 \nz\n\" id=\"DejaVuSans-53\"/>\n     <path d=\"M 8.203125 72.90625 \nL 55.078125 72.90625 \nL 55.078125 68.703125 \nL 28.609375 0 \nL 18.3125 0 \nL 43.21875 64.59375 \nL 8.203125 64.59375 \nz\n\" id=\"DejaVuSans-55\"/>\n     <path d=\"M 33.015625 40.375 \nQ 26.375 40.375 22.484375 35.828125 \nQ 18.609375 31.296875 18.609375 23.390625 \nQ 18.609375 15.53125 22.484375 10.953125 \nQ 26.375 6.390625 33.015625 6.390625 \nQ 39.65625 6.390625 43.53125 10.953125 \nQ 47.40625 15.53125 47.40625 23.390625 \nQ 47.40625 31.296875 43.53125 35.828125 \nQ 39.65625 40.375 33.015625 40.375 \nz\nM 52.59375 71.296875 \nL 52.59375 62.3125 \nQ 48.875 64.0625 45.09375 64.984375 \nQ 41.3125 65.921875 37.59375 65.921875 \nQ 27.828125 65.921875 22.671875 59.328125 \nQ 17.53125 52.734375 16.796875 39.40625 \nQ 19.671875 43.65625 24.015625 45.921875 \nQ 28.375 48.1875 33.59375 48.1875 \nQ 44.578125 48.1875 50.953125 41.515625 \nQ 57.328125 34.859375 57.328125 23.390625 \nQ 57.328125 12.15625 50.6875 5.359375 \nQ 44.046875 -1.421875 33.015625 -1.421875 \nQ 20.359375 -1.421875 13.671875 8.265625 \nQ 6.984375 17.96875 6.984375 36.375 \nQ 6.984375 53.65625 15.1875 63.9375 \nQ 23.390625 74.21875 37.203125 74.21875 \nQ 40.921875 74.21875 44.703125 73.484375 \nQ 48.484375 72.75 52.59375 71.296875 \nz\n\" id=\"DejaVuSans-54\"/>\n    </defs>\n    <g style=\"fill:#262626;\" transform=\"translate(89.3925 124.799375)scale(0.1 -0.1)\">\n     <use xlink:href=\"#DejaVuSans-53\"/>\n     <use x=\"63.623047\" xlink:href=\"#DejaVuSans-55\"/>\n     <use x=\"127.246094\" xlink:href=\"#DejaVuSans-54\"/>\n    </g>\n   </g>\n   <g id=\"text_12\">\n    <!-- 4 -->\n    <defs>\n     <path d=\"M 37.796875 64.3125 \nL 12.890625 25.390625 \nL 37.796875 25.390625 \nz\nM 35.203125 72.90625 \nL 47.609375 72.90625 \nL 47.609375 25.390625 \nL 58.015625 25.390625 \nL 58.015625 17.1875 \nL 47.609375 17.1875 \nL 47.609375 0 \nL 37.796875 0 \nL 37.796875 17.1875 \nL 4.890625 17.1875 \nL 4.890625 26.703125 \nz\n\" id=\"DejaVuSans-52\"/>\n    </defs>\n    <g style=\"fill:#262626;\" transform=\"translate(218.515 124.799375)scale(0.1 -0.1)\">\n     <use xlink:href=\"#DejaVuSans-52\"/>\n    </g>\n   </g>\n   <g id=\"text_13\">\n    <!-- 187 -->\n    <defs>\n     <path d=\"M 12.40625 8.296875 \nL 28.515625 8.296875 \nL 28.515625 63.921875 \nL 10.984375 60.40625 \nL 10.984375 69.390625 \nL 28.421875 72.90625 \nL 38.28125 72.90625 \nL 38.28125 8.296875 \nL 54.390625 8.296875 \nL 54.390625 0 \nL 12.40625 0 \nz\n\" id=\"DejaVuSans-49\"/>\n     <path d=\"M 31.78125 34.625 \nQ 24.75 34.625 20.71875 30.859375 \nQ 16.703125 27.09375 16.703125 20.515625 \nQ 16.703125 13.921875 20.71875 10.15625 \nQ 24.75 6.390625 31.78125 6.390625 \nQ 38.8125 6.390625 42.859375 10.171875 \nQ 46.921875 13.96875 46.921875 20.515625 \nQ 46.921875 27.09375 42.890625 30.859375 \nQ 38.875 34.625 31.78125 34.625 \nz\nM 21.921875 38.8125 \nQ 15.578125 40.375 12.03125 44.71875 \nQ 8.5 49.078125 8.5 55.328125 \nQ 8.5 64.0625 14.71875 69.140625 \nQ 20.953125 74.21875 31.78125 74.21875 \nQ 42.671875 74.21875 48.875 69.140625 \nQ 55.078125 64.0625 55.078125 55.328125 \nQ 55.078125 49.078125 51.53125 44.71875 \nQ 48 40.375 41.703125 38.8125 \nQ 48.828125 37.15625 52.796875 32.3125 \nQ 56.78125 27.484375 56.78125 20.515625 \nQ 56.78125 9.90625 50.3125 4.234375 \nQ 43.84375 -1.421875 31.78125 -1.421875 \nQ 19.734375 -1.421875 13.25 4.234375 \nQ 6.78125 9.90625 6.78125 20.515625 \nQ 6.78125 27.484375 10.78125 32.3125 \nQ 14.796875 37.15625 21.921875 38.8125 \nz\nM 18.3125 54.390625 \nQ 18.3125 48.734375 21.84375 45.5625 \nQ 25.390625 42.390625 31.78125 42.390625 \nQ 38.140625 42.390625 41.71875 45.5625 \nQ 45.3125 48.734375 45.3125 54.390625 \nQ 45.3125 60.0625 41.71875 63.234375 \nQ 38.140625 66.40625 31.78125 66.40625 \nQ 25.390625 66.40625 21.84375 63.234375 \nQ 18.3125 60.0625 18.3125 54.390625 \nz\n\" id=\"DejaVuSans-56\"/>\n    </defs>\n    <g style=\"fill:#262626;\" transform=\"translate(334.9125 124.799375)scale(0.1 -0.1)\">\n     <use xlink:href=\"#DejaVuSans-49\"/>\n     <use x=\"63.623047\" xlink:href=\"#DejaVuSans-56\"/>\n     <use x=\"127.246094\" xlink:href=\"#DejaVuSans-55\"/>\n    </g>\n   </g>\n   <g id=\"text_14\">\n    <!-- 1136 -->\n    <defs>\n     <path d=\"M 40.578125 39.3125 \nQ 47.65625 37.796875 51.625 33 \nQ 55.609375 28.21875 55.609375 21.1875 \nQ 55.609375 10.40625 48.1875 4.484375 \nQ 40.765625 -1.421875 27.09375 -1.421875 \nQ 22.515625 -1.421875 17.65625 -0.515625 \nQ 12.796875 0.390625 7.625 2.203125 \nL 7.625 11.71875 \nQ 11.71875 9.328125 16.59375 8.109375 \nQ 21.484375 6.890625 26.8125 6.890625 \nQ 36.078125 6.890625 40.9375 10.546875 \nQ 45.796875 14.203125 45.796875 21.1875 \nQ 45.796875 27.640625 41.28125 31.265625 \nQ 36.765625 34.90625 28.71875 34.90625 \nL 20.21875 34.90625 \nL 20.21875 43.015625 \nL 29.109375 43.015625 \nQ 36.375 43.015625 40.234375 45.921875 \nQ 44.09375 48.828125 44.09375 54.296875 \nQ 44.09375 59.90625 40.109375 62.90625 \nQ 36.140625 65.921875 28.71875 65.921875 \nQ 24.65625 65.921875 20.015625 65.03125 \nQ 15.375 64.15625 9.8125 62.3125 \nL 9.8125 71.09375 \nQ 15.4375 72.65625 20.34375 73.4375 \nQ 25.25 74.21875 29.59375 74.21875 \nQ 40.828125 74.21875 47.359375 69.109375 \nQ 53.90625 64.015625 53.90625 55.328125 \nQ 53.90625 49.265625 50.4375 45.09375 \nQ 46.96875 40.921875 40.578125 39.3125 \nz\n\" id=\"DejaVuSans-51\"/>\n    </defs>\n    <g style=\"fill:#ffffff;\" transform=\"translate(454.49125 124.799375)scale(0.1 -0.1)\">\n     <use xlink:href=\"#DejaVuSans-49\"/>\n     <use x=\"63.623047\" xlink:href=\"#DejaVuSans-49\"/>\n     <use x=\"127.246094\" xlink:href=\"#DejaVuSans-51\"/>\n     <use x=\"190.869141\" xlink:href=\"#DejaVuSans-54\"/>\n    </g>\n   </g>\n   <g id=\"text_15\">\n    <!-- 197 -->\n    <defs>\n     <path d=\"M 10.984375 1.515625 \nL 10.984375 10.5 \nQ 14.703125 8.734375 18.5 7.8125 \nQ 22.3125 6.890625 25.984375 6.890625 \nQ 35.75 6.890625 40.890625 13.453125 \nQ 46.046875 20.015625 46.78125 33.40625 \nQ 43.953125 29.203125 39.59375 26.953125 \nQ 35.25 24.703125 29.984375 24.703125 \nQ 19.046875 24.703125 12.671875 31.3125 \nQ 6.296875 37.9375 6.296875 49.421875 \nQ 6.296875 60.640625 12.9375 67.421875 \nQ 19.578125 74.21875 30.609375 74.21875 \nQ 43.265625 74.21875 49.921875 64.515625 \nQ 56.59375 54.828125 56.59375 36.375 \nQ 56.59375 19.140625 48.40625 8.859375 \nQ 40.234375 -1.421875 26.421875 -1.421875 \nQ 22.703125 -1.421875 18.890625 -0.6875 \nQ 15.09375 0.046875 10.984375 1.515625 \nz\nM 30.609375 32.421875 \nQ 37.25 32.421875 41.125 36.953125 \nQ 45.015625 41.5 45.015625 49.421875 \nQ 45.015625 57.28125 41.125 61.84375 \nQ 37.25 66.40625 30.609375 66.40625 \nQ 23.96875 66.40625 20.09375 61.84375 \nQ 16.21875 57.28125 16.21875 49.421875 \nQ 16.21875 41.5 20.09375 36.953125 \nQ 23.96875 32.421875 30.609375 32.421875 \nz\n\" id=\"DejaVuSans-57\"/>\n    </defs>\n    <g style=\"fill:#262626;\" transform=\"translate(89.3925 247.559375)scale(0.1 -0.1)\">\n     <use xlink:href=\"#DejaVuSans-49\"/>\n     <use x=\"63.623047\" xlink:href=\"#DejaVuSans-57\"/>\n     <use x=\"127.246094\" xlink:href=\"#DejaVuSans-55\"/>\n    </g>\n   </g>\n   <g id=\"text_16\">\n    <!-- 0 -->\n    <defs>\n     <path d=\"M 31.78125 66.40625 \nQ 24.171875 66.40625 20.328125 58.90625 \nQ 16.5 51.421875 16.5 36.375 \nQ 16.5 21.390625 20.328125 13.890625 \nQ 24.171875 6.390625 31.78125 6.390625 \nQ 39.453125 6.390625 43.28125 13.890625 \nQ 47.125 21.390625 47.125 36.375 \nQ 47.125 51.421875 43.28125 58.90625 \nQ 39.453125 66.40625 31.78125 66.40625 \nz\nM 31.78125 74.21875 \nQ 44.046875 74.21875 50.515625 64.515625 \nQ 56.984375 54.828125 56.984375 36.375 \nQ 56.984375 17.96875 50.515625 8.265625 \nQ 44.046875 -1.421875 31.78125 -1.421875 \nQ 19.53125 -1.421875 13.0625 8.265625 \nQ 6.59375 17.96875 6.59375 36.375 \nQ 6.59375 54.828125 13.0625 64.515625 \nQ 19.53125 74.21875 31.78125 74.21875 \nz\n\" id=\"DejaVuSans-48\"/>\n    </defs>\n    <g style=\"fill:#262626;\" transform=\"translate(218.515 247.559375)scale(0.1 -0.1)\">\n     <use xlink:href=\"#DejaVuSans-48\"/>\n    </g>\n   </g>\n   <g id=\"text_17\">\n    <!-- 51 -->\n    <g style=\"fill:#262626;\" transform=\"translate(338.09375 247.559375)scale(0.1 -0.1)\">\n     <use xlink:href=\"#DejaVuSans-53\"/>\n     <use x=\"63.623047\" xlink:href=\"#DejaVuSans-49\"/>\n    </g>\n   </g>\n   <g id=\"text_18\">\n    <!-- 449 -->\n    <g style=\"fill:#262626;\" transform=\"translate(457.6725 247.559375)scale(0.1 -0.1)\">\n     <use xlink:href=\"#DejaVuSans-52\"/>\n     <use x=\"63.623047\" xlink:href=\"#DejaVuSans-52\"/>\n     <use x=\"127.246094\" xlink:href=\"#DejaVuSans-57\"/>\n    </g>\n   </g>\n   <g id=\"text_19\">\n    <!-- 1589 -->\n    <g style=\"fill:#ffffff;\" transform=\"translate(86.21125 370.319375)scale(0.1 -0.1)\">\n     <use xlink:href=\"#DejaVuSans-49\"/>\n     <use x=\"63.623047\" xlink:href=\"#DejaVuSans-53\"/>\n     <use x=\"127.246094\" xlink:href=\"#DejaVuSans-56\"/>\n     <use x=\"190.869141\" xlink:href=\"#DejaVuSans-57\"/>\n    </g>\n   </g>\n   <g id=\"text_20\">\n    <!-- 7 -->\n    <g style=\"fill:#262626;\" transform=\"translate(218.515 370.319375)scale(0.1 -0.1)\">\n     <use xlink:href=\"#DejaVuSans-55\"/>\n    </g>\n   </g>\n   <g id=\"text_21\">\n    <!-- 448 -->\n    <g style=\"fill:#262626;\" transform=\"translate(334.9125 370.319375)scale(0.1 -0.1)\">\n     <use xlink:href=\"#DejaVuSans-52\"/>\n     <use x=\"63.623047\" xlink:href=\"#DejaVuSans-52\"/>\n     <use x=\"127.246094\" xlink:href=\"#DejaVuSans-56\"/>\n    </g>\n   </g>\n   <g id=\"text_22\">\n    <!-- 2420 -->\n    <defs>\n     <path d=\"M 19.1875 8.296875 \nL 53.609375 8.296875 \nL 53.609375 0 \nL 7.328125 0 \nL 7.328125 8.296875 \nQ 12.9375 14.109375 22.625 23.890625 \nQ 32.328125 33.6875 34.8125 36.53125 \nQ 39.546875 41.84375 41.421875 45.53125 \nQ 43.3125 49.21875 43.3125 52.78125 \nQ 43.3125 58.59375 39.234375 62.25 \nQ 35.15625 65.921875 28.609375 65.921875 \nQ 23.96875 65.921875 18.8125 64.3125 \nQ 13.671875 62.703125 7.8125 59.421875 \nL 7.8125 69.390625 \nQ 13.765625 71.78125 18.9375 73 \nQ 24.125 74.21875 28.421875 74.21875 \nQ 39.75 74.21875 46.484375 68.546875 \nQ 53.21875 62.890625 53.21875 53.421875 \nQ 53.21875 48.921875 51.53125 44.890625 \nQ 49.859375 40.875 45.40625 35.40625 \nQ 44.1875 33.984375 37.640625 27.21875 \nQ 31.109375 20.453125 19.1875 8.296875 \nz\n\" id=\"DejaVuSans-50\"/>\n    </defs>\n    <g style=\"fill:#ffffff;\" transform=\"translate(454.49125 370.319375)scale(0.1 -0.1)\">\n     <use xlink:href=\"#DejaVuSans-50\"/>\n     <use x=\"63.623047\" xlink:href=\"#DejaVuSans-52\"/>\n     <use x=\"127.246094\" xlink:href=\"#DejaVuSans-50\"/>\n     <use x=\"190.869141\" xlink:href=\"#DejaVuSans-48\"/>\n    </g>\n   </g>\n   <g id=\"text_23\">\n    <!-- 7528 -->\n    <g style=\"fill:#ffffff;\" transform=\"translate(86.21125 493.079375)scale(0.1 -0.1)\">\n     <use xlink:href=\"#DejaVuSans-55\"/>\n     <use x=\"63.623047\" xlink:href=\"#DejaVuSans-53\"/>\n     <use x=\"127.246094\" xlink:href=\"#DejaVuSans-50\"/>\n     <use x=\"190.869141\" xlink:href=\"#DejaVuSans-56\"/>\n    </g>\n   </g>\n   <g id=\"text_24\">\n    <!-- 29 -->\n    <g style=\"fill:#262626;\" transform=\"translate(215.33375 493.079375)scale(0.1 -0.1)\">\n     <use xlink:href=\"#DejaVuSans-50\"/>\n     <use x=\"63.623047\" xlink:href=\"#DejaVuSans-57\"/>\n    </g>\n   </g>\n   <g id=\"text_25\">\n    <!-- 1751 -->\n    <g style=\"fill:#ffffff;\" transform=\"translate(331.73125 493.079375)scale(0.1 -0.1)\">\n     <use xlink:href=\"#DejaVuSans-49\"/>\n     <use x=\"63.623047\" xlink:href=\"#DejaVuSans-55\"/>\n     <use x=\"127.246094\" xlink:href=\"#DejaVuSans-53\"/>\n     <use x=\"190.869141\" xlink:href=\"#DejaVuSans-49\"/>\n    </g>\n   </g>\n   <g id=\"text_26\">\n    <!-- 9041 -->\n    <g style=\"fill:#262626;\" transform=\"translate(454.49125 493.079375)scale(0.1 -0.1)\">\n     <use xlink:href=\"#DejaVuSans-57\"/>\n     <use x=\"63.623047\" xlink:href=\"#DejaVuSans-48\"/>\n     <use x=\"127.246094\" xlink:href=\"#DejaVuSans-52\"/>\n     <use x=\"190.869141\" xlink:href=\"#DejaVuSans-49\"/>\n    </g>\n   </g>\n   <g id=\"text_27\">\n    <!-- Confusion Matrix for -->\n    <defs>\n     <path d=\"M 64.40625 67.28125 \nL 64.40625 56.890625 \nQ 59.421875 61.53125 53.78125 63.8125 \nQ 48.140625 66.109375 41.796875 66.109375 \nQ 29.296875 66.109375 22.65625 58.46875 \nQ 16.015625 50.828125 16.015625 36.375 \nQ 16.015625 21.96875 22.65625 14.328125 \nQ 29.296875 6.6875 41.796875 6.6875 \nQ 48.140625 6.6875 53.78125 8.984375 \nQ 59.421875 11.28125 64.40625 15.921875 \nL 64.40625 5.609375 \nQ 59.234375 2.09375 53.4375 0.328125 \nQ 47.65625 -1.421875 41.21875 -1.421875 \nQ 24.65625 -1.421875 15.125 8.703125 \nQ 5.609375 18.84375 5.609375 36.375 \nQ 5.609375 53.953125 15.125 64.078125 \nQ 24.65625 74.21875 41.21875 74.21875 \nQ 47.75 74.21875 53.53125 72.484375 \nQ 59.328125 70.75 64.40625 67.28125 \nz\n\" id=\"DejaVuSans-67\"/>\n     <path d=\"M 30.609375 48.390625 \nQ 23.390625 48.390625 19.1875 42.75 \nQ 14.984375 37.109375 14.984375 27.296875 \nQ 14.984375 17.484375 19.15625 11.84375 \nQ 23.34375 6.203125 30.609375 6.203125 \nQ 37.796875 6.203125 41.984375 11.859375 \nQ 46.1875 17.53125 46.1875 27.296875 \nQ 46.1875 37.015625 41.984375 42.703125 \nQ 37.796875 48.390625 30.609375 48.390625 \nz\nM 30.609375 56 \nQ 42.328125 56 49.015625 48.375 \nQ 55.71875 40.765625 55.71875 27.296875 \nQ 55.71875 13.875 49.015625 6.21875 \nQ 42.328125 -1.421875 30.609375 -1.421875 \nQ 18.84375 -1.421875 12.171875 6.21875 \nQ 5.515625 13.875 5.515625 27.296875 \nQ 5.515625 40.765625 12.171875 48.375 \nQ 18.84375 56 30.609375 56 \nz\n\" id=\"DejaVuSans-111\"/>\n     <path d=\"M 37.109375 75.984375 \nL 37.109375 68.5 \nL 28.515625 68.5 \nQ 23.6875 68.5 21.796875 66.546875 \nQ 19.921875 64.59375 19.921875 59.515625 \nL 19.921875 54.6875 \nL 34.71875 54.6875 \nL 34.71875 47.703125 \nL 19.921875 47.703125 \nL 19.921875 0 \nL 10.890625 0 \nL 10.890625 47.703125 \nL 2.296875 47.703125 \nL 2.296875 54.6875 \nL 10.890625 54.6875 \nL 10.890625 58.5 \nQ 10.890625 67.625 15.140625 71.796875 \nQ 19.390625 75.984375 28.609375 75.984375 \nz\n\" id=\"DejaVuSans-102\"/>\n     <path d=\"M 9.8125 72.90625 \nL 24.515625 72.90625 \nL 43.109375 23.296875 \nL 61.8125 72.90625 \nL 76.515625 72.90625 \nL 76.515625 0 \nL 66.890625 0 \nL 66.890625 64.015625 \nL 48.09375 14.015625 \nL 38.1875 14.015625 \nL 19.390625 64.015625 \nL 19.390625 0 \nL 9.8125 0 \nz\n\" id=\"DejaVuSans-77\"/>\n     <path d=\"M 54.890625 54.6875 \nL 35.109375 28.078125 \nL 55.90625 0 \nL 45.3125 0 \nL 29.390625 21.484375 \nL 13.484375 0 \nL 2.875 0 \nL 24.125 28.609375 \nL 4.6875 54.6875 \nL 15.28125 54.6875 \nL 29.78125 35.203125 \nL 44.28125 54.6875 \nz\n\" id=\"DejaVuSans-120\"/>\n    </defs>\n    <g style=\"fill:#262626;\" transform=\"translate(222.2775 54.66)scale(0.12 -0.12)\">\n     <use xlink:href=\"#DejaVuSans-67\"/>\n     <use x=\"69.824219\" xlink:href=\"#DejaVuSans-111\"/>\n     <use x=\"131.005859\" xlink:href=\"#DejaVuSans-110\"/>\n     <use x=\"194.384766\" xlink:href=\"#DejaVuSans-102\"/>\n     <use x=\"229.589844\" xlink:href=\"#DejaVuSans-117\"/>\n     <use x=\"292.96875\" xlink:href=\"#DejaVuSans-115\"/>\n     <use x=\"345.068359\" xlink:href=\"#DejaVuSans-105\"/>\n     <use x=\"372.851562\" xlink:href=\"#DejaVuSans-111\"/>\n     <use x=\"434.033203\" xlink:href=\"#DejaVuSans-110\"/>\n     <use x=\"497.412109\" xlink:href=\"#DejaVuSans-32\"/>\n     <use x=\"529.199219\" xlink:href=\"#DejaVuSans-77\"/>\n     <use x=\"615.478516\" xlink:href=\"#DejaVuSans-97\"/>\n     <use x=\"676.757812\" xlink:href=\"#DejaVuSans-116\"/>\n     <use x=\"715.966797\" xlink:href=\"#DejaVuSans-114\"/>\n     <use x=\"757.080078\" xlink:href=\"#DejaVuSans-105\"/>\n     <use x=\"784.863281\" xlink:href=\"#DejaVuSans-120\"/>\n     <use x=\"844.042969\" xlink:href=\"#DejaVuSans-32\"/>\n     <use x=\"875.830078\" xlink:href=\"#DejaVuSans-102\"/>\n     <use x=\"911.035156\" xlink:href=\"#DejaVuSans-111\"/>\n     <use x=\"972.216797\" xlink:href=\"#DejaVuSans-114\"/>\n    </g>\n   </g>\n  </g>\n  <g id=\"axes_2\">\n   <g id=\"patch_3\">\n    <path clip-path=\"url(#pdb4b718265)\" d=\"M 559.28625 605.16 \nL 559.28625 602.824219 \nL 559.28625 9.535781 \nL 559.28625 7.2 \nL 589.18425 7.2 \nL 589.18425 9.535781 \nL 589.18425 602.824219 \nL 589.18425 605.16 \nz\n\" style=\"fill:#ffffff;stroke:#ffffff;stroke-linejoin:miter;stroke-width:0.01;\"/>\n   </g>\n   <g id=\"matplotlib.axis_3\"/>\n   <g id=\"matplotlib.axis_4\">\n    <g id=\"ytick_5\">\n     <g id=\"line2d_1\">\n      <defs>\n       <path d=\"M 0 0 \nL 3.5 0 \n\" id=\"m34f4a0b0f6\" style=\"stroke:#262626;stroke-width:0.8;\"/>\n      </defs>\n      <g>\n       <use style=\"fill:#262626;stroke:#262626;stroke-width:0.8;\" x=\"589.18425\" xlink:href=\"#m34f4a0b0f6\" y=\"605.16\"/>\n      </g>\n     </g>\n     <g id=\"text_28\">\n      <!-- 0 -->\n      <g style=\"fill:#262626;\" transform=\"translate(596.18425 608.959219)scale(0.1 -0.1)\">\n       <use xlink:href=\"#DejaVuSans-48\"/>\n      </g>\n     </g>\n    </g>\n    <g id=\"ytick_6\">\n     <g id=\"line2d_2\">\n      <g>\n       <use style=\"fill:#262626;stroke:#262626;stroke-width:0.8;\" x=\"589.18425\" xlink:href=\"#m34f4a0b0f6\" y=\"472.882597\"/>\n      </g>\n     </g>\n     <g id=\"text_29\">\n      <!-- 2000 -->\n      <g style=\"fill:#262626;\" transform=\"translate(596.18425 476.681816)scale(0.1 -0.1)\">\n       <use xlink:href=\"#DejaVuSans-50\"/>\n       <use x=\"63.623047\" xlink:href=\"#DejaVuSans-48\"/>\n       <use x=\"127.246094\" xlink:href=\"#DejaVuSans-48\"/>\n       <use x=\"190.869141\" xlink:href=\"#DejaVuSans-48\"/>\n      </g>\n     </g>\n    </g>\n    <g id=\"ytick_7\">\n     <g id=\"line2d_3\">\n      <g>\n       <use style=\"fill:#262626;stroke:#262626;stroke-width:0.8;\" x=\"589.18425\" xlink:href=\"#m34f4a0b0f6\" y=\"340.605194\"/>\n      </g>\n     </g>\n     <g id=\"text_30\">\n      <!-- 4000 -->\n      <g style=\"fill:#262626;\" transform=\"translate(596.18425 344.404413)scale(0.1 -0.1)\">\n       <use xlink:href=\"#DejaVuSans-52\"/>\n       <use x=\"63.623047\" xlink:href=\"#DejaVuSans-48\"/>\n       <use x=\"127.246094\" xlink:href=\"#DejaVuSans-48\"/>\n       <use x=\"190.869141\" xlink:href=\"#DejaVuSans-48\"/>\n      </g>\n     </g>\n    </g>\n    <g id=\"ytick_8\">\n     <g id=\"line2d_4\">\n      <g>\n       <use style=\"fill:#262626;stroke:#262626;stroke-width:0.8;\" x=\"589.18425\" xlink:href=\"#m34f4a0b0f6\" y=\"208.327791\"/>\n      </g>\n     </g>\n     <g id=\"text_31\">\n      <!-- 6000 -->\n      <g style=\"fill:#262626;\" transform=\"translate(596.18425 212.12701)scale(0.1 -0.1)\">\n       <use xlink:href=\"#DejaVuSans-54\"/>\n       <use x=\"63.623047\" xlink:href=\"#DejaVuSans-48\"/>\n       <use x=\"127.246094\" xlink:href=\"#DejaVuSans-48\"/>\n       <use x=\"190.869141\" xlink:href=\"#DejaVuSans-48\"/>\n      </g>\n     </g>\n    </g>\n    <g id=\"ytick_9\">\n     <g id=\"line2d_5\">\n      <g>\n       <use style=\"fill:#262626;stroke:#262626;stroke-width:0.8;\" x=\"589.18425\" xlink:href=\"#m34f4a0b0f6\" y=\"76.050388\"/>\n      </g>\n     </g>\n     <g id=\"text_32\">\n      <!-- 8000 -->\n      <g style=\"fill:#262626;\" transform=\"translate(596.18425 79.849607)scale(0.1 -0.1)\">\n       <use xlink:href=\"#DejaVuSans-56\"/>\n       <use x=\"63.623047\" xlink:href=\"#DejaVuSans-48\"/>\n       <use x=\"127.246094\" xlink:href=\"#DejaVuSans-48\"/>\n       <use x=\"190.869141\" xlink:href=\"#DejaVuSans-48\"/>\n      </g>\n     </g>\n    </g>\n   </g>\n   <image height=\"598\" id=\"imagee7a25c0335\" transform=\"scale(1 -1)translate(0 -598)\" width=\"30\" x=\"559\" xlink:href=\"data:image/png;base64,\niVBORw0KGgoAAAANSUhEUgAAAB4AAAJWCAYAAABPpDeKAAAABHNCSVQICAgIfAhkiAAAAx5JREFUeJztnYlxIzEQA0lq8s/oIrkAnIS1dBZA1XZ3AlPgAKC8erz//fy/q8BpDF1rrfk+FcEqBgye79MZ3FP80MxlnGIA44QzF69AjFMMYJxwio1TDJ65eDsuvhC4miuDBfL+wZorRlFxR7BxymGcYvB27FHH4HU1b8e9o/61q0Oo+P2DgV390MxlnGLwjhqoGFcgmivGlF7dumPAYF5zARV/n10ZbJxiqDgGT7FHHQOo+Ho7hQCa6/l2Bjfj1BkMjBOuuXjmmkVT7FHHmIW7nXA77h31xn0qYuPihNuxRx1jTumDIO74/YNnl97jK8ap9PSlGSeYYo86xhxcgezSw0zjFKP5hznMXMYpBu+ogXHCKW7G6bcyuGiuS1N8aTtumgvWXLNo5ppLKxCbKwbxdqIpNk4xeOaaS3sForliAAvkMU4hiHGimYu342ZX08yF62rjFAPZ1TTFuALxdooBjBNOsUcdY57S9wc1VwwVx5hrnEJorhgqfv9g4xSjqLj0XW9knGBHPQun+NL+QZzNFcM4xQDGaeHidBfMXLOMUwiiuXAFUloxMU4LGCcVZ+DFiTd4Or8Bq2LCYN5RAxWfBfsZac0VA6jYOKXQXDGKOy4tGRgnnrmAio1TCKK5eIpL15NxiqG5YkxrMjFOQHPRFH9oO9ZcMebszuxinGg79naKwetqXmVqrhi8ruZVpuaKAVRsnFIAzeV9nMI4xbCrY/B27FHHQN5OHYxTDBXHME4x7OoYFsj7ByPN1UHF7x+MvJ1gX/U2TjF4Rz0f2tcVeAWiuWLMZ8PMNYem2DjFME4xkHGCHfWcQ1OM23HTXJ3BdnUMXoEUm4t21Dxz8RR7O8WYTTOXcYoxp/SkXHPFmE3bsbdTDOMUwzjF0FwxeIqNU4zZpbfajNP7BxPNVfpR1OaOYb/d5FHHIBbIp3M9AeO0gHHiKTZOGWbRjnp26b0B4/T+wcQ4faYy2B2/fzCvuWYdWpxwBWKcYsyimYv38lZzxbCrYxDNRWsu3o5trhjGKYZxiuFTnxizaY8ibK4YFkgMYJxwzYUsEOOU4Q9/T0A103X+HAAAAABJRU5ErkJggg==\" y=\"-7\"/>\n   <g id=\"patch_4\">\n    <path d=\"M 559.28625 605.16 \nL 559.28625 602.824219 \nL 559.28625 9.535781 \nL 559.28625 7.2 \nL 589.18425 7.2 \nL 589.18425 9.535781 \nL 589.18425 602.824219 \nL 589.18425 605.16 \nz\n\" style=\"fill:none;\"/>\n   </g>\n  </g>\n </g>\n <defs>\n  <clipPath id=\"p81a0e60a51\">\n   <rect height=\"491.04\" width=\"491.04\" x=\"37.55625\" y=\"60.66\"/>\n  </clipPath>\n  <clipPath id=\"pdb4b718265\">\n   <rect height=\"597.96\" width=\"29.898\" x=\"559.28625\" y=\"7.2\"/>\n  </clipPath>\n </defs>\n</svg>\n"
          },
          "metadata": {
            "tags": [],
            "needs_background": "light"
          }
        }
      ]
    },
    {
      "cell_type": "code",
      "metadata": {
        "id": "2MpFiaWDPHTK",
        "colab_type": "code",
        "colab": {
          "base_uri": "https://localhost:8080/",
          "height": 85
        },
        "outputId": "4e928060-2d82-4501-c04e-a27f94675ea5"
      },
      "source": [
        "ensemble_results = model_ensemble.predict_proba(combined_TFIDF_test)"
      ],
      "execution_count": 289,
      "outputs": [
        {
          "output_type": "stream",
          "text": [
            "====================== Start of Level 0 ======================\n",
            "1 estimators included in Level 0 \n",
            "====================== Start of Level 1 ======================\n",
            "1 estimators included in Level 1 \n"
          ],
          "name": "stdout"
        }
      ]
    },
    {
      "cell_type": "code",
      "metadata": {
        "id": "4u72LJkDXAj0",
        "colab_type": "code",
        "colab": {
          "base_uri": "https://localhost:8080/",
          "height": 136
        },
        "outputId": "a0bc51c3-4cb3-45f5-a69b-67622b74cfdc"
      },
      "source": [
        "ensemble_results"
      ],
      "execution_count": 290,
      "outputs": [
        {
          "output_type": "execute_result",
          "data": {
            "text/plain": [
              "array([[4.38403634e-02, 9.42844815e-04, 5.41576713e-02, 9.01059120e-01],\n",
              "       [4.72016511e-02, 1.04838429e-03, 1.15316888e-01, 8.36433076e-01],\n",
              "       [2.31345001e-02, 5.48569794e-04, 5.12225333e-02, 9.25094397e-01],\n",
              "       ...,\n",
              "       [1.72756087e-02, 7.44671017e-04, 2.16082600e-01, 7.65897120e-01],\n",
              "       [6.94678077e-03, 2.42016187e-04, 8.47838030e-01, 1.44973173e-01],\n",
              "       [1.76245487e-02, 1.05213986e-03, 5.78387946e-01, 4.02935365e-01]])"
            ]
          },
          "metadata": {
            "tags": []
          },
          "execution_count": 290
        }
      ]
    },
    {
      "cell_type": "code",
      "metadata": {
        "id": "uI5smJ0nTCTd",
        "colab_type": "code",
        "colab": {
          "base_uri": "https://localhost:8080/",
          "height": 307
        },
        "outputId": "e5c39f64-34b5-4012-fd41-3649457abafb"
      },
      "source": [
        "mat = confusion_matrix(ensemble_results,df_test.Stance)"
      ],
      "execution_count": 285,
      "outputs": [
        {
          "output_type": "error",
          "ename": "ValueError",
          "evalue": "ignored",
          "traceback": [
            "\u001b[0;31m---------------------------------------------------------------------------\u001b[0m",
            "\u001b[0;31mValueError\u001b[0m                                Traceback (most recent call last)",
            "\u001b[0;32m<ipython-input-285-2e4f0b00c240>\u001b[0m in \u001b[0;36m<module>\u001b[0;34m()\u001b[0m\n\u001b[0;32m----> 1\u001b[0;31m \u001b[0mmat\u001b[0m \u001b[0;34m=\u001b[0m \u001b[0mconfusion_matrix\u001b[0m\u001b[0;34m(\u001b[0m\u001b[0mensemble_results\u001b[0m\u001b[0;34m,\u001b[0m\u001b[0mdf_test\u001b[0m\u001b[0;34m.\u001b[0m\u001b[0mStance\u001b[0m\u001b[0;34m)\u001b[0m\u001b[0;34m\u001b[0m\u001b[0;34m\u001b[0m\u001b[0m\n\u001b[0m",
            "\u001b[0;32m/usr/local/lib/python3.6/dist-packages/sklearn/metrics/_classification.py\u001b[0m in \u001b[0;36mconfusion_matrix\u001b[0;34m(y_true, y_pred, labels, sample_weight, normalize)\u001b[0m\n\u001b[1;32m    266\u001b[0m \u001b[0;34m\u001b[0m\u001b[0m\n\u001b[1;32m    267\u001b[0m     \"\"\"\n\u001b[0;32m--> 268\u001b[0;31m     \u001b[0my_type\u001b[0m\u001b[0;34m,\u001b[0m \u001b[0my_true\u001b[0m\u001b[0;34m,\u001b[0m \u001b[0my_pred\u001b[0m \u001b[0;34m=\u001b[0m \u001b[0m_check_targets\u001b[0m\u001b[0;34m(\u001b[0m\u001b[0my_true\u001b[0m\u001b[0;34m,\u001b[0m \u001b[0my_pred\u001b[0m\u001b[0;34m)\u001b[0m\u001b[0;34m\u001b[0m\u001b[0;34m\u001b[0m\u001b[0m\n\u001b[0m\u001b[1;32m    269\u001b[0m     \u001b[0;32mif\u001b[0m \u001b[0my_type\u001b[0m \u001b[0;32mnot\u001b[0m \u001b[0;32min\u001b[0m \u001b[0;34m(\u001b[0m\u001b[0;34m\"binary\"\u001b[0m\u001b[0;34m,\u001b[0m \u001b[0;34m\"multiclass\"\u001b[0m\u001b[0;34m)\u001b[0m\u001b[0;34m:\u001b[0m\u001b[0;34m\u001b[0m\u001b[0;34m\u001b[0m\u001b[0m\n\u001b[1;32m    270\u001b[0m         \u001b[0;32mraise\u001b[0m \u001b[0mValueError\u001b[0m\u001b[0;34m(\u001b[0m\u001b[0;34m\"%s is not supported\"\u001b[0m \u001b[0;34m%\u001b[0m \u001b[0my_type\u001b[0m\u001b[0;34m)\u001b[0m\u001b[0;34m\u001b[0m\u001b[0;34m\u001b[0m\u001b[0m\n",
            "\u001b[0;32m/usr/local/lib/python3.6/dist-packages/sklearn/metrics/_classification.py\u001b[0m in \u001b[0;36m_check_targets\u001b[0;34m(y_true, y_pred)\u001b[0m\n\u001b[1;32m     88\u001b[0m     \u001b[0;32mif\u001b[0m \u001b[0mlen\u001b[0m\u001b[0;34m(\u001b[0m\u001b[0my_type\u001b[0m\u001b[0;34m)\u001b[0m \u001b[0;34m>\u001b[0m \u001b[0;36m1\u001b[0m\u001b[0;34m:\u001b[0m\u001b[0;34m\u001b[0m\u001b[0;34m\u001b[0m\u001b[0m\n\u001b[1;32m     89\u001b[0m         raise ValueError(\"Classification metrics can't handle a mix of {0} \"\n\u001b[0;32m---> 90\u001b[0;31m                          \"and {1} targets\".format(type_true, type_pred))\n\u001b[0m\u001b[1;32m     91\u001b[0m \u001b[0;34m\u001b[0m\u001b[0m\n\u001b[1;32m     92\u001b[0m     \u001b[0;31m# We can't have more than one value on y_type => The set is no more needed\u001b[0m\u001b[0;34m\u001b[0m\u001b[0;34m\u001b[0m\u001b[0;34m\u001b[0m\u001b[0m\n",
            "\u001b[0;31mValueError\u001b[0m: Classification metrics can't handle a mix of continuous-multioutput and multiclass targets"
          ]
        }
      ]
    },
    {
      "cell_type": "code",
      "metadata": {
        "id": "1WB5v-W0WSAb",
        "colab_type": "code",
        "colab": {}
      },
      "source": [
        ""
      ],
      "execution_count": 0,
      "outputs": []
    }
  ]
}