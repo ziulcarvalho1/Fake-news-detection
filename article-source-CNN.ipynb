{
 "cells": [
  {
   "cell_type": "markdown",
   "metadata": {},
   "source": [
    "# Articles sources-CNN"
   ]
  },
  {
   "cell_type": "code",
   "execution_count": 1,
   "metadata": {},
   "outputs": [],
   "source": [
    "# Import\n",
    "import requests\n",
    "import nltk\n",
    "import urllib.request\n",
    "import time\n",
    "import pandas, numpy\n",
    "import pandas as pd \n",
    "import numpy as np\n",
    "\n",
    "from bs4 import BeautifulSoup\n",
    "from newspaper import Article"
   ]
  },
  {
   "cell_type": "code",
   "execution_count": 67,
   "metadata": {},
   "outputs": [
    {
     "name": "stdout",
     "output_type": "stream",
     "text": [
      "<class 'pandas.core.frame.DataFrame'>\n",
      "Index: 0 entries\n",
      "Data columns (total 2 columns):\n",
      " #   Column  Non-Null Count  Dtype \n",
      "---  ------  --------------  ----- \n",
      " 0   Word    0 non-null      object\n",
      " 1   Text    0 non-null      object\n",
      "dtypes: object(2)\n",
      "memory usage: 0.0+ bytes\n"
     ]
    }
   ],
   "source": [
    "#Preparing the file to store the urls\n",
    "df = pd.read_csv(\"C:\\curso-ML-1\\project\\Pasta1.csv\") \n",
    "df['Text']=\"\"\n",
    "##df =df.head(10000)\n",
    "df.info()"
   ]
  },
  {
   "cell_type": "code",
   "execution_count": 83,
   "metadata": {},
   "outputs": [],
   "source": [
    "#Select the source\n",
    "URL1 = 'https://www.cnn.com/opinions'\n",
    "URL3 = 'https://www.cnn.com'\n",
    "request1 = requests.get(URL1)\n",
    "soup = BeautifulSoup(request1.content, 'html.parser')"
   ]
  },
  {
   "cell_type": "code",
   "execution_count": 84,
   "metadata": {},
   "outputs": [
    {
     "name": "stdout",
     "output_type": "stream",
     "text": [
      "1611775\n",
      "33\n",
      "!\n"
     ]
    }
   ],
   "source": [
    "sources = request1.content\n",
    "print(len(sources))\n",
    "print(sources[1])\n",
    "type(sources)\n",
    "sources1 = sources.decode(\"utf-8\") \n",
    "print(sources1[1])"
   ]
  },
  {
   "cell_type": "code",
   "execution_count": 85,
   "metadata": {},
   "outputs": [
    {
     "name": "stdout",
     "output_type": "stream",
     "text": [
      "1611506\n",
      "https://www.cnn.com/2020/05/20/opinions/mike-pompeos-disturbing-actions-ghitis/index.html\n",
      "https://www.cnn.com/2020/05/20/opinions/mike-pompeos-disturbing-actions-ghitis/index.html\"\n",
      "https://www.cnn.com/2020/05/20/opinions/florida-confusing-covid-19-sepkowitz/index.html\n",
      "https://www.cnn.com/2020/05/20/opinions/florida-confusing-covid-19-sepkowitz/index.html\"\n",
      "https://www.cnn.com/2020/05/21/opinions/ronan-farrow-isnt-synonymous-with-metoo-drexler/index.html\n",
      "https://www.cnn.com/2020/05/21/opinions/ronan-farrow-isnt-synonymous-with-metoo-drexler/index.html\"\n",
      "https://www.cnn.com/2020/05/21/opinions/stop-the-pandemic-of-hatred-jones-kamenetzky/index.html\n",
      "https://www.cnn.com/2020/05/21/opinions/stop-the-pandemic-of-hatred-jones-kamenetzky/index.html\"\n",
      "https://www.cnn.com/2020/05/20/opinions/return-to-school-change-academic-calendar-bailey/index.html\n",
      "https://www.cnn.com/2020/05/20/opinions/return-to-school-change-academic-calendar-bailey/index.html\"\n",
      "https://www.cnn.com/2020/05/21/perspectives/oil-industry-bailout/index.html\n",
      "https://www.cnn.com/2020/05/21/perspectives/oil-industry-bailout/index.html\"\n",
      "https://www.cnn.com/2020/05/19/opinions/hydroxychloroquine-trump-incompetence-bergen/index.html\n",
      "https://www.cnn.com/2020/05/19/opinions/hydroxychloroquine-trump-incompetence-bergen/index.html\"\n",
      "https://www.cnn.com/2020/05/20/opinions/world-health-assembly-xi-trump-bociurkiw/index.html\n",
      "https://www.cnn.com/2020/05/20/opinions/world-health-assembly-xi-trump-bociurkiw/index.html\"\n",
      "https://www.cnn.com/2020/05/21/opinions/uae-expo-2020-coronavirus-opinion-reem-al-hashimy/index.html\n",
      "https://www.cnn.com/2020/05/21/opinions/uae-expo-2020-coronavirus-opinion-reem-al-hashimy/index.html\"\n",
      "https://www.cnn.com/2020/05/13/opinions/russia-low-covid-19-mortality-rate-sepkowitz/index.html\n",
      "https://www.cnn.com/2020/05/13/opinions/russia-low-covid-19-mortality-rate-sepkowitz/index.html\"\n",
      "https://www.cnn.com/2020/05/18/opinions/pensacola-shooting-terrorist-bergen/index.html\n",
      "https://www.cnn.com/2020/05/18/opinions/pensacola-shooting-terrorist-bergen/index.html\"\n",
      "https://www.cnn.com/2020/05/14/opinions/afghanistan-maternity-ward-massacre-hossain/index.html\n",
      "https://www.cnn.com/2020/05/14/opinions/afghanistan-maternity-ward-massacre-hossain/index.html\"\n",
      "https://www.cnn.com/2020/05/07/opinions/european-union-covid-19-threat-unity-lemmon/index.html\n",
      "https://www.cnn.com/2020/05/07/opinions/european-union-covid-19-threat-unity-lemmon/index.html\"\n",
      "https://www.cnn.com/2020/05/11/opinions/putin-covid-19-coronavirus-trump-playbook-andelman/index.html\n",
      "https://www.cnn.com/2020/05/11/opinions/putin-covid-19-coronavirus-trump-playbook-andelman/index.html\"\n",
      "https://www.cnn.com/2020/05/06/opinions/covid-19-womens-health-abortion-access-kumar/index.html\n",
      "https://www.cnn.com/2020/05/06/opinions/covid-19-womens-health-abortion-access-kumar/index.html\"\n",
      "https://www.cnn.com/2020/05/16/opinions/inspector-general-steve-linick-fired-vinograd/index.html\n",
      "https://www.cnn.com/2020/05/16/opinions/inspector-general-steve-linick-fired-vinograd/index.html\"\n",
      "https://www.cnn.com/2020/05/19/opinions/trump-pompeo-remarks-misogyny-filipovic/index.html\"\n",
      "https://www.cnn.com/2020/05/20/opinions/democrats-2020-campaign-strategy-supreme-court-psaki/index.html\"\n",
      "https://www.cnn.com/2020/05/19/opinions/trump-snub-official-portrait-obama-louis/index.html\"\n",
      "https://www.cnn.com/2020/05/18/opinions/disney-sue-covid-honig/index.html\"\n",
      "https://www.cnn.com/2020/05/18/opinions/coronavirus-recession-economy-public-health-trump-sachs/index.html\"\n",
      "https://www.cnn.com/2020/05/18/opinions/wisconsin-supreme-court-decision-cautionary-tale-litt/index.html\"\n",
      "https://www.cnn.com/2020/05/17/opinions/inspector-general-state-department-trump-linick-honig/index.html\"\n",
      "https://www.cnn.com/2020/05/15/opinions/paid-sick-leave-needed-now-covid-19-schulte-heymann/index.html\"\n",
      "https://www.cnn.com/2020/05/17/opinions/pre-shutdown-trump-is-back-opinion-weekly-column-galant/index.html\"\n",
      "https://www.cnn.com/2020/05/14/opinions/is-rick-bright-right-bergen/index.html\"\n",
      "https://www.cnn.com/2020/05/16/opinions/trump-obamagate-strategy-joe-biden-zelizer/index.html\"\n",
      "https://www.cnn.com/2020/05/13/opinions/jared-kushner-bizarre-comment-ghitis/index.html\n",
      "https://www.cnn.com/2020/05/13/opinions/jared-kushner-bizarre-comment-ghitis/index.html\"\n",
      "https://www.cnn.com/2020/05/11/opinions/vice-president-pence-face-mask-fear-dantonio/index.html\n",
      "https://www.cnn.com/2020/05/11/opinions/vice-president-pence-face-mask-fear-dantonio/index.html\"\n",
      "https://www.cnn.com/2020/05/12/opinions/faithless-electors-supreme-court-opinion-alexander/index.html\n",
      "https://www.cnn.com/2020/05/12/opinions/faithless-electors-supreme-court-opinion-alexander/index.html\"\n",
      "https://www.cnn.com/2020/05/05/opinions/trump-abraham-lincoln-comparison-meltzer-mensch/index.html\n",
      "https://www.cnn.com/2020/05/05/opinions/trump-abraham-lincoln-comparison-meltzer-mensch/index.html\"\n",
      "https://www.cnn.com/2020/05/07/opinions/get-ready-for-a-campaign-season-full-of-china-covid-conspiracy-theories/index.html\n",
      "https://www.cnn.com/2020/05/07/opinions/get-ready-for-a-campaign-season-full-of-china-covid-conspiracy-theories/index.html\"\n",
      "https://www.cnn.com/2020/05/07/opinions/donald-trumps-cold-hard-political-calculation-axelrod/index.html\n",
      "https://www.cnn.com/2020/05/07/opinions/donald-trumps-cold-hard-political-calculation-axelrod/index.html\"\n",
      "https://www.cnn.com/2020/05/07/opinions/trump-andrew-cuomo-incompetence-leadership-campoamor/index.html\n",
      "https://www.cnn.com/2020/05/07/opinions/trump-andrew-cuomo-incompetence-leadership-campoamor/index.html\"\n",
      "https://www.cnn.com/2020/05/06/opinions/obamacare-trump-administration-bad-timing-wen/index.html\n",
      "https://www.cnn.com/2020/05/06/opinions/obamacare-trump-administration-bad-timing-wen/index.html\"\n",
      "https://www.cnn.com/2020/05/20/opinions/sports-without-fans-wont-be-sports-bass/index.html\n",
      "https://www.cnn.com/2020/05/20/opinions/sports-without-fans-wont-be-sports-bass/index.html\"\n",
      "https://www.cnn.com/2020/05/19/opinions/keep-meat-plant-and-farm-workers-safe-from-covid-19-driver/index.html\"\n",
      "https://www.cnn.com/2020/05/17/opinions/national-enquirer-scandalous-toobin/index.html\"\n",
      "https://www.cnn.com/2020/05/18/opinions/religion-faith-coronavrius-covid-19-eisen/index.html\"\n",
      "https://www.cnn.com/2020/05/18/opinions/latinos-covid-19-impact-morales/index.html\"\n",
      "https://www.cnn.com/2020/05/17/opinions/covid-19-worldwide-response-metzl/index.html\"\n",
      "https://www.cnn.com/2020/05/14/opinions/michelle-obama-filmmaker-nadia-hallgren-qa-elian/index.html\"\n",
      "https://www.cnn.com/2020/05/16/opinions/mrs-america-fills-me-with-dread-bodenheimer/index.html\"\n",
      "https://www.cnn.com/2020/05/14/opinions/restaurants-will-need-a-miracle-to-survive-the-pandemic-dey/index.html\"\n",
      "https://www.cnn.com/2020/05/16/opinions/should-kids-go-back-to-school-jennings/index.html\"\n",
      "https://www.cnn.com/2020/05/15/opinions/cancer-diagnosis-lockdown-coronavirus-beckett/index.html\"\n",
      "https://www.cnn.com/2020/05/10/opinions/justice-failed-ahmaud-arbery-jackson/index.html\"\n",
      "https://www.cnn.com/2020/05/13/opinions/high-school-biggest-lesson-covid-19-shapiro/index.html\"\n",
      "https://www.cnn.com/2020/05/13/opinions/aimee-stephens-supreme-court-lgbtq-hero-hope/index.html\"\n",
      "https://www.cnn.com/2020/05/13/opinions/working-mothers-anxiety-coronavirus-pandemic-lockhart/index.html\"\n",
      "https://www.cnn.com/2020/05/12/opinions/parents-fear-about-covid-19-kawasaki-disease-wellness-jones/index.html\"\n",
      "https://www.cnn.com/2020/05/11/opinions/jerry-stiller-screaming-love-obeidallah/index.html\"\n",
      "https://www.cnn.com/2020/05/07/opinions/the-future-normal-hinge-event-bergen-rothenberg/index.html\"\n",
      "https://www.cnn.com/2020/05/09/opinions/runners-for-ahmaud-arbery-neophytou/index.html\"\n",
      "https://www.cnn.com/2020/05/09/opinions/what-were-reading-during-pandemic-carr/index.html\"\n",
      "https://www.cnn.com/2020/04/17/opinions/what-were-reading-during-pandemic-taylor/index.html\n",
      "https://www.cnn.com/2020/04/17/opinions/what-were-reading-during-pandemic-taylor/index.html\"\n",
      "https://www.cnn.com/2020/04/07/opinions/im-craving-sports-real-bad-pearlman/index.html\n",
      "https://www.cnn.com/2020/04/07/opinions/im-craving-sports-real-bad-pearlman/index.html\"\n",
      "https://www.cnn.com/2020/04/03/opinions/tiger-king-misogyny-filipovic/index.html\n",
      "https://www.cnn.com/2020/04/03/opinions/tiger-king-misogyny-filipovic/index.html\"\n"
     ]
    },
    {
     "name": "stdout",
     "output_type": "stream",
     "text": [
      "https://www.cnn.com/2020/05/10/opinions/trumps-most-formidable-enemy-opinion-weekly-column-galant/index.html\n",
      "https://www.cnn.com/2020/05/10/opinions/trumps-most-formidable-enemy-opinion-weekly-column-galant/index.html\"\n",
      "https://www.cnn.com/2020/05/03/opinions/trump-big-switch-on-covid-19-column-galant/index.html\"\n",
      "https://www.cnn.com/2020/04/26/opinions/dangerous-collisions-in-trumpland-opinion-weekly-column/index.html\"\n",
      "https://www.cnn.com/2020/04/12/opinions/looking-for-hope-amid-tragedy-opinion-weekly-column-galant/index.html\"\n",
      "https://www.cnn.com/2020/04/05/opinions/donald-trumps-supreme-challenge-opinion-weekly-column-galant/index.html\"\n",
      "https://www.cnn.com/2020/03/29/opinions/donald-trumps-special-day-opinion-weekly-column-galant/index.html\"\n",
      "https://www.cnn.com/2020/03/23/opinions/trumps-painful-dilemma-opinion-bergen/index.html\"\n",
      "https://www.cnn.com/2020/03/15/opinions/coronavirus-changes-everything-opinion-weekly-column-galant/index.html\"\n",
      "https://www.cnn.com/2020/03/01/opinions/coronavirus-trump-meets-new-enemy-opinion-column-galant/index.html\"\n",
      "https://www.cnn.com/2020/02/23/opinions/trump-intelligence-implosion-opinion-column-carr/index.html\"\n",
      "https://www.cnn.com/2020/02/16/opinions/these-people-could-make-trumps-life-miserable-opinion-column-galant/index.html\"\n"
     ]
    }
   ],
   "source": [
    "len1 = len(sources1)\n",
    "print(len1)\n",
    "marker =\"\"\n",
    "selector=\"OF\"\n",
    "url2=\"\"\n",
    "counter1=0\n",
    "for i in range(len1):\n",
    "    letter = sources1[i]\n",
    "    marker = marker+letter\n",
    "    len2 = len(marker)\n",
    "    marker1 = marker[len2-4:len2]\n",
    "    ##print(marker1)\n",
    "    ##print(marker1)\n",
    "    if marker1 == 'href':\n",
    "        selector=\"ON\"\n",
    "        ##print(marker1) \n",
    "\n",
    "       \n",
    "    if selector==\"ON\":\n",
    "        ##print(selector)\n",
    "        #sources2 =sources2+letter\n",
    "        url2 = url2+letter\n",
    "        ##print(url2)\n",
    " \n",
    "    \n",
    "    if selector==\"ON\" and letter==\">\":\n",
    "        selector = \"OF\"\n",
    "        url2 = url2[3:]\n",
    "        ##print(url2[0:9])\n",
    "        ##print(url2)\n",
    "        if url2[0:6]==\"/2020/\":\n",
    "            url2 = URL3+url2\n",
    "            len3 = len(url2)\n",
    "            url2 = url2[0:len3-3]\n",
    "            print(url2)\n",
    "            new_row = {'word':' ', 'Text':url2}\n",
    "            #append row to the dataframe\n",
    "            df = df.append(new_row, ignore_index=True)\n",
    "            ##df['Text'][counter1]=url2\n",
    "            counter1 = counter1+1\n",
    "        url2 = \"\""
   ]
  },
  {
   "cell_type": "code",
   "execution_count": 86,
   "metadata": {},
   "outputs": [
    {
     "name": "stdout",
     "output_type": "stream",
     "text": [
      "<class 'pandas.core.frame.DataFrame'>\n",
      "RangeIndex: 260 entries, 0 to 259\n",
      "Data columns (total 3 columns):\n",
      " #   Column  Non-Null Count  Dtype \n",
      "---  ------  --------------  ----- \n",
      " 0   Word    0 non-null      object\n",
      " 1   Text    260 non-null    object\n",
      " 2   word    260 non-null    object\n",
      "dtypes: object(3)\n",
      "memory usage: 6.2+ KB\n"
     ]
    }
   ],
   "source": [
    "df.info()"
   ]
  },
  {
   "cell_type": "code",
   "execution_count": 89,
   "metadata": {},
   "outputs": [],
   "source": [
    "df.to_csv('C:/Curso-ML-1/project/source-cnn.csv')"
   ]
  },
  {
   "cell_type": "code",
   "execution_count": 72,
   "metadata": {},
   "outputs": [
    {
     "data": {
      "text/html": [
       "<div>\n",
       "<style scoped>\n",
       "    .dataframe tbody tr th:only-of-type {\n",
       "        vertical-align: middle;\n",
       "    }\n",
       "\n",
       "    .dataframe tbody tr th {\n",
       "        vertical-align: top;\n",
       "    }\n",
       "\n",
       "    .dataframe thead th {\n",
       "        text-align: right;\n",
       "    }\n",
       "</style>\n",
       "<table border=\"1\" class=\"dataframe\">\n",
       "  <thead>\n",
       "    <tr style=\"text-align: right;\">\n",
       "      <th></th>\n",
       "      <th>Word</th>\n",
       "      <th>Text</th>\n",
       "      <th>word</th>\n",
       "    </tr>\n",
       "  </thead>\n",
       "  <tbody>\n",
       "    <tr>\n",
       "      <th>0</th>\n",
       "      <td>NaN</td>\n",
       "      <td>https://www.cnn.com/2020/05/21/americas/salvad...</td>\n",
       "      <td></td>\n",
       "    </tr>\n",
       "    <tr>\n",
       "      <th>1</th>\n",
       "      <td>NaN</td>\n",
       "      <td>https://www.cnn.com/2020/05/21/americas/salvad...</td>\n",
       "      <td></td>\n",
       "    </tr>\n",
       "    <tr>\n",
       "      <th>2</th>\n",
       "      <td>NaN</td>\n",
       "      <td>https://www.cnn.com/2020/05/21/asia/hong-kong-...</td>\n",
       "      <td></td>\n",
       "    </tr>\n",
       "    <tr>\n",
       "      <th>3</th>\n",
       "      <td>NaN</td>\n",
       "      <td>https://www.cnn.com/2020/05/21/europe/italy-nu...</td>\n",
       "      <td></td>\n",
       "    </tr>\n",
       "    <tr>\n",
       "      <th>4</th>\n",
       "      <td>NaN</td>\n",
       "      <td>https://www.cnn.com/2020/05/21/weather/india-b...</td>\n",
       "      <td></td>\n",
       "    </tr>\n",
       "  </tbody>\n",
       "</table>\n",
       "</div>"
      ],
      "text/plain": [
       "  Word                                               Text word\n",
       "0  NaN  https://www.cnn.com/2020/05/21/americas/salvad...     \n",
       "1  NaN  https://www.cnn.com/2020/05/21/americas/salvad...     \n",
       "2  NaN  https://www.cnn.com/2020/05/21/asia/hong-kong-...     \n",
       "3  NaN  https://www.cnn.com/2020/05/21/europe/italy-nu...     \n",
       "4  NaN  https://www.cnn.com/2020/05/21/weather/india-b...     "
      ]
     },
     "execution_count": 72,
     "metadata": {},
     "output_type": "execute_result"
    }
   ],
   "source": [
    "df.head()"
   ]
  },
  {
   "cell_type": "code",
   "execution_count": 87,
   "metadata": {},
   "outputs": [],
   "source": [
    "len1 =len(df)\n",
    "for i in range(len1):\n",
    "    len2 = len(str(df['Text'][i]))\n",
    "    palavra=''\n",
    "    ##print(i)\n",
    "    seletor = \"ON\"\n",
    "    for i2 in range(len2):\n",
    "        titulo=df['Text'][i]\n",
    "        letra=titulo[i2]\n",
    "     \n",
    "        if letra!='\"' and seletor==\"ON\":\n",
    "            ##print(letra)\n",
    "            palavra=palavra+letra\n",
    "        if letra=='\"':\n",
    "            seletor=\"OFF\"\n",
    "    df['Text'][i] = palavra \n",
    "    "
   ]
  },
  {
   "cell_type": "code",
   "execution_count": 88,
   "metadata": {},
   "outputs": [
    {
     "name": "stdout",
     "output_type": "stream",
     "text": [
      "https://www.cnn.com/2020/02/16/opinions/these-people-could-make-trumps-life-miserable-opinion-column-galant/index.html\n"
     ]
    }
   ],
   "source": [
    "print(df['Text'][259])"
   ]
  },
  {
   "cell_type": "code",
   "execution_count": 58,
   "metadata": {},
   "outputs": [
    {
     "name": "stdout",
     "output_type": "stream",
     "text": [
      "                                                     0 Text Word\n",
      "0    https://www.cnn.com/2020/05/20/opinions/mike-p...  NaN  NaN\n",
      "1    https://www.cnn.com/2020/05/20/opinions/mike-p...  NaN  NaN\n",
      "2    https://www.cnn.com/2020/05/20/opinions/florid...  NaN  NaN\n",
      "3    https://www.cnn.com/2020/05/20/opinions/florid...  NaN  NaN\n",
      "4    https://www.cnn.com/2020/05/21/opinions/ronan-...  NaN  NaN\n",
      "..                                                 ...  ...  ...\n",
      "255  https://www.cnn.com/2020/05/17/business/restau...  NaN  NaN\n",
      "256  https://www.cnn.com/2020/05/12/business/privat...  NaN  NaN\n",
      "257  https://www.cnn.com/2020/05/12/business/privat...  NaN  NaN\n",
      "258  https://www.cnn.com/2020/05/13/business/travel...  NaN  NaN\n",
      "259  https://www.cnn.com/2020/05/13/business/travel...  NaN  NaN\n",
      "\n",
      "[260 rows x 3 columns]\n"
     ]
    }
   ],
   "source": [
    "print(df)"
   ]
  },
  {
   "cell_type": "code",
   "execution_count": null,
   "metadata": {},
   "outputs": [],
   "source": []
  }
 ],
 "metadata": {
  "kernelspec": {
   "display_name": "Python 3",
   "language": "python",
   "name": "python3"
  },
  "language_info": {
   "codemirror_mode": {
    "name": "ipython",
    "version": 3
   },
   "file_extension": ".py",
   "mimetype": "text/x-python",
   "name": "python",
   "nbconvert_exporter": "python",
   "pygments_lexer": "ipython3",
   "version": "3.7.6"
  }
 },
 "nbformat": 4,
 "nbformat_minor": 4
}
