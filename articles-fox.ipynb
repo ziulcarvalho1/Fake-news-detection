{
 "cells": [
  {
   "cell_type": "markdown",
   "metadata": {},
   "source": [
    "# Loading sources foxnews"
   ]
  },
  {
   "cell_type": "code",
   "execution_count": 1,
   "metadata": {},
   "outputs": [
    {
     "name": "stderr",
     "output_type": "stream",
     "text": [
      "[nltk_data] Downloading package punkt to\n",
      "[nltk_data]     C:\\Users\\ziulc\\AppData\\Roaming\\nltk_data...\n",
      "[nltk_data]   Package punkt is already up-to-date!\n"
     ]
    },
    {
     "data": {
      "text/plain": [
       "True"
      ]
     },
     "execution_count": 1,
     "metadata": {},
     "output_type": "execute_result"
    }
   ],
   "source": [
    "# Import\n",
    "import requests\n",
    "import nltk\n",
    "import urllib.request\n",
    "import time\n",
    "import pandas, numpy\n",
    "import pandas as pd \n",
    "import numpy as np\n",
    "\n",
    "from bs4 import BeautifulSoup\n",
    "from newspaper import Article\n",
    "nltk.download('punkt')"
   ]
  },
  {
   "cell_type": "code",
   "execution_count": 2,
   "metadata": {},
   "outputs": [
    {
     "name": "stdout",
     "output_type": "stream",
     "text": [
      "<class 'pandas.core.frame.DataFrame'>\n",
      "RangeIndex: 79 entries, 0 to 78\n",
      "Data columns (total 4 columns):\n",
      " #   Column      Non-Null Count  Dtype  \n",
      "---  ------      --------------  -----  \n",
      " 0   Unnamed: 0  79 non-null     int64  \n",
      " 1   Word        0 non-null      float64\n",
      " 2   Text        79 non-null     object \n",
      " 3   word        79 non-null     object \n",
      "dtypes: float64(1), int64(1), object(2)\n",
      "memory usage: 2.6+ KB\n",
      "Empty DataFrame\n",
      "Columns: [Word]\n",
      "Index: []\n",
      "<class 'pandas.core.frame.DataFrame'>\n",
      "Index: 0 entries\n",
      "Data columns (total 1 columns):\n",
      " #   Column  Non-Null Count  Dtype \n",
      "---  ------  --------------  ----- \n",
      " 0   Word    0 non-null      object\n",
      "dtypes: object(1)\n",
      "memory usage: 0.0+ bytes\n",
      "<class 'pandas.core.frame.DataFrame'>\n",
      "Index: 0 entries\n",
      "Data columns (total 7 columns):\n",
      " #   Column    Non-Null Count  Dtype \n",
      "---  ------    --------------  ----- \n",
      " 0   Word      0 non-null      object\n",
      " 1   headline  0 non-null      object\n",
      " 2   text      0 non-null      object\n",
      " 3   date      0 non-null      object\n",
      " 4   author    0 non-null      object\n",
      " 5   source    0 non-null      object\n",
      " 6   fake      0 non-null      object\n",
      "dtypes: object(7)\n",
      "memory usage: 0.0+ bytes\n"
     ]
    }
   ],
   "source": [
    "#Preparing the file to store the urls\n",
    "df1 = pd.read_csv(\"C:/Curso-ML-1/project/source-fox.csv\") \n",
    "##df =df.head(10000)\n",
    "df1.info()\n",
    "df1['text1']=\"\"\n",
    "\n",
    "df = pd.read_csv(\"C:/Curso-ML-1/project/Pasta1.csv\")\n",
    "print(df)\n",
    "df.info()\n",
    "df['headline']= \"\"\n",
    "df['text']    = \"\"\n",
    "df['date']    = \"\"\n",
    "df['author']  = \"\"\n",
    "df['source']  = \"\"\n",
    "df['fake']    = \"\"\n",
    "                 \n",
    "df.info()"
   ]
  },
  {
   "cell_type": "code",
   "execution_count": 3,
   "metadata": {},
   "outputs": [
    {
     "name": "stdout",
     "output_type": "stream",
     "text": [
      "https://www.foxnews.com/politics/sanders-convention-delegates-push-back\n",
      "https://www.foxnews.com/politics/sanders-convention-delegates-push-back\n",
      "https://www.foxnews.com/politics/sanders-convention-delegates-push-back\n",
      "https://www.foxnews.com/politics/trump-officials-push-back-on-rice-explanation-over-inauguration-day-email-that-email-screams-out-cya\n",
      "https://www.foxnews.com/politics/trump-officials-push-back-on-rice-explanation-over-inauguration-day-email-that-email-screams-out-cya\n",
      "https://www.foxnews.com/politics/trump-officials-push-back-on-rice-explanation-over-inauguration-day-email-that-email-screams-out-cya\n",
      "https://www.foxnews.com/politics/trump-says-g-7-will-most-likely-happen-at-white-house-despite-coronavirus-concerns\n",
      "https://www.foxnews.com/politics/trump-says-g-7-will-most-likely-happen-at-white-house-despite-coronavirus-concerns\n",
      "https://www.foxnews.com/politics/trump-says-g-7-will-most-likely-happen-at-white-house-despite-coronavirus-concerns\n",
      "https://www.foxnews.com/politics/connecticut-gov-lamont-signs-order-allowing-registered-voters-to-cast-absentee-ballots-in-primary-election-amid-coronavirus\n",
      "https://www.foxnews.com/politics/connecticut-gov-lamont-signs-order-allowing-registered-voters-to-cast-absentee-ballots-in-primary-election-amid-coronavirus\n",
      "https://www.foxnews.com/politics/connecticut-gov-lamont-signs-order-allowing-registered-voters-to-cast-absentee-ballots-in-primary-election-amid-coronavirus\n",
      "https://www.foxnews.com/politics/sanders-convention-delegates-push-back\n",
      "https://www.foxnews.com/politics/sanders-convention-delegates-push-back\n",
      "https://www.foxnews.com/politics/sanders-convention-delegates-push-back\n",
      "https://www.foxnews.com/politics/its-all-about-the-economy-so-its-all-about-corona\n",
      "https://www.foxnews.com/politics/its-all-about-the-economy-so-its-all-about-corona\n",
      "https://www.foxnews.com/politics/its-all-about-the-economy-so-its-all-about-corona\n",
      "https://www.foxnews.com/politics/rand-paul-says-faucis-policies-emasculated-medical-care-system-ruined-economy\n",
      "https://www.foxnews.com/politics/rand-paul-says-faucis-policies-emasculated-medical-care-system-ruined-economy\n",
      "https://www.foxnews.com/politics/rand-paul-says-faucis-policies-emasculated-medical-care-system-ruined-economy\n",
      "https://www.foxnews.com/politics/chinese-propaganda-video-game-pompeo\n",
      "https://www.foxnews.com/politics/chinese-propaganda-video-game-pompeo\n",
      "https://www.foxnews.com/politics/chinese-propaganda-video-game-pompeo\n",
      "https://www.foxnews.com/politics/fox-news-poll-biden-and-trump-in-tight-race-in-florida\n",
      "https://www.foxnews.com/politics/fox-news-poll-biden-and-trump-in-tight-race-in-florida\n",
      "https://www.foxnews.com/politics/fox-news-poll-biden-tops-trump-in-michigan-where-gov-whitmer-is-more-popular-than-president\n",
      "https://www.foxnews.com/politics/fox-news-poll-biden-tops-trump-in-michigan-where-gov-whitmer-is-more-popular-than-president\n",
      "https://www.foxnews.com/politics/fox-news-poll-biden-leads-trump-in-battleground-pennsylvania\n",
      "https://www.foxnews.com/politics/fox-news-poll-biden-leads-trump-in-battleground-pennsylvania\n",
      "https://www.foxnews.com/politics/fox-news-poll-biden-and-trump-now-tied-in-race-for-white-house\n",
      "https://www.foxnews.com/politics/fox-news-poll-biden-and-trump-now-tied-in-race-for-white-house\n",
      "https://www.foxnews.com/politics/pelosi-ramps-up-pressure-on-mcconnell-to-pass-coronavirus-legislation\n",
      "https://www.foxnews.com/politics/pelosi-ramps-up-pressure-on-mcconnell-to-pass-coronavirus-legislation\n",
      "https://www.foxnews.com/politics/pelosi-ramps-up-pressure-on-mcconnell-to-pass-coronavirus-legislation\n",
      "https://www.foxnews.com/politics/trump-hits-the-swing-states-even-with-campaign-battle-in-coronavirus-limbo\n",
      "https://www.foxnews.com/politics/trump-hits-the-swing-states-even-with-campaign-battle-in-coronavirus-limbo\n",
      "https://www.foxnews.com/politics/trump-hits-the-swing-states-even-with-campaign-battle-in-coronavirus-limbo\n",
      "https://www.foxnews.com/politics/trump-officials-push-back-on-rice-explanation-over-inauguration-day-email-that-email-screams-out-cya\n",
      "https://www.foxnews.com/politics/trump-officials-push-back-on-rice-explanation-over-inauguration-day-email-that-email-screams-out-cya\n",
      "https://www.foxnews.com/politics/trump-officials-push-back-on-rice-explanation-over-inauguration-day-email-that-email-screams-out-cya\n",
      "https://www.foxnews.com/politics/south-dakota-governor-appeals-to-white-house-for-help-in-ending-checkpoint-showdown-with-tribes\n",
      "https://www.foxnews.com/politics/south-dakota-governor-appeals-to-white-house-for-help-in-ending-checkpoint-showdown-with-tribes\n",
      "https://www.foxnews.com/politics/south-dakota-governor-appeals-to-white-house-for-help-in-ending-checkpoint-showdown-with-tribes\n",
      "https://www.foxnews.com/politics/klobuchar-moran-introduce-bill-to-protect-senior-citizens-from-scams-fraud-amid-coronavirus\n",
      "https://www.foxnews.com/politics/klobuchar-moran-introduce-bill-to-protect-senior-citizens-from-scams-fraud-amid-coronavirus\n",
      "https://www.foxnews.com/politics/klobuchar-moran-introduce-bill-to-protect-senior-citizens-from-scams-fraud-amid-coronavirus\n",
      "https://www.foxnews.com/politics/south-carolina-election-ballots-reportedly-found-in-maryland-this-week\n",
      "https://www.foxnews.com/politics/south-carolina-election-ballots-reportedly-found-in-maryland-this-week\n",
      "https://www.foxnews.com/politics/south-carolina-election-ballots-reportedly-found-in-maryland-this-week\n",
      "https://www.foxnews.com/politics/trump-says-g-7-will-most-likely-happen-at-white-house-despite-coronavirus-concerns\n",
      "https://www.foxnews.com/politics/trump-says-g-7-will-most-likely-happen-at-white-house-despite-coronavirus-concerns\n",
      "https://www.foxnews.com/politics/trump-says-g-7-will-most-likely-happen-at-white-house-despite-coronavirus-concerns\n",
      "https://www.foxnews.com/politics/senate-judiciary-subpoenas-russia-probe-june\n",
      "https://www.foxnews.com/politics/senate-judiciary-subpoenas-russia-probe-june\n",
      "https://www.foxnews.com/politics/senate-judiciary-subpoenas-russia-probe-june\n",
      "https://www.foxnews.com/politics/mueller-deputy-to-headline-biden-virtual-fundraiser\n",
      "https://www.foxnews.com/politics/mueller-deputy-to-headline-biden-virtual-fundraiser\n",
      "https://www.foxnews.com/politics/mueller-deputy-to-headline-biden-virtual-fundraiser\n",
      "https://www.foxnews.com/politics/dc-mayor-hopes-city-can-begin-first-phase-of-reopening-next-week-barring-any-peaks\n",
      "https://www.foxnews.com/politics/dc-mayor-hopes-city-can-begin-first-phase-of-reopening-next-week-barring-any-peaks\n",
      "https://www.foxnews.com/politics/dc-mayor-hopes-city-can-begin-first-phase-of-reopening-next-week-barring-any-peaks\n",
      "https://www.foxnews.com/politics/senate-votes-ratcliffe\n",
      "https://www.foxnews.com/politics/senate-votes-ratcliffe\n",
      "https://www.foxnews.com/politics/senate-votes-ratcliffe\n",
      "https://www.foxnews.com/politics/27-gop-senators-ask-ag-barr-to-investigate-planned-parenthood-getting-ppp-checks\n",
      "https://www.foxnews.com/politics/27-gop-senators-ask-ag-barr-to-investigate-planned-parenthood-getting-ppp-checks\n",
      "https://www.foxnews.com/politics/27-gop-senators-ask-ag-barr-to-investigate-planned-parenthood-getting-ppp-checks\n",
      "https://www.foxnews.com/politics/trump-to-pull-out-of-open-skies-treaty\n",
      "https://www.foxnews.com/politics/trump-to-pull-out-of-open-skies-treaty\n",
      "https://www.foxnews.com/politics/trump-to-pull-out-of-open-skies-treaty\n",
      "https://www.foxnews.com/politics/connecticut-gov-lamont-signs-order-allowing-registered-voters-to-cast-absentee-ballots-in-primary-election-amid-coronavirus\n",
      "https://www.foxnews.com/politics/connecticut-gov-lamont-signs-order-allowing-registered-voters-to-cast-absentee-ballots-in-primary-election-amid-coronavirus\n",
      "https://www.foxnews.com/politics/sanders-convention-delegates-push-back\n",
      "https://www.foxnews.com/politics/sanders-convention-delegates-push-back\n",
      "https://www.foxnews.com/politics/trump-hits-the-swing-states-even-with-campaign-battle-in-coronavirus-limbo\n",
      "https://www.foxnews.com/politics/trump-hits-the-swing-states-even-with-campaign-battle-in-coronavirus-limbo\n",
      "https://www.foxnews.com/politics/biden-keeps-pace-with-trump-in-april-fundraising-but-campaign-cash-chasm\n",
      "https://www.foxnews.com/politics/biden-keeps-pace-with-trump-in-april-fundraising-but-campaign-cash-chasm\n"
     ]
    },
    {
     "name": "stderr",
     "output_type": "stream",
     "text": [
      "C:\\Users\\ziulc\\anaconda3\\lib\\site-packages\\ipykernel_launcher.py:4: SettingWithCopyWarning: \n",
      "A value is trying to be set on a copy of a slice from a DataFrame\n",
      "\n",
      "See the caveats in the documentation: https://pandas.pydata.org/pandas-docs/stable/user_guide/indexing.html#returning-a-view-versus-a-copy\n",
      "  after removing the cwd from sys.path.\n"
     ]
    }
   ],
   "source": [
    "df1.head()\n",
    "len1 = len(df1)\n",
    "for i in range(len1):\n",
    "    df1['text1'][i]= str(df1['Text'][i])\n",
    "    print(df1['text1'][i])"
   ]
  },
  {
   "cell_type": "code",
   "execution_count": 4,
   "metadata": {},
   "outputs": [
    {
     "name": "stdout",
     "output_type": "stream",
     "text": [
      "https://www.foxnews.com/politics/sanders-convention-delegates-push-back\n",
      "2\n",
      "https://www.foxnews.com/politics/trump-officials-push-back-on-rice-explanation-over-inauguration-day-email-that-email-screams-out-cya\n",
      "3\n",
      "https://www.foxnews.com/politics/trump-officials-push-back-on-rice-explanation-over-inauguration-day-email-that-email-screams-out-cya\n",
      "4\n",
      "https://www.foxnews.com/politics/trump-officials-push-back-on-rice-explanation-over-inauguration-day-email-that-email-screams-out-cya\n",
      "5\n",
      "https://www.foxnews.com/politics/trump-says-g-7-will-most-likely-happen-at-white-house-despite-coronavirus-concerns\n",
      "6\n",
      "https://www.foxnews.com/politics/trump-says-g-7-will-most-likely-happen-at-white-house-despite-coronavirus-concerns\n",
      "7\n",
      "https://www.foxnews.com/politics/trump-says-g-7-will-most-likely-happen-at-white-house-despite-coronavirus-concerns\n",
      "8\n",
      "https://www.foxnews.com/politics/connecticut-gov-lamont-signs-order-allowing-registered-voters-to-cast-absentee-ballots-in-primary-election-amid-coronavirus\n",
      "9\n",
      "https://www.foxnews.com/politics/connecticut-gov-lamont-signs-order-allowing-registered-voters-to-cast-absentee-ballots-in-primary-election-amid-coronavirus\n",
      "10\n",
      "https://www.foxnews.com/politics/connecticut-gov-lamont-signs-order-allowing-registered-voters-to-cast-absentee-ballots-in-primary-election-amid-coronavirus\n",
      "11\n",
      "https://www.foxnews.com/politics/sanders-convention-delegates-push-back\n",
      "12\n",
      "https://www.foxnews.com/politics/sanders-convention-delegates-push-back\n",
      "13\n",
      "https://www.foxnews.com/politics/sanders-convention-delegates-push-back\n",
      "14\n",
      "https://www.foxnews.com/politics/its-all-about-the-economy-so-its-all-about-corona\n",
      "15\n",
      "https://www.foxnews.com/politics/its-all-about-the-economy-so-its-all-about-corona\n",
      "16\n",
      "https://www.foxnews.com/politics/its-all-about-the-economy-so-its-all-about-corona\n",
      "17\n",
      "https://www.foxnews.com/politics/rand-paul-says-faucis-policies-emasculated-medical-care-system-ruined-economy\n",
      "18\n",
      "https://www.foxnews.com/politics/rand-paul-says-faucis-policies-emasculated-medical-care-system-ruined-economy\n",
      "19\n",
      "https://www.foxnews.com/politics/rand-paul-says-faucis-policies-emasculated-medical-care-system-ruined-economy\n",
      "20\n",
      "https://www.foxnews.com/politics/chinese-propaganda-video-game-pompeo\n",
      "21\n",
      "https://www.foxnews.com/politics/chinese-propaganda-video-game-pompeo\n",
      "22\n",
      "https://www.foxnews.com/politics/chinese-propaganda-video-game-pompeo\n",
      "23\n",
      "https://www.foxnews.com/politics/fox-news-poll-biden-and-trump-in-tight-race-in-florida\n",
      "24\n",
      "https://www.foxnews.com/politics/fox-news-poll-biden-and-trump-in-tight-race-in-florida\n",
      "25\n",
      "https://www.foxnews.com/politics/fox-news-poll-biden-tops-trump-in-michigan-where-gov-whitmer-is-more-popular-than-president\n",
      "26\n",
      "https://www.foxnews.com/politics/fox-news-poll-biden-tops-trump-in-michigan-where-gov-whitmer-is-more-popular-than-president\n",
      "27\n",
      "https://www.foxnews.com/politics/fox-news-poll-biden-leads-trump-in-battleground-pennsylvania\n",
      "28\n",
      "https://www.foxnews.com/politics/fox-news-poll-biden-leads-trump-in-battleground-pennsylvania\n",
      "29\n",
      "https://www.foxnews.com/politics/fox-news-poll-biden-and-trump-now-tied-in-race-for-white-house\n",
      "30\n",
      "https://www.foxnews.com/politics/fox-news-poll-biden-and-trump-now-tied-in-race-for-white-house\n",
      "31\n",
      "https://www.foxnews.com/politics/pelosi-ramps-up-pressure-on-mcconnell-to-pass-coronavirus-legislation\n",
      "32\n",
      "https://www.foxnews.com/politics/pelosi-ramps-up-pressure-on-mcconnell-to-pass-coronavirus-legislation\n",
      "33\n",
      "https://www.foxnews.com/politics/pelosi-ramps-up-pressure-on-mcconnell-to-pass-coronavirus-legislation\n",
      "34\n",
      "https://www.foxnews.com/politics/trump-hits-the-swing-states-even-with-campaign-battle-in-coronavirus-limbo\n",
      "35\n",
      "https://www.foxnews.com/politics/trump-hits-the-swing-states-even-with-campaign-battle-in-coronavirus-limbo\n",
      "36\n",
      "https://www.foxnews.com/politics/trump-hits-the-swing-states-even-with-campaign-battle-in-coronavirus-limbo\n",
      "37\n",
      "https://www.foxnews.com/politics/trump-officials-push-back-on-rice-explanation-over-inauguration-day-email-that-email-screams-out-cya\n",
      "38\n",
      "https://www.foxnews.com/politics/trump-officials-push-back-on-rice-explanation-over-inauguration-day-email-that-email-screams-out-cya\n",
      "39\n",
      "https://www.foxnews.com/politics/trump-officials-push-back-on-rice-explanation-over-inauguration-day-email-that-email-screams-out-cya\n",
      "40\n",
      "https://www.foxnews.com/politics/south-dakota-governor-appeals-to-white-house-for-help-in-ending-checkpoint-showdown-with-tribes\n",
      "41\n",
      "https://www.foxnews.com/politics/south-dakota-governor-appeals-to-white-house-for-help-in-ending-checkpoint-showdown-with-tribes\n",
      "42\n",
      "https://www.foxnews.com/politics/south-dakota-governor-appeals-to-white-house-for-help-in-ending-checkpoint-showdown-with-tribes\n",
      "43\n",
      "https://www.foxnews.com/politics/klobuchar-moran-introduce-bill-to-protect-senior-citizens-from-scams-fraud-amid-coronavirus\n",
      "44\n",
      "https://www.foxnews.com/politics/klobuchar-moran-introduce-bill-to-protect-senior-citizens-from-scams-fraud-amid-coronavirus\n",
      "45\n",
      "https://www.foxnews.com/politics/klobuchar-moran-introduce-bill-to-protect-senior-citizens-from-scams-fraud-amid-coronavirus\n",
      "46\n",
      "https://www.foxnews.com/politics/south-carolina-election-ballots-reportedly-found-in-maryland-this-week\n",
      "47\n",
      "https://www.foxnews.com/politics/south-carolina-election-ballots-reportedly-found-in-maryland-this-week\n",
      "48\n",
      "https://www.foxnews.com/politics/south-carolina-election-ballots-reportedly-found-in-maryland-this-week\n",
      "49\n",
      "https://www.foxnews.com/politics/trump-says-g-7-will-most-likely-happen-at-white-house-despite-coronavirus-concerns\n",
      "50\n",
      "https://www.foxnews.com/politics/trump-says-g-7-will-most-likely-happen-at-white-house-despite-coronavirus-concerns\n",
      "51\n",
      "https://www.foxnews.com/politics/trump-says-g-7-will-most-likely-happen-at-white-house-despite-coronavirus-concerns\n",
      "52\n",
      "https://www.foxnews.com/politics/senate-judiciary-subpoenas-russia-probe-june\n",
      "53\n",
      "https://www.foxnews.com/politics/senate-judiciary-subpoenas-russia-probe-june\n",
      "54\n",
      "https://www.foxnews.com/politics/senate-judiciary-subpoenas-russia-probe-june\n",
      "55\n",
      "https://www.foxnews.com/politics/mueller-deputy-to-headline-biden-virtual-fundraiser\n",
      "56\n",
      "https://www.foxnews.com/politics/mueller-deputy-to-headline-biden-virtual-fundraiser\n",
      "57\n",
      "https://www.foxnews.com/politics/mueller-deputy-to-headline-biden-virtual-fundraiser\n",
      "58\n",
      "https://www.foxnews.com/politics/dc-mayor-hopes-city-can-begin-first-phase-of-reopening-next-week-barring-any-peaks\n",
      "59\n",
      "https://www.foxnews.com/politics/dc-mayor-hopes-city-can-begin-first-phase-of-reopening-next-week-barring-any-peaks\n",
      "60\n",
      "https://www.foxnews.com/politics/dc-mayor-hopes-city-can-begin-first-phase-of-reopening-next-week-barring-any-peaks\n",
      "61\n",
      "https://www.foxnews.com/politics/senate-votes-ratcliffe\n",
      "62\n",
      "https://www.foxnews.com/politics/senate-votes-ratcliffe\n",
      "63\n",
      "https://www.foxnews.com/politics/senate-votes-ratcliffe\n",
      "64\n",
      "https://www.foxnews.com/politics/27-gop-senators-ask-ag-barr-to-investigate-planned-parenthood-getting-ppp-checks\n",
      "65\n",
      "https://www.foxnews.com/politics/27-gop-senators-ask-ag-barr-to-investigate-planned-parenthood-getting-ppp-checks\n",
      "66\n",
      "https://www.foxnews.com/politics/27-gop-senators-ask-ag-barr-to-investigate-planned-parenthood-getting-ppp-checks\n",
      "67\n",
      "https://www.foxnews.com/politics/trump-to-pull-out-of-open-skies-treaty\n",
      "68\n",
      "https://www.foxnews.com/politics/trump-to-pull-out-of-open-skies-treaty\n",
      "69\n",
      "https://www.foxnews.com/politics/trump-to-pull-out-of-open-skies-treaty\n",
      "70\n",
      "https://www.foxnews.com/politics/connecticut-gov-lamont-signs-order-allowing-registered-voters-to-cast-absentee-ballots-in-primary-election-amid-coronavirus\n",
      "71\n",
      "https://www.foxnews.com/politics/connecticut-gov-lamont-signs-order-allowing-registered-voters-to-cast-absentee-ballots-in-primary-election-amid-coronavirus\n",
      "72\n",
      "https://www.foxnews.com/politics/sanders-convention-delegates-push-back\n",
      "73\n",
      "https://www.foxnews.com/politics/sanders-convention-delegates-push-back\n",
      "74\n",
      "https://www.foxnews.com/politics/trump-hits-the-swing-states-even-with-campaign-battle-in-coronavirus-limbo\n",
      "75\n",
      "https://www.foxnews.com/politics/trump-hits-the-swing-states-even-with-campaign-battle-in-coronavirus-limbo\n",
      "76\n",
      "https://www.foxnews.com/politics/biden-keeps-pace-with-trump-in-april-fundraising-but-campaign-cash-chasm\n",
      "77\n",
      "https://www.foxnews.com/politics/biden-keeps-pace-with-trump-in-april-fundraising-but-campaign-cash-chasm\n",
      "78\n"
     ]
    }
   ],
   "source": [
    "len1 = len(df1)\n",
    "for i in range(2,len1):\n",
    "    \n",
    "    \n",
    "    URL1 = df1['text1'][i]\n",
    "    print(URL1)\n",
    "    print(i)\n",
    "    article = Article(URL1)\n",
    "    article.download()\n",
    "    article.parse()\n",
    "    article.nlp()\n",
    "    \n",
    "    author1   = article.authors\n",
    "    date1     = article.publish_date\n",
    "    text1     = article.text\n",
    "    headline1 = article.title\n",
    "    source1   = \"FOX\"\n",
    "    fake1     = \"Misleading\"\n",
    "    \n",
    "    article2 = [[\" \",headline1, text1, date1 , author1,source1,fake1]]\n",
    "    ##print(article2)\n",
    "    df3 = pd.DataFrame(article2, columns = [\"   \",'headline' , 'text', 'date' , 'author','source','fake'])\n",
    "    df = df.append(df3, ignore_index=True)"
   ]
  },
  {
   "cell_type": "code",
   "execution_count": 62,
   "metadata": {},
   "outputs": [
    {
     "name": "stdout",
     "output_type": "stream",
     "text": [
      "Get all the latest news on coronavirus and more delivered daily to your inbox. Sign up here.\n",
      "\n",
      "Connecticut Gov. Ned Lamont signed an executive order this week allowing all registered voters to vote absentee in the state’s Aug. 11 primary elections.\n",
      "\n",
      "“Nobody should need to make a decision between their health and their right to vote,” Lamont said in a statement. “Our state has taken every responsible step to this point to ensure that our residents are safe, and the next step we must take is to mitigate the risk of the spread of COVID-19 when Connecticut residents cast their ballots.”\n",
      "\n",
      "CT GOVERNOR POSTPONES REOPENING OF HAIR SALONS, BARBERSHOPS AMID CORONAVIRUS\n",
      "\n",
      "Lamont added: “We must guarantee access to the ballot, and this is a way to do that during these extraordinary circumstances. I do not take this decision lightly, and it is with the public health and welfare of residents in mind.”\n",
      "\n",
      "Current Connecticut law authorizes the use of an absentee ballot for several reasons, including a voter’s active service in the Armed Forces; absence from town during all hours of voting; an illness; religious beliefs; duties as an election official; and physical disability.\n",
      "\n",
      "Lamont said that as COVID-19 continues to spread through the case, it is “critical” that the state make “reasonable adjustments that reflect the current state of emergency while ensuring that the democratic process continues safely and securely.”\n",
      "\n",
      "NY, NJ, CT, DELAWARE TO REOPEN STATE BEACHES BY MEMORIAL DAY\n",
      "\n",
      "Connecticut Secretary of State Denise Merrill announced this week that she intends to mail every registered voter in the state an application that they will be required to fill out and return in order to obtain their absentee ballot. The applications, which will be sent by U.S. Postal Service, will include a postage-paid return envelope. Once the applications are processed, all voters who requested absentee ballots will receive them in the mail, also with a postage-paid return envelope included.\n",
      "\n",
      "Merrill said that each town in Connecticut would have a secure dropbox in a prominent location to allow voters to submit their absentee ballots in person without close personal contact.\n",
      "\n",
      "Connecticut’s 2020 presidential primary election was initially scheduled for April 28, but due to the coronavirus crisis, the governor signed an executive order to reschedule it—first to June 2, and then to August 11—the same date the state was scheduled to hold other primary races for federal, state and local offices.\n",
      "\n",
      "As of Thursday, Connecticut reported more than 38,400 positive cases of the novel coronavirus and more than 3,470 deaths.\n"
     ]
    }
   ],
   "source": [
    "print(df['text'][69])"
   ]
  },
  {
   "cell_type": "code",
   "execution_count": 101,
   "metadata": {},
   "outputs": [],
   "source": [
    "df['fake'][70]=\"True\""
   ]
  },
  {
   "cell_type": "code",
   "execution_count": 102,
   "metadata": {},
   "outputs": [
    {
     "data": {
      "text/plain": [
       "True          39\n",
       "Misleading    38\n",
       "Name: fake, dtype: int64"
      ]
     },
     "execution_count": 102,
     "metadata": {},
     "output_type": "execute_result"
    }
   ],
   "source": [
    "df['fake'].value_counts()[:10]"
   ]
  },
  {
   "cell_type": "code",
   "execution_count": 113,
   "metadata": {},
   "outputs": [],
   "source": [
    "df1=pd.read_csv('C:/curso-ML-1/project/articles-2105.csv')"
   ]
  },
  {
   "cell_type": "code",
   "execution_count": 114,
   "metadata": {},
   "outputs": [],
   "source": [
    "len1 = len(df)\n",
    "for i in range(len1):\n",
    "    headline1 = df['headline'][i]\n",
    "    text1     = df['text'][i]\n",
    "    date1     = df['date'][i]\n",
    "    author1   = df['author'][i]\n",
    "    source1   = df['source'][i]\n",
    "    fake1     = df['fake'][i]\n",
    "    new_row = {'headline':headline1, 'text':text1, 'date':date1, 'author':author1, 'source':source1,'fake':fake1}\n",
    "    #append row to the dataframe\n",
    "    df1 = df1.append(new_row, ignore_index=True)"
   ]
  },
  {
   "cell_type": "code",
   "execution_count": 115,
   "metadata": {},
   "outputs": [
    {
     "name": "stdout",
     "output_type": "stream",
     "text": [
      "<class 'pandas.core.frame.DataFrame'>\n",
      "RangeIndex: 1007 entries, 0 to 1006\n",
      "Data columns (total 12 columns):\n",
      " #   Column            Non-Null Count  Dtype  \n",
      "---  ------            --------------  -----  \n",
      " 0   Unnamed: 0        930 non-null    float64\n",
      " 1   Unnamed: 0.1      672 non-null    float64\n",
      " 2   Unnamed: 0.1.1    619 non-null    float64\n",
      " 3   Unnamed: 0.1.1.1  619 non-null    float64\n",
      " 4   Word              0 non-null      float64\n",
      " 5   headline          1007 non-null   object \n",
      " 6   text              1007 non-null   object \n",
      " 7   date              918 non-null    object \n",
      " 8   author            1007 non-null   object \n",
      " 9   source            1007 non-null   object \n",
      " 10  fake              1007 non-null   object \n",
      " 11                    619 non-null    object \n",
      "dtypes: float64(5), object(7)\n",
      "memory usage: 94.5+ KB\n"
     ]
    }
   ],
   "source": [
    "df1.info()"
   ]
  },
  {
   "cell_type": "code",
   "execution_count": 118,
   "metadata": {},
   "outputs": [],
   "source": [
    "df1.to_csv('C:/Curso-ML-1/project/articles-2105.csv')"
   ]
  },
  {
   "cell_type": "code",
   "execution_count": 116,
   "metadata": {},
   "outputs": [
    {
     "data": {
      "text/plain": [
       "True          851\n",
       "Misleading    113\n",
       "Fake           43\n",
       "Name: fake, dtype: int64"
      ]
     },
     "execution_count": 116,
     "metadata": {},
     "output_type": "execute_result"
    }
   ],
   "source": [
    "df1['fake'].value_counts()[:10]"
   ]
  },
  {
   "cell_type": "code",
   "execution_count": 117,
   "metadata": {},
   "outputs": [
    {
     "data": {
      "text/plain": [
       "NYT         279\n",
       "Reuters     275\n",
       "CNN         258\n",
       "FOX          77\n",
       "Infowars     65\n",
       "Factscan     53\n",
       "Name: source, dtype: int64"
      ]
     },
     "execution_count": 117,
     "metadata": {},
     "output_type": "execute_result"
    }
   ],
   "source": [
    "df1['source'].value_counts()[:10]"
   ]
  },
  {
   "cell_type": "code",
   "execution_count": null,
   "metadata": {},
   "outputs": [],
   "source": []
  }
 ],
 "metadata": {
  "kernelspec": {
   "display_name": "Python 3",
   "language": "python",
   "name": "python3"
  },
  "language_info": {
   "codemirror_mode": {
    "name": "ipython",
    "version": 3
   },
   "file_extension": ".py",
   "mimetype": "text/x-python",
   "name": "python",
   "nbconvert_exporter": "python",
   "pygments_lexer": "ipython3",
   "version": "3.7.6"
  }
 },
 "nbformat": 4,
 "nbformat_minor": 4
}
