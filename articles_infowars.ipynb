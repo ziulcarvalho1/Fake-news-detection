{
 "cells": [
  {
   "cell_type": "markdown",
   "metadata": {},
   "source": [
    "# Loading articles infowars"
   ]
  },
  {
   "cell_type": "code",
   "execution_count": 1,
   "metadata": {},
   "outputs": [
    {
     "name": "stderr",
     "output_type": "stream",
     "text": [
      "[nltk_data] Downloading package punkt to\n",
      "[nltk_data]     C:\\Users\\ziulc\\AppData\\Roaming\\nltk_data...\n",
      "[nltk_data]   Package punkt is already up-to-date!\n"
     ]
    },
    {
     "data": {
      "text/plain": [
       "True"
      ]
     },
     "execution_count": 1,
     "metadata": {},
     "output_type": "execute_result"
    }
   ],
   "source": [
    "# Import\n",
    "import requests\n",
    "import nltk\n",
    "import urllib.request\n",
    "import time\n",
    "import pandas, numpy\n",
    "import pandas as pd \n",
    "import numpy as np\n",
    "\n",
    "from bs4 import BeautifulSoup\n",
    "from newspaper import Article\n",
    "nltk.download('punkt')"
   ]
  },
  {
   "cell_type": "code",
   "execution_count": 12,
   "metadata": {},
   "outputs": [
    {
     "name": "stdout",
     "output_type": "stream",
     "text": [
      "<class 'pandas.core.frame.DataFrame'>\n",
      "RangeIndex: 66 entries, 0 to 65\n",
      "Data columns (total 1 columns):\n",
      " #   Column                                                       Non-Null Count  Dtype \n",
      "---  ------                                                       --------------  ----- \n",
      " 0   https://www.infowars.com/president-trump-is-betting-on-you/  66 non-null     object\n",
      "dtypes: object(1)\n",
      "memory usage: 656.0+ bytes\n",
      "Empty DataFrame\n",
      "Columns: [Word]\n",
      "Index: []\n",
      "<class 'pandas.core.frame.DataFrame'>\n",
      "Index: 0 entries\n",
      "Data columns (total 1 columns):\n",
      " #   Column  Non-Null Count  Dtype \n",
      "---  ------  --------------  ----- \n",
      " 0   Word    0 non-null      object\n",
      "dtypes: object(1)\n",
      "memory usage: 0.0+ bytes\n",
      "<class 'pandas.core.frame.DataFrame'>\n",
      "Index: 0 entries\n",
      "Data columns (total 7 columns):\n",
      " #   Column    Non-Null Count  Dtype \n",
      "---  ------    --------------  ----- \n",
      " 0   Word      0 non-null      object\n",
      " 1   headline  0 non-null      object\n",
      " 2   text      0 non-null      object\n",
      " 3   date      0 non-null      object\n",
      " 4   author    0 non-null      object\n",
      " 5   source    0 non-null      object\n",
      " 6   fake      0 non-null      object\n",
      "dtypes: object(7)\n",
      "memory usage: 0.0+ bytes\n"
     ]
    }
   ],
   "source": [
    "#Preparing the file to store the urls\n",
    "df1 = pd.read_csv(\"C:/Curso-ML-1/project/source-info.txt\") \n",
    "##df =df.head(10000)\n",
    "df1.info()\n",
    "df1['text1']=\"\"\n",
    "\n",
    "df = pd.read_csv(\"C:/Curso-ML-1/project/Pasta1.csv\")\n",
    "print(df)\n",
    "df.info()\n",
    "df['headline']= \"\"\n",
    "df['text']    = \"\"\n",
    "df['date']    = \"\"\n",
    "df['author']  = \"\"\n",
    "df['source']  = \"\"\n",
    "df['fake']    = \"\"\n",
    "                 \n",
    "df.info()"
   ]
  },
  {
   "cell_type": "code",
   "execution_count": 17,
   "metadata": {},
   "outputs": [],
   "source": [
    "df1.head()\n",
    "df1['text1']=df1['https://www.infowars.com/president-trump-is-betting-on-you/']"
   ]
  },
  {
   "cell_type": "code",
   "execution_count": 19,
   "metadata": {},
   "outputs": [
    {
     "name": "stdout",
     "output_type": "stream",
     "text": [
      "https://www.infowars.com/eric-zemmour-calls-for-frances-no-go-zones-to-be-re-conquered-by-force/\n",
      "44\n",
      "https://www.infowars.com/category/world-news/\n",
      "45\n",
      "https://www.infowars.com/eric-zemmour-calls-for-frances-no-go-zones-to-be-re-conquered-by-force/#disqus_thread\n",
      "46\n",
      "https://www.infowars.com/paid-holidays-end-may-12-russia-to-start-gradually-easing-coronavirus-quarantine-measures-putin/\n",
      "47\n",
      "https://www.infowars.com/paid-holidays-end-may-12-russia-to-start-gradually-easing-coronavirus-quarantine-measures-putin/\n",
      "48\n",
      "https://www.infowars.com/category/world-news/\n",
      "49\n",
      "https://www.infowars.com/paid-holidays-end-may-12-russia-to-start-gradually-easing-coronavirus-quarantine-measures-putin/#disqus_thread\n",
      "50\n",
      "https://www.infowars.com/india-police-use-metal-tool-to-grab-social-distancing-dissidents/\n",
      "51\n",
      "https://www.infowars.com/category/world-news/\n",
      "52\n",
      "https://www.infowars.com/india-police-use-metal-tool-to-grab-social-distancing-dissidents/#disqus_thread\n",
      "53\n",
      "https://www.infowars.com/poll-finds-that-9-out-of-10-in-uk-want-lockdown-to-carry-on/\n",
      "54\n",
      "https://www.infowars.com/category/world-news/\n",
      "55\n",
      "https://www.infowars.com/poll-finds-that-9-out-of-10-in-uk-want-lockdown-to-carry-on/#disqus_thread\n",
      "56\n",
      "https://www.infowars.com/dreaded-comeback-wuhan-reports-5-new-coronavirus-cases-its-highest-surge-in-2-months/\n",
      "57\n",
      "https://www.infowars.com/category/world-news/\n",
      "58\n",
      "https://www.infowars.com/dreaded-comeback-wuhan-reports-5-new-coronavirus-cases-its-highest-surge-in-2-months/#disqus_thread\n",
      "59\n",
      "https://www.infowars.com/mask-wearers-are-littering-streets-and-countryside-with-used-ppe/\n",
      "60\n",
      "https://www.infowars.com/watch-live-reopen-america-movement-rises-take-back-your-country/\n",
      "61\n",
      "https://www.infowars.com/video-dr-fauci-admits-face-masks-ineffective-against-coronavirus/\n",
      "62\n",
      "https://www.infowars.com/gov-cuomo-calls-coronavirus-the-european-virus-during-presser/\n",
      "63\n",
      "https://www.infowars.com/citizens-defy-san-antonios-anti-free-speech-law/\n",
      "64\n",
      "https://www.infowars.com/eric-zemmour-calls-for-frances-no-go-zones-to-be-re-conquered-by-force/\n",
      "65\n"
     ]
    }
   ],
   "source": [
    "len1 = len(df1)\n",
    "for i in range(44,len1):\n",
    "    \n",
    "    \n",
    "    URL1 = df1['text1'][i]\n",
    "    print(URL1)\n",
    "    print(i)\n",
    "    article = Article(URL1)\n",
    "    article.download()\n",
    "    article.parse()\n",
    "    article.nlp()\n",
    "    \n",
    "    author1   = article.authors\n",
    "    date1     = article.publish_date\n",
    "    text1     = article.text\n",
    "    headline1 = article.title\n",
    "    source1   = \"Infowars\"\n",
    "    fake1     = \"YES\"\n",
    "    \n",
    "    article2 = [[\" \",headline1, text1, date1 , author1,source1,fake1]]\n",
    "    ##print(article2)\n",
    "    df3 = pd.DataFrame(article2, columns = [\"   \",'headline' , 'text', 'date' , 'author','source','fake'])\n",
    "    df = df.append(df3, ignore_index=True)"
   ]
  },
  {
   "cell_type": "code",
   "execution_count": 21,
   "metadata": {},
   "outputs": [
    {
     "data": {
      "text/html": [
       "<div>\n",
       "<style scoped>\n",
       "    .dataframe tbody tr th:only-of-type {\n",
       "        vertical-align: middle;\n",
       "    }\n",
       "\n",
       "    .dataframe tbody tr th {\n",
       "        vertical-align: top;\n",
       "    }\n",
       "\n",
       "    .dataframe thead th {\n",
       "        text-align: right;\n",
       "    }\n",
       "</style>\n",
       "<table border=\"1\" class=\"dataframe\">\n",
       "  <thead>\n",
       "    <tr style=\"text-align: right;\">\n",
       "      <th></th>\n",
       "      <th>Word</th>\n",
       "      <th>headline</th>\n",
       "      <th>text</th>\n",
       "      <th>date</th>\n",
       "      <th>author</th>\n",
       "      <th>source</th>\n",
       "      <th>fake</th>\n",
       "      <th></th>\n",
       "    </tr>\n",
       "  </thead>\n",
       "  <tbody>\n",
       "    <tr>\n",
       "      <th>60</th>\n",
       "      <td>NaN</td>\n",
       "      <td>Obamagate Trends #1; Twitter Removes It: Watch...</td>\n",
       "      <td>Owen Shroyer hosts this LIVE edition of War Ro...</td>\n",
       "      <td>2020-05-11 14:59:52-05:00</td>\n",
       "      <td>[Infowars.Com -]</td>\n",
       "      <td>Infowars</td>\n",
       "      <td>YES</td>\n",
       "      <td></td>\n",
       "    </tr>\n",
       "    <tr>\n",
       "      <th>61</th>\n",
       "      <td>NaN</td>\n",
       "      <td>Video: Dr. Fauci Admits Face Masks Ineffective...</td>\n",
       "      <td>A 60 Minutes interview with Dr. Anthony Fauci,...</td>\n",
       "      <td>2020-05-11 14:56:01-05:00</td>\n",
       "      <td>[Infowars.Com -]</td>\n",
       "      <td>Infowars</td>\n",
       "      <td>YES</td>\n",
       "      <td></td>\n",
       "    </tr>\n",
       "    <tr>\n",
       "      <th>62</th>\n",
       "      <td>NaN</td>\n",
       "      <td>Gov. Cuomo Calls Coronavirus The ‘European Vir...</td>\n",
       "      <td>New York Governor Andrew Cuomo referred to the...</td>\n",
       "      <td>2020-05-11 14:55:21-05:00</td>\n",
       "      <td>[Infowars.Com -]</td>\n",
       "      <td>Infowars</td>\n",
       "      <td>YES</td>\n",
       "      <td></td>\n",
       "    </tr>\n",
       "    <tr>\n",
       "      <th>63</th>\n",
       "      <td>NaN</td>\n",
       "      <td>VIDEO: “Say Chinese Virus” Banners Towed Over ...</td>\n",
       "      <td>Citizens are defying San Antonio’s new anti-fr...</td>\n",
       "      <td>2020-05-11 14:40:51-05:00</td>\n",
       "      <td>[Infowars.Com -]</td>\n",
       "      <td>Infowars</td>\n",
       "      <td>YES</td>\n",
       "      <td></td>\n",
       "    </tr>\n",
       "    <tr>\n",
       "      <th>64</th>\n",
       "      <td>NaN</td>\n",
       "      <td>Eric Zemmour Calls For France’s No-Go Zones to...</td>\n",
       "      <td>French intellectual Eric Zemmour has called fo...</td>\n",
       "      <td>2020-05-11 14:22:50-05:00</td>\n",
       "      <td>[Paul Joseph Watson]</td>\n",
       "      <td>Infowars</td>\n",
       "      <td>YES</td>\n",
       "      <td></td>\n",
       "    </tr>\n",
       "  </tbody>\n",
       "</table>\n",
       "</div>"
      ],
      "text/plain": [
       "   Word                                           headline  \\\n",
       "60  NaN  Obamagate Trends #1; Twitter Removes It: Watch...   \n",
       "61  NaN  Video: Dr. Fauci Admits Face Masks Ineffective...   \n",
       "62  NaN  Gov. Cuomo Calls Coronavirus The ‘European Vir...   \n",
       "63  NaN  VIDEO: “Say Chinese Virus” Banners Towed Over ...   \n",
       "64  NaN  Eric Zemmour Calls For France’s No-Go Zones to...   \n",
       "\n",
       "                                                 text  \\\n",
       "60  Owen Shroyer hosts this LIVE edition of War Ro...   \n",
       "61  A 60 Minutes interview with Dr. Anthony Fauci,...   \n",
       "62  New York Governor Andrew Cuomo referred to the...   \n",
       "63  Citizens are defying San Antonio’s new anti-fr...   \n",
       "64  French intellectual Eric Zemmour has called fo...   \n",
       "\n",
       "                         date                author    source fake      \n",
       "60  2020-05-11 14:59:52-05:00      [Infowars.Com -]  Infowars  YES      \n",
       "61  2020-05-11 14:56:01-05:00      [Infowars.Com -]  Infowars  YES      \n",
       "62  2020-05-11 14:55:21-05:00      [Infowars.Com -]  Infowars  YES      \n",
       "63  2020-05-11 14:40:51-05:00      [Infowars.Com -]  Infowars  YES      \n",
       "64  2020-05-11 14:22:50-05:00  [Paul Joseph Watson]  Infowars  YES      "
      ]
     },
     "execution_count": 21,
     "metadata": {},
     "output_type": "execute_result"
    }
   ],
   "source": [
    "df.tail()"
   ]
  },
  {
   "cell_type": "code",
   "execution_count": 22,
   "metadata": {},
   "outputs": [],
   "source": [
    "df.to_csv('C:/Curso-ML-1/project/articles-inf.csv')"
   ]
  },
  {
   "cell_type": "code",
   "execution_count": null,
   "metadata": {},
   "outputs": [],
   "source": []
  }
 ],
 "metadata": {
  "kernelspec": {
   "display_name": "Python 3",
   "language": "python",
   "name": "python3"
  },
  "language_info": {
   "codemirror_mode": {
    "name": "ipython",
    "version": 3
   },
   "file_extension": ".py",
   "mimetype": "text/x-python",
   "name": "python",
   "nbconvert_exporter": "python",
   "pygments_lexer": "ipython3",
   "version": "3.7.6"
  }
 },
 "nbformat": 4,
 "nbformat_minor": 4
}
